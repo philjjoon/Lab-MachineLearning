{
 "metadata": {
  "name": "",
  "signature": "sha256:c8add8c081bea445199a3c29e85d0e7b933c3a646b37e19fa956f1a2f9eff672"
 },
 "nbformat": 3,
 "nbformat_minor": 0,
 "worksheets": [
  {
   "cells": [
    {
     "cell_type": "code",
     "collapsed": false,
     "input": [
      "#from __future__ import division \n",
      "import numpy as np\n",
      "import pylab as pl\n",
      "%matplotlib inline\n",
      "\n",
      "import ps3_implementation as imp\n",
      "imp = reload(imp)\n",
      "\n",
      "import itertools as it"
     ],
     "language": "python",
     "metadata": {},
     "outputs": [],
     "prompt_number": 11
    },
    {
     "cell_type": "code",
     "collapsed": false,
     "input": [
      "def noisysincfunction(N, noise):\n",
      "    ''' noisysincfunction - generate data from the \"noisy sinc function\"\n",
      "        % usage\n",
      "        %     [X, Y] = noisysincfunction(N, noise)\n",
      "        %\n",
      "        % input\n",
      "        %     N: number of data points\n",
      "        %     noise: standard variation of the noise\n",
      "        %\n",
      "        % output\n",
      "        %     X: (1, N)-matrix uniformly sampled in -2pi, pi\n",
      "        %     Y: (1, N)-matrix equal to sinc(X) + noise\n",
      "        %\n",
      "        % description\n",
      "        %     Generates N points from the noisy sinc function\n",
      "        %\n",
      "        %        X ~ uniformly in [-2pi, pi]\n",
      "        %        Y = sinc(X) + eps, eps ~ Normal(0, noise.^2)\n",
      "        %\n",
      "        % author\n",
      "        %     Mikio Braun\n",
      "    '''\n",
      "    X = np.sort(2 * np.pi * np.random.rand(1, N) ) - np.pi\n",
      "    Y = np.sinc(X) + noise * np.random.randn(1, N)\n",
      "    return X, Y"
     ],
     "language": "python",
     "metadata": {},
     "outputs": [],
     "prompt_number": 3
    },
    {
     "cell_type": "code",
     "collapsed": false,
     "input": [
      "X, Y = noisysincfunction(100, 0.1)"
     ],
     "language": "python",
     "metadata": {},
     "outputs": [],
     "prompt_number": 4
    },
    {
     "cell_type": "code",
     "collapsed": false,
     "input": [
      "print \"X: \", X.shape\n",
      "print \"Y: \", Y.shape\n",
      "#print Y"
     ],
     "language": "python",
     "metadata": {},
     "outputs": [
      {
       "output_type": "stream",
       "stream": "stdout",
       "text": [
        "X:  (1, 100)\n",
        "Y:  (1, 100)\n"
       ]
      }
     ],
     "prompt_number": 6
    },
    {
     "cell_type": "code",
     "collapsed": false,
     "input": [
      "pl.plot(X.T, Y.T)"
     ],
     "language": "python",
     "metadata": {},
     "outputs": [
      {
       "metadata": {},
       "output_type": "pyout",
       "prompt_number": 5,
       "text": [
        "[<matplotlib.lines.Line2D at 0x104f974d0>]"
       ]
      },
      {
       "metadata": {},
       "output_type": "display_data",
       "png": "[encoded data removed]",
       "text": [
        "<matplotlib.figure.Figure at 0x104e28250>"
       ]
      }
     ],
     "prompt_number": 5
    },
    {
     "cell_type": "code",
     "collapsed": false,
     "input": [
      "K_linear = imp.compute_kernel(X, 'linear', 0)\n",
      "print 'K_linear: ', K_linear.shape"
     ],
     "language": "python",
     "metadata": {},
     "outputs": [
      {
       "output_type": "stream",
       "stream": "stdout",
       "text": [
        "K_linear:  (100, 100)\n"
       ]
      }
     ],
     "prompt_number": 13
    },
    {
     "cell_type": "code",
     "collapsed": false,
     "input": [
      "K_poly = imp.compute_kernel(X, 'polynomial', 4)\n",
      "print 'K_polynomial: ', K_poly.shape"
     ],
     "language": "python",
     "metadata": {},
     "outputs": [
      {
       "output_type": "stream",
       "stream": "stdout",
       "text": [
        "K_polynomial:  (100, 100)\n"
       ]
      }
     ],
     "prompt_number": 15
    },
    {
     "cell_type": "code",
     "collapsed": false,
     "input": [
      "K_gaussian = imp.compute_kernel(X, 'gaussian', 0.5)\n",
      "print 'K_gaussian: ', K_gaussian.shape"
     ],
     "language": "python",
     "metadata": {},
     "outputs": [
      {
       "output_type": "stream",
       "stream": "stdout",
       "text": [
        "K_gaussian:  (100, 100)\n"
       ]
      }
     ],
     "prompt_number": 29
    },
    {
     "cell_type": "code",
     "collapsed": false,
     "input": [
      "combs = it.product([0,1], [2,3,4])\n",
      "combs = list(combs)\n",
      "for c in combs:\n",
      "    print c"
     ],
     "language": "python",
     "metadata": {},
     "outputs": [
      {
       "output_type": "stream",
       "stream": "stdout",
       "text": [
        "(0, 2)\n",
        "(0, 3)\n",
        "(0, 4)\n",
        "(1, 2)\n",
        "(1, 3)\n",
        "(1, 4)\n"
       ]
      }
     ],
     "prompt_number": 9
    },
    {
     "cell_type": "code",
     "collapsed": false,
     "input": [
      "a = [[0, 1], [2, 3, 4]]\n",
      "combs1 = it.product(a)\n",
      "combs2 = it.product(*a)\n",
      "for c in combs1:\n",
      "    print c"
     ],
     "language": "python",
     "metadata": {},
     "outputs": [
      {
       "output_type": "stream",
       "stream": "stdout",
       "text": [
        "([0, 1],)\n",
        "([2, 3, 4],)\n"
       ]
      }
     ],
     "prompt_number": 10
    },
    {
     "cell_type": "code",
     "collapsed": false,
     "input": [
      "for c in combs2:\n",
      "    print c"
     ],
     "language": "python",
     "metadata": {},
     "outputs": [
      {
       "output_type": "stream",
       "stream": "stdout",
       "text": [
        "(0, 2)\n",
        "(0, 3)\n",
        "(0, 4)\n",
        "(1, 2)\n",
        "(1, 3)\n",
        "(1, 4)\n"
       ]
      }
     ],
     "prompt_number": 11
    },
    {
     "cell_type": "code",
     "collapsed": false,
     "input": [
      "X = np.arange(1080).reshape(10, 108)\n",
      "y = np.arange(100)\n",
      "\n",
      "split_data = imp.split_data(X, 10)"
     ],
     "language": "python",
     "metadata": {},
     "outputs": [],
     "prompt_number": 7
    },
    {
     "cell_type": "code",
     "collapsed": false,
     "input": [
      "print 'Split_data: ', len(split_data)"
     ],
     "language": "python",
     "metadata": {},
     "outputs": [
      {
       "output_type": "stream",
       "stream": "stdout",
       "text": [
        " Split_data:  10\n"
       ]
      }
     ],
     "prompt_number": 9
    },
    {
     "cell_type": "code",
     "collapsed": false,
     "input": [
      "a = np.logspace(-2,2,10)\n",
      "print a.shape\n",
      "print a"
     ],
     "language": "python",
     "metadata": {},
     "outputs": [
      {
       "output_type": "stream",
       "stream": "stdout",
       "text": [
        "(10,)\n",
        "[  1.00000000e-02   2.78255940e-02   7.74263683e-02   2.15443469e-01\n",
        "   5.99484250e-01   1.66810054e+00   4.64158883e+00   1.29154967e+01\n",
        "   3.59381366e+01   1.00000000e+02]\n"
       ]
      }
     ],
     "prompt_number": 8
    },
    {
     "cell_type": "code",
     "collapsed": false,
     "input": [
      "params = [ ['gaussian', 'linear'], np.logspace(-2,2,10), np.logspace(-2,2,10) ]\n",
      "print len(params)\n",
      "combs = it.product(*params)\n",
      "for c in combs:\n",
      "    print c"
     ],
     "language": "python",
     "metadata": {},
     "outputs": [
      {
       "output_type": "stream",
       "stream": "stdout",
       "text": [
        "3\n",
        "('gaussian', 0.01, 0.01)\n",
        "('gaussian', 0.01, 0.027825594022071243)\n",
        "('gaussian', 0.01, 0.077426368268112694)\n",
        "('gaussian', 0.01, 0.21544346900318834)\n",
        "('gaussian', 0.01, 0.59948425031894093)\n",
        "('gaussian', 0.01, 1.6681005372000592)\n",
        "('gaussian', 0.01, 4.6415888336127775)\n",
        "('gaussian', 0.01, 12.915496650148826)\n",
        "('gaussian', 0.01, 35.938136638046259)\n",
        "('gaussian', 0.01, 100.0)\n",
        "('gaussian', 0.027825594022071243, 0.01)\n",
        "('gaussian', 0.027825594022071243, 0.027825594022071243)\n",
        "('gaussian', 0.027825594022071243, 0.077426368268112694)\n",
        "('gaussian', 0.027825594022071243, 0.21544346900318834)\n",
        "('gaussian', 0.027825594022071243, 0.59948425031894093)\n",
        "('gaussian', 0.027825594022071243, 1.6681005372000592)\n",
        "('gaussian', 0.027825594022071243, 4.6415888336127775)\n",
        "('gaussian', 0.027825594022071243, 12.915496650148826)\n",
        "('gaussian', 0.027825594022071243, 35.938136638046259)\n",
        "('gaussian', 0.027825594022071243, 100.0)\n",
        "('gaussian', 0.077426368268112694, 0.01)\n",
        "('gaussian', 0.077426368268112694, 0.027825594022071243)\n",
        "('gaussian', 0.077426368268112694, 0.077426368268112694)\n",
        "('gaussian', 0.077426368268112694, 0.21544346900318834)\n",
        "('gaussian', 0.077426368268112694, 0.59948425031894093)\n",
        "('gaussian', 0.077426368268112694, 1.6681005372000592)\n",
        "('gaussian', 0.077426368268112694, 4.6415888336127775)\n",
        "('gaussian', 0.077426368268112694, 12.915496650148826)\n",
        "('gaussian', 0.077426368268112694, 35.938136638046259)\n",
        "('gaussian', 0.077426368268112694, 100.0)\n",
        "('gaussian', 0.21544346900318834, 0.01)\n",
        "('gaussian', 0.21544346900318834, 0.027825594022071243)\n",
        "('gaussian', 0.21544346900318834, 0.077426368268112694)\n",
        "('gaussian', 0.21544346900318834, 0.21544346900318834)\n",
        "('gaussian', 0.21544346900318834, 0.59948425031894093)\n",
        "('gaussian', 0.21544346900318834, 1.6681005372000592)\n",
        "('gaussian', 0.21544346900318834, 4.6415888336127775)\n",
        "('gaussian', 0.21544346900318834, 12.915496650148826)\n",
        "('gaussian', 0.21544346900318834, 35.938136638046259)\n",
        "('gaussian', 0.21544346900318834, 100.0)\n",
        "('gaussian', 0.59948425031894093, 0.01)\n",
        "('gaussian', 0.59948425031894093, 0.027825594022071243)\n",
        "('gaussian', 0.59948425031894093, 0.077426368268112694)\n",
        "('gaussian', 0.59948425031894093, 0.21544346900318834)\n",
        "('gaussian', 0.59948425031894093, 0.59948425031894093)\n",
        "('gaussian', 0.59948425031894093, 1.6681005372000592)\n",
        "('gaussian', 0.59948425031894093, 4.6415888336127775)\n",
        "('gaussian', 0.59948425031894093, 12.915496650148826)\n",
        "('gaussian', 0.59948425031894093, 35.938136638046259)\n",
        "('gaussian', 0.59948425031894093, 100.0)\n",
        "('gaussian', 1.6681005372000592, 0.01)\n",
        "('gaussian', 1.6681005372000592, 0.027825594022071243)\n",
        "('gaussian', 1.6681005372000592, 0.077426368268112694)\n",
        "('gaussian', 1.6681005372000592, 0.21544346900318834)\n",
        "('gaussian', 1.6681005372000592, 0.59948425031894093)\n",
        "('gaussian', 1.6681005372000592, 1.6681005372000592)\n",
        "('gaussian', 1.6681005372000592, 4.6415888336127775)\n",
        "('gaussian', 1.6681005372000592, 12.915496650148826)\n",
        "('gaussian', 1.6681005372000592, 35.938136638046259)\n",
        "('gaussian', 1.6681005372000592, 100.0)\n",
        "('gaussian', 4.6415888336127775, 0.01)\n",
        "('gaussian', 4.6415888336127775, 0.027825594022071243)\n",
        "('gaussian', 4.6415888336127775, 0.077426368268112694)\n",
        "('gaussian', 4.6415888336127775, 0.21544346900318834)\n",
        "('gaussian', 4.6415888336127775, 0.59948425031894093)\n",
        "('gaussian', 4.6415888336127775, 1.6681005372000592)\n",
        "('gaussian', 4.6415888336127775, 4.6415888336127775)\n",
        "('gaussian', 4.6415888336127775, 12.915496650148826)\n",
        "('gaussian', 4.6415888336127775, 35.938136638046259)\n",
        "('gaussian', 4.6415888336127775, 100.0)\n",
        "('gaussian', 12.915496650148826, 0.01)\n",
        "('gaussian', 12.915496650148826, 0.027825594022071243)\n",
        "('gaussian', 12.915496650148826, 0.077426368268112694)\n",
        "('gaussian', 12.915496650148826, 0.21544346900318834)\n",
        "('gaussian', 12.915496650148826, 0.59948425031894093)\n",
        "('gaussian', 12.915496650148826, 1.6681005372000592)\n",
        "('gaussian', 12.915496650148826, 4.6415888336127775)\n",
        "('gaussian', 12.915496650148826, 12.915496650148826)\n",
        "('gaussian', 12.915496650148826, 35.938136638046259)\n",
        "('gaussian', 12.915496650148826, 100.0)\n",
        "('gaussian', 35.938136638046259, 0.01)\n",
        "('gaussian', 35.938136638046259, 0.027825594022071243)\n",
        "('gaussian', 35.938136638046259, 0.077426368268112694)\n",
        "('gaussian', 35.938136638046259, 0.21544346900318834)\n",
        "('gaussian', 35.938136638046259, 0.59948425031894093)\n",
        "('gaussian', 35.938136638046259, 1.6681005372000592)\n",
        "('gaussian', 35.938136638046259, 4.6415888336127775)\n",
        "('gaussian', 35.938136638046259, 12.915496650148826)\n",
        "('gaussian', 35.938136638046259, 35.938136638046259)\n",
        "('gaussian', 35.938136638046259, 100.0)\n",
        "('gaussian', 100.0, 0.01)\n",
        "('gaussian', 100.0, 0.027825594022071243)\n",
        "('gaussian', 100.0, 0.077426368268112694)\n",
        "('gaussian', 100.0, 0.21544346900318834)\n",
        "('gaussian', 100.0, 0.59948425031894093)\n",
        "('gaussian', 100.0, 1.6681005372000592)\n",
        "('gaussian', 100.0, 4.6415888336127775)\n",
        "('gaussian', 100.0, 12.915496650148826)\n",
        "('gaussian', 100.0, 35.938136638046259)\n",
        "('gaussian', 100.0, 100.0)\n",
        "('linear', 0.01, 0.01)\n",
        "('linear', 0.01, 0.027825594022071243)\n",
        "('linear', 0.01, 0.077426368268112694)\n",
        "('linear', 0.01, 0.21544346900318834)\n",
        "('linear', 0.01, 0.59948425031894093)\n",
        "('linear', 0.01, 1.6681005372000592)\n",
        "('linear', 0.01, 4.6415888336127775)\n",
        "('linear', 0.01, 12.915496650148826)\n",
        "('linear', 0.01, 35.938136638046259)\n",
        "('linear', 0.01, 100.0)\n",
        "('linear', 0.027825594022071243, 0.01)\n",
        "('linear', 0.027825594022071243, 0.027825594022071243)\n",
        "('linear', 0.027825594022071243, 0.077426368268112694)\n",
        "('linear', 0.027825594022071243, 0.21544346900318834)\n",
        "('linear', 0.027825594022071243, 0.59948425031894093)\n",
        "('linear', 0.027825594022071243, 1.6681005372000592)\n",
        "('linear', 0.027825594022071243, 4.6415888336127775)\n",
        "('linear', 0.027825594022071243, 12.915496650148826)\n",
        "('linear', 0.027825594022071243, 35.938136638046259)\n",
        "('linear', 0.027825594022071243, 100.0)\n",
        "('linear', 0.077426368268112694, 0.01)\n",
        "('linear', 0.077426368268112694, 0.027825594022071243)\n",
        "('linear', 0.077426368268112694, 0.077426368268112694)\n",
        "('linear', 0.077426368268112694, 0.21544346900318834)\n",
        "('linear', 0.077426368268112694, 0.59948425031894093)\n",
        "('linear', 0.077426368268112694, 1.6681005372000592)\n",
        "('linear', 0.077426368268112694, 4.6415888336127775)\n",
        "('linear', 0.077426368268112694, 12.915496650148826)\n",
        "('linear', 0.077426368268112694, 35.938136638046259)\n",
        "('linear', 0.077426368268112694, 100.0)\n",
        "('linear', 0.21544346900318834, 0.01)\n",
        "('linear', 0.21544346900318834, 0.027825594022071243)\n",
        "('linear', 0.21544346900318834, 0.077426368268112694)\n",
        "('linear', 0.21544346900318834, 0.21544346900318834)\n",
        "('linear', 0.21544346900318834, 0.59948425031894093)\n",
        "('linear', 0.21544346900318834, 1.6681005372000592)\n",
        "('linear', 0.21544346900318834, 4.6415888336127775)\n",
        "('linear', 0.21544346900318834, 12.915496650148826)\n",
        "('linear', 0.21544346900318834, 35.938136638046259)\n",
        "('linear', 0.21544346900318834, 100.0)\n",
        "('linear', 0.59948425031894093, 0.01)\n",
        "('linear', 0.59948425031894093, 0.027825594022071243)\n",
        "('linear', 0.59948425031894093, 0.077426368268112694)\n",
        "('linear', 0.59948425031894093, 0.21544346900318834)\n",
        "('linear', 0.59948425031894093, 0.59948425031894093)\n",
        "('linear', 0.59948425031894093, 1.6681005372000592)\n",
        "('linear', 0.59948425031894093, 4.6415888336127775)\n",
        "('linear', 0.59948425031894093, 12.915496650148826)\n",
        "('linear', 0.59948425031894093, 35.938136638046259)\n",
        "('linear', 0.59948425031894093, 100.0)\n",
        "('linear', 1.6681005372000592, 0.01)\n",
        "('linear', 1.6681005372000592, 0.027825594022071243)\n",
        "('linear', 1.6681005372000592, 0.077426368268112694)\n",
        "('linear', 1.6681005372000592, 0.21544346900318834)\n",
        "('linear', 1.6681005372000592, 0.59948425031894093)\n",
        "('linear', 1.6681005372000592, 1.6681005372000592)\n",
        "('linear', 1.6681005372000592, 4.6415888336127775)\n",
        "('linear', 1.6681005372000592, 12.915496650148826)\n",
        "('linear', 1.6681005372000592, 35.938136638046259)\n",
        "('linear', 1.6681005372000592, 100.0)\n",
        "('linear', 4.6415888336127775, 0.01)\n",
        "('linear', 4.6415888336127775, 0.027825594022071243)\n",
        "('linear', 4.6415888336127775, 0.077426368268112694)\n",
        "('linear', 4.6415888336127775, 0.21544346900318834)\n",
        "('linear', 4.6415888336127775, 0.59948425031894093)\n",
        "('linear', 4.6415888336127775, 1.6681005372000592)\n",
        "('linear', 4.6415888336127775, 4.6415888336127775)\n",
        "('linear', 4.6415888336127775, 12.915496650148826)\n",
        "('linear', 4.6415888336127775, 35.938136638046259)\n",
        "('linear', 4.6415888336127775, 100.0)\n",
        "('linear', 12.915496650148826, 0.01)\n",
        "('linear', 12.915496650148826, 0.027825594022071243)\n",
        "('linear', 12.915496650148826, 0.077426368268112694)\n",
        "('linear', 12.915496650148826, 0.21544346900318834)\n",
        "('linear', 12.915496650148826, 0.59948425031894093)\n",
        "('linear', 12.915496650148826, 1.6681005372000592)\n",
        "('linear', 12.915496650148826, 4.6415888336127775)\n",
        "('linear', 12.915496650148826, 12.915496650148826)\n",
        "('linear', 12.915496650148826, 35.938136638046259)\n",
        "('linear', 12.915496650148826, 100.0)\n",
        "('linear', 35.938136638046259, 0.01)\n",
        "('linear', 35.938136638046259, 0.027825594022071243)\n",
        "('linear', 35.938136638046259, 0.077426368268112694)\n",
        "('linear', 35.938136638046259, 0.21544346900318834)\n",
        "('linear', 35.938136638046259, 0.59948425031894093)\n",
        "('linear', 35.938136638046259, 1.6681005372000592)\n",
        "('linear', 35.938136638046259, 4.6415888336127775)\n",
        "('linear', 35.938136638046259, 12.915496650148826)\n",
        "('linear', 35.938136638046259, 35.938136638046259)\n",
        "('linear', 35.938136638046259, 100.0)\n",
        "('linear', 100.0, 0.01)\n",
        "('linear', 100.0, 0.027825594022071243)\n",
        "('linear', 100.0, 0.077426368268112694)\n",
        "('linear', 100.0, 0.21544346900318834)\n",
        "('linear', 100.0, 0.59948425031894093)\n",
        "('linear', 100.0, 1.6681005372000592)\n",
        "('linear', 100.0, 4.6415888336127775)\n",
        "('linear', 100.0, 12.915496650148826)\n",
        "('linear', 100.0, 35.938136638046259)\n",
        "('linear', 100.0, 100.0)\n"
       ]
      }
     ],
     "prompt_number": 14
    },
    {
     "cell_type": "code",
     "collapsed": false,
     "input": [
      "params = [ 'kernel',['gaussian'], 'kernelparam', np.logspace(-2,2,10),\n",
      "                  'regularization', np.logspace(-2,2,10) ]\n",
      "\n",
      "kernel = params[1]\n",
      "kernelparam = params[3]\n",
      "regularization = params[5]\n",
      "#print kernel\n",
      "#print kernelparam\n",
      "#print regularization\n",
      "\n",
      "combs = it.product(*[kernel, kernelparam, regularization])\n",
      "for c in combs:\n",
      "    print c[0]"
     ],
     "language": "python",
     "metadata": {},
     "outputs": [
      {
       "output_type": "stream",
       "stream": "stdout",
       "text": [
        "('gaussian', 0.01, 0.01)\n",
        "('gaussian', 0.01, 0.027825594022071243)\n",
        "('gaussian', 0.01, 0.077426368268112694)\n",
        "('gaussian', 0.01, 0.21544346900318834)\n",
        "('gaussian', 0.01, 0.59948425031894093)\n",
        "('gaussian', 0.01, 1.6681005372000592)\n",
        "('gaussian', 0.01, 4.6415888336127775)\n",
        "('gaussian', 0.01, 12.915496650148826)\n",
        "('gaussian', 0.01, 35.938136638046259)\n",
        "('gaussian', 0.01, 100.0)\n",
        "('gaussian', 0.027825594022071243, 0.01)\n",
        "('gaussian', 0.027825594022071243, 0.027825594022071243)\n",
        "('gaussian', 0.027825594022071243, 0.077426368268112694)\n",
        "('gaussian', 0.027825594022071243, 0.21544346900318834)\n",
        "('gaussian', 0.027825594022071243, 0.59948425031894093)\n",
        "('gaussian', 0.027825594022071243, 1.6681005372000592)\n",
        "('gaussian', 0.027825594022071243, 4.6415888336127775)\n",
        "('gaussian', 0.027825594022071243, 12.915496650148826)\n",
        "('gaussian', 0.027825594022071243, 35.938136638046259)\n",
        "('gaussian', 0.027825594022071243, 100.0)\n",
        "('gaussian', 0.077426368268112694, 0.01)\n",
        "('gaussian', 0.077426368268112694, 0.027825594022071243)\n",
        "('gaussian', 0.077426368268112694, 0.077426368268112694)\n",
        "('gaussian', 0.077426368268112694, 0.21544346900318834)\n",
        "('gaussian', 0.077426368268112694, 0.59948425031894093)\n",
        "('gaussian', 0.077426368268112694, 1.6681005372000592)\n",
        "('gaussian', 0.077426368268112694, 4.6415888336127775)\n",
        "('gaussian', 0.077426368268112694, 12.915496650148826)\n",
        "('gaussian', 0.077426368268112694, 35.938136638046259)\n",
        "('gaussian', 0.077426368268112694, 100.0)\n",
        "('gaussian', 0.21544346900318834, 0.01)\n",
        "('gaussian', 0.21544346900318834, 0.027825594022071243)\n",
        "('gaussian', 0.21544346900318834, 0.077426368268112694)\n",
        "('gaussian', 0.21544346900318834, 0.21544346900318834)\n",
        "('gaussian', 0.21544346900318834, 0.59948425031894093)\n",
        "('gaussian', 0.21544346900318834, 1.6681005372000592)\n",
        "('gaussian', 0.21544346900318834, 4.6415888336127775)\n",
        "('gaussian', 0.21544346900318834, 12.915496650148826)\n",
        "('gaussian', 0.21544346900318834, 35.938136638046259)\n",
        "('gaussian', 0.21544346900318834, 100.0)\n",
        "('gaussian', 0.59948425031894093, 0.01)\n",
        "('gaussian', 0.59948425031894093, 0.027825594022071243)\n",
        "('gaussian', 0.59948425031894093, 0.077426368268112694)\n",
        "('gaussian', 0.59948425031894093, 0.21544346900318834)\n",
        "('gaussian', 0.59948425031894093, 0.59948425031894093)\n",
        "('gaussian', 0.59948425031894093, 1.6681005372000592)\n",
        "('gaussian', 0.59948425031894093, 4.6415888336127775)\n",
        "('gaussian', 0.59948425031894093, 12.915496650148826)\n",
        "('gaussian', 0.59948425031894093, 35.938136638046259)\n",
        "('gaussian', 0.59948425031894093, 100.0)\n",
        "('gaussian', 1.6681005372000592, 0.01)\n",
        "('gaussian', 1.6681005372000592, 0.027825594022071243)\n",
        "('gaussian', 1.6681005372000592, 0.077426368268112694)\n",
        "('gaussian', 1.6681005372000592, 0.21544346900318834)\n",
        "('gaussian', 1.6681005372000592, 0.59948425031894093)\n",
        "('gaussian', 1.6681005372000592, 1.6681005372000592)\n",
        "('gaussian', 1.6681005372000592, 4.6415888336127775)\n",
        "('gaussian', 1.6681005372000592, 12.915496650148826)\n",
        "('gaussian', 1.6681005372000592, 35.938136638046259)\n",
        "('gaussian', 1.6681005372000592, 100.0)\n",
        "('gaussian', 4.6415888336127775, 0.01)\n",
        "('gaussian', 4.6415888336127775, 0.027825594022071243)\n",
        "('gaussian', 4.6415888336127775, 0.077426368268112694)\n",
        "('gaussian', 4.6415888336127775, 0.21544346900318834)\n",
        "('gaussian', 4.6415888336127775, 0.59948425031894093)\n",
        "('gaussian', 4.6415888336127775, 1.6681005372000592)\n",
        "('gaussian', 4.6415888336127775, 4.6415888336127775)\n",
        "('gaussian', 4.6415888336127775, 12.915496650148826)\n",
        "('gaussian', 4.6415888336127775, 35.938136638046259)\n",
        "('gaussian', 4.6415888336127775, 100.0)\n",
        "('gaussian', 12.915496650148826, 0.01)\n",
        "('gaussian', 12.915496650148826, 0.027825594022071243)\n",
        "('gaussian', 12.915496650148826, 0.077426368268112694)\n",
        "('gaussian', 12.915496650148826, 0.21544346900318834)\n",
        "('gaussian', 12.915496650148826, 0.59948425031894093)\n",
        "('gaussian', 12.915496650148826, 1.6681005372000592)\n",
        "('gaussian', 12.915496650148826, 4.6415888336127775)\n",
        "('gaussian', 12.915496650148826, 12.915496650148826)\n",
        "('gaussian', 12.915496650148826, 35.938136638046259)\n",
        "('gaussian', 12.915496650148826, 100.0)\n",
        "('gaussian', 35.938136638046259, 0.01)\n",
        "('gaussian', 35.938136638046259, 0.027825594022071243)\n",
        "('gaussian', 35.938136638046259, 0.077426368268112694)\n",
        "('gaussian', 35.938136638046259, 0.21544346900318834)\n",
        "('gaussian', 35.938136638046259, 0.59948425031894093)\n",
        "('gaussian', 35.938136638046259, 1.6681005372000592)\n",
        "('gaussian', 35.938136638046259, 4.6415888336127775)\n",
        "('gaussian', 35.938136638046259, 12.915496650148826)\n",
        "('gaussian', 35.938136638046259, 35.938136638046259)\n",
        "('gaussian', 35.938136638046259, 100.0)\n",
        "('gaussian', 100.0, 0.01)\n",
        "('gaussian', 100.0, 0.027825594022071243)\n",
        "('gaussian', 100.0, 0.077426368268112694)\n",
        "('gaussian', 100.0, 0.21544346900318834)\n",
        "('gaussian', 100.0, 0.59948425031894093)\n",
        "('gaussian', 100.0, 1.6681005372000592)\n",
        "('gaussian', 100.0, 4.6415888336127775)\n",
        "('gaussian', 100.0, 12.915496650148826)\n",
        "('gaussian', 100.0, 35.938136638046259)\n",
        "('gaussian', 100.0, 100.0)\n"
       ]
      }
     ],
     "prompt_number": 19
    },
    {
     "cell_type": "code",
     "collapsed": false,
     "input": [],
     "language": "python",
     "metadata": {},
     "outputs": []
    }
   ],
   "metadata": {}
  }
 ]
}