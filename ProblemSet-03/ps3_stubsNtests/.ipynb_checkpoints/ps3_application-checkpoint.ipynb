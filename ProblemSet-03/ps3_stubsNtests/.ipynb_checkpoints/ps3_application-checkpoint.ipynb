{
 "metadata": {
  "name": "",
  "signature": "sha256:bd3c6c7c828c8a4b505003716550a273e9eb224fa11baba571a909af5875db89"
 },
 "nbformat": 3,
 "nbformat_minor": 0,
 "worksheets": [
  {
   "cells": [
    {
     "cell_type": "code",
     "collapsed": false,
     "input": [
      "#from __future__ import division \n",
      "import numpy as np\n",
      "import pylab as pl\n",
      "%matplotlib inline\n",
      "\n",
      "import random\n",
      "from scipy.stats import norm\n",
      "import os\n",
      "import sys\n",
      "import pickle\n",
      "\n",
      "import ps3_implementation as imp\n",
      "imp = reload(imp)"
     ],
     "language": "python",
     "metadata": {},
     "outputs": []
    },
    {
     "cell_type": "code",
     "collapsed": false,
     "input": [
      "def roc_curve(n):\n",
      "    ''' your header here!\n",
      "    '''"
     ],
     "language": "python",
     "metadata": {},
     "outputs": []
    },
    {
     "cell_type": "code",
     "collapsed": false,
     "input": [
      "def roc_fun(y_true, y_pred):\n",
      "    ''' your header here!\n",
      "    '''"
     ],
     "language": "python",
     "metadata": {},
     "outputs": []
    },
    {
     "cell_type": "code",
     "collapsed": false,
     "input": [
      "def krr_app(reg=False):\n",
      "    ''' your header here!\n",
      "    '''"
     ],
     "language": "python",
     "metadata": {},
     "outputs": []
    }
   ],
   "metadata": {}
  }
 ]
}