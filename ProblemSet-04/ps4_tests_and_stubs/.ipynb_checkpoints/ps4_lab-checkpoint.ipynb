{
 "metadata": {
  "name": "",
  "signature": "sha256:a5382ce3f62883d545dfc83cafb9fb6552c3fbce56a1eac75aeb3f7dc547a829"
 },
 "nbformat": 3,
 "nbformat_minor": 0,
 "worksheets": [
  {
   "cells": [
    {
     "cell_type": "code",
     "collapsed": false,
     "input": [
      "import numpy as np\n",
      "import random\n",
      "import matplotlib.pyplot as pl\n",
      "%matplotlib inline\n",
      "from scipy.stats import norm\n",
      "import pickle\n",
      "import time\n",
      "\n",
      "import ps4_implementation as imp\n",
      "imp = reload(imp)"
     ],
     "language": "python",
     "metadata": {},
     "outputs": [],
     "prompt_number": 2
    },
    {
     "cell_type": "code",
     "collapsed": false,
     "input": [
      "path = \"../Datasets/\"\n",
      "easy_2d = np.load(path + \"easy_2d.npz\")\n",
      "iris = np.load(path + \"iris.npz\")"
     ],
     "language": "python",
     "metadata": {},
     "outputs": [],
     "prompt_number": 3
    },
    {
     "cell_type": "code",
     "collapsed": false,
     "input": [
      "print easy_2d.files\n",
      "print iris.files"
     ],
     "language": "python",
     "metadata": {},
     "outputs": [
      {
       "output_type": "stream",
       "stream": "stdout",
       "text": [
        "['Y_te', 'X_te', 'X_tr', 'Y_tr']\n",
        "['Y', 'X']\n"
       ]
      }
     ],
     "prompt_number": 9
    },
    {
     "cell_type": "code",
     "collapsed": false,
     "input": [
      "easy_Xtr = easy_2d['X_tr']\n",
      "easy_Ytr = easy_2d['Y_tr']\n",
      "easy_Xte = easy_2d['X_te']\n",
      "easy_Yte = easy_2d['Y_te']\n",
      "iris_X = iris['X']\n",
      "iris_Y = iris['Y']"
     ],
     "language": "python",
     "metadata": {},
     "outputs": [],
     "prompt_number": 11
    },
    {
     "cell_type": "code",
     "collapsed": false,
     "input": [
      "print 'easy_Xtr: ', easy_Xtr.shape\n",
      "print 'easy_Ytr: ', easy_Ytr.shape\n",
      "print 'easy_Xte: ', easy_Xte.shape\n",
      "print 'easy_Yte: ', easy_Yte.shape\n",
      "print 'iris_X: ', iris_X.shape\n",
      "print 'iris_Y: ', iris_Y.shape"
     ],
     "language": "python",
     "metadata": {},
     "outputs": [
      {
       "output_type": "stream",
       "stream": "stdout",
       "text": [
        "easy_Xtr:  (2, 100)\n",
        "easy_Ytr:  (100,)\n",
        "easy_Xte:  (2, 100)\n",
        "easy_Yte:  (100,)\n",
        "iris_X:  (4, 135)\n",
        "iris_Y:  (135,)\n"
       ]
      }
     ],
     "prompt_number": 12
    },
    {
     "cell_type": "code",
     "collapsed": false,
     "input": [
      "easy_Xtr_pos = easy_Xtr[:, np.nonzero(easy_Ytr == 1)[0])\n",
      "easy_Xtr_neg = easy_Xtr[:, np.nonzero(easy_Ytr == -1)[0])                        \n",
      "pl.scatter(easy_Xtr[0], easy_Xtr[1])"
     ],
     "language": "python",
     "metadata": {},
     "outputs": [
      {
       "ename": "SyntaxError",
       "evalue": "invalid syntax (<ipython-input-18-a2cdd29c9156>, line 1)",
       "output_type": "pyerr",
       "traceback": [
        "\u001b[0;36m  File \u001b[0;32m\"<ipython-input-18-a2cdd29c9156>\"\u001b[0;36m, line \u001b[0;32m1\u001b[0m\n\u001b[0;31m    easy_Xtr_pos = easy_Xtr_pos[:, np.nonzero(easy_Ytr == 1))\u001b[0m\n\u001b[0m                                                            ^\u001b[0m\n\u001b[0;31mSyntaxError\u001b[0m\u001b[0;31m:\u001b[0m invalid syntax\n"
       ]
      }
     ],
     "prompt_number": 18
    },
    {
     "cell_type": "code",
     "collapsed": false,
     "input": [],
     "language": "python",
     "metadata": {},
     "outputs": []
    }
   ],
   "metadata": {}
  }
 ]
}