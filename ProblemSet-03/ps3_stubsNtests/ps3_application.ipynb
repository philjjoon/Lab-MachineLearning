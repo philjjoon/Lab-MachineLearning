{
 "metadata": {
  "name": "",
  "signature": "sha256:bb5e29964dfa4cd6819509a8484c5af525d6966bcfd7ba951552f2764114c071"
 },
 "nbformat": 3,
 "nbformat_minor": 0,
 "worksheets": [
  {
   "cells": [
    {
     "cell_type": "code",
     "collapsed": false,
     "input": [
      "import numpy as np\n",
      "import random\n",
      "import matplotlib.pyplot as pl\n",
      "%matplotlib inline\n",
      "\n",
      "from scipy.stats import norm\n",
      "\n",
      "import pickle\n",
      "import time\n",
      "\n",
      "import ps3_implementation as imp\n",
      "imp = reload(imp)"
     ],
     "language": "python",
     "metadata": {},
     "outputs": [],
     "prompt_number": 9
    },
    {
     "cell_type": "code",
     "collapsed": false,
     "input": [
      "def roc_fun(y_true, y_pred):\n",
      "    min_value = np.min(y_pred)\n",
      "    max_value = np.max(y_pred)\n",
      "    thresholds = np.linspace(min_value, max_value, 100)[:, np.newaxis]\n",
      "    \n",
      "    results = y_pred >= thresholds\n",
      "    results = results.astype(int)\n",
      "    results[results == 0] = -1\n",
      "    results = results + y_true\n",
      "    total_pos = len(np.nonzero(y_true==1)[1])\n",
      "    total_neg = len(np.nonzero(y_true==-1)[1])\n",
      "    results_TP = results == 2 # +2 if both true and prediction value are 1\n",
      "    results_TN = results == -2 # -2 if both true and prediction value are -1\n",
      "    TPRs = np.sum(results_TP, axis=1) / float(total_pos)\n",
      "    FPRs = 1 - (np.sum(results_TN, axis=1) / float(total_neg))\n",
      "    inds = np.argsort(FPRs)\n",
      "    FPRs = FPRs[inds]\n",
      "    TPRs = TPRs[inds]\n",
      "    roc = np.ones([2, thresholds.shape[0]])\n",
      "    roc[0, :] = TPRs\n",
      "    roc[1, :] = FPRs\n",
      "    \n",
      "    return roc"
     ],
     "language": "python",
     "metadata": {},
     "outputs": [],
     "prompt_number": 5
    },
    {
     "cell_type": "code",
     "collapsed": false,
     "input": [
      "def krr_app(dataset, reg=False):\n",
      "    kernels = ['gaussian','polynomial','linear']\n",
      "    kernelparameters = [np.logspace(-2,2,10),np.arange(10),[0]]\n",
      "    \n",
      "    if reg:\n",
      "        reg = np.logspace(-2, 2, 10) # regularization parameters\n",
      "    else:\n",
      "        reg = [0] # regularization parameters with efficient LOOCV\n",
      "    \n",
      "    path = 'ps3_datasets/'\n",
      "    Xtr = np.loadtxt(path+'U04_'+dataset+'-xtrain.dat')\n",
      "    Ytr = np.loadtxt(path+'U04_'+dataset+'-ytrain.dat')\n",
      "    Xte = np.loadtxt(path+'U04_'+dataset+'-xtest.dat')\n",
      "    \n",
      "    results = dict()\n",
      "    cvloss_list = []\n",
      "    dict_list = []\n",
      "    for idx_kernel, kernel in enumerate(kernels):\n",
      "        params = [ 'kernel',[kernel], 'kernelparam', kernelparameters[idx_kernel], 'regularization', reg]\n",
      "        krr = imp.krr()\n",
      "        cvkrr = imp.cv(Xtr, Ytr[np.newaxis, :], krr, params, nrepetitions=2) # use default nfolds=10 and nrepetitions=5\n",
      "        cvkrr.predict(Xte)\n",
      "        cvloss_list.append(cvkrr.cvloss)\n",
      "        dict_list.append({'kernel':kernel, 'kernelparameter':cvkrr.kernelparameter, 'regularization':cvkrr.regularization, \\\n",
      "                            'cvloss':cvkrr.cvloss, 'ypred':cvkrr.ypred, 'time': cvkrr.time})\n",
      "     \n",
      "    idx_min = np.argmin(cvloss_list)\n",
      "    results[dataset] = dict_list[idx_min]\n",
      "    \n",
      "    return results"
     ],
     "language": "python",
     "metadata": {},
     "outputs": [],
     "prompt_number": 6
    },
    {
     "cell_type": "code",
     "collapsed": false,
     "input": [
      "start_banana = time.time()\n",
      "results_banana = krr_app('banana', False)\n",
      "end_banana = time.time()"
     ],
     "language": "python",
     "metadata": {},
     "outputs": [
      {
       "output_type": "stream",
       "stream": "stdout",
       "text": [
        " 1 / 10 parameter combinations completed. Estimated remaining time: 245.577\n",
        " 2 / 10 parameter combinations completed. Estimated remaining time: 168.148"
       ]
      },
      {
       "output_type": "stream",
       "stream": "stdout",
       "text": [
        "\n",
        " 3 / 10 parameter combinations completed. Estimated remaining time: 125.438"
       ]
      },
      {
       "output_type": "stream",
       "stream": "stdout",
       "text": [
        "\n",
        " 4 / 10 parameter combinations completed. Estimated remaining time: 98.275"
       ]
      },
      {
       "output_type": "stream",
       "stream": "stdout",
       "text": [
        "\n",
        " 5 / 10 parameter combinations completed. Estimated remaining time: 77.924"
       ]
      },
      {
       "output_type": "stream",
       "stream": "stdout",
       "text": [
        "\n",
        " 6 / 10 parameter combinations completed. Estimated remaining time: 61.403"
       ]
      },
      {
       "output_type": "stream",
       "stream": "stdout",
       "text": [
        "\n",
        " 7 / 10 parameter combinations completed. Estimated remaining time: 47.098"
       ]
      },
      {
       "output_type": "stream",
       "stream": "stdout",
       "text": [
        "\n",
        " 8 / 10 parameter combinations completed. Estimated remaining time: 34.184"
       ]
      },
      {
       "output_type": "stream",
       "stream": "stdout",
       "text": [
        "\n",
        " 9 / 10 parameter combinations completed. Estimated remaining time: 22.201"
       ]
      },
      {
       "output_type": "stream",
       "stream": "stdout",
       "text": [
        "\n",
        "10 / 10 parameter combinations completed. Estimated remaining time: 10.857"
       ]
      },
      {
       "output_type": "stream",
       "stream": "stdout",
       "text": [
        "\n",
        " 1 / 10 parameter combinations completed. Estimated remaining time: 83.977"
       ]
      },
      {
       "output_type": "stream",
       "stream": "stdout",
       "text": [
        "\n",
        " 2 / 10 parameter combinations completed. Estimated remaining time: 75.975"
       ]
      },
      {
       "output_type": "stream",
       "stream": "stdout",
       "text": [
        "\n",
        " 3 / 10 parameter combinations completed. Estimated remaining time: 67.488"
       ]
      },
      {
       "output_type": "stream",
       "stream": "stdout",
       "text": [
        "\n",
        " 4 / 10 parameter combinations completed. Estimated remaining time: 59.395"
       ]
      },
      {
       "output_type": "stream",
       "stream": "stdout",
       "text": [
        "\n",
        " 5 / 10 parameter combinations completed. Estimated remaining time: 51.094"
       ]
      },
      {
       "output_type": "stream",
       "stream": "stdout",
       "text": [
        "\n",
        " 6 / 10 parameter combinations completed. Estimated remaining time: 42.706"
       ]
      },
      {
       "output_type": "stream",
       "stream": "stdout",
       "text": [
        "\n",
        " 7 / 10 parameter combinations completed. Estimated remaining time: 34.197"
       ]
      },
      {
       "output_type": "stream",
       "stream": "stdout",
       "text": [
        "\n",
        " 8 / 10 parameter combinations completed. Estimated remaining time: 25.660"
       ]
      },
      {
       "output_type": "stream",
       "stream": "stdout",
       "text": [
        "\n",
        " 9 / 10 parameter combinations completed. Estimated remaining time: 17.127"
       ]
      },
      {
       "output_type": "stream",
       "stream": "stdout",
       "text": [
        "\n",
        "10 / 10 parameter combinations completed. Estimated remaining time: 8.593"
       ]
      },
      {
       "output_type": "stream",
       "stream": "stdout",
       "text": [
        "\n",
        " 1 / 1 parameter combinations completed. Estimated remaining time: 9.149"
       ]
      },
      {
       "output_type": "stream",
       "stream": "stdout",
       "text": [
        "\n"
       ]
      }
     ],
     "prompt_number": 39
    },
    {
     "cell_type": "code",
     "collapsed": false,
     "input": [
      "start_diabetis = time.time()\n",
      "results_diabetis = krr_app('diabetis', False)\n",
      "end_diabetis = time.time()"
     ],
     "language": "python",
     "metadata": {},
     "outputs": [
      {
       "output_type": "stream",
       "stream": "stdout",
       "text": [
        " 1 / 10 parameter combinations completed. Estimated remaining time: 197.128\n",
        " 2 / 10 parameter combinations completed. Estimated remaining time: 327.064"
       ]
      },
      {
       "output_type": "stream",
       "stream": "stdout",
       "text": [
        "\n",
        " 3 / 10 parameter combinations completed. Estimated remaining time: 314.866"
       ]
      },
      {
       "output_type": "stream",
       "stream": "stdout",
       "text": [
        "\n",
        " 4 / 10 parameter combinations completed. Estimated remaining time: 236.368"
       ]
      },
      {
       "output_type": "stream",
       "stream": "stdout",
       "text": [
        "\n",
        " 5 / 10 parameter combinations completed. Estimated remaining time: 185.557"
       ]
      },
      {
       "output_type": "stream",
       "stream": "stdout",
       "text": [
        "\n",
        " 6 / 10 parameter combinations completed. Estimated remaining time: 143.472"
       ]
      },
      {
       "output_type": "stream",
       "stream": "stdout",
       "text": [
        "\n",
        " 7 / 10 parameter combinations completed. Estimated remaining time: 108.695"
       ]
      },
      {
       "output_type": "stream",
       "stream": "stdout",
       "text": [
        "\n",
        " 8 / 10 parameter combinations completed. Estimated remaining time: 77.606"
       ]
      },
      {
       "output_type": "stream",
       "stream": "stdout",
       "text": [
        "\n",
        " 9 / 10 parameter combinations completed. Estimated remaining time: 49.249"
       ]
      },
      {
       "output_type": "stream",
       "stream": "stdout",
       "text": [
        "\n",
        "10 / 10 parameter combinations completed. Estimated remaining time: 23.610"
       ]
      },
      {
       "output_type": "stream",
       "stream": "stdout",
       "text": [
        "\n",
        " 1 / 10 parameter combinations completed. Estimated remaining time: 157.919"
       ]
      },
      {
       "output_type": "stream",
       "stream": "stdout",
       "text": [
        "\n",
        " 2 / 10 parameter combinations completed. Estimated remaining time: 136.210"
       ]
      },
      {
       "output_type": "stream",
       "stream": "stdout",
       "text": [
        "\n",
        " 3 / 10 parameter combinations completed. Estimated remaining time: 123.010"
       ]
      },
      {
       "output_type": "stream",
       "stream": "stdout",
       "text": [
        "\n",
        " 4 / 10 parameter combinations completed. Estimated remaining time: 109.414"
       ]
      },
      {
       "output_type": "stream",
       "stream": "stdout",
       "text": [
        "\n",
        " 5 / 10 parameter combinations completed. Estimated remaining time: 96.329"
       ]
      },
      {
       "output_type": "stream",
       "stream": "stdout",
       "text": [
        "\n",
        " 6 / 10 parameter combinations completed. Estimated remaining time: 79.207"
       ]
      },
      {
       "output_type": "stream",
       "stream": "stdout",
       "text": [
        "\n",
        " 7 / 10 parameter combinations completed. Estimated remaining time: 63.861"
       ]
      },
      {
       "output_type": "stream",
       "stream": "stdout",
       "text": [
        "\n",
        " 8 / 10 parameter combinations completed. Estimated remaining time: 48.916"
       ]
      },
      {
       "output_type": "stream",
       "stream": "stdout",
       "text": [
        "\n",
        " 9 / 10 parameter combinations completed. Estimated remaining time: 32.644"
       ]
      },
      {
       "output_type": "stream",
       "stream": "stdout",
       "text": [
        "\n",
        "10 / 10 parameter combinations completed. Estimated remaining time: 16.494"
       ]
      },
      {
       "output_type": "stream",
       "stream": "stdout",
       "text": [
        "\n",
        " 1 / 1 parameter combinations completed. Estimated remaining time: 14.842"
       ]
      },
      {
       "output_type": "stream",
       "stream": "stdout",
       "text": [
        "\n"
       ]
      }
     ],
     "prompt_number": 42
    },
    {
     "cell_type": "code",
     "collapsed": false,
     "input": [
      "start_flare_solar = time.time()\n",
      "results_flare_solar = krr_app('flare-solar', False)\n",
      "end_flare_solar = time.time()"
     ],
     "language": "python",
     "metadata": {},
     "outputs": [
      {
       "output_type": "stream",
       "stream": "stdout",
       "text": [
        " 1 / 10 parameter combinations completed. Estimated remaining time: 477.510\n",
        " 2 / 10 parameter combinations completed. Estimated remaining time: 502.044"
       ]
      },
      {
       "output_type": "stream",
       "stream": "stdout",
       "text": [
        "\n",
        " 3 / 10 parameter combinations completed. Estimated remaining time: 428.102"
       ]
      },
      {
       "output_type": "stream",
       "stream": "stdout",
       "text": [
        "\n",
        " 4 / 10 parameter combinations completed. Estimated remaining time: 358.865"
       ]
      },
      {
       "output_type": "stream",
       "stream": "stdout",
       "text": [
        "\n",
        " 5 / 10 parameter combinations completed. Estimated remaining time: 295.036"
       ]
      },
      {
       "output_type": "stream",
       "stream": "stdout",
       "text": [
        "\n",
        " 6 / 10 parameter combinations completed. Estimated remaining time: 242.861"
       ]
      },
      {
       "output_type": "stream",
       "stream": "stdout",
       "text": [
        "\n",
        " 7 / 10 parameter combinations completed. Estimated remaining time: 189.411"
       ]
      },
      {
       "output_type": "stream",
       "stream": "stdout",
       "text": [
        "\n",
        " 8 / 10 parameter combinations completed. Estimated remaining time: 139.330"
       ]
      },
      {
       "output_type": "stream",
       "stream": "stdout",
       "text": [
        "\n",
        " 9 / 10 parameter combinations completed. Estimated remaining time: 91.406"
       ]
      },
      {
       "output_type": "stream",
       "stream": "stdout",
       "text": [
        "\n",
        "10 / 10 parameter combinations completed. Estimated remaining time: 45.240"
       ]
      },
      {
       "output_type": "stream",
       "stream": "stdout",
       "text": [
        "\n",
        " 1 / 10 parameter combinations completed. Estimated remaining time: 425.749"
       ]
      },
      {
       "output_type": "stream",
       "stream": "stdout",
       "text": [
        "\n",
        " 2 / 10 parameter combinations completed. Estimated remaining time: 411.378"
       ]
      },
      {
       "output_type": "stream",
       "stream": "stdout",
       "text": [
        "\n",
        " 3 / 10 parameter combinations completed. Estimated remaining time: 373.640"
       ]
      },
      {
       "output_type": "stream",
       "stream": "stdout",
       "text": [
        "\n",
        " 4 / 10 parameter combinations completed. Estimated remaining time: 327.601"
       ]
      },
      {
       "output_type": "stream",
       "stream": "stdout",
       "text": [
        "\n",
        " 5 / 10 parameter combinations completed. Estimated remaining time: 279.755"
       ]
      },
      {
       "output_type": "stream",
       "stream": "stdout",
       "text": [
        "\n",
        " 6 / 10 parameter combinations completed. Estimated remaining time: 235.537"
       ]
      },
      {
       "output_type": "stream",
       "stream": "stdout",
       "text": [
        "\n",
        " 7 / 10 parameter combinations completed. Estimated remaining time: 189.334"
       ]
      },
      {
       "output_type": "stream",
       "stream": "stdout",
       "text": [
        "\n",
        " 8 / 10 parameter combinations completed. Estimated remaining time: 141.049"
       ]
      },
      {
       "output_type": "stream",
       "stream": "stdout",
       "text": [
        "\n",
        " 9 / 10 parameter combinations completed. Estimated remaining time: 92.594"
       ]
      },
      {
       "output_type": "stream",
       "stream": "stdout",
       "text": [
        "\n",
        "10 / 10 parameter combinations completed. Estimated remaining time: 46.087"
       ]
      },
      {
       "output_type": "stream",
       "stream": "stdout",
       "text": [
        "\n",
        " 1 / 1 parameter combinations completed. Estimated remaining time: 44.839"
       ]
      },
      {
       "output_type": "stream",
       "stream": "stdout",
       "text": [
        "\n"
       ]
      }
     ],
     "prompt_number": 44
    },
    {
     "cell_type": "code",
     "collapsed": false,
     "input": [
      "start_ringnorm = time.time()\n",
      "results_ringnorm = krr_app('ringnorm', False)\n",
      "end_ringnorm = time.time()"
     ],
     "language": "python",
     "metadata": {},
     "outputs": [
      {
       "output_type": "stream",
       "stream": "stdout",
       "text": [
        " 1 / 10 parameter combinations completed. Estimated remaining time: 109.474\n",
        " 2 / 10 parameter combinations completed. Estimated remaining time: 94.986"
       ]
      },
      {
       "output_type": "stream",
       "stream": "stdout",
       "text": [
        "\n",
        " 3 / 10 parameter combinations completed. Estimated remaining time: 118.730"
       ]
      },
      {
       "output_type": "stream",
       "stream": "stdout",
       "text": [
        "\n",
        " 4 / 10 parameter combinations completed. Estimated remaining time: 113.285"
       ]
      },
      {
       "output_type": "stream",
       "stream": "stdout",
       "text": [
        "\n",
        " 5 / 10 parameter combinations completed. Estimated remaining time: 89.038"
       ]
      },
      {
       "output_type": "stream",
       "stream": "stdout",
       "text": [
        "\n",
        " 6 / 10 parameter combinations completed. Estimated remaining time: 70.080"
       ]
      },
      {
       "output_type": "stream",
       "stream": "stdout",
       "text": [
        "\n",
        " 7 / 10 parameter combinations completed. Estimated remaining time: 53.677"
       ]
      },
      {
       "output_type": "stream",
       "stream": "stdout",
       "text": [
        "\n",
        " 8 / 10 parameter combinations completed. Estimated remaining time: 39.693"
       ]
      },
      {
       "output_type": "stream",
       "stream": "stdout",
       "text": [
        "\n",
        " 9 / 10 parameter combinations completed. Estimated remaining time: 25.729"
       ]
      },
      {
       "output_type": "stream",
       "stream": "stdout",
       "text": [
        "\n",
        "10 / 10 parameter combinations completed. Estimated remaining time: 12.558"
       ]
      },
      {
       "output_type": "stream",
       "stream": "stdout",
       "text": [
        "\n",
        " 1 / 10 parameter combinations completed. Estimated remaining time: 95.388"
       ]
      },
      {
       "output_type": "stream",
       "stream": "stdout",
       "text": [
        "\n",
        " 2 / 10 parameter combinations completed. Estimated remaining time: 85.865"
       ]
      },
      {
       "output_type": "stream",
       "stream": "stdout",
       "text": [
        "\n",
        " 3 / 10 parameter combinations completed. Estimated remaining time: 77.457"
       ]
      },
      {
       "output_type": "stream",
       "stream": "stdout",
       "text": [
        "\n",
        " 4 / 10 parameter combinations completed. Estimated remaining time: 69.538"
       ]
      },
      {
       "output_type": "stream",
       "stream": "stdout",
       "text": [
        "\n",
        " 5 / 10 parameter combinations completed. Estimated remaining time: 62.373"
       ]
      },
      {
       "output_type": "stream",
       "stream": "stdout",
       "text": [
        "\n",
        " 6 / 10 parameter combinations completed. Estimated remaining time: 51.984"
       ]
      },
      {
       "output_type": "stream",
       "stream": "stdout",
       "text": [
        "\n",
        " 7 / 10 parameter combinations completed. Estimated remaining time: 41.587"
       ]
      },
      {
       "output_type": "stream",
       "stream": "stdout",
       "text": [
        "\n",
        " 8 / 10 parameter combinations completed. Estimated remaining time: 31.186"
       ]
      },
      {
       "output_type": "stream",
       "stream": "stdout",
       "text": [
        "\n",
        " 9 / 10 parameter combinations completed. Estimated remaining time: 20.727"
       ]
      },
      {
       "output_type": "stream",
       "stream": "stdout",
       "text": [
        "\n",
        "10 / 10 parameter combinations completed. Estimated remaining time: 10.429"
       ]
      },
      {
       "output_type": "stream",
       "stream": "stdout",
       "text": [
        "\n",
        " 1 / 1 parameter combinations completed. Estimated remaining time: 10.254"
       ]
      },
      {
       "output_type": "stream",
       "stream": "stdout",
       "text": [
        "\n"
       ]
      }
     ],
     "prompt_number": 47
    },
    {
     "cell_type": "code",
     "collapsed": false,
     "input": [
      "start_image = time.time()\n",
      "results_image = krr_app('image', False)\n",
      "end_image = time.time()"
     ],
     "language": "python",
     "metadata": {},
     "outputs": [
      {
       "output_type": "stream",
       "stream": "stdout",
       "text": [
        " 1 / 10 parameter combinations completed. Estimated remaining time: 5388.333\n",
        " 2 / 10 parameter combinations completed. Estimated remaining time: 8316.609"
       ]
      },
      {
       "output_type": "stream",
       "stream": "stdout",
       "text": [
        "\n",
        " 3 / 10 parameter combinations completed. Estimated remaining time: 6415.482"
       ]
      },
      {
       "output_type": "stream",
       "stream": "stdout",
       "text": [
        "\n",
        " 4 / 10 parameter combinations completed. Estimated remaining time: 4863.814"
       ]
      },
      {
       "output_type": "stream",
       "stream": "stdout",
       "text": [
        "\n",
        " 5 / 10 parameter combinations completed. Estimated remaining time: 3706.508"
       ]
      },
      {
       "output_type": "stream",
       "stream": "stdout",
       "text": [
        "\n",
        " 6 / 10 parameter combinations completed. Estimated remaining time: 2810.501"
       ]
      },
      {
       "output_type": "stream",
       "stream": "stdout",
       "text": [
        "\n",
        " 7 / 10 parameter combinations completed. Estimated remaining time: 2101.664"
       ]
      },
      {
       "output_type": "stream",
       "stream": "stdout",
       "text": [
        "\n",
        " 8 / 10 parameter combinations completed. Estimated remaining time: 1496.961"
       ]
      },
      {
       "output_type": "stream",
       "stream": "stdout",
       "text": [
        "\n",
        " 9 / 10 parameter combinations completed. Estimated remaining time: 951.512"
       ]
      },
      {
       "output_type": "stream",
       "stream": "stdout",
       "text": [
        "\n",
        "10 / 10 parameter combinations completed. Estimated remaining time: 457.178"
       ]
      },
      {
       "output_type": "stream",
       "stream": "stdout",
       "text": [
        "\n",
        " 1 / 10 parameter combinations completed. Estimated remaining time: 2918.056"
       ]
      },
      {
       "output_type": "stream",
       "stream": "stdout",
       "text": [
        "\n",
        " 2 / 10 parameter combinations completed. Estimated remaining time: 2656.928"
       ]
      },
      {
       "output_type": "stream",
       "stream": "stdout",
       "text": [
        "\n",
        " 3 / 10 parameter combinations completed. Estimated remaining time: 2368.559"
       ]
      },
      {
       "output_type": "stream",
       "stream": "stdout",
       "text": [
        "\n",
        " 4 / 10 parameter combinations completed. Estimated remaining time: 2095.014"
       ]
      },
      {
       "output_type": "stream",
       "stream": "stdout",
       "text": [
        "\n",
        " 5 / 10 parameter combinations completed. Estimated remaining time: 1789.660"
       ]
      },
      {
       "output_type": "stream",
       "stream": "stdout",
       "text": [
        "\n",
        " 6 / 10 parameter combinations completed. Estimated remaining time: 1490.891"
       ]
      },
      {
       "output_type": "stream",
       "stream": "stdout",
       "text": [
        "\n",
        " 7 / 10 parameter combinations completed. Estimated remaining time: 1205.427"
       ]
      },
      {
       "output_type": "stream",
       "stream": "stdout",
       "text": [
        "\n",
        " 8 / 10 parameter combinations completed. Estimated remaining time: 914.333"
       ]
      },
      {
       "output_type": "stream",
       "stream": "stdout",
       "text": [
        "\n",
        " 9 / 10 parameter combinations completed. Estimated remaining time: 611.673"
       ]
      },
      {
       "output_type": "stream",
       "stream": "stdout",
       "text": [
        "\n",
        "10 / 10 parameter combinations completed. Estimated remaining time: 305.800"
       ]
      },
      {
       "output_type": "stream",
       "stream": "stdout",
       "text": [
        "\n",
        " 1 / 1 parameter combinations completed. Estimated remaining time: 292.504"
       ]
      },
      {
       "output_type": "stream",
       "stream": "stdout",
       "text": [
        "\n"
       ]
      }
     ],
     "prompt_number": 63
    },
    {
     "cell_type": "code",
     "collapsed": false,
     "input": [
      "results = dict()\n",
      "results['banana'] = results_banana['banana']\n",
      "results['diabetis'] = results_diabetis['diabetis']\n",
      "results['flare-solar'] = results_flare_solar['flare-solar']\n",
      "results['image'] = results_image['image']\n",
      "results['ringnorm'] = results_ringnorm['ringnorm']\n",
      "f = open('results.p','wb')\n",
      "pickle.dump(results, f)"
     ],
     "language": "python",
     "metadata": {},
     "outputs": [],
     "prompt_number": 65
    },
    {
     "cell_type": "code",
     "collapsed": false,
     "input": [
      "start_banana_cv = time.time()\n",
      "results_banana_cv = krr_app('banana', True)\n",
      "end_banana_cv = time.time()"
     ],
     "language": "python",
     "metadata": {},
     "outputs": [
      {
       "output_type": "stream",
       "stream": "stdout",
       "text": [
        " 1 / 100 parameter combinations completed. Estimated remaining time: 76.649\n",
        "11 / 100 parameter combinations completed. Estimated remaining time: 101.308"
       ]
      },
      {
       "output_type": "stream",
       "stream": "stdout",
       "text": [
        "\n",
        "21 / 100 parameter combinations completed. Estimated remaining time: 197.875"
       ]
      },
      {
       "output_type": "stream",
       "stream": "stdout",
       "text": [
        "\n",
        "31 / 100 parameter combinations completed. Estimated remaining time: 128.158"
       ]
      },
      {
       "output_type": "stream",
       "stream": "stdout",
       "text": [
        "\n",
        "41 / 100 parameter combinations completed. Estimated remaining time: 87.368"
       ]
      },
      {
       "output_type": "stream",
       "stream": "stdout",
       "text": [
        "\n",
        "51 / 100 parameter combinations completed. Estimated remaining time: 61.881"
       ]
      },
      {
       "output_type": "stream",
       "stream": "stdout",
       "text": [
        "\n",
        "61 / 100 parameter combinations completed. Estimated remaining time: 43.329"
       ]
      },
      {
       "output_type": "stream",
       "stream": "stdout",
       "text": [
        "\n",
        "71 / 100 parameter combinations completed. Estimated remaining time: 29.130"
       ]
      },
      {
       "output_type": "stream",
       "stream": "stdout",
       "text": [
        "\n",
        "81 / 100 parameter combinations completed. Estimated remaining time: 17.734"
       ]
      },
      {
       "output_type": "stream",
       "stream": "stdout",
       "text": [
        "\n",
        "91 / 100 parameter combinations completed. Estimated remaining time: 8.220"
       ]
      },
      {
       "output_type": "stream",
       "stream": "stdout",
       "text": [
        "\n",
        " 1 / 100 parameter combinations completed. Estimated remaining time: 23.576"
       ]
      },
      {
       "output_type": "stream",
       "stream": "stdout",
       "text": [
        "\n",
        "11 / 100 parameter combinations completed. Estimated remaining time: 18.286"
       ]
      },
      {
       "output_type": "stream",
       "stream": "stdout",
       "text": [
        "\n",
        "21 / 100 parameter combinations completed. Estimated remaining time: 16.938"
       ]
      },
      {
       "output_type": "stream",
       "stream": "stdout",
       "text": [
        "\n",
        "31 / 100 parameter combinations completed. Estimated remaining time: 14.664"
       ]
      },
      {
       "output_type": "stream",
       "stream": "stdout",
       "text": [
        "\n",
        "41 / 100 parameter combinations completed. Estimated remaining time: 14.890"
       ]
      },
      {
       "output_type": "stream",
       "stream": "stdout",
       "text": [
        "\n",
        "51 / 100 parameter combinations completed. Estimated remaining time: 13.602"
       ]
      },
      {
       "output_type": "stream",
       "stream": "stdout",
       "text": [
        "\n",
        "61 / 100 parameter combinations completed. Estimated remaining time: 11.524"
       ]
      },
      {
       "output_type": "stream",
       "stream": "stdout",
       "text": [
        "\n",
        "71 / 100 parameter combinations completed. Estimated remaining time: 9.000"
       ]
      },
      {
       "output_type": "stream",
       "stream": "stdout",
       "text": [
        "\n",
        "81 / 100 parameter combinations completed. Estimated remaining time: 6.172"
       ]
      },
      {
       "output_type": "stream",
       "stream": "stdout",
       "text": [
        "\n",
        "91 / 100 parameter combinations completed. Estimated remaining time: 3.212"
       ]
      },
      {
       "output_type": "stream",
       "stream": "stdout",
       "text": [
        "\n",
        " 1 / 10 parameter combinations completed. Estimated remaining time: 1.685"
       ]
      },
      {
       "output_type": "stream",
       "stream": "stdout",
       "text": [
        "\n",
        " 2 / 10 parameter combinations completed. Estimated remaining time: 1.646"
       ]
      },
      {
       "output_type": "stream",
       "stream": "stdout",
       "text": [
        "\n",
        " 3 / 10 parameter combinations completed. Estimated remaining time: 1.472"
       ]
      },
      {
       "output_type": "stream",
       "stream": "stdout",
       "text": [
        "\n",
        " 4 / 10 parameter combinations completed. Estimated remaining time: 1.288"
       ]
      },
      {
       "output_type": "stream",
       "stream": "stdout",
       "text": [
        "\n",
        " 5 / 10 parameter combinations completed. Estimated remaining time: 1.105"
       ]
      },
      {
       "output_type": "stream",
       "stream": "stdout",
       "text": [
        "\n",
        " 6 / 10 parameter combinations completed. Estimated remaining time: 0.916"
       ]
      },
      {
       "output_type": "stream",
       "stream": "stdout",
       "text": [
        "\n",
        " 7 / 10 parameter combinations completed. Estimated remaining time: 0.730"
       ]
      },
      {
       "output_type": "stream",
       "stream": "stdout",
       "text": [
        "\n",
        " 8 / 10 parameter combinations completed. Estimated remaining time: 0.547"
       ]
      },
      {
       "output_type": "stream",
       "stream": "stdout",
       "text": [
        "\n",
        " 9 / 10 parameter combinations completed. Estimated remaining time: 0.364"
       ]
      },
      {
       "output_type": "stream",
       "stream": "stdout",
       "text": [
        "\n",
        "10 / 10 parameter combinations completed. Estimated remaining time: 0.182"
       ]
      },
      {
       "output_type": "stream",
       "stream": "stdout",
       "text": [
        "\n"
       ]
      }
     ],
     "prompt_number": 51
    },
    {
     "cell_type": "code",
     "collapsed": false,
     "input": [
      "start_diabetis_cv = time.time()\n",
      "results_diabetis_cv = krr_app('diabetis', True)\n",
      "end_diabetis_cv = time.time()"
     ],
     "language": "python",
     "metadata": {},
     "outputs": [
      {
       "output_type": "stream",
       "stream": "stdout",
       "text": [
        " 1 / 100 parameter combinations completed. Estimated remaining time: 83.665\n",
        "11 / 100 parameter combinations completed. Estimated remaining time: 78.736"
       ]
      },
      {
       "output_type": "stream",
       "stream": "stdout",
       "text": [
        "\n",
        "21 / 100 parameter combinations completed. Estimated remaining time: 85.467"
       ]
      },
      {
       "output_type": "stream",
       "stream": "stdout",
       "text": [
        "\n",
        "31 / 100 parameter combinations completed. Estimated remaining time: 171.351"
       ]
      },
      {
       "output_type": "stream",
       "stream": "stdout",
       "text": [
        "\n",
        "41 / 100 parameter combinations completed. Estimated remaining time: 121.359"
       ]
      },
      {
       "output_type": "stream",
       "stream": "stdout",
       "text": [
        "\n",
        "51 / 100 parameter combinations completed. Estimated remaining time: 86.332"
       ]
      },
      {
       "output_type": "stream",
       "stream": "stdout",
       "text": [
        "\n",
        "61 / 100 parameter combinations completed. Estimated remaining time: 61.144"
       ]
      },
      {
       "output_type": "stream",
       "stream": "stdout",
       "text": [
        "\n",
        "71 / 100 parameter combinations completed. Estimated remaining time: 41.592"
       ]
      },
      {
       "output_type": "stream",
       "stream": "stdout",
       "text": [
        "\n",
        "81 / 100 parameter combinations completed. Estimated remaining time: 25.569"
       ]
      },
      {
       "output_type": "stream",
       "stream": "stdout",
       "text": [
        "\n",
        "91 / 100 parameter combinations completed. Estimated remaining time: 11.953"
       ]
      },
      {
       "output_type": "stream",
       "stream": "stdout",
       "text": [
        "\n",
        " 1 / 100 parameter combinations completed. Estimated remaining time: 36.053"
       ]
      },
      {
       "output_type": "stream",
       "stream": "stdout",
       "text": [
        "\n",
        "11 / 100 parameter combinations completed. Estimated remaining time: 32.971"
       ]
      },
      {
       "output_type": "stream",
       "stream": "stdout",
       "text": [
        "\n",
        "21 / 100 parameter combinations completed. Estimated remaining time: 29.574"
       ]
      },
      {
       "output_type": "stream",
       "stream": "stdout",
       "text": [
        "\n",
        "31 / 100 parameter combinations completed. Estimated remaining time: 26.533"
       ]
      },
      {
       "output_type": "stream",
       "stream": "stdout",
       "text": [
        "\n",
        "41 / 100 parameter combinations completed. Estimated remaining time: 26.577"
       ]
      },
      {
       "output_type": "stream",
       "stream": "stdout",
       "text": [
        "\n",
        "51 / 100 parameter combinations completed. Estimated remaining time: 23.920"
       ]
      },
      {
       "output_type": "stream",
       "stream": "stdout",
       "text": [
        "\n",
        "61 / 100 parameter combinations completed. Estimated remaining time: 20.122"
       ]
      },
      {
       "output_type": "stream",
       "stream": "stdout",
       "text": [
        "\n",
        "71 / 100 parameter combinations completed. Estimated remaining time: 15.618"
       ]
      },
      {
       "output_type": "stream",
       "stream": "stdout",
       "text": [
        "\n",
        "81 / 100 parameter combinations completed. Estimated remaining time: 10.656"
       ]
      },
      {
       "output_type": "stream",
       "stream": "stdout",
       "text": [
        "\n",
        "91 / 100 parameter combinations completed. Estimated remaining time: 5.430"
       ]
      },
      {
       "output_type": "stream",
       "stream": "stdout",
       "text": [
        "\n",
        " 1 / 10 parameter combinations completed. Estimated remaining time: 3.349"
       ]
      },
      {
       "output_type": "stream",
       "stream": "stdout",
       "text": [
        "\n",
        " 2 / 10 parameter combinations completed. Estimated remaining time: 3.141"
       ]
      },
      {
       "output_type": "stream",
       "stream": "stdout",
       "text": [
        "\n",
        " 3 / 10 parameter combinations completed. Estimated remaining time: 2.792"
       ]
      },
      {
       "output_type": "stream",
       "stream": "stdout",
       "text": [
        "\n",
        " 4 / 10 parameter combinations completed. Estimated remaining time: 2.452"
       ]
      },
      {
       "output_type": "stream",
       "stream": "stdout",
       "text": [
        "\n",
        " 5 / 10 parameter combinations completed. Estimated remaining time: 2.108"
       ]
      },
      {
       "output_type": "stream",
       "stream": "stdout",
       "text": [
        "\n",
        " 6 / 10 parameter combinations completed. Estimated remaining time: 1.745"
       ]
      },
      {
       "output_type": "stream",
       "stream": "stdout",
       "text": [
        "\n",
        " 7 / 10 parameter combinations completed. Estimated remaining time: 1.397"
       ]
      },
      {
       "output_type": "stream",
       "stream": "stdout",
       "text": [
        "\n",
        " 8 / 10 parameter combinations completed. Estimated remaining time: 1.048"
       ]
      },
      {
       "output_type": "stream",
       "stream": "stdout",
       "text": [
        "\n",
        " 9 / 10 parameter combinations completed. Estimated remaining time: 0.697"
       ]
      },
      {
       "output_type": "stream",
       "stream": "stdout",
       "text": [
        "\n",
        "10 / 10 parameter combinations completed. Estimated remaining time: 0.349"
       ]
      },
      {
       "output_type": "stream",
       "stream": "stdout",
       "text": [
        "\n"
       ]
      }
     ],
     "prompt_number": 52
    },
    {
     "cell_type": "code",
     "collapsed": false,
     "input": [
      "start_flare_solar_cv = time.time()\n",
      "results_flare_solar_cv = krr_app('flare-solar', True)\n",
      "end_flare_solar_cv = time.time()"
     ],
     "language": "python",
     "metadata": {},
     "outputs": [
      {
       "output_type": "stream",
       "stream": "stdout",
       "text": [
        " 1 / 100 parameter combinations completed. Estimated remaining time: 192.687\n",
        "11 / 100 parameter combinations completed. Estimated remaining time: 185.604"
       ]
      },
      {
       "output_type": "stream",
       "stream": "stdout",
       "text": [
        "\n",
        "21 / 100 parameter combinations completed. Estimated remaining time: 293.493"
       ]
      },
      {
       "output_type": "stream",
       "stream": "stdout",
       "text": [
        "\n",
        "31 / 100 parameter combinations completed. Estimated remaining time: 283.076"
       ]
      },
      {
       "output_type": "stream",
       "stream": "stdout",
       "text": [
        "\n",
        "41 / 100 parameter combinations completed. Estimated remaining time: 202.634"
       ]
      },
      {
       "output_type": "stream",
       "stream": "stdout",
       "text": [
        "\n",
        "51 / 100 parameter combinations completed. Estimated remaining time: 148.154"
       ]
      },
      {
       "output_type": "stream",
       "stream": "stdout",
       "text": [
        "\n",
        "61 / 100 parameter combinations completed. Estimated remaining time: 108.771"
       ]
      },
      {
       "output_type": "stream",
       "stream": "stdout",
       "text": [
        "\n",
        "71 / 100 parameter combinations completed. Estimated remaining time: 75.905"
       ]
      },
      {
       "output_type": "stream",
       "stream": "stdout",
       "text": [
        "\n",
        "81 / 100 parameter combinations completed. Estimated remaining time: 47.697"
       ]
      },
      {
       "output_type": "stream",
       "stream": "stdout",
       "text": [
        "\n",
        "91 / 100 parameter combinations completed. Estimated remaining time: 22.639"
       ]
      },
      {
       "output_type": "stream",
       "stream": "stdout",
       "text": [
        "\n",
        " 1 / 100 parameter combinations completed. Estimated remaining time: 91.905"
       ]
      },
      {
       "output_type": "stream",
       "stream": "stdout",
       "text": [
        "\n",
        "11 / 100 parameter combinations completed. Estimated remaining time: 82.876"
       ]
      },
      {
       "output_type": "stream",
       "stream": "stdout",
       "text": [
        "\n",
        "21 / 100 parameter combinations completed. Estimated remaining time: 73.715"
       ]
      },
      {
       "output_type": "stream",
       "stream": "stdout",
       "text": [
        "\n",
        "31 / 100 parameter combinations completed. Estimated remaining time: 65.585"
       ]
      },
      {
       "output_type": "stream",
       "stream": "stdout",
       "text": [
        "\n",
        "41 / 100 parameter combinations completed. Estimated remaining time: 62.040"
       ]
      },
      {
       "output_type": "stream",
       "stream": "stdout",
       "text": [
        "\n",
        "51 / 100 parameter combinations completed. Estimated remaining time: 54.766"
       ]
      },
      {
       "output_type": "stream",
       "stream": "stdout",
       "text": [
        "\n",
        "61 / 100 parameter combinations completed. Estimated remaining time: 45.786"
       ]
      },
      {
       "output_type": "stream",
       "stream": "stdout",
       "text": [
        "\n",
        "71 / 100 parameter combinations completed. Estimated remaining time: 35.227"
       ]
      },
      {
       "output_type": "stream",
       "stream": "stdout",
       "text": [
        "\n",
        "81 / 100 parameter combinations completed. Estimated remaining time: 23.918"
       ]
      },
      {
       "output_type": "stream",
       "stream": "stdout",
       "text": [
        "\n",
        "91 / 100 parameter combinations completed. Estimated remaining time: 12.194"
       ]
      },
      {
       "output_type": "stream",
       "stream": "stdout",
       "text": [
        "\n",
        " 1 / 10 parameter combinations completed. Estimated remaining time: 8.204"
       ]
      },
      {
       "output_type": "stream",
       "stream": "stdout",
       "text": [
        "\n",
        " 2 / 10 parameter combinations completed. Estimated remaining time: 7.555"
       ]
      },
      {
       "output_type": "stream",
       "stream": "stdout",
       "text": [
        "\n",
        " 3 / 10 parameter combinations completed. Estimated remaining time: 6.730"
       ]
      },
      {
       "output_type": "stream",
       "stream": "stdout",
       "text": [
        "\n",
        " 4 / 10 parameter combinations completed. Estimated remaining time: 5.909"
       ]
      },
      {
       "output_type": "stream",
       "stream": "stdout",
       "text": [
        "\n",
        " 5 / 10 parameter combinations completed. Estimated remaining time: 5.067"
       ]
      },
      {
       "output_type": "stream",
       "stream": "stdout",
       "text": [
        "\n",
        " 6 / 10 parameter combinations completed. Estimated remaining time: 4.226"
       ]
      },
      {
       "output_type": "stream",
       "stream": "stdout",
       "text": [
        "\n",
        " 7 / 10 parameter combinations completed. Estimated remaining time: 3.378"
       ]
      },
      {
       "output_type": "stream",
       "stream": "stdout",
       "text": [
        "\n",
        " 8 / 10 parameter combinations completed. Estimated remaining time: 2.524"
       ]
      },
      {
       "output_type": "stream",
       "stream": "stdout",
       "text": [
        "\n",
        " 9 / 10 parameter combinations completed. Estimated remaining time: 1.682"
       ]
      },
      {
       "output_type": "stream",
       "stream": "stdout",
       "text": [
        "\n",
        "10 / 10 parameter combinations completed. Estimated remaining time: 0.839"
       ]
      },
      {
       "output_type": "stream",
       "stream": "stdout",
       "text": [
        "\n"
       ]
      }
     ],
     "prompt_number": 57
    },
    {
     "cell_type": "code",
     "collapsed": false,
     "input": [
      "start_ringnorm_cv = time.time()\n",
      "results_ringnorm_cv = krr_app('ringnorm', True)\n",
      "end_ringnorm_cv = time.time()"
     ],
     "language": "python",
     "metadata": {},
     "outputs": [
      {
       "output_type": "stream",
       "stream": "stdout",
       "text": [
        " 1 / 100 parameter combinations completed. Estimated remaining time: 58.463\n",
        "11 / 100 parameter combinations completed. Estimated remaining time: 56.347"
       ]
      },
      {
       "output_type": "stream",
       "stream": "stdout",
       "text": [
        "\n",
        "21 / 100 parameter combinations completed. Estimated remaining time: 49.690"
       ]
      },
      {
       "output_type": "stream",
       "stream": "stdout",
       "text": [
        "\n",
        "31 / 100 parameter combinations completed. Estimated remaining time: 56.558"
       ]
      },
      {
       "output_type": "stream",
       "stream": "stdout",
       "text": [
        "\n",
        "41 / 100 parameter combinations completed. Estimated remaining time: 108.988"
       ]
      },
      {
       "output_type": "stream",
       "stream": "stdout",
       "text": [
        "\n",
        "51 / 100 parameter combinations completed. Estimated remaining time: 76.396"
       ]
      },
      {
       "output_type": "stream",
       "stream": "stdout",
       "text": [
        "\n",
        "61 / 100 parameter combinations completed. Estimated remaining time: 53.512"
       ]
      },
      {
       "output_type": "stream",
       "stream": "stdout",
       "text": [
        "\n",
        "71 / 100 parameter combinations completed. Estimated remaining time: 36.071"
       ]
      },
      {
       "output_type": "stream",
       "stream": "stdout",
       "text": [
        "\n",
        "81 / 100 parameter combinations completed. Estimated remaining time: 21.956"
       ]
      },
      {
       "output_type": "stream",
       "stream": "stdout",
       "text": [
        "\n",
        "91 / 100 parameter combinations completed. Estimated remaining time: 10.195"
       ]
      },
      {
       "output_type": "stream",
       "stream": "stdout",
       "text": [
        "\n",
        " 1 / 100 parameter combinations completed. Estimated remaining time: 21.680"
       ]
      },
      {
       "output_type": "stream",
       "stream": "stdout",
       "text": [
        "\n",
        "11 / 100 parameter combinations completed. Estimated remaining time: 25.267"
       ]
      },
      {
       "output_type": "stream",
       "stream": "stdout",
       "text": [
        "\n",
        "21 / 100 parameter combinations completed. Estimated remaining time: 19.520"
       ]
      },
      {
       "output_type": "stream",
       "stream": "stdout",
       "text": [
        "\n",
        "31 / 100 parameter combinations completed. Estimated remaining time: 17.043"
       ]
      },
      {
       "output_type": "stream",
       "stream": "stdout",
       "text": [
        "\n",
        "41 / 100 parameter combinations completed. Estimated remaining time: 17.156"
       ]
      },
      {
       "output_type": "stream",
       "stream": "stdout",
       "text": [
        "\n",
        "51 / 100 parameter combinations completed. Estimated remaining time: 15.554"
       ]
      },
      {
       "output_type": "stream",
       "stream": "stdout",
       "text": [
        "\n",
        "61 / 100 parameter combinations completed. Estimated remaining time: 13.144"
       ]
      },
      {
       "output_type": "stream",
       "stream": "stdout",
       "text": [
        "\n",
        "71 / 100 parameter combinations completed. Estimated remaining time: 10.228"
       ]
      },
      {
       "output_type": "stream",
       "stream": "stdout",
       "text": [
        "\n",
        "81 / 100 parameter combinations completed. Estimated remaining time: 7.038"
       ]
      },
      {
       "output_type": "stream",
       "stream": "stdout",
       "text": [
        "\n",
        "91 / 100 parameter combinations completed. Estimated remaining time: 3.781"
       ]
      },
      {
       "output_type": "stream",
       "stream": "stdout",
       "text": [
        "\n",
        " 1 / 10 parameter combinations completed. Estimated remaining time: 1.950"
       ]
      },
      {
       "output_type": "stream",
       "stream": "stdout",
       "text": [
        "\n",
        " 2 / 10 parameter combinations completed. Estimated remaining time: 1.708"
       ]
      },
      {
       "output_type": "stream",
       "stream": "stdout",
       "text": [
        "\n",
        " 3 / 10 parameter combinations completed. Estimated remaining time: 1.540"
       ]
      },
      {
       "output_type": "stream",
       "stream": "stdout",
       "text": [
        "\n",
        " 4 / 10 parameter combinations completed. Estimated remaining time: 1.458"
       ]
      },
      {
       "output_type": "stream",
       "stream": "stdout",
       "text": [
        "\n",
        " 5 / 10 parameter combinations completed. Estimated remaining time: 1.221"
       ]
      },
      {
       "output_type": "stream",
       "stream": "stdout",
       "text": [
        "\n",
        " 6 / 10 parameter combinations completed. Estimated remaining time: 1.019"
       ]
      },
      {
       "output_type": "stream",
       "stream": "stdout",
       "text": [
        "\n",
        " 7 / 10 parameter combinations completed. Estimated remaining time: 0.802"
       ]
      },
      {
       "output_type": "stream",
       "stream": "stdout",
       "text": [
        "\n",
        " 8 / 10 parameter combinations completed. Estimated remaining time: 0.597"
       ]
      },
      {
       "output_type": "stream",
       "stream": "stdout",
       "text": [
        "\n",
        " 9 / 10 parameter combinations completed. Estimated remaining time: 0.395"
       ]
      },
      {
       "output_type": "stream",
       "stream": "stdout",
       "text": [
        "\n",
        "10 / 10 parameter combinations completed. Estimated remaining time: 0.195"
       ]
      },
      {
       "output_type": "stream",
       "stream": "stdout",
       "text": [
        "\n"
       ]
      }
     ],
     "prompt_number": 56
    },
    {
     "cell_type": "code",
     "collapsed": false,
     "input": [
      "start_image_cv = time.time()\n",
      "results_image_cv = krr_app('image', True)\n",
      "end_image_cv = time.time()"
     ],
     "language": "python",
     "metadata": {},
     "outputs": [
      {
       "output_type": "stream",
       "stream": "stdout",
       "text": [
        " 1 / 100 parameter combinations completed. Estimated remaining time: 1003.189\n",
        "11 / 100 parameter combinations completed. Estimated remaining time: 805.909"
       ]
      },
      {
       "output_type": "stream",
       "stream": "stdout",
       "text": [
        "\n",
        "21 / 100 parameter combinations completed. Estimated remaining time: 910.159"
       ]
      },
      {
       "output_type": "stream",
       "stream": "stdout",
       "text": [
        "\n",
        "31 / 100 parameter combinations completed. Estimated remaining time: 1740.280"
       ]
      },
      {
       "output_type": "stream",
       "stream": "stdout",
       "text": [
        "\n",
        "41 / 100 parameter combinations completed. Estimated remaining time: 1562.085"
       ]
      },
      {
       "output_type": "stream",
       "stream": "stdout",
       "text": [
        "\n",
        "51 / 100 parameter combinations completed. Estimated remaining time: 1113.375"
       ]
      },
      {
       "output_type": "stream",
       "stream": "stdout",
       "text": [
        "\n",
        "61 / 100 parameter combinations completed. Estimated remaining time: 782.523"
       ]
      },
      {
       "output_type": "stream",
       "stream": "stdout",
       "text": [
        "\n",
        "71 / 100 parameter combinations completed. Estimated remaining time: 528.915"
       ]
      },
      {
       "output_type": "stream",
       "stream": "stdout",
       "text": [
        "\n",
        "81 / 100 parameter combinations completed. Estimated remaining time: 323.314"
       ]
      },
      {
       "output_type": "stream",
       "stream": "stdout",
       "text": [
        "\n",
        "91 / 100 parameter combinations completed. Estimated remaining time: 150.288"
       ]
      },
      {
       "output_type": "stream",
       "stream": "stdout",
       "text": [
        "\n",
        " 1 / 100 parameter combinations completed. Estimated remaining time: 450.304"
       ]
      },
      {
       "output_type": "stream",
       "stream": "stdout",
       "text": [
        "\n",
        "11 / 100 parameter combinations completed. Estimated remaining time: 404.981"
       ]
      },
      {
       "output_type": "stream",
       "stream": "stdout",
       "text": [
        "\n",
        "21 / 100 parameter combinations completed. Estimated remaining time: 360.801"
       ]
      },
      {
       "output_type": "stream",
       "stream": "stdout",
       "text": [
        "\n",
        "31 / 100 parameter combinations completed. Estimated remaining time: 322.962"
       ]
      },
      {
       "output_type": "stream",
       "stream": "stdout",
       "text": [
        "\n",
        "41 / 100 parameter combinations completed. Estimated remaining time: 304.020"
       ]
      },
      {
       "output_type": "stream",
       "stream": "stdout",
       "text": [
        "\n",
        "51 / 100 parameter combinations completed. Estimated remaining time: 267.406"
       ]
      },
      {
       "output_type": "stream",
       "stream": "stdout",
       "text": [
        "\n",
        "61 / 100 parameter combinations completed. Estimated remaining time: 221.538"
       ]
      },
      {
       "output_type": "stream",
       "stream": "stdout",
       "text": [
        "\n",
        "71 / 100 parameter combinations completed. Estimated remaining time: 171.121"
       ]
      },
      {
       "output_type": "stream",
       "stream": "stdout",
       "text": [
        "\n",
        "81 / 100 parameter combinations completed. Estimated remaining time: 116.299"
       ]
      },
      {
       "output_type": "stream",
       "stream": "stdout",
       "text": [
        "\n",
        "Exception"
       ]
      },
      {
       "output_type": "stream",
       "stream": "stdout",
       "text": [
        "\n",
        "91 / 100 parameter combinations completed. Estimated remaining time: 59.183"
       ]
      },
      {
       "output_type": "stream",
       "stream": "stdout",
       "text": [
        "\n",
        " 1 / 10 parameter combinations completed. Estimated remaining time: 51.316"
       ]
      },
      {
       "output_type": "stream",
       "stream": "stdout",
       "text": [
        "\n",
        " 2 / 10 parameter combinations completed. Estimated remaining time: 46.262"
       ]
      },
      {
       "output_type": "stream",
       "stream": "stdout",
       "text": [
        "\n",
        " 3 / 10 parameter combinations completed. Estimated remaining time: 39.256"
       ]
      },
      {
       "output_type": "stream",
       "stream": "stdout",
       "text": [
        "\n",
        " 4 / 10 parameter combinations completed. Estimated remaining time: 33.164"
       ]
      },
      {
       "output_type": "stream",
       "stream": "stdout",
       "text": [
        "\n",
        " 5 / 10 parameter combinations completed. Estimated remaining time: 27.791"
       ]
      },
      {
       "output_type": "stream",
       "stream": "stdout",
       "text": [
        "\n",
        " 6 / 10 parameter combinations completed. Estimated remaining time: 22.780"
       ]
      },
      {
       "output_type": "stream",
       "stream": "stdout",
       "text": [
        "\n",
        " 7 / 10 parameter combinations completed. Estimated remaining time: 18.421"
       ]
      },
      {
       "output_type": "stream",
       "stream": "stdout",
       "text": [
        "\n",
        " 8 / 10 parameter combinations completed. Estimated remaining time: 13.672"
       ]
      },
      {
       "output_type": "stream",
       "stream": "stdout",
       "text": [
        "\n",
        " 9 / 10 parameter combinations completed. Estimated remaining time: 9.015"
       ]
      },
      {
       "output_type": "stream",
       "stream": "stdout",
       "text": [
        "\n",
        "10 / 10 parameter combinations completed. Estimated remaining time: 4.537"
       ]
      },
      {
       "output_type": "stream",
       "stream": "stdout",
       "text": [
        "\n"
       ]
      }
     ],
     "prompt_number": 72
    },
    {
     "cell_type": "code",
     "collapsed": false,
     "input": [
      "results_cv = dict()\n",
      "results_cv['banana'] = results_banana_cv['banana']\n",
      "results_cv['diabetis'] = results_diabetis_cv['diabetis']\n",
      "results_cv['flare-solar'] = results_flare_solar_cv['flare-solar']\n",
      "results_cv['image'] = results_image_cv['image']\n",
      "results_cv['ringnorm'] = results_ringnorm_cv['ringnorm']\n",
      "f = open('results_cv.p','wb')\n",
      "pickle.dump(results_cv, f)"
     ],
     "language": "python",
     "metadata": {},
     "outputs": [],
     "prompt_number": 75
    },
    {
     "cell_type": "code",
     "collapsed": false,
     "input": [
      "results_loocv = pickle.load( open( \"results.p\", \"rb\" ) )\n",
      "results_cv = pickle.load( open( \"results_cv.p\", \"rb\" ) )"
     ],
     "language": "python",
     "metadata": {},
     "outputs": [],
     "prompt_number": 7
    },
    {
     "cell_type": "code",
     "collapsed": false,
     "input": [
      "results = [results_loocv, results_cv]\n",
      "datasets = ['banana', 'diabetis', 'flare-solar', 'image', 'ringnorm']\n",
      "text = ['Efficient LOOCV', 'Standard CV']\n",
      "AUC = np.zeros([2, len(datasets)])\n",
      "CVLOSS = np.zeros([2, len(datasets)])\n",
      "path = 'ps3_datasets/'\n",
      "fig = pl.figure(figsize=(2*8, 6*len(datasets)))\n",
      "for idx, dataset in enumerate(datasets):\n",
      "    print 'Dataset: ', dataset\n",
      "    Xtr = np.loadtxt(path+'U04_'+dataset+'-xtrain.dat')\n",
      "    Ytr = np.loadtxt(path+'U04_'+dataset+'-ytrain.dat')\n",
      "    Xte = np.loadtxt(path+'U04_'+dataset+'-xtest.dat')\n",
      "    for idx_res, res in enumerate(results):\n",
      "        kernel = res[dataset]['kernel']\n",
      "        kernelparameter = res[dataset]['kernelparameter']\n",
      "        regularization = res[dataset]['regularization']\n",
      "        cvloss = res[dataset]['cvloss']\n",
      "        krr = imp.krr()\n",
      "        params = ['kernel', [kernel], 'kernelparameter', [kernelparameter], 'regularization', [regularization]]\n",
      "        method = imp.cv(Xtr, Ytr[np.newaxis, :], krr, params, nrepetitions=1)\n",
      "    \n",
      "        CVLOSS[idx_res, idx] = cvloss\n",
      "        ytrue = method.rocdata[0, :][np.newaxis, :]\n",
      "        ypred = method.rocdata[1, :][np.newaxis, :]\n",
      "        roc = roc_fun(ytrue, ypred)\n",
      "        TPRs = roc[0, :]\n",
      "        FPRs = roc[1, :]\n",
      "        auc = np.trapz(TPRs, FPRs)\n",
      "        AUC[idx_res, idx] = auc\n",
      "        \n",
      "        ax = fig.add_subplot(len(datasets), 2, (idx*2)+(idx_res+1))\n",
      "        fig.subplots_adjust(wspace=0.2, hspace=0.3)\n",
      "        ax.plot(FPRs, TPRs)\n",
      "        ax.set_xlim(-0.2,1.2)\n",
      "        ax.set_ylim(-0.2,1.2)\n",
      "        ax.set_xlabel('False Positive Rate', fontsize=14)\n",
      "        ax.set_ylabel('True Positive Rate', fontsize=14)\n",
      "        ticks = [0,0.2,0.4,0.6,0.8,1]\n",
      "        ax.set_xticks(ticks)\n",
      "        ax.set_yticks(ticks)\n",
      "        ax.grid(True)\n",
      "        ax.set_title('Dataset %s, %s; Kernel: %s, Parameter: %0.3f\\n, \\\n",
      "                     Regularization: %0.3f, Cvloss: %0.3f, AUC: %0.3f'\\\n",
      "                     %(dataset, text[idx_res], kernel, kernelparameter, regularization, cvloss, auc))\n",
      "        "
     ],
     "language": "python",
     "metadata": {},
     "outputs": [
      {
       "output_type": "stream",
       "stream": "stdout",
       "text": [
        "Dataset:  banana\n",
        " 1 / 1 parameter combinations completed. Estimated remaining time: 0.160"
       ]
      },
      {
       "output_type": "stream",
       "stream": "stdout",
       "text": [
        "\n",
        " 1 / 1 parameter combinations completed. Estimated remaining time: 0.139"
       ]
      },
      {
       "output_type": "stream",
       "stream": "stdout",
       "text": [
        "\n",
        "Dataset: "
       ]
      },
      {
       "output_type": "stream",
       "stream": "stdout",
       "text": [
        " diabetis\n",
        " 1 / 1 parameter combinations completed. Estimated remaining time: 0.310"
       ]
      },
      {
       "output_type": "stream",
       "stream": "stdout",
       "text": [
        "\n",
        " 1 / 1 parameter combinations completed. Estimated remaining time: 0.259"
       ]
      },
      {
       "output_type": "stream",
       "stream": "stdout",
       "text": [
        "\n",
        "Dataset: "
       ]
      },
      {
       "output_type": "stream",
       "stream": "stdout",
       "text": [
        " flare-solar\n",
        " 1 / 1 parameter combinations completed. Estimated remaining time: 0.467"
       ]
      },
      {
       "output_type": "stream",
       "stream": "stdout",
       "text": [
        "\n",
        " 1 / 1 parameter combinations completed. Estimated remaining time: 0.710"
       ]
      },
      {
       "output_type": "stream",
       "stream": "stdout",
       "text": [
        "\n",
        "Dataset: "
       ]
      },
      {
       "output_type": "stream",
       "stream": "stdout",
       "text": [
        " image\n",
        " 1 / 1 parameter combinations completed. Estimated remaining time: 4.660"
       ]
      },
      {
       "output_type": "stream",
       "stream": "stdout",
       "text": [
        "\n",
        " 1 / 1 parameter combinations completed. Estimated remaining time: 2.916"
       ]
      },
      {
       "output_type": "stream",
       "stream": "stdout",
       "text": [
        "\n",
        "Dataset: "
       ]
      },
      {
       "output_type": "stream",
       "stream": "stdout",
       "text": [
        " ringnorm\n",
        " 1 / 1 parameter combinations completed. Estimated remaining time: 0.253"
       ]
      },
      {
       "output_type": "stream",
       "stream": "stdout",
       "text": [
        "\n",
        " 1 / 1 parameter combinations completed. Estimated remaining time: 0.178"
       ]
      },
      {
       "output_type": "stream",
       "stream": "stdout",
       "text": [
        "\n"
       ]
      },
      {
       "metadata": {},
       "output_type": "display_data",
       "png": "[encoded data removed]",
       "text": [
        "<matplotlib.figure.Figure at 0x1060baa50>"
       ]
      }
     ],
     "prompt_number": 19
    },
    {
     "cell_type": "code",
     "collapsed": false,
     "input": [
      "fig.savefig('roc_curve.png')"
     ],
     "language": "python",
     "metadata": {},
     "outputs": [],
     "prompt_number": 11
    },
    {
     "cell_type": "code",
     "collapsed": false,
     "input": [
      "print results_loocv['image']"
     ],
     "language": "python",
     "metadata": {},
     "outputs": [
      {
       "output_type": "stream",
       "stream": "stdout",
       "text": [
        "{'cvloss': 0.028461538461538472, 'kernel': 'gaussian', 'regularization': 0.46415888336127775, 'ypred': array([[ 0.71714783,  0.59531571, -0.90690113, ..., -0.65031917,\n",
        "         0.0604236 , -0.68293274]]), 'kernelparameter': 0.59948425031894093, 'time': 4596.275455951691}\n"
       ]
      }
     ],
     "prompt_number": 12
    },
    {
     "cell_type": "code",
     "collapsed": false,
     "input": [
      "print results_cv['image']"
     ],
     "language": "python",
     "metadata": {},
     "outputs": [
      {
       "output_type": "stream",
       "stream": "stdout",
       "text": [
        "{'cvloss': 0.02230769230769231, 'kernel': 'gaussian', 'regularization': 0.027825594022071243, 'ypred': array([[ 0.64104958,  0.42851424, -0.72887044, ..., -1.17694349,\n",
        "         1.2576241 , -1.01110769]]), 'kernelparameter': 1.6681005372000592, 'time': 1420.2647950649261}\n"
       ]
      }
     ],
     "prompt_number": 13
    },
    {
     "cell_type": "code",
     "collapsed": false,
     "input": [
      "print 'Datasets: ', datasets\n",
      "print 'AUC: ', AUC\n",
      "print 'CVLOSS: ', CVLOSS"
     ],
     "language": "python",
     "metadata": {},
     "outputs": [
      {
       "output_type": "stream",
       "stream": "stdout",
       "text": [
        "Datasets:  ['banana', 'diabetis', 'flare-solar', 'image', 'ringnorm']\n",
        "AUC:  [[ 0.9498166   0.80598064  0.69333564  0.9955459   0.99211534]\n",
        " [ 0.94593508  0.80792456  0.69627847  0.99707734  0.99896123]]\n",
        "CVLOSS:  [[ 0.09625     0.2370259   0.34675486  0.02846154  0.0625    ]\n",
        " [ 0.09625     0.24146623  0.34838308  0.02230769  0.03875   ]]\n"
       ]
      }
     ],
     "prompt_number": 14
    },
    {
     "cell_type": "code",
     "collapsed": false,
     "input": [
      "inds = np.argsort(CVLOSS[0, :])\n",
      "CVLOSS[0, :] = CVLOSS[0, inds]\n",
      "AUC[0, :] = AUC[0, inds]\n",
      "datasets = np.array(datasets)\n",
      "\n",
      "inds = np.argsort(CVLOSS[1, :])\n",
      "CVLOSS[1, :] = CVLOSS[1, inds]\n",
      "AUC[1, :] = AUC[1, inds]\n",
      "\n",
      "datasets = datasets[inds]"
     ],
     "language": "python",
     "metadata": {},
     "outputs": [],
     "prompt_number": 15
    },
    {
     "cell_type": "code",
     "collapsed": false,
     "input": [
      "print 'Datasets: ', datasets\n",
      "print 'AUC: ', AUC\n",
      "print 'CVLOSS: ', CVLOSS"
     ],
     "language": "python",
     "metadata": {},
     "outputs": [
      {
       "output_type": "stream",
       "stream": "stdout",
       "text": [
        "Datasets:  ['image' 'ringnorm' 'banana' 'diabetis' 'flare-solar']\n",
        "AUC:  [[ 0.9955459   0.99211534  0.9498166   0.80598064  0.69333564]\n",
        " [ 0.99707734  0.99896123  0.94593508  0.80792456  0.69627847]]\n",
        "CVLOSS:  [[ 0.02846154  0.0625      0.09625     0.2370259   0.34675486]\n",
        " [ 0.02230769  0.03875     0.09625     0.24146623  0.34838308]]\n"
       ]
      }
     ],
     "prompt_number": 16
    },
    {
     "cell_type": "code",
     "collapsed": false,
     "input": [
      "fig = pl.figure()\n",
      "ax = fig.add_subplot(111)\n",
      "ax.scatter(np.arange(1,6), CVLOSS[0,:], c='b', marker='o',label='Cvloss')\n",
      "ax.scatter(np.arange(1,6), AUC[0,:], c='r', marker='+',label='AUC')\n",
      "ax.set_xlabel('Data Set', fontsize=14)\n",
      "ax.set_ylabel('Cvloss / AUC', fontsize=14)\n",
      "ax.set_title('Correspondence between Cvloss and AUC')\n",
      "\n",
      "ax.set_xticks(np.arange(8))\n",
      "ax.set_xticklabels(['', 'image', 'ringnorm', 'banana', 'diabetis', 'flare-solar'])\n",
      "ax.legend(loc='upper right')"
     ],
     "language": "python",
     "metadata": {},
     "outputs": [
      {
       "metadata": {},
       "output_type": "pyout",
       "prompt_number": 17,
       "text": [
        "<matplotlib.legend.Legend at 0x10286b310>"
       ]
      },
      {
       "metadata": {},
       "output_type": "display_data",
       "png": "[encoded data removed]",
       "text": [
        "<matplotlib.figure.Figure at 0x1060be390>"
       ]
      }
     ],
     "prompt_number": 17
    },
    {
     "cell_type": "code",
     "collapsed": false,
     "input": [
      "fig.savefig('auc_cvloss.png')"
     ],
     "language": "python",
     "metadata": {},
     "outputs": [],
     "prompt_number": 18
    }
   ],
   "metadata": {}
  }
 ]
}