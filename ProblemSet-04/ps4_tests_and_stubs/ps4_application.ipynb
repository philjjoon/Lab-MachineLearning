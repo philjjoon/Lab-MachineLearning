{
 "metadata": {
  "name": "",
  "signature": "sha256:96b39c5e602e4875a45cbad138fe0df4fee077d3ae1db832d124e4cb6eff6d09"
 },
 "nbformat": 3,
 "nbformat_minor": 0,
 "worksheets": [
  {
   "cells": [
    {
     "cell_type": "code",
     "collapsed": false,
     "input": [
      "import numpy as np\n",
      "import random\n",
      "import matplotlib.pyplot as pl\n",
      "%matplotlib inline\n",
      "from scipy.stats import norm\n",
      "import pickle\n",
      "import time\n",
      "\n",
      "import ps4_implementation as imp\n",
      "imp = reload(imp)"
     ],
     "language": "python",
     "metadata": {},
     "outputs": [],
     "prompt_number": 2
    },
    {
     "cell_type": "code",
     "collapsed": false,
     "input": [],
     "language": "python",
     "metadata": {},
     "outputs": []
    }
   ],
   "metadata": {}
  }
 ]
}