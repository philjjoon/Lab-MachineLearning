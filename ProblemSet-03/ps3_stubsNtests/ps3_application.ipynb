{
 "metadata": {
  "name": "",
  "signature": "sha256:fd8c9b24737a185f34bda01f817f15f6ee7a9c50115b6277d212211f532391f1"
 },
 "nbformat": 3,
 "nbformat_minor": 0,
 "worksheets": [
  {
   "cells": [
    {
     "cell_type": "code",
     "collapsed": false,
     "input": [
      "#from __future__ import division \n",
      "import numpy as np\n",
      "import pylab as pl\n",
      "%matplotlib inline\n",
      "\n",
      "import random\n",
      "from scipy.stats import norm\n",
      "import os\n",
      "import sys\n",
      "import pickle\n",
      "\n",
      "import ps3_implementation as imp\n",
      "imp = reload(imp)"
     ],
     "language": "python",
     "metadata": {},
     "outputs": [],
     "prompt_number": 1
    },
    {
     "cell_type": "code",
     "collapsed": false,
     "input": [
      "def roc_curve(n):\n",
      "    ''' your header here!\n",
      "    '''"
     ],
     "language": "python",
     "metadata": {},
     "outputs": []
    },
    {
     "cell_type": "code",
     "collapsed": false,
     "input": [
      "def roc_fun(y_true, y_pred):\n",
      "    ''' your header here!\n",
      "    '''"
     ],
     "language": "python",
     "metadata": {},
     "outputs": []
    },
    {
     "cell_type": "code",
     "collapsed": false,
     "input": [
      "def krr_app(reg=False):\n",
      "    ''' your header here!\n",
      "    '''"
     ],
     "language": "python",
     "metadata": {},
     "outputs": []
    }
   ],
   "metadata": {}
  }
 ]
}