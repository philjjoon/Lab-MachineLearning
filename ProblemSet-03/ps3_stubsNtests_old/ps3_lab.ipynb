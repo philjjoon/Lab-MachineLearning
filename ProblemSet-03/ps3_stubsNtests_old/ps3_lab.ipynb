{
 "metadata": {
  "name": "",
  "signature": "sha256:3068276e63165f6b37c921f014e2bdef6451cab683a679d1173b4437fccacee5"
 },
 "nbformat": 3,
 "nbformat_minor": 0,
 "worksheets": [
  {
   "cells": [
    {
     "cell_type": "code",
     "collapsed": false,
     "input": [
      "#from __future__ import division \n",
      "import numpy as np\n",
      "import pylab as pl\n",
      "import matplotlib.mlab as mlab\n",
      "%matplotlib inline\n",
      "\n",
      "import ps3_implementation as imp\n",
      "imp = reload(imp)\n",
      "\n",
      "import itertools as it\n",
      "from scipy.spatial.distance import pdist\n",
      "from scipy.spatial.distance import cdist\n",
      "from scipy.spatial.distance import squareform\n",
      "\n",
      "import pickle"
     ],
     "language": "python",
     "metadata": {},
     "outputs": [],
     "prompt_number": 1
    },
    {
     "cell_type": "code",
     "collapsed": false,
     "input": [
      "banana_xtest = np.loadtxt('./ps3_datasets/U04_banana-xtest.dat')\n",
      "banana_xtrain = np.loadtxt('./ps3_datasets/U04_banana-xtrain.dat')\n",
      "banana_ytrain = np.loadtxt('./ps3_datasets/U04_banana-ytrain.dat')\n",
      "\n",
      "diabetis_xtest = np.loadtxt('./ps3_datasets/U04_diabetis-xtest.dat')\n",
      "diabetis_xtrain = np.loadtxt('./ps3_datasets/U04_diabetis-xtrain.dat')\n",
      "diabetis_ytrain = np.loadtxt('./ps3_datasets/U04_diabetis-ytrain.dat')\n",
      "\n",
      "flare_solar_xtest = np.loadtxt('./ps3_datasets/U04_flare-solar-xtest.dat')\n",
      "flare_solar_xtrain = np.loadtxt('./ps3_datasets/U04_flare-solar-xtrain.dat')\n",
      "flare_solar_ytrain = np.loadtxt('./ps3_datasets/U04_flare-solar-ytrain.dat')\n",
      "\n",
      "image_xtest = np.loadtxt('./ps3_datasets/U04_image-xtest.dat')\n",
      "image_xtrain = np.loadtxt('./ps3_datasets/U04_image-xtrain.dat')\n",
      "image_ytrain = np.loadtxt('./ps3_datasets/U04_image-ytrain.dat')\n",
      "\n",
      "ringnorm_xtest = np.loadtxt('./ps3_datasets/U04_ringnorm-xtest.dat')\n",
      "ringnorm_xtrain = np.loadtxt('./ps3_datasets/U04_ringnorm-xtrain.dat')\n",
      "ringnorm_ytrain = np.loadtxt('./ps3_datasets/U04_ringnorm-ytrain.dat')"
     ],
     "language": "python",
     "metadata": {},
     "outputs": [],
     "prompt_number": 2
    },
    {
     "cell_type": "code",
     "collapsed": false,
     "input": [
      "n = 5\n",
      "neg = 1 * np.random.randn(n) + 0\n",
      "pos = 1 * np.random.randn(n) + 2\n",
      "print 'pos: ', pos\n",
      "print 'neg: ', neg\n",
      "total_pos = len(pos)\n",
      "total_neg = len(neg)\n",
      "\n",
      "mix = np.concatenate((pos, neg))\n",
      "A = mix[np.newaxis, :]\n",
      "B = mix[:, np.newaxis]\n",
      "C = A >= B\n",
      "\n",
      "TP = np.sum(C[:, :total_pos], axis=1)\n",
      "TPR = TP / float(total_pos)\n",
      "print TPR\n",
      "\n",
      "\n",
      "FP = np.sum(C[:, total_pos:], axis=1)\n",
      "FPR = FP / float(total_neg)\n",
      "print FPR\n",
      "\n",
      "inds = np.argsort(FPR)\n",
      "FPR = FPR[inds]\n",
      "TPR = TPR[inds]\n",
      "pl.plot(FPR, TPR)\n",
      "#print 'mix: ', mix"
     ],
     "language": "python",
     "metadata": {},
     "outputs": [
      {
       "output_type": "stream",
       "stream": "stdout",
       "text": [
        "pos:  [ 0.67488125  1.72738103  2.3667375   1.03302168  1.1508299 ]\n",
        "neg:  [ 0.40796888  0.39720685  0.45063552 -0.72786611 -0.77800587]\n",
        "[ 1.   0.4  0.2  0.8  0.6  1.   1.   1.   1.   1. ]\n",
        "[ 0.   0.   0.   0.   0.   0.4  0.6  0.2  0.8  1. ]\n"
       ]
      },
      {
       "metadata": {},
       "output_type": "pyout",
       "prompt_number": 22,
       "text": [
        "[<matplotlib.lines.Line2D at 0x105241850>]"
       ]
      },
      {
       "metadata": {},
       "output_type": "display_data",
       "png": "[encoded data removed]",
       "text": [
        "<matplotlib.figure.Figure at 0x1051dd710>"
       ]
      }
     ],
     "prompt_number": 22
    },
    {
     "cell_type": "code",
     "collapsed": false,
     "input": [
      "fig = pl.figure(figsize=(12, 10))\n",
      "total_points = [10, 100, 1000, 10000]\n",
      "for idx, n in enumerate(total_points):\n",
      "    neg = 1 * np.random.randn(n/2) + 0\n",
      "    pos = 1 * np.random.randn(n/2) + 2\n",
      "    total_pos = len(pos)\n",
      "    total_neg = len(neg)\n",
      "    \n",
      "    mix = np.concatenate((pos, neg))\n",
      "    A = mix[np.newaxis, :]\n",
      "    B = mix[:, np.newaxis]\n",
      "    C = A >= B\n",
      "    \n",
      "    TP = np.sum(C[:, :total_pos], axis=1)\n",
      "    TPR = TP / float(total_pos)\n",
      "    \n",
      "    FP = np.sum(C[:, total_pos:], axis=1)\n",
      "    FPR = FP / float(total_neg)\n",
      "    \n",
      "    inds = np.argsort(FPR)\n",
      "    FPR = FPR[inds]\n",
      "    TPR = TPR[inds]\n",
      "    \n",
      "    ax = fig.add_subplot(2, 2, 1+idx)\n",
      "    ax.plot(FPR, TPR)\n",
      "    ax.set_title('ROC Curve with n=' + str(n), fontsize=16, fontweight='bold')\n",
      "    ax.set_xlabel('$FPR$', fontsize=14)\n",
      "    ax.set_ylabel('$TPR$', fontsize=14)\n",
      "    \n",
      "fig.savefig('roc_curve.png')"
     ],
     "language": "python",
     "metadata": {},
     "outputs": [
      {
       "metadata": {},
       "output_type": "display_data",
       "png": "[encoded data removed]",
       "text": [
        "<matplotlib.figure.Figure at 0x10c760ad0>"
       ]
      }
     ],
     "prompt_number": 42
    },
    {
     "cell_type": "code",
     "collapsed": false,
     "input": [
      "def roc_fun(y_true, y_pred):\n",
      "    ''' your header here!\n",
      "    '''\n",
      "    min_value = np.min(y_pred)\n",
      "    max_value = np.max(y_pred)\n",
      "    thresholds = np.linspace(min_value, max_value, 100)[:, np.newaxis]\n",
      "    \n",
      "    results = y_pred >= thresholds\n",
      "    results = results.astype(int)\n",
      "    results[results == 0] = -1\n",
      "    results = results + y_true\n",
      "    total_pos = len(np.nonzero(y_true==1)[1])\n",
      "    total_neg = len(np.nonzero(y_true==-1)[1])\n",
      "    results_TP = results == 2 # +2 if both true and prediction value are 1\n",
      "    results_TN = results == -2 # -2 if both true and prediction value are -1\n",
      "    TPRs = np.sum(results_TP, axis=1) / float(total_pos)\n",
      "    FPRs = 1 - (np.sum(results_TN, axis=1) / float(total_neg))\n",
      "    inds = np.argsort(FPRs)\n",
      "    FPRs = FPRs[inds]\n",
      "    TPRs = TPRs[inds]\n",
      "    roc = np.ones([2, thresholds.shape[0]])\n",
      "    roc[0, :] = TPRs\n",
      "    roc[1, :] = FPRs\n",
      "    \n",
      "    return roc"
     ],
     "language": "python",
     "metadata": {},
     "outputs": [],
     "prompt_number": 3
    },
    {
     "cell_type": "code",
     "collapsed": false,
     "input": [
      "results_banana = pickle.load( open( \"results_banana.p\", \"rb\" ) )\n",
      "kernel_banana = results_banana['banana']['kernel']\n",
      "kernelparameter_banana = results_banana['banana']['kernelparameter']\n",
      "regularization_banana = results_banana['banana']['regularization']\n",
      "cvloss_banana = results_banana['banana']['cvloss']\n",
      "print 'xtrain: ', banana_xtrain.shape\n",
      "print 'ytrain: ', banana_ytrain.shape\n",
      "print 'kernel: ', kernel_banana\n",
      "print 'kernelparameter: ', kernelparameter_banana\n",
      "print 'regularization: ', regularization_banana\n",
      "print 'cvloss: ', cvloss_banana"
     ],
     "language": "python",
     "metadata": {},
     "outputs": [
      {
       "output_type": "stream",
       "stream": "stdout",
       "text": [
        "xtrain:  (2, 400)\n",
        "ytrain:  (400,)\n",
        "kernel:  gaussian\n",
        "kernelparameter:  0.215443469003\n",
        "regularization:  0.278255940221\n",
        "cvloss:  0.098\n"
       ]
      }
     ],
     "prompt_number": 4
    },
    {
     "cell_type": "code",
     "collapsed": false,
     "input": [
      "krr_banana = imp.krr()\n",
      "params_banana = ['kernel', [kernel_banana], 'kernelparameter', [kernelparameter_banana], 'regularization', [regularization_banana]]\n",
      "method_banana = imp.cv(banana_xtrain, banana_ytrain[np.newaxis, :], krr_banana, params_banana, loss_function=roc_fun)"
     ],
     "language": "python",
     "metadata": {},
     "outputs": [
      {
       "output_type": "stream",
       "stream": "stdout",
       "text": [
        "---------------------------------------------------------\n",
        "-  Running CV with params:  ('gaussian', 0.21544346900318834, 0.27825594022071315)\n",
        "---------------------------------------------------------\n",
        "Repetition:  0\n",
        "Fold:  0\n",
        "Fold: "
       ]
      },
      {
       "output_type": "stream",
       "stream": "stdout",
       "text": [
        " 1\n",
        "Fold:  2\n",
        "Fold: "
       ]
      },
      {
       "output_type": "stream",
       "stream": "stdout",
       "text": [
        " 3\n",
        "Fold: "
       ]
      },
      {
       "output_type": "stream",
       "stream": "stdout",
       "text": [
        " 4\n",
        "Fold:  5\n",
        "Fold: "
       ]
      },
      {
       "output_type": "stream",
       "stream": "stdout",
       "text": [
        " 6\n",
        "Fold:  7\n",
        "Fold: "
       ]
      },
      {
       "output_type": "stream",
       "stream": "stdout",
       "text": [
        " 8\n",
        "Fold:  9\n",
        "Repetition: "
       ]
      },
      {
       "output_type": "stream",
       "stream": "stdout",
       "text": [
        " 1\n",
        "Fold:  0\n",
        "Fold:  1\n",
        "Fold: "
       ]
      },
      {
       "output_type": "stream",
       "stream": "stdout",
       "text": [
        " 2\n",
        "Fold:  3\n",
        "Fold: "
       ]
      },
      {
       "output_type": "stream",
       "stream": "stdout",
       "text": [
        " 4\n",
        "Fold:  5\n",
        "Fold: "
       ]
      },
      {
       "output_type": "stream",
       "stream": "stdout",
       "text": [
        " 6\n",
        "Fold:  7\n",
        "Fold: "
       ]
      },
      {
       "output_type": "stream",
       "stream": "stdout",
       "text": [
        " 8\n",
        "Fold:  9\n",
        "Repetition: "
       ]
      },
      {
       "output_type": "stream",
       "stream": "stdout",
       "text": [
        " 2\n",
        "Fold:  0\n",
        "Fold:  1\n",
        "Fold: "
       ]
      },
      {
       "output_type": "stream",
       "stream": "stdout",
       "text": [
        " 2\n",
        "Fold: "
       ]
      },
      {
       "output_type": "stream",
       "stream": "stdout",
       "text": [
        " 3\n",
        "Fold: "
       ]
      },
      {
       "output_type": "stream",
       "stream": "stdout",
       "text": [
        " 4\n",
        "Fold: "
       ]
      },
      {
       "output_type": "stream",
       "stream": "stdout",
       "text": [
        " 5\n",
        "Fold: "
       ]
      },
      {
       "output_type": "stream",
       "stream": "stdout",
       "text": [
        " 6\n",
        "Fold: "
       ]
      },
      {
       "output_type": "stream",
       "stream": "stdout",
       "text": [
        " 7\n",
        "Fold: "
       ]
      },
      {
       "output_type": "stream",
       "stream": "stdout",
       "text": [
        " 8\n",
        "Fold: "
       ]
      },
      {
       "output_type": "stream",
       "stream": "stdout",
       "text": [
        " 9\n",
        "Repetition: "
       ]
      },
      {
       "output_type": "stream",
       "stream": "stdout",
       "text": [
        " 3\n",
        "Fold:  0\n",
        "Fold: "
       ]
      },
      {
       "output_type": "stream",
       "stream": "stdout",
       "text": [
        " 1\n",
        "Fold: "
       ]
      },
      {
       "output_type": "stream",
       "stream": "stdout",
       "text": [
        " 2\n",
        "Fold: "
       ]
      },
      {
       "output_type": "stream",
       "stream": "stdout",
       "text": [
        " 3\n",
        "Fold:  4\n",
        "Fold: "
       ]
      },
      {
       "output_type": "stream",
       "stream": "stdout",
       "text": [
        " 5\n",
        "Fold:  6\n",
        "Fold: "
       ]
      },
      {
       "output_type": "stream",
       "stream": "stdout",
       "text": [
        " 7\n",
        "Fold: "
       ]
      },
      {
       "output_type": "stream",
       "stream": "stdout",
       "text": [
        " 8\n",
        "Fold:  9\n",
        "Repetition: "
       ]
      },
      {
       "output_type": "stream",
       "stream": "stdout",
       "text": [
        " 4\n",
        "Fold:  0\n",
        "Fold: "
       ]
      },
      {
       "output_type": "stream",
       "stream": "stdout",
       "text": [
        " 1\n",
        "Fold: "
       ]
      },
      {
       "output_type": "stream",
       "stream": "stdout",
       "text": [
        " 2\n",
        "Fold: "
       ]
      },
      {
       "output_type": "stream",
       "stream": "stdout",
       "text": [
        " 3\n",
        "Fold:  4\n",
        "Fold: "
       ]
      },
      {
       "output_type": "stream",
       "stream": "stdout",
       "text": [
        " 5\n",
        "Fold:  6\n",
        "Fold: "
       ]
      },
      {
       "output_type": "stream",
       "stream": "stdout",
       "text": [
        " 7\n",
        "Fold: "
       ]
      },
      {
       "output_type": "stream",
       "stream": "stdout",
       "text": [
        " 8\n",
        "Fold: "
       ]
      },
      {
       "output_type": "stream",
       "stream": "stdout",
       "text": [
        " 9\n",
        "Finish CV in 2.63028287888 seconds"
       ]
      },
      {
       "output_type": "stream",
       "stream": "stdout",
       "text": [
        "\n"
       ]
      }
     ],
     "prompt_number": 5
    },
    {
     "cell_type": "code",
     "collapsed": false,
     "input": [
      "print method_banana.kernel\n",
      "print method_banana.kernelparameter\n",
      "print method_banana.regularization\n",
      "print method_banana.cvloss.shape\n",
      "TPRs_banana = method_banana.cvloss[0]\n",
      "FPRs_banana = method_banana.cvloss[1]\n",
      "pl.plot(FPRs_banana, TPRs_banana)\n",
      "auc = np.trapz(TPRs_banana, FPRs_banana)\n",
      "print 'AUC: ', auc"
     ],
     "language": "python",
     "metadata": {},
     "outputs": [
      {
       "output_type": "stream",
       "stream": "stdout",
       "text": [
        "gaussian\n",
        "0.215443469003\n",
        "0.278255940221\n",
        "(2, 100)\n",
        "AUC: "
       ]
      },
      {
       "output_type": "stream",
       "stream": "stdout",
       "text": [
        " 0.937950600579\n"
       ]
      },
      {
       "metadata": {},
       "output_type": "display_data",
       "png": "[encoded data removed]",
       "text": [
        "<matplotlib.figure.Figure at 0x104fbe6d0>"
       ]
      }
     ],
     "prompt_number": 6
    },
    {
     "cell_type": "code",
     "collapsed": false,
     "input": [
      "results_diabetis = pickle.load( open( \"results_diabetis.p\", \"rb\" ) )\n",
      "kernel_diabetis = results_diabetis['diabetis']['kernel']\n",
      "kernelparameter_diabetis = results_diabetis['diabetis']['kernelparameter']\n",
      "regularization_diabetis = results_diabetis['diabetis']['regularization']\n",
      "cvloss_diabetis = results_diabetis['diabetis']['cvloss']\n",
      "print 'xtrain: ', diabetis_xtrain.shape\n",
      "print 'ytrain: ', diabetis_ytrain.shape\n",
      "print 'kernel: ', kernel_diabetis\n",
      "print 'kernelparameter: ', kernelparameter_diabetis\n",
      "print 'regularization: ', regularization_diabetis\n",
      "print 'cvloss: ', cvloss_diabetis"
     ],
     "language": "python",
     "metadata": {},
     "outputs": [
      {
       "output_type": "stream",
       "stream": "stdout",
       "text": [
        "xtrain:  (8, 468)\n",
        "ytrain:  (468,)\n",
        "kernel:  gaussian\n",
        "kernelparameter:  4.64158883361\n",
        "regularization:  1.67734726713\n",
        "cvloss:  0.240980573543\n"
       ]
      }
     ],
     "prompt_number": 7
    },
    {
     "cell_type": "code",
     "collapsed": false,
     "input": [
      "krr_diabetis = imp.krr()\n",
      "params_diabetis = ['kernel', [kernel_diabetis], 'kernelparameter', [kernelparameter_diabetis], 'regularization', [regularization_diabetis]]\n",
      "method_diabetis = imp.cv(diabetis_xtrain, diabetis_ytrain[np.newaxis, :], krr_diabetis, params_diabetis, loss_function=roc_fun)"
     ],
     "language": "python",
     "metadata": {},
     "outputs": [
      {
       "output_type": "stream",
       "stream": "stdout",
       "text": [
        "---------------------------------------------------------\n",
        "-  Running CV with params:  ('gaussian', 4.6415888336127775, 1.6773472671266243)\n",
        "---------------------------------------------------------\n",
        "Repetition:  0\n",
        "Fold:  0\n",
        "Fold: "
       ]
      },
      {
       "output_type": "stream",
       "stream": "stdout",
       "text": [
        " 1\n",
        "Fold: "
       ]
      },
      {
       "output_type": "stream",
       "stream": "stdout",
       "text": [
        " 2\n",
        "Fold: "
       ]
      },
      {
       "output_type": "stream",
       "stream": "stdout",
       "text": [
        " 3\n",
        "Fold: "
       ]
      },
      {
       "output_type": "stream",
       "stream": "stdout",
       "text": [
        " 4\n",
        "Fold: "
       ]
      },
      {
       "output_type": "stream",
       "stream": "stdout",
       "text": [
        " 5\n",
        "Fold:  6\n",
        "Fold: "
       ]
      },
      {
       "output_type": "stream",
       "stream": "stdout",
       "text": [
        " 7\n",
        "Fold: "
       ]
      },
      {
       "output_type": "stream",
       "stream": "stdout",
       "text": [
        " 8\n",
        "Fold: "
       ]
      },
      {
       "output_type": "stream",
       "stream": "stdout",
       "text": [
        " 9\n",
        "Repetition: "
       ]
      },
      {
       "output_type": "stream",
       "stream": "stdout",
       "text": [
        " 1\n",
        "Fold:  0\n",
        "Fold: "
       ]
      },
      {
       "output_type": "stream",
       "stream": "stdout",
       "text": [
        " 1\n",
        "Fold: "
       ]
      },
      {
       "output_type": "stream",
       "stream": "stdout",
       "text": [
        " 2\n",
        "Fold: "
       ]
      },
      {
       "output_type": "stream",
       "stream": "stdout",
       "text": [
        " 3\n",
        "Fold: "
       ]
      },
      {
       "output_type": "stream",
       "stream": "stdout",
       "text": [
        " 4\n",
        "Fold: "
       ]
      },
      {
       "output_type": "stream",
       "stream": "stdout",
       "text": [
        " 5\n",
        "Fold: "
       ]
      },
      {
       "output_type": "stream",
       "stream": "stdout",
       "text": [
        " 6\n",
        "Fold: "
       ]
      },
      {
       "output_type": "stream",
       "stream": "stdout",
       "text": [
        " 7\n",
        "Fold: "
       ]
      },
      {
       "output_type": "stream",
       "stream": "stdout",
       "text": [
        " 8\n",
        "Fold: "
       ]
      },
      {
       "output_type": "stream",
       "stream": "stdout",
       "text": [
        " 9\n",
        "Repetition:  2\n",
        "Fold:  0\n",
        "Fold: "
       ]
      },
      {
       "output_type": "stream",
       "stream": "stdout",
       "text": [
        " 1\n",
        "Fold: "
       ]
      },
      {
       "output_type": "stream",
       "stream": "stdout",
       "text": [
        " 2\n",
        "Fold: "
       ]
      },
      {
       "output_type": "stream",
       "stream": "stdout",
       "text": [
        " 3\n",
        "Fold: "
       ]
      },
      {
       "output_type": "stream",
       "stream": "stdout",
       "text": [
        " 4\n",
        "Fold: "
       ]
      },
      {
       "output_type": "stream",
       "stream": "stdout",
       "text": [
        " 5\n",
        "Fold: "
       ]
      },
      {
       "output_type": "stream",
       "stream": "stdout",
       "text": [
        " 6\n",
        "Fold: "
       ]
      },
      {
       "output_type": "stream",
       "stream": "stdout",
       "text": [
        " 7\n",
        "Fold: "
       ]
      },
      {
       "output_type": "stream",
       "stream": "stdout",
       "text": [
        " 8\n",
        "Fold: "
       ]
      },
      {
       "output_type": "stream",
       "stream": "stdout",
       "text": [
        " 9\n",
        "Repetition: "
       ]
      },
      {
       "output_type": "stream",
       "stream": "stdout",
       "text": [
        " 3\n",
        "Fold:  0\n",
        "Fold: "
       ]
      },
      {
       "output_type": "stream",
       "stream": "stdout",
       "text": [
        " 1\n",
        "Fold: "
       ]
      },
      {
       "output_type": "stream",
       "stream": "stdout",
       "text": [
        " 2\n",
        "Fold: "
       ]
      },
      {
       "output_type": "stream",
       "stream": "stdout",
       "text": [
        " 3\n",
        "Fold: "
       ]
      },
      {
       "output_type": "stream",
       "stream": "stdout",
       "text": [
        " 4\n",
        "Fold: "
       ]
      },
      {
       "output_type": "stream",
       "stream": "stdout",
       "text": [
        " 5\n",
        "Fold: "
       ]
      },
      {
       "output_type": "stream",
       "stream": "stdout",
       "text": [
        " 6\n",
        "Fold: "
       ]
      },
      {
       "output_type": "stream",
       "stream": "stdout",
       "text": [
        " 7\n",
        "Fold:  8\n",
        "Fold: "
       ]
      },
      {
       "output_type": "stream",
       "stream": "stdout",
       "text": [
        " 9\n",
        "Repetition: "
       ]
      },
      {
       "output_type": "stream",
       "stream": "stdout",
       "text": [
        " 4\n",
        "Fold:  0\n",
        "Fold: "
       ]
      },
      {
       "output_type": "stream",
       "stream": "stdout",
       "text": [
        " 1\n",
        "Fold: "
       ]
      },
      {
       "output_type": "stream",
       "stream": "stdout",
       "text": [
        " 2\n",
        "Fold: "
       ]
      },
      {
       "output_type": "stream",
       "stream": "stdout",
       "text": [
        " 3\n",
        "Fold:  4\n",
        "Fold: "
       ]
      },
      {
       "output_type": "stream",
       "stream": "stdout",
       "text": [
        " 5\n",
        "Fold:  6\n",
        "Fold: "
       ]
      },
      {
       "output_type": "stream",
       "stream": "stdout",
       "text": [
        " 7\n",
        "Fold:  8\n",
        "Fold: "
       ]
      },
      {
       "output_type": "stream",
       "stream": "stdout",
       "text": [
        " 9\n",
        "Finish CV in 3.69708800316 seconds"
       ]
      },
      {
       "output_type": "stream",
       "stream": "stdout",
       "text": [
        "\n"
       ]
      }
     ],
     "prompt_number": 8
    },
    {
     "cell_type": "code",
     "collapsed": false,
     "input": [
      "print method_diabetis.kernel\n",
      "print method_diabetis.kernelparameter\n",
      "print method_diabetis.regularization\n",
      "print method_diabetis.cvloss.shape\n",
      "TPRs_diabetis = method_diabetis.cvloss[0]\n",
      "FPRs_diabetis = method_diabetis.cvloss[1]\n",
      "pl.plot(FPRs_diabetis, TPRs_diabetis)\n",
      "auc_diabetis = np.trapz(TPRs_diabetis, FPRs_diabetis)\n",
      "print 'AUC: ', auc_diabetis"
     ],
     "language": "python",
     "metadata": {},
     "outputs": [
      {
       "output_type": "stream",
       "stream": "stdout",
       "text": [
        "gaussian\n",
        "4.64158883361\n",
        "1.67734726713\n",
        "(2, 100)\n",
        "AUC: "
       ]
      },
      {
       "output_type": "stream",
       "stream": "stdout",
       "text": [
        " 0.793925388283\n"
       ]
      },
      {
       "metadata": {},
       "output_type": "display_data",
       "png": "[encoded data removed]",
       "text": [
        "<matplotlib.figure.Figure at 0x104fd7c50>"
       ]
      }
     ],
     "prompt_number": 9
    },
    {
     "cell_type": "code",
     "collapsed": false,
     "input": [
      "results_flare_solar = pickle.load( open( \"results_flare_solar.p\", \"rb\" ) )\n",
      "kernel_flare_solar = results_flare_solar['flare_solar']['kernel']\n",
      "kernelparameter_flare_solar = results_flare_solar['flare_solar']['kernelparameter']\n",
      "regularization_flare_solar = results_flare_solar['flare_solar']['regularization']\n",
      "cvloss_flare_solar = results_flare_solar['flare_solar']['cvloss']\n",
      "print 'xtrain: ', flare_solar_xtrain.shape\n",
      "print 'ytrain: ', flare_solar_ytrain.shape\n",
      "print 'kernel: ', kernel_flare_solar\n",
      "print 'kernelparameter: ', kernelparameter_flare_solar\n",
      "print 'regularization: ', regularization_flare_solar\n",
      "print 'cvloss: ', cvloss_flare_solar"
     ],
     "language": "python",
     "metadata": {},
     "outputs": [
      {
       "output_type": "stream",
       "stream": "stdout",
       "text": [
        "xtrain:  (9, 666)\n",
        "ytrain:  (666,)\n",
        "kernel:  gaussian\n",
        "kernelparameter:  35.938136638\n",
        "regularization:  0.01\n",
        "cvloss:  0.353075531434\n"
       ]
      }
     ],
     "prompt_number": 10
    },
    {
     "cell_type": "code",
     "collapsed": false,
     "input": [
      "krr_flare_solar = imp.krr()\n",
      "params_flare_solar = ['kernel', [kernel_flare_solar], 'kernelparameter', [kernelparameter_flare_solar], 'regularization', [regularization_flare_solar]]\n",
      "method_flare_solar = imp.cv(flare_solar_xtrain, flare_solar_ytrain[np.newaxis, :], krr_flare_solar, params_flare_solar, loss_function=roc_fun)"
     ],
     "language": "python",
     "metadata": {},
     "outputs": [
      {
       "output_type": "stream",
       "stream": "stdout",
       "text": [
        "---------------------------------------------------------\n",
        "-  Running CV with params:  ('gaussian', 35.938136638046259, 0.01)\n",
        "---------------------------------------------------------\n",
        "Repetition:  0\n",
        "Fold:  0\n",
        "Fold: "
       ]
      },
      {
       "output_type": "stream",
       "stream": "stdout",
       "text": [
        " 1\n",
        "Fold: "
       ]
      },
      {
       "output_type": "stream",
       "stream": "stdout",
       "text": [
        " 2\n",
        "Fold: "
       ]
      },
      {
       "output_type": "stream",
       "stream": "stdout",
       "text": [
        " 3\n",
        "Fold: "
       ]
      },
      {
       "output_type": "stream",
       "stream": "stdout",
       "text": [
        " 4\n",
        "Fold: "
       ]
      },
      {
       "output_type": "stream",
       "stream": "stdout",
       "text": [
        " 5\n",
        "Fold: "
       ]
      },
      {
       "output_type": "stream",
       "stream": "stdout",
       "text": [
        " 6\n",
        "Fold: "
       ]
      },
      {
       "output_type": "stream",
       "stream": "stdout",
       "text": [
        " 7\n",
        "Fold: "
       ]
      },
      {
       "output_type": "stream",
       "stream": "stdout",
       "text": [
        " 8\n",
        "Fold: "
       ]
      },
      {
       "output_type": "stream",
       "stream": "stdout",
       "text": [
        " 9\n",
        "Repetition: "
       ]
      },
      {
       "output_type": "stream",
       "stream": "stdout",
       "text": [
        " 1\n",
        "Fold:  0\n",
        "Fold: "
       ]
      },
      {
       "output_type": "stream",
       "stream": "stdout",
       "text": [
        " 1\n",
        "Fold: "
       ]
      },
      {
       "output_type": "stream",
       "stream": "stdout",
       "text": [
        " 2\n",
        "Fold: "
       ]
      },
      {
       "output_type": "stream",
       "stream": "stdout",
       "text": [
        " 3\n",
        "Fold: "
       ]
      },
      {
       "output_type": "stream",
       "stream": "stdout",
       "text": [
        " 4\n",
        "Fold: "
       ]
      },
      {
       "output_type": "stream",
       "stream": "stdout",
       "text": [
        " 5\n",
        "Fold: "
       ]
      },
      {
       "output_type": "stream",
       "stream": "stdout",
       "text": [
        " 6\n",
        "Fold: "
       ]
      },
      {
       "output_type": "stream",
       "stream": "stdout",
       "text": [
        " 7\n",
        "Fold: "
       ]
      },
      {
       "output_type": "stream",
       "stream": "stdout",
       "text": [
        " 8\n",
        "Fold: "
       ]
      },
      {
       "output_type": "stream",
       "stream": "stdout",
       "text": [
        " 9\n",
        "Repetition: "
       ]
      },
      {
       "output_type": "stream",
       "stream": "stdout",
       "text": [
        " 2\n",
        "Fold:  0\n",
        "Fold: "
       ]
      },
      {
       "output_type": "stream",
       "stream": "stdout",
       "text": [
        " 1\n",
        "Fold: "
       ]
      },
      {
       "output_type": "stream",
       "stream": "stdout",
       "text": [
        " 2\n",
        "Fold: "
       ]
      },
      {
       "output_type": "stream",
       "stream": "stdout",
       "text": [
        " 3\n",
        "Fold: "
       ]
      },
      {
       "output_type": "stream",
       "stream": "stdout",
       "text": [
        " 4\n",
        "Fold: "
       ]
      },
      {
       "output_type": "stream",
       "stream": "stdout",
       "text": [
        " 5\n",
        "Fold: "
       ]
      },
      {
       "output_type": "stream",
       "stream": "stdout",
       "text": [
        " 6\n",
        "Fold: "
       ]
      },
      {
       "output_type": "stream",
       "stream": "stdout",
       "text": [
        " 7\n",
        "Fold: "
       ]
      },
      {
       "output_type": "stream",
       "stream": "stdout",
       "text": [
        " 8\n",
        "Fold: "
       ]
      },
      {
       "output_type": "stream",
       "stream": "stdout",
       "text": [
        " 9\n",
        "Repetition: "
       ]
      },
      {
       "output_type": "stream",
       "stream": "stdout",
       "text": [
        " 3\n",
        "Fold:  0\n",
        "Fold: "
       ]
      },
      {
       "output_type": "stream",
       "stream": "stdout",
       "text": [
        " 1\n",
        "Fold: "
       ]
      },
      {
       "output_type": "stream",
       "stream": "stdout",
       "text": [
        " 2\n",
        "Fold: "
       ]
      },
      {
       "output_type": "stream",
       "stream": "stdout",
       "text": [
        " 3\n",
        "Fold: "
       ]
      },
      {
       "output_type": "stream",
       "stream": "stdout",
       "text": [
        " 4\n",
        "Fold: "
       ]
      },
      {
       "output_type": "stream",
       "stream": "stdout",
       "text": [
        " 5\n",
        "Fold: "
       ]
      },
      {
       "output_type": "stream",
       "stream": "stdout",
       "text": [
        " 6\n",
        "Fold: "
       ]
      },
      {
       "output_type": "stream",
       "stream": "stdout",
       "text": [
        " 7\n",
        "Fold: "
       ]
      },
      {
       "output_type": "stream",
       "stream": "stdout",
       "text": [
        " 8\n",
        "Fold: "
       ]
      },
      {
       "output_type": "stream",
       "stream": "stdout",
       "text": [
        " 9\n",
        "Repetition: "
       ]
      },
      {
       "output_type": "stream",
       "stream": "stdout",
       "text": [
        " 4\n",
        "Fold:  0\n",
        "Fold: "
       ]
      },
      {
       "output_type": "stream",
       "stream": "stdout",
       "text": [
        " 1\n",
        "Fold: "
       ]
      },
      {
       "output_type": "stream",
       "stream": "stdout",
       "text": [
        " 2\n",
        "Fold: "
       ]
      },
      {
       "output_type": "stream",
       "stream": "stdout",
       "text": [
        " 3\n",
        "Fold: "
       ]
      },
      {
       "output_type": "stream",
       "stream": "stdout",
       "text": [
        " 4\n",
        "Fold: "
       ]
      },
      {
       "output_type": "stream",
       "stream": "stdout",
       "text": [
        " 5\n",
        "Fold: "
       ]
      },
      {
       "output_type": "stream",
       "stream": "stdout",
       "text": [
        " 6\n",
        "Fold: "
       ]
      },
      {
       "output_type": "stream",
       "stream": "stdout",
       "text": [
        " 7\n",
        "Fold: "
       ]
      },
      {
       "output_type": "stream",
       "stream": "stdout",
       "text": [
        " 8\n",
        "Fold: "
       ]
      },
      {
       "output_type": "stream",
       "stream": "stdout",
       "text": [
        " 9\n",
        "Finish CV in 7.59890389442 seconds"
       ]
      },
      {
       "output_type": "stream",
       "stream": "stdout",
       "text": [
        "\n"
       ]
      }
     ],
     "prompt_number": 11
    },
    {
     "cell_type": "code",
     "collapsed": false,
     "input": [
      "print method_flare_solar.kernel\n",
      "print method_flare_solar.kernelparameter\n",
      "print method_flare_solar.regularization\n",
      "print method_flare_solar.cvloss.shape\n",
      "TPRs_flare_solar = method_flare_solar.cvloss[0]\n",
      "FPRs_flare_solar = method_flare_solar.cvloss[1]\n",
      "pl.plot(FPRs_flare_solar, TPRs_flare_solar)\n",
      "auc_flare_solar = np.trapz(TPRs_flare_solar, FPRs_flare_solar)\n",
      "print 'AUC: ', auc_flare_solar"
     ],
     "language": "python",
     "metadata": {},
     "outputs": [
      {
       "output_type": "stream",
       "stream": "stdout",
       "text": [
        "gaussian\n",
        "35.938136638\n",
        "0.01\n",
        "(2, 100)\n",
        "AUC: "
       ]
      },
      {
       "output_type": "stream",
       "stream": "stdout",
       "text": [
        " 0.704413030378\n"
       ]
      },
      {
       "metadata": {},
       "output_type": "display_data",
       "png": "[encoded data removed]",
       "text": [
        "<matplotlib.figure.Figure at 0x104fc92d0>"
       ]
      }
     ],
     "prompt_number": 12
    },
    {
     "cell_type": "code",
     "collapsed": false,
     "input": [
      "results_ringnorm = pickle.load( open( \"results_ringnorm.p\", \"rb\" ) )\n",
      "kernel_ringnorm = results_ringnorm['ringnorm']['kernel']\n",
      "kernelparameter_ringnorm = results_ringnorm['ringnorm']['kernelparameter']\n",
      "regularization_ringnorm = results_ringnorm['ringnorm']['regularization']\n",
      "cvloss_ringnorm = results_ringnorm['ringnorm']['cvloss']\n",
      "print 'xtrain: ', ringnorm_xtrain.shape\n",
      "print 'ytrain: ', ringnorm_ytrain.shape\n",
      "print 'kernel: ', kernel_ringnorm\n",
      "print 'kernelparameter: ', kernelparameter_ringnorm\n",
      "print 'regularization: ', regularization_ringnorm\n",
      "print 'cvloss: ', cvloss_ringnorm"
     ],
     "language": "python",
     "metadata": {},
     "outputs": [
      {
       "output_type": "stream",
       "stream": "stdout",
       "text": [
        "xtrain:  (20, 400)\n",
        "ytrain:  (400,)\n",
        "kernel:  gaussian\n",
        "kernelparameter:  4.64158883361\n",
        "regularization:  0.0775977616853\n",
        "cvloss:  0.04\n"
       ]
      }
     ],
     "prompt_number": 13
    },
    {
     "cell_type": "code",
     "collapsed": false,
     "input": [
      "krr_ringnorm = imp.krr()\n",
      "params_ringnorm = ['kernel', [kernel_ringnorm], 'kernelparameter', [kernelparameter_ringnorm], 'regularization', [regularization_ringnorm]]\n",
      "method_ringnorm = imp.cv(ringnorm_xtrain, ringnorm_ytrain[np.newaxis, :], krr_ringnorm, params_ringnorm, loss_function=roc_fun)"
     ],
     "language": "python",
     "metadata": {},
     "outputs": [
      {
       "output_type": "stream",
       "stream": "stdout",
       "text": [
        "---------------------------------------------------------\n",
        "-  Running CV with params:  ('gaussian', 4.6415888336127775, 0.077597761685308408)\n",
        "---------------------------------------------------------\n",
        "Repetition:  0\n",
        "Fold:  0\n",
        "Fold:  1\n",
        "Fold: "
       ]
      },
      {
       "output_type": "stream",
       "stream": "stdout",
       "text": [
        " 2\n",
        "Fold: "
       ]
      },
      {
       "output_type": "stream",
       "stream": "stdout",
       "text": [
        " 3\n",
        "Fold: "
       ]
      },
      {
       "output_type": "stream",
       "stream": "stdout",
       "text": [
        " 4\n",
        "Fold: "
       ]
      },
      {
       "output_type": "stream",
       "stream": "stdout",
       "text": [
        " 5\n",
        "Fold: "
       ]
      },
      {
       "output_type": "stream",
       "stream": "stdout",
       "text": [
        " 6\n",
        "Fold:  7\n",
        "Fold: "
       ]
      },
      {
       "output_type": "stream",
       "stream": "stdout",
       "text": [
        " 8\n",
        "Fold:  9\n",
        "Repetition: "
       ]
      },
      {
       "output_type": "stream",
       "stream": "stdout",
       "text": [
        " 1\n",
        "Fold:  0\n",
        "Fold: "
       ]
      },
      {
       "output_type": "stream",
       "stream": "stdout",
       "text": [
        " 1\n",
        "Fold:  2\n",
        "Fold: "
       ]
      },
      {
       "output_type": "stream",
       "stream": "stdout",
       "text": [
        " 3\n",
        "Fold: "
       ]
      },
      {
       "output_type": "stream",
       "stream": "stdout",
       "text": [
        " 4\n",
        "Fold: "
       ]
      },
      {
       "output_type": "stream",
       "stream": "stdout",
       "text": [
        " 5\n",
        "Fold:  6\n",
        "Fold: "
       ]
      },
      {
       "output_type": "stream",
       "stream": "stdout",
       "text": [
        " 7\n",
        "Fold:  8\n",
        "Fold: "
       ]
      },
      {
       "output_type": "stream",
       "stream": "stdout",
       "text": [
        " 9\n",
        "Repetition:  2\n",
        "Fold:  0\n",
        "Fold: "
       ]
      },
      {
       "output_type": "stream",
       "stream": "stdout",
       "text": [
        " 1\n",
        "Fold:  2\n",
        "Fold: "
       ]
      },
      {
       "output_type": "stream",
       "stream": "stdout",
       "text": [
        " 3\n",
        "Fold: "
       ]
      },
      {
       "output_type": "stream",
       "stream": "stdout",
       "text": [
        " 4\n",
        "Fold: "
       ]
      },
      {
       "output_type": "stream",
       "stream": "stdout",
       "text": [
        " 5\n",
        "Fold: "
       ]
      },
      {
       "output_type": "stream",
       "stream": "stdout",
       "text": [
        " 6\n",
        "Fold:  7\n",
        "Fold: "
       ]
      },
      {
       "output_type": "stream",
       "stream": "stdout",
       "text": [
        " 8\n",
        "Fold: "
       ]
      },
      {
       "output_type": "stream",
       "stream": "stdout",
       "text": [
        " 9\n",
        "Repetition: "
       ]
      },
      {
       "output_type": "stream",
       "stream": "stdout",
       "text": [
        " 3\n",
        "Fold:  0\n",
        "Fold: "
       ]
      },
      {
       "output_type": "stream",
       "stream": "stdout",
       "text": [
        " 1\n",
        "Fold: "
       ]
      },
      {
       "output_type": "stream",
       "stream": "stdout",
       "text": [
        " 2\n",
        "Fold: "
       ]
      },
      {
       "output_type": "stream",
       "stream": "stdout",
       "text": [
        " 3\n",
        "Fold: "
       ]
      },
      {
       "output_type": "stream",
       "stream": "stdout",
       "text": [
        " 4\n",
        "Fold: "
       ]
      },
      {
       "output_type": "stream",
       "stream": "stdout",
       "text": [
        " 5\n",
        "Fold: "
       ]
      },
      {
       "output_type": "stream",
       "stream": "stdout",
       "text": [
        " 6\n",
        "Fold:  7\n",
        "Fold: "
       ]
      },
      {
       "output_type": "stream",
       "stream": "stdout",
       "text": [
        " 8\n",
        "Fold: "
       ]
      },
      {
       "output_type": "stream",
       "stream": "stdout",
       "text": [
        " 9\n",
        "Repetition: "
       ]
      },
      {
       "output_type": "stream",
       "stream": "stdout",
       "text": [
        " 4\n",
        "Fold:  0\n",
        "Fold: "
       ]
      },
      {
       "output_type": "stream",
       "stream": "stdout",
       "text": [
        " 1\n",
        "Fold:  2\n",
        "Fold: "
       ]
      },
      {
       "output_type": "stream",
       "stream": "stdout",
       "text": [
        " 3\n",
        "Fold: "
       ]
      },
      {
       "output_type": "stream",
       "stream": "stdout",
       "text": [
        " 4\n",
        "Fold: "
       ]
      },
      {
       "output_type": "stream",
       "stream": "stdout",
       "text": [
        " 5\n",
        "Fold: "
       ]
      },
      {
       "output_type": "stream",
       "stream": "stdout",
       "text": [
        " 6\n",
        "Fold: "
       ]
      },
      {
       "output_type": "stream",
       "stream": "stdout",
       "text": [
        " 7\n",
        "Fold: "
       ]
      },
      {
       "output_type": "stream",
       "stream": "stdout",
       "text": [
        " 8\n",
        "Fold: "
       ]
      },
      {
       "output_type": "stream",
       "stream": "stdout",
       "text": [
        " 9\n",
        "Finish CV in 3.21306586266 seconds"
       ]
      },
      {
       "output_type": "stream",
       "stream": "stdout",
       "text": [
        "\n"
       ]
      }
     ],
     "prompt_number": 14
    },
    {
     "cell_type": "code",
     "collapsed": false,
     "input": [
      "print method_ringnorm.kernel\n",
      "print method_ringnorm.kernelparameter\n",
      "print method_ringnorm.regularization\n",
      "print method_ringnorm.cvloss.shape\n",
      "TPRs_ringnorm = method_ringnorm.cvloss[0]\n",
      "FPRs_ringnorm = method_ringnorm.cvloss[1]\n",
      "pl.plot(FPRs_ringnorm, TPRs_ringnorm)\n",
      "auc_ringnorm = np.trapz(TPRs_ringnorm, FPRs_ringnorm)\n",
      "print 'AUC: ', auc_ringnorm"
     ],
     "language": "python",
     "metadata": {},
     "outputs": [
      {
       "output_type": "stream",
       "stream": "stdout",
       "text": [
        "gaussian\n",
        "4.64158883361\n",
        "0.0775977616853\n",
        "(2, 100)\n",
        "AUC: "
       ]
      },
      {
       "output_type": "stream",
       "stream": "stdout",
       "text": [
        " 0.99259579896\n"
       ]
      },
      {
       "metadata": {},
       "output_type": "display_data",
       "png": "[encoded data removed]",
       "text": [
        "<matplotlib.figure.Figure at 0x104fca6d0>"
       ]
      }
     ],
     "prompt_number": 15
    },
    {
     "cell_type": "code",
     "collapsed": false,
     "input": [],
     "language": "python",
     "metadata": {},
     "outputs": []
    }
   ],
   "metadata": {}
  }
 ]
}