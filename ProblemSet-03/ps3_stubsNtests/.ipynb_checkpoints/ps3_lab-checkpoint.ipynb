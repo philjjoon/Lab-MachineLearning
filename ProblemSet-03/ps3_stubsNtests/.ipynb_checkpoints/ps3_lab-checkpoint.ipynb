{
 "metadata": {
  "name": "",
  "signature": "sha256:d4eb006ff4cdd907ba058727ff27315de0aed21578defe630b7e97dda7e8bac2"
 },
 "nbformat": 3,
 "nbformat_minor": 0,
 "worksheets": [
  {
   "cells": [
    {
     "cell_type": "code",
     "collapsed": false,
     "input": [
      "#from __future__ import division \n",
      "import numpy as np\n",
      "import pylab as pl\n",
      "%matplotlib inline\n",
      "\n",
      "import ps3_implementation as imp\n",
      "imp = reload(imp)\n",
      "\n",
      "import itertools as it\n",
      "from scipy.spatial.distance import pdist\n",
      "from scipy.spatial.distance import cdist\n",
      "from scipy.spatial.distance import squareform"
     ],
     "language": "python",
     "metadata": {},
     "outputs": [],
     "prompt_number": 22
    },
    {
     "cell_type": "code",
     "collapsed": false,
     "input": [
      "def noisysincfunction(N, noise):\n",
      "    ''' noisysincfunction - generate data from the \"noisy sinc function\"\n",
      "        % usage\n",
      "        %     [X, Y] = noisysincfunction(N, noise)\n",
      "        %\n",
      "        % input\n",
      "        %     N: number of data points\n",
      "        %     noise: standard variation of the noise\n",
      "        %\n",
      "        % output\n",
      "        %     X: (1, N)-matrix uniformly sampled in -2pi, pi\n",
      "        %     Y: (1, N)-matrix equal to sinc(X) + noise\n",
      "        %\n",
      "        % description\n",
      "        %     Generates N points from the noisy sinc function\n",
      "        %\n",
      "        %        X ~ uniformly in [-2pi, pi]\n",
      "        %        Y = sinc(X) + eps, eps ~ Normal(0, noise.^2)\n",
      "        %\n",
      "        % author\n",
      "        %     Mikio Braun\n",
      "    '''\n",
      "    X = np.sort(2 * np.pi * np.random.rand(1, N) ) - np.pi\n",
      "    Y = np.sinc(X) + noise * np.random.randn(1, N)\n",
      "    return X, Y"
     ],
     "language": "python",
     "metadata": {},
     "outputs": [],
     "prompt_number": 3
    },
    {
     "cell_type": "code",
     "collapsed": false,
     "input": [
      "X, Y = noisysincfunction(100, 0.1)"
     ],
     "language": "python",
     "metadata": {},
     "outputs": [],
     "prompt_number": 4
    },
    {
     "cell_type": "code",
     "collapsed": false,
     "input": [
      "print \"X: \", X.shape\n",
      "print \"Y: \", Y.shape\n",
      "#print Y\n",
      "#print X\n",
      "print X[:, :10]\n",
      "print Y[:, :10]"
     ],
     "language": "python",
     "metadata": {},
     "outputs": [
      {
       "output_type": "stream",
       "stream": "stdout",
       "text": [
        "X:  (1, 100)\n",
        "Y:  (1, 100)\n",
        "[[-2.95398288 -2.93227159 -2.86703505 -2.86343449 -2.8555723  -2.80754342\n",
        "  -2.59270322 -2.57634788 -2.54532002 -2.54124256]]\n",
        "[[ 0.04397669  0.10648911  0.03012822  0.17380198  0.03468217 -0.06429699\n",
        "   0.13871514  0.06205439 -0.00359103 -0.01453077]]\n"
       ]
      }
     ],
     "prompt_number": 13
    },
    {
     "cell_type": "code",
     "collapsed": false,
     "input": [
      "pl.plot(X.T, Y.T)"
     ],
     "language": "python",
     "metadata": {},
     "outputs": [
      {
       "metadata": {},
       "output_type": "pyout",
       "prompt_number": 6,
       "text": [
        "[<matplotlib.lines.Line2D at 0x105112550>]"
       ]
      },
      {
       "metadata": {},
       "output_type": "display_data",
       "png": "[encoded data removed]",
       "text": [
        "<matplotlib.figure.Figure at 0x1037361d0>"
       ]
      }
     ],
     "prompt_number": 6
    },
    {
     "cell_type": "code",
     "collapsed": false,
     "input": [
      "pl.plot(X, Y)"
     ],
     "language": "python",
     "metadata": {},
     "outputs": [
      {
       "metadata": {},
       "output_type": "pyout",
       "prompt_number": 15,
       "text": [
        "[<matplotlib.lines.Line2D at 0x105190650>,\n",
        " <matplotlib.lines.Line2D at 0x1051908d0>,\n",
        " <matplotlib.lines.Line2D at 0x105190b10>,\n",
        " <matplotlib.lines.Line2D at 0x105190cd0>,\n",
        " <matplotlib.lines.Line2D at 0x105190e90>,\n",
        " <matplotlib.lines.Line2D at 0x105192090>,\n",
        " <matplotlib.lines.Line2D at 0x105192250>,\n",
        " <matplotlib.lines.Line2D at 0x105178d10>,\n",
        " <matplotlib.lines.Line2D at 0x1051925d0>,\n",
        " <matplotlib.lines.Line2D at 0x105192790>,\n",
        " <matplotlib.lines.Line2D at 0x105192950>,\n",
        " <matplotlib.lines.Line2D at 0x105192b10>,\n",
        " <matplotlib.lines.Line2D at 0x105192cd0>,\n",
        " <matplotlib.lines.Line2D at 0x105192e90>,\n",
        " <matplotlib.lines.Line2D at 0x105192450>,\n",
        " <matplotlib.lines.Line2D at 0x105196250>,\n",
        " <matplotlib.lines.Line2D at 0x105196410>,\n",
        " <matplotlib.lines.Line2D at 0x1051965d0>,\n",
        " <matplotlib.lines.Line2D at 0x105196790>,\n",
        " <matplotlib.lines.Line2D at 0x105196950>,\n",
        " <matplotlib.lines.Line2D at 0x105196b10>,\n",
        " <matplotlib.lines.Line2D at 0x105196cd0>,\n",
        " <matplotlib.lines.Line2D at 0x105196e90>,\n",
        " <matplotlib.lines.Line2D at 0x105198090>,\n",
        " <matplotlib.lines.Line2D at 0x105198250>,\n",
        " <matplotlib.lines.Line2D at 0x105198410>,\n",
        " <matplotlib.lines.Line2D at 0x1051985d0>,\n",
        " <matplotlib.lines.Line2D at 0x105198790>,\n",
        " <matplotlib.lines.Line2D at 0x105196d10>,\n",
        " <matplotlib.lines.Line2D at 0x105198b10>,\n",
        " <matplotlib.lines.Line2D at 0x105198cd0>,\n",
        " <matplotlib.lines.Line2D at 0x105198e90>,\n",
        " <matplotlib.lines.Line2D at 0x10519a090>,\n",
        " <matplotlib.lines.Line2D at 0x10519a250>,\n",
        " <matplotlib.lines.Line2D at 0x10519a410>,\n",
        " <matplotlib.lines.Line2D at 0x105198990>,\n",
        " <matplotlib.lines.Line2D at 0x10519a790>,\n",
        " <matplotlib.lines.Line2D at 0x10519a950>,\n",
        " <matplotlib.lines.Line2D at 0x10519ab10>,\n",
        " <matplotlib.lines.Line2D at 0x10519acd0>,\n",
        " <matplotlib.lines.Line2D at 0x10519ae90>,\n",
        " <matplotlib.lines.Line2D at 0x10519c090>,\n",
        " <matplotlib.lines.Line2D at 0x10519a610>,\n",
        " <matplotlib.lines.Line2D at 0x10519c410>,\n",
        " <matplotlib.lines.Line2D at 0x10519c5d0>,\n",
        " <matplotlib.lines.Line2D at 0x10519c790>,\n",
        " <matplotlib.lines.Line2D at 0x10519c950>,\n",
        " <matplotlib.lines.Line2D at 0x10519cb10>,\n",
        " <matplotlib.lines.Line2D at 0x10519ccd0>,\n",
        " <matplotlib.lines.Line2D at 0x10519ce90>,\n",
        " <matplotlib.lines.Line2D at 0x10519f090>,\n",
        " <matplotlib.lines.Line2D at 0x10519f250>,\n",
        " <matplotlib.lines.Line2D at 0x10519f410>,\n",
        " <matplotlib.lines.Line2D at 0x10519f5d0>,\n",
        " <matplotlib.lines.Line2D at 0x10519f790>,\n",
        " <matplotlib.lines.Line2D at 0x10519f950>,\n",
        " <matplotlib.lines.Line2D at 0x10519ced0>,\n",
        " <matplotlib.lines.Line2D at 0x10519fcd0>,\n",
        " <matplotlib.lines.Line2D at 0x10519fe90>,\n",
        " <matplotlib.lines.Line2D at 0x1051a2090>,\n",
        " <matplotlib.lines.Line2D at 0x1051a2250>,\n",
        " <matplotlib.lines.Line2D at 0x1051a2410>,\n",
        " <matplotlib.lines.Line2D at 0x1051a25d0>,\n",
        " <matplotlib.lines.Line2D at 0x10519fb50>,\n",
        " <matplotlib.lines.Line2D at 0x1051a2950>,\n",
        " <matplotlib.lines.Line2D at 0x1051a2b10>,\n",
        " <matplotlib.lines.Line2D at 0x1051a2cd0>,\n",
        " <matplotlib.lines.Line2D at 0x1051a2e90>,\n",
        " <matplotlib.lines.Line2D at 0x1051a4090>,\n",
        " <matplotlib.lines.Line2D at 0x1051a4250>,\n",
        " <matplotlib.lines.Line2D at 0x1051a27d0>,\n",
        " <matplotlib.lines.Line2D at 0x1051a45d0>,\n",
        " <matplotlib.lines.Line2D at 0x1051a4790>,\n",
        " <matplotlib.lines.Line2D at 0x1051a4950>,\n",
        " <matplotlib.lines.Line2D at 0x1051a4b10>,\n",
        " <matplotlib.lines.Line2D at 0x1051a4cd0>,\n",
        " <matplotlib.lines.Line2D at 0x1051a4e90>,\n",
        " <matplotlib.lines.Line2D at 0x1051a4450>,\n",
        " <matplotlib.lines.Line2D at 0x1051a7250>,\n",
        " <matplotlib.lines.Line2D at 0x1051a7410>,\n",
        " <matplotlib.lines.Line2D at 0x1051a75d0>,\n",
        " <matplotlib.lines.Line2D at 0x1051a7790>,\n",
        " <matplotlib.lines.Line2D at 0x1051a7950>,\n",
        " <matplotlib.lines.Line2D at 0x1051a7b10>,\n",
        " <matplotlib.lines.Line2D at 0x1051a7cd0>,\n",
        " <matplotlib.lines.Line2D at 0x1051a7e90>,\n",
        " <matplotlib.lines.Line2D at 0x1051a9090>,\n",
        " <matplotlib.lines.Line2D at 0x1051a9250>,\n",
        " <matplotlib.lines.Line2D at 0x1051a9410>,\n",
        " <matplotlib.lines.Line2D at 0x1051a95d0>,\n",
        " <matplotlib.lines.Line2D at 0x1051a9790>,\n",
        " <matplotlib.lines.Line2D at 0x1051a7d10>,\n",
        " <matplotlib.lines.Line2D at 0x1051a9b10>,\n",
        " <matplotlib.lines.Line2D at 0x1051a9cd0>,\n",
        " <matplotlib.lines.Line2D at 0x1051a9e90>,\n",
        " <matplotlib.lines.Line2D at 0x1051aa090>,\n",
        " <matplotlib.lines.Line2D at 0x1051aa250>,\n",
        " <matplotlib.lines.Line2D at 0x1051aa410>,\n",
        " <matplotlib.lines.Line2D at 0x1051a9990>,\n",
        " <matplotlib.lines.Line2D at 0x1051aa790>]"
       ]
      },
      {
       "metadata": {},
       "output_type": "display_data",
       "png": "[encoded data removed]",
       "text": [
        "<matplotlib.figure.Figure at 0x105158b90>"
       ]
      }
     ],
     "prompt_number": 15
    },
    {
     "cell_type": "code",
     "collapsed": false,
     "input": [
      "K_linear = imp.compute_kernel(X, 'linear', 0)\n",
      "print 'K_linear: ', K_linear.shape"
     ],
     "language": "python",
     "metadata": {},
     "outputs": [
      {
       "output_type": "stream",
       "stream": "stdout",
       "text": [
        "K_linear:  (100, 100)\n"
       ]
      }
     ],
     "prompt_number": 13
    },
    {
     "cell_type": "code",
     "collapsed": false,
     "input": [
      "K_poly = imp.compute_kernel(X, 'polynomial', 4)\n",
      "print 'K_polynomial: ', K_poly.shape"
     ],
     "language": "python",
     "metadata": {},
     "outputs": [
      {
       "output_type": "stream",
       "stream": "stdout",
       "text": [
        "K_polynomial:  (100, 100)\n"
       ]
      }
     ],
     "prompt_number": 15
    },
    {
     "cell_type": "code",
     "collapsed": false,
     "input": [
      "K_gaussian = imp.compute_kernel(X, 'gaussian', 0.5)\n",
      "print 'K_gaussian: ', K_gaussian.shape"
     ],
     "language": "python",
     "metadata": {},
     "outputs": [
      {
       "output_type": "stream",
       "stream": "stdout",
       "text": [
        "K_gaussian:  (100, 100)\n"
       ]
      }
     ],
     "prompt_number": 29
    },
    {
     "cell_type": "code",
     "collapsed": false,
     "input": [
      "combs = it.product([0,1], [2,3,4])\n",
      "combs = list(combs)\n",
      "for c in combs:\n",
      "    print c"
     ],
     "language": "python",
     "metadata": {},
     "outputs": [
      {
       "output_type": "stream",
       "stream": "stdout",
       "text": [
        "(0, 2)\n",
        "(0, 3)\n",
        "(0, 4)\n",
        "(1, 2)\n",
        "(1, 3)\n",
        "(1, 4)\n"
       ]
      }
     ],
     "prompt_number": 9
    },
    {
     "cell_type": "code",
     "collapsed": false,
     "input": [
      "a = [[0, 1], [2, 3, 4]]\n",
      "combs1 = it.product(a)\n",
      "combs2 = it.product(*a)\n",
      "for c in combs1:\n",
      "    print c"
     ],
     "language": "python",
     "metadata": {},
     "outputs": [
      {
       "output_type": "stream",
       "stream": "stdout",
       "text": [
        "([0, 1],)\n",
        "([2, 3, 4],)\n"
       ]
      }
     ],
     "prompt_number": 10
    },
    {
     "cell_type": "code",
     "collapsed": false,
     "input": [
      "for c in combs2:\n",
      "    print c"
     ],
     "language": "python",
     "metadata": {},
     "outputs": [
      {
       "output_type": "stream",
       "stream": "stdout",
       "text": [
        "(0, 2)\n",
        "(0, 3)\n",
        "(0, 4)\n",
        "(1, 2)\n",
        "(1, 3)\n",
        "(1, 4)\n"
       ]
      }
     ],
     "prompt_number": 11
    },
    {
     "cell_type": "code",
     "collapsed": false,
     "input": [
      "X = np.arange(1080).reshape(10, 108)\n",
      "y = np.arange(100)\n",
      "\n",
      "split_data = imp.split_data(X, 10)"
     ],
     "language": "python",
     "metadata": {},
     "outputs": [],
     "prompt_number": 7
    },
    {
     "cell_type": "code",
     "collapsed": false,
     "input": [
      "print 'Split_data: ', len(split_data)"
     ],
     "language": "python",
     "metadata": {},
     "outputs": [
      {
       "output_type": "stream",
       "stream": "stdout",
       "text": [
        " Split_data:  10\n"
       ]
      }
     ],
     "prompt_number": 9
    },
    {
     "cell_type": "code",
     "collapsed": false,
     "input": [
      "a = np.logspace(-2,2,10)\n",
      "print a.shape\n",
      "print a"
     ],
     "language": "python",
     "metadata": {},
     "outputs": [
      {
       "output_type": "stream",
       "stream": "stdout",
       "text": [
        "(10,)\n",
        "[  1.00000000e-02   2.78255940e-02   7.74263683e-02   2.15443469e-01\n",
        "   5.99484250e-01   1.66810054e+00   4.64158883e+00   1.29154967e+01\n",
        "   3.59381366e+01   1.00000000e+02]\n"
       ]
      }
     ],
     "prompt_number": 8
    },
    {
     "cell_type": "code",
     "collapsed": false,
     "input": [
      "params = [ ['gaussian', 'linear'], np.logspace(-2,2,10), np.logspace(-2,2,10) ]\n",
      "#print len(params)\n",
      "combs = it.product(*params)\n",
      "#for c in combs:\n",
      "#    print c"
     ],
     "language": "python",
     "metadata": {},
     "outputs": [
      {
       "ename": "NameError",
       "evalue": "name 'np' is not defined",
       "output_type": "pyerr",
       "traceback": [
        "\u001b[0;31m---------------------------------------------------------------------------\u001b[0m\n\u001b[0;31mNameError\u001b[0m                                 Traceback (most recent call last)",
        "\u001b[0;32m<ipython-input-1-2b371ab85496>\u001b[0m in \u001b[0;36m<module>\u001b[0;34m()\u001b[0m\n\u001b[0;32m----> 1\u001b[0;31m \u001b[0mparams\u001b[0m \u001b[0;34m=\u001b[0m \u001b[0;34m[\u001b[0m \u001b[0;34m[\u001b[0m\u001b[0;34m'gaussian'\u001b[0m\u001b[0;34m,\u001b[0m \u001b[0;34m'linear'\u001b[0m\u001b[0;34m]\u001b[0m\u001b[0;34m,\u001b[0m \u001b[0mnp\u001b[0m\u001b[0;34m.\u001b[0m\u001b[0mlogspace\u001b[0m\u001b[0;34m(\u001b[0m\u001b[0;34m-\u001b[0m\u001b[0;36m2\u001b[0m\u001b[0;34m,\u001b[0m\u001b[0;36m2\u001b[0m\u001b[0;34m,\u001b[0m\u001b[0;36m10\u001b[0m\u001b[0;34m)\u001b[0m\u001b[0;34m,\u001b[0m \u001b[0mnp\u001b[0m\u001b[0;34m.\u001b[0m\u001b[0mlogspace\u001b[0m\u001b[0;34m(\u001b[0m\u001b[0;34m-\u001b[0m\u001b[0;36m2\u001b[0m\u001b[0;34m,\u001b[0m\u001b[0;36m2\u001b[0m\u001b[0;34m,\u001b[0m\u001b[0;36m10\u001b[0m\u001b[0;34m)\u001b[0m \u001b[0;34m]\u001b[0m\u001b[0;34m\u001b[0m\u001b[0m\n\u001b[0m\u001b[1;32m      2\u001b[0m \u001b[0;31m#print len(params)\u001b[0m\u001b[0;34m\u001b[0m\u001b[0;34m\u001b[0m\u001b[0m\n\u001b[1;32m      3\u001b[0m \u001b[0mcombs\u001b[0m \u001b[0;34m=\u001b[0m \u001b[0mit\u001b[0m\u001b[0;34m.\u001b[0m\u001b[0mproduct\u001b[0m\u001b[0;34m(\u001b[0m\u001b[0;34m*\u001b[0m\u001b[0mparams\u001b[0m\u001b[0;34m)\u001b[0m\u001b[0;34m\u001b[0m\u001b[0m\n\u001b[1;32m      4\u001b[0m \u001b[0;31m#for c in combs:\u001b[0m\u001b[0;34m\u001b[0m\u001b[0;34m\u001b[0m\u001b[0m\n\u001b[1;32m      5\u001b[0m \u001b[0;31m#    print c\u001b[0m\u001b[0;34m\u001b[0m\u001b[0;34m\u001b[0m\u001b[0m\n",
        "\u001b[0;31mNameError\u001b[0m: name 'np' is not defined"
       ]
      }
     ],
     "prompt_number": 1
    },
    {
     "cell_type": "code",
     "collapsed": false,
     "input": [
      "params = [ 'kernel',['gaussian'], 'kernelparam', np.logspace(-2,2,10), 'regularization', np.logspace(-2,2,10) ]\n",
      "#params = [ 'kernel',['gaussian'], 'kernelparam', np.arange(3) * 3, 'regularization', np.arange(3)*2 ]\n",
      "kernel = params[1]\n",
      "kernelparam = params[3]\n",
      "regularization = params[5]\n",
      "#print kernel\n",
      "#print kernelparam\n",
      "#print regularization\n",
      "\n",
      "combs = it.product(*[kernel, kernelparam, regularization])\n",
      "co = list(combs)\n",
      "print len(co)\n",
      "#y_pred = 0\n",
      "'''for c in combs:\n",
      "    #c.append(y_pred)\n",
      "    print str(c[0]) , str(c[1]) , str(c[2])\n",
      "    #y_pred += 1'''"
     ],
     "language": "python",
     "metadata": {},
     "outputs": [
      {
       "ename": "IndentationError",
       "evalue": "unexpected indent (<ipython-input-39-4ed42a765aa5>, line 3)",
       "output_type": "pyerr",
       "traceback": [
        "\u001b[0;36m  File \u001b[0;32m\"<ipython-input-39-4ed42a765aa5>\"\u001b[0;36m, line \u001b[0;32m3\u001b[0m\n\u001b[0;31m    'regularization', np.arange(3)*2 ]\u001b[0m\n\u001b[0m    ^\u001b[0m\n\u001b[0;31mIndentationError\u001b[0m\u001b[0;31m:\u001b[0m unexpected indent\n"
       ]
      }
     ],
     "prompt_number": 39
    },
    {
     "cell_type": "code",
     "collapsed": false,
     "input": [
      "Xte = np.arange( -np.pi, np.pi, 0.01 )[np.newaxis,:]\n",
      "Yte = np.arange( -np.pi, np.pi, 0.01 )[np.newaxis,:]\n",
      "print 'Xte.shape: ', Xte.shape"
     ],
     "language": "python",
     "metadata": {},
     "outputs": [
      {
       "output_type": "stream",
       "stream": "stdout",
       "text": [
        "Xte.shape:  (1, 629)\n"
       ]
      }
     ],
     "prompt_number": 9
    },
    {
     "cell_type": "code",
     "collapsed": false,
     "input": [
      "pl.plot(Xte.T, Yte.T)"
     ],
     "language": "python",
     "metadata": {},
     "outputs": [
      {
       "metadata": {},
       "output_type": "pyout",
       "prompt_number": 8,
       "text": [
        "[<matplotlib.lines.Line2D at 0x10514e6d0>]"
       ]
      },
      {
       "metadata": {},
       "output_type": "display_data",
       "png": "[encoded data removed]",
       "text": [
        "<matplotlib.figure.Figure at 0x105127990>"
       ]
      }
     ],
     "prompt_number": 8
    },
    {
     "cell_type": "code",
     "collapsed": false,
     "input": [
      "emp.status = \"Hello\""
     ],
     "language": "python",
     "metadata": {},
     "outputs": [],
     "prompt_number": 32
    },
    {
     "cell_type": "code",
     "collapsed": false,
     "input": [
      "print emp.status"
     ],
     "language": "python",
     "metadata": {},
     "outputs": [
      {
       "output_type": "stream",
       "stream": "stdout",
       "text": [
        "Hello\n"
       ]
      }
     ],
     "prompt_number": 33
    },
    {
     "cell_type": "code",
     "collapsed": false,
     "input": [
      "X = np.arange(20).reshape(4,5)\n",
      "Y = np.arange(20).reshape(4,5)\n",
      "Z = np.arange(28).reshape(4,7)\n",
      "print X\n",
      "print Y\n",
      "print Z"
     ],
     "language": "python",
     "metadata": {},
     "outputs": [
      {
       "output_type": "stream",
       "stream": "stdout",
       "text": [
        "[[ 0  1  2  3  4]\n",
        " [ 5  6  7  8  9]\n",
        " [10 11 12 13 14]\n",
        " [15 16 17 18 19]]\n",
        "[[ 0  1  2  3  4]\n",
        " [ 5  6  7  8  9]\n",
        " [10 11 12 13 14]\n",
        " [15 16 17 18 19]]\n",
        "[[ 0  1  2  3  4  5  6]\n",
        " [ 7  8  9 10 11 12 13]\n",
        " [14 15 16 17 18 19 20]\n",
        " [21 22 23 24 25 26 27]]\n"
       ]
      }
     ],
     "prompt_number": 25
    },
    {
     "cell_type": "code",
     "collapsed": false,
     "input": [
      "XY_c = cdist(X.T, X.T, metric='sqeuclidean')\n",
      "XY_p = squareform(pdist(X.T, metric='sqeuclidean'))\n",
      "XZ_c = cdist(X.T, Z.T, metric='sqeuclidean')\n",
      "print XY_c.shape\n",
      "print XY_p.shape\n",
      "print XZ_c.shape\n",
      "print XY_c\n",
      "print XY_p\n",
      "print XZ_c"
     ],
     "language": "python",
     "metadata": {},
     "outputs": [
      {
       "output_type": "stream",
       "stream": "stdout",
       "text": [
        "(5, 5)\n",
        "(5, 5)\n",
        "(5, 7)\n",
        "[[  0.   4.  16.  36.  64.]\n",
        " [  4.   0.   4.  16.  36.]\n",
        " [ 16.   4.   0.   4.  16.]\n",
        " [ 36.  16.   4.   0.   4.]\n",
        " [ 64.  36.  16.   4.   0.]]\n",
        "[[  0.   4.  16.  36.  64.]\n",
        " [  4.   0.   4.  16.  36.]\n",
        " [ 16.   4.   0.   4.  16.]\n",
        " [ 36.  16.   4.   0.   4.]\n",
        " [ 64.  36.  16.   4.   0.]]\n",
        "[[  56.   84.  120.  164.  216.  276.  344.]\n",
        " [  36.   56.   84.  120.  164.  216.  276.]\n",
        " [  24.   36.   56.   84.  120.  164.  216.]\n",
        " [  20.   24.   36.   56.   84.  120.  164.]\n",
        " [  24.   20.   24.   36.   56.   84.  120.]]\n"
       ]
      }
     ],
     "prompt_number": 27
    },
    {
     "cell_type": "code",
     "collapsed": false,
     "input": [],
     "language": "python",
     "metadata": {},
     "outputs": []
    }
   ],
   "metadata": {}
  }
 ]
}