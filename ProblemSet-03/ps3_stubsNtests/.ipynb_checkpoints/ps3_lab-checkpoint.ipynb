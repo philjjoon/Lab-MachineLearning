{
 "metadata": {
  "name": "",
  "signature": "sha256:07005b3660384cb38cf3561bec99aac42ab5dab76bc8cb107d197adc46f12cc3"
 },
 "nbformat": 3,
 "nbformat_minor": 0,
 "worksheets": [
  {
   "cells": [
    {
     "cell_type": "code",
     "collapsed": false,
     "input": [
      "import numpy as np\n",
      "import random\n",
      "import matplotlib.pyplot as pl\n",
      "%matplotlib inline\n",
      "\n",
      "from scipy.stats import norm\n",
      "import os\n",
      "import sys\n",
      "import pickle\n",
      "\n",
      "import ps3_implementation as imp\n",
      "imp = reload(imp)"
     ],
     "language": "python",
     "metadata": {},
     "outputs": [],
     "prompt_number": 17
    },
    {
     "cell_type": "code",
     "collapsed": false,
     "input": [
      "def roc_fun(y_true, y_pred):\n",
      "    min_value = np.min(y_pred)\n",
      "    max_value = np.max(y_pred)\n",
      "    thresholds = np.linspace(min_value, max_value, 100)[:, np.newaxis]\n",
      "    \n",
      "    results = y_pred >= thresholds\n",
      "    results = results.astype(int)\n",
      "    results[results == 0] = -1\n",
      "    results = results + y_true\n",
      "    total_pos = len(np.nonzero(y_true==1)[1])\n",
      "    total_neg = len(np.nonzero(y_true==-1)[1])\n",
      "    results_TP = results == 2 # +2 if both true and prediction value are 1\n",
      "    results_TN = results == -2 # -2 if both true and prediction value are -1\n",
      "    TPRs = np.sum(results_TP, axis=1) / float(total_pos)\n",
      "    FPRs = 1 - (np.sum(results_TN, axis=1) / float(total_neg))\n",
      "    inds = np.argsort(FPRs)\n",
      "    FPRs = FPRs[inds]\n",
      "    TPRs = TPRs[inds]\n",
      "    roc = np.ones([2, thresholds.shape[0]])\n",
      "    roc[0, :] = TPRs\n",
      "    roc[1, :] = FPRs\n",
      "    \n",
      "    return roc"
     ],
     "language": "python",
     "metadata": {},
     "outputs": [],
     "prompt_number": 19
    },
    {
     "cell_type": "code",
     "collapsed": false,
     "input": [
      "results_loocv = pickle.load( open( \"results.p\", \"rb\" ) )\n",
      "results_cv = pickle.load( open( \"results_cv.p\", \"rb\" ) )"
     ],
     "language": "python",
     "metadata": {},
     "outputs": [],
     "prompt_number": 23
    },
    {
     "cell_type": "code",
     "collapsed": false,
     "input": [
      "results = [results_loocv, results_cv]\n",
      "datasets = ['banana', 'diabetis', 'flare-solar', 'image', 'ringnorm']\n",
      "text = ['Efficient LOOCV', 'Standard CV']\n",
      "AUC = np.zeros([2, len(datasets)])\n",
      "CVLOSS = np.zeros([2, len(datasets)])\n",
      "path = 'ps3_datasets/'\n",
      "fig = pl.figure(figsize=(2*8, 6*len(datasets)))\n",
      "for idx, dataset in enumerate(datasets):\n",
      "    print 'Dataset: ', dataset\n",
      "    Xtr = np.loadtxt(path+'U04_'+dataset+'-xtrain.dat')\n",
      "    Ytr = np.loadtxt(path+'U04_'+dataset+'-ytrain.dat')\n",
      "    Xte = np.loadtxt(path+'U04_'+dataset+'-xtest.dat')\n",
      "    for idx_res, res in enumerate(results):\n",
      "        kernel = res[dataset]['kernel']\n",
      "        kernelparameter = res[dataset]['kernelparameter']\n",
      "        regularization = res[dataset]['regularization']\n",
      "        cvloss = res[dataset]['cvloss']\n",
      "        krr = imp.krr()\n",
      "        params = ['kernel', [kernel], 'kernelparameter', [kernelparameter], 'regularization', [regularization]]\n",
      "        method = imp.cv(Xtr, Ytr[np.newaxis, :], krr, params, nrepetitions=1)\n",
      "    \n",
      "        CVLOSS[idx_res, idx] = cvloss\n",
      "        ytrue = method.rocdata[0, :][np.newaxis, :]\n",
      "        ypred = method.rocdata[1, :][np.newaxis, :]\n",
      "        roc = roc_fun(ytrue, ypred)\n",
      "        TPRs = roc[0, :]\n",
      "        FPRs = roc[1, :]\n",
      "        auc = np.trapz(TPRs, FPRs)\n",
      "        AUC[idx_res, idx] = auc\n",
      "        \n",
      "        ax = fig.add_subplot(len(datasets), 2, (idx*2)+(idx_res+1))\n",
      "        fig.subplots_adjust(wspace=0.2, hspace=0.3)\n",
      "        ax.plot(FPRs, TPRs)\n",
      "        ax.set_xlim(-0.2,1.2)\n",
      "        ax.set_ylim(-0.2,1.2)\n",
      "        ax.set_xlabel('False Positive Rate', fontsize=14)\n",
      "        ax.set_ylabel('True Positive Rate', fontsize=14)\n",
      "        ticks = [0,0.2,0.4,0.6,0.8,1]\n",
      "        ax.set_xticks(ticks)\n",
      "        ax.set_yticks(ticks)\n",
      "        ax.grid(True)\n",
      "        ax.set_title('Dataset %s, %s; Kernel: %s, Parameter: %0.3f\\n, \\\n",
      "                     Regularization: %0.3f, Cvloss: %0.3f, AUC: %0.3f'\\\n",
      "                     %(dataset, text[idx_res], kernel, kernelparameter, regularization, cvloss, auc))\n",
      "        "
     ],
     "language": "python",
     "metadata": {},
     "outputs": [
      {
       "ename": "NameError",
       "evalue": "name 'results_loocv' is not defined",
       "output_type": "pyerr",
       "traceback": [
        "\u001b[0;31m---------------------------------------------------------------------------\u001b[0m\n\u001b[0;31mNameError\u001b[0m                                 Traceback (most recent call last)",
        "\u001b[0;32m<ipython-input-2-8585b3b22056>\u001b[0m in \u001b[0;36m<module>\u001b[0;34m()\u001b[0m\n\u001b[0;32m----> 1\u001b[0;31m \u001b[0mresults\u001b[0m \u001b[0;34m=\u001b[0m \u001b[0;34m[\u001b[0m\u001b[0mresults_loocv\u001b[0m\u001b[0;34m,\u001b[0m \u001b[0mresults_cv\u001b[0m\u001b[0;34m]\u001b[0m\u001b[0;34m\u001b[0m\u001b[0m\n\u001b[0m\u001b[1;32m      2\u001b[0m \u001b[0mdatasets\u001b[0m \u001b[0;34m=\u001b[0m \u001b[0;34m[\u001b[0m\u001b[0;34m'banana'\u001b[0m\u001b[0;34m,\u001b[0m \u001b[0;34m'diabetis'\u001b[0m\u001b[0;34m,\u001b[0m \u001b[0;34m'flare-solar'\u001b[0m\u001b[0;34m,\u001b[0m \u001b[0;34m'image'\u001b[0m\u001b[0;34m,\u001b[0m \u001b[0;34m'ringnorm'\u001b[0m\u001b[0;34m]\u001b[0m\u001b[0;34m\u001b[0m\u001b[0m\n\u001b[1;32m      3\u001b[0m \u001b[0mtext\u001b[0m \u001b[0;34m=\u001b[0m \u001b[0;34m[\u001b[0m\u001b[0;34m'Efficient LOOCV'\u001b[0m\u001b[0;34m,\u001b[0m \u001b[0;34m'Standard CV'\u001b[0m\u001b[0;34m]\u001b[0m\u001b[0;34m\u001b[0m\u001b[0m\n\u001b[1;32m      4\u001b[0m \u001b[0mAUC\u001b[0m \u001b[0;34m=\u001b[0m \u001b[0mnp\u001b[0m\u001b[0;34m.\u001b[0m\u001b[0mzeros\u001b[0m\u001b[0;34m(\u001b[0m\u001b[0;34m[\u001b[0m\u001b[0;36m2\u001b[0m\u001b[0;34m,\u001b[0m \u001b[0mlen\u001b[0m\u001b[0;34m(\u001b[0m\u001b[0mdatasets\u001b[0m\u001b[0;34m)\u001b[0m\u001b[0;34m]\u001b[0m\u001b[0;34m)\u001b[0m\u001b[0;34m\u001b[0m\u001b[0m\n\u001b[1;32m      5\u001b[0m \u001b[0mCVLOSS\u001b[0m \u001b[0;34m=\u001b[0m \u001b[0mnp\u001b[0m\u001b[0;34m.\u001b[0m\u001b[0mzeros\u001b[0m\u001b[0;34m(\u001b[0m\u001b[0;34m[\u001b[0m\u001b[0;36m2\u001b[0m\u001b[0;34m,\u001b[0m \u001b[0mlen\u001b[0m\u001b[0;34m(\u001b[0m\u001b[0mdatasets\u001b[0m\u001b[0;34m)\u001b[0m\u001b[0;34m]\u001b[0m\u001b[0;34m)\u001b[0m\u001b[0;34m\u001b[0m\u001b[0m\n",
        "\u001b[0;31mNameError\u001b[0m: name 'results_loocv' is not defined"
       ]
      }
     ],
     "prompt_number": 2
    },
    {
     "cell_type": "code",
     "collapsed": false,
     "input": [
      "fig.savefig('roc_curve.png')"
     ],
     "language": "python",
     "metadata": {},
     "outputs": [
      {
       "ename": "NameError",
       "evalue": "name 'fig' is not defined",
       "output_type": "pyerr",
       "traceback": [
        "\u001b[0;31m---------------------------------------------------------------------------\u001b[0m\n\u001b[0;31mNameError\u001b[0m                                 Traceback (most recent call last)",
        "\u001b[0;32m<ipython-input-1-118d02afcf15>\u001b[0m in \u001b[0;36m<module>\u001b[0;34m()\u001b[0m\n\u001b[0;32m----> 1\u001b[0;31m \u001b[0mfig\u001b[0m\u001b[0;34m.\u001b[0m\u001b[0msavefig\u001b[0m\u001b[0;34m(\u001b[0m\u001b[0;34m'roc_curve.png'\u001b[0m\u001b[0;34m)\u001b[0m\u001b[0;34m\u001b[0m\u001b[0m\n\u001b[0m",
        "\u001b[0;31mNameError\u001b[0m: name 'fig' is not defined"
       ]
      }
     ],
     "prompt_number": 1
    },
    {
     "cell_type": "code",
     "collapsed": false,
     "input": [
      "print results_loocv['image']"
     ],
     "language": "python",
     "metadata": {},
     "outputs": [
      {
       "output_type": "stream",
       "stream": "stdout",
       "text": [
        "{'cvloss': 0.028461538461538472, 'kernel': 'gaussian', 'regularization': 0.46415888336127775, 'ypred': array([[ 0.71714783,  0.59531571, -0.90690113, ..., -0.65031917,\n",
        "         0.0604236 , -0.68293274]]), 'kernelparameter': 0.59948425031894093, 'time': 4596.275455951691}\n"
       ]
      }
     ],
     "prompt_number": 5
    },
    {
     "cell_type": "code",
     "collapsed": false,
     "input": [
      "print results_cv['image']"
     ],
     "language": "python",
     "metadata": {},
     "outputs": [
      {
       "output_type": "stream",
       "stream": "stdout",
       "text": [
        "{'cvloss': 0.02230769230769231, 'kernel': 'gaussian', 'regularization': 0.027825594022071243, 'ypred': array([[ 0.64104958,  0.42851424, -0.72887044, ..., -1.17694349,\n",
        "         1.2576241 , -1.01110769]]), 'kernelparameter': 1.6681005372000592, 'time': 1420.2647950649261}\n"
       ]
      }
     ],
     "prompt_number": 25
    },
    {
     "cell_type": "code",
     "collapsed": false,
     "input": [
      "print 'Datasets: ', datasets\n",
      "print 'AUC: ', AUC\n",
      "print 'CVLOSS: ', CVLOSS"
     ],
     "language": "python",
     "metadata": {},
     "outputs": [
      {
       "output_type": "stream",
       "stream": "stdout",
       "text": [
        "Datasets:  ['banana', 'diabetis', 'flare-solar', 'image', 'ringnorm']\n",
        "AUC:  [[ 0.95093458  0.80154479  0.68428426  0.99506484  0.99354209]\n",
        " [ 0.93839815  0.80719042  0.70298741  0.99416072  0.99949939]]\n",
        "CVLOSS:  [[ 0.09625     0.2370259   0.34675486  0.02846154  0.0625    ]\n",
        " [ 0.09625     0.24146623  0.34838308  0.02846154  0.03875   ]]\n"
       ]
      }
     ],
     "prompt_number": 11
    },
    {
     "cell_type": "code",
     "collapsed": false,
     "input": [
      "inds = np.argsort(CVLOSS[0, :])\n",
      "CVLOSS[0, :] = CVLOSS[0, inds]\n",
      "AUC[0, :] = AUC[0, inds]\n",
      "datasets = np.array(datasets)\n",
      "\n",
      "inds = np.argsort(CVLOSS[1, :])\n",
      "CVLOSS[1, :] = CVLOSS[1, inds]\n",
      "AUC[1, :] = AUC[1, inds]\n",
      "\n",
      "datasets = datasets[inds]"
     ],
     "language": "python",
     "metadata": {},
     "outputs": [],
     "prompt_number": 12
    },
    {
     "cell_type": "code",
     "collapsed": false,
     "input": [
      "print 'Datasets: ', datasets\n",
      "print 'AUC: ', AUC\n",
      "print 'CVLOSS: ', CVLOSS"
     ],
     "language": "python",
     "metadata": {},
     "outputs": [
      {
       "output_type": "stream",
       "stream": "stdout",
       "text": [
        "Datasets:  ['image' 'ringnorm' 'banana' 'diabetis' 'flare-solar']\n",
        "AUC:  [[ 0.99506484  0.99354209  0.95093458  0.80154479  0.68428426]\n",
        " [ 0.99416072  0.99949939  0.93839815  0.80719042  0.70298741]]\n",
        "CVLOSS:  [[ 0.02846154  0.0625      0.09625     0.2370259   0.34675486]\n",
        " [ 0.02846154  0.03875     0.09625     0.24146623  0.34838308]]\n"
       ]
      }
     ],
     "prompt_number": 13
    },
    {
     "cell_type": "code",
     "collapsed": false,
     "input": [
      "fig = pl.figure()\n",
      "ax = fig.add_subplot(111)\n",
      "ax.scatter(np.arange(1,6), CVLOSS[0,:], c='b', marker='o',label='Cvloss')\n",
      "ax.scatter(np.arange(1,6), AUC[0,:], c='r', marker='+',label='AUC')\n",
      "ax.set_xlabel('Data Set', fontsize=14)\n",
      "ax.set_ylabel('Cvloss / AUC', fontsize=14)\n",
      "ax.set_title('Correspondence between Cvloss and AUC')\n",
      "\n",
      "ax.set_xticks(np.arange(8))\n",
      "ax.set_xticklabels(['', 'image', 'ringnorm', 'banana', 'diabetis', 'flare-solar'])\n",
      "ax.legend(loc='upper right')"
     ],
     "language": "python",
     "metadata": {},
     "outputs": [
      {
       "metadata": {},
       "output_type": "pyout",
       "prompt_number": 15,
       "text": [
        "<matplotlib.legend.Legend at 0x1007268d0>"
       ]
      },
      {
       "metadata": {},
       "output_type": "display_data",
       "png": "[encoded data removed]",
       "text": [
        "<matplotlib.figure.Figure at 0x105d90350>"
       ]
      }
     ],
     "prompt_number": 15
    },
    {
     "cell_type": "code",
     "collapsed": false,
     "input": [
      "fig.savefig('auc_cvloss.png')"
     ],
     "language": "python",
     "metadata": {},
     "outputs": [],
     "prompt_number": 16
    }
   ],
   "metadata": {}
  }
 ]
}