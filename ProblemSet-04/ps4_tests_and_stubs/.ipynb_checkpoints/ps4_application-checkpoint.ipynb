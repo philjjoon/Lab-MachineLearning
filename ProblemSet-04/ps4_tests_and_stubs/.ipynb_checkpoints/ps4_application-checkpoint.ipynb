{
 "metadata": {
  "name": "",
  "signature": "sha256:352c47987f196445f8ecef3beb633cccad62d0bb979339ad2c9a59f05f40a313"
 },
 "nbformat": 3,
 "nbformat_minor": 0,
 "worksheets": [
  {
   "cells": [
    {
     "cell_type": "code",
     "collapsed": false,
     "input": [
      "import numpy as np\n",
      "import random\n",
      "import matplotlib.pyplot as pl\n",
      "%matplotlib inline\n",
      "from scipy.stats import norm\n",
      "import pickle\n",
      "import time\n",
      "\n",
      "import ps4_implementation as imp\n",
      "imp = reload(imp)\n",
      "\n",
      "import ps3_implementation as imp3\n",
      "imp3 = reload(imp3)"
     ],
     "language": "python",
     "metadata": {},
     "outputs": [],
     "prompt_number": 18
    },
    {
     "cell_type": "code",
     "collapsed": false,
     "input": [
      "path = \"../Datasets/\"\n",
      "easy_2d = np.load(path + \"easy_2d.npz\")\n",
      "iris = np.load(path + \"iris.npz\")\n",
      "easy_Xtr = easy_2d['X_tr']\n",
      "easy_Ytr = easy_2d['Y_tr']\n",
      "easy_Xte = easy_2d['X_te']\n",
      "easy_Yte = easy_2d['Y_te']\n",
      "iris_X = iris['X']\n",
      "iris_Y = iris['Y']\n",
      "print 'easy_Xtr: ', easy_Xtr.shape\n",
      "print 'easy_Ytr: ', easy_Ytr.shape\n",
      "print 'easy_Xte: ', easy_Xte.shape\n",
      "print 'easy_Yte: ', easy_Yte.shape\n",
      "print 'iris_X: ', iris_X.shape\n",
      "print 'iris_Y: ', iris_Y.shape"
     ],
     "language": "python",
     "metadata": {},
     "outputs": [
      {
       "output_type": "stream",
       "stream": "stdout",
       "text": [
        "easy_Xtr:  (2, 100)\n",
        "easy_Ytr:  (100,)\n",
        "easy_Xte:  (2, 100)\n",
        "easy_Yte:  (100,)\n",
        "iris_X:  (4, 135)\n",
        "iris_Y:  (135,)\n"
       ]
      }
     ],
     "prompt_number": 19
    },
    {
     "cell_type": "code",
     "collapsed": false,
     "input": [
      "easy_Xtr_pos = easy_Xtr[:, np.nonzero(easy_Ytr == 1)[0]]\n",
      "easy_Xtr_neg = easy_Xtr[:, np.nonzero(easy_Ytr == -1)[0]]\n",
      "print 'easy_Xtr_pos: ', easy_Xtr_pos.shape\n",
      "print 'easy_Xtr_neg: ', easy_Xtr_neg.shape\n",
      "pl.scatter(easy_Xtr_pos[0], easy_Xtr_pos[1], c='red')\n",
      "pl.scatter(easy_Xtr_neg[0], easy_Xtr_neg[1], c='blue')\n",
      "\n",
      "easy_Xte_pos = easy_Xte[:, np.nonzero(easy_Yte == 1)[0]]\n",
      "easy_Xte_neg = easy_Xte[:, np.nonzero(easy_Yte == -1)[0]]\n",
      "print 'easy_Xte_pos: ', easy_Xte_pos.shape\n",
      "print 'easy_Xte_neg: ', easy_Xte_neg.shape\n",
      "pl.scatter(easy_Xte_pos[0], easy_Xte_pos[1], c='red', marker='+')\n",
      "pl.scatter(easy_Xte_neg[0], easy_Xte_neg[1], c='blue', marker='+')"
     ],
     "language": "python",
     "metadata": {},
     "outputs": [
      {
       "output_type": "stream",
       "stream": "stdout",
       "text": [
        "easy_Xtr_pos:  (2, 50)\n",
        "easy_Xtr_neg:  (2, 50)\n",
        "easy_Xte_pos: "
       ]
      },
      {
       "output_type": "stream",
       "stream": "stdout",
       "text": [
        " (2, 40)\n",
        "easy_Xte_neg:  (2, 60)\n"
       ]
      },
      {
       "metadata": {},
       "output_type": "pyout",
       "prompt_number": 28,
       "text": [
        "<matplotlib.collections.PathCollection at 0x106938d50>"
       ]
      },
      {
       "metadata": {},
       "output_type": "display_data",
       "png": "[encoded data removed]",
       "text": [
        "<matplotlib.figure.Figure at 0x1067ff510>"
       ]
      }
     ],
     "prompt_number": 28
    },
    {
     "cell_type": "code",
     "collapsed": false,
     "input": [
      "params = [ 'kernel',['gaussian'], 'kernelparam', np.logspace(-2,2,10), 'regularization', np.logspace(-2,2,10)]\n",
      "svm = imp.svm_smo(kernel='gaussian', C=0.1) \n",
      "\n",
      "cvkrr = imp3.cv(easy_Xtr, easy_Ytr[np.newaxis, :], svm, params, nrepetitions=2) # use default nfolds=10 and nrepetitions=5\n",
      "#cvkrr.predict(easy_Xte)"
     ],
     "language": "python",
     "metadata": {},
     "outputs": [
      {
       "output_type": "stream",
       "stream": "stdout",
       "text": [
        "param:  ('gaussian', 0.01, 0.01)\n",
        " 1 / 100 parameter combinations completed. Estimated remaining time: 1123.591"
       ]
      },
      {
       "output_type": "stream",
       "stream": "stdout",
       "text": [
        "\n",
        "param:  ('gaussian', 0.01, 0.027825594022071243)\n",
        "param: "
       ]
      },
      {
       "output_type": "stream",
       "stream": "stdout",
       "text": [
        " ('gaussian', 0.01, 0.077426368268112694)\n",
        "param: "
       ]
      },
      {
       "output_type": "stream",
       "stream": "stdout",
       "text": [
        " ('gaussian', 0.01, 0.21544346900318834)\n",
        "param: "
       ]
      },
      {
       "output_type": "stream",
       "stream": "stdout",
       "text": [
        " ('gaussian', 0.01, 0.59948425031894093)\n",
        "param: "
       ]
      },
      {
       "output_type": "stream",
       "stream": "stdout",
       "text": [
        " ('gaussian', 0.01, 1.6681005372000592)\n",
        "param: "
       ]
      },
      {
       "output_type": "stream",
       "stream": "stdout",
       "text": [
        " ('gaussian', 0.01, 4.6415888336127775)\n",
        "param: "
       ]
      },
      {
       "output_type": "stream",
       "stream": "stdout",
       "text": [
        " ('gaussian', 0.01, 12.915496650148826)\n",
        "param: "
       ]
      },
      {
       "output_type": "stream",
       "stream": "stdout",
       "text": [
        " ('gaussian', 0.01, 35.938136638046259)\n",
        "param: "
       ]
      },
      {
       "output_type": "stream",
       "stream": "stdout",
       "text": [
        " ('gaussian', 0.01, 100.0)\n",
        "param: "
       ]
      },
      {
       "output_type": "stream",
       "stream": "stdout",
       "text": [
        " ('gaussian', 0.027825594022071243, 0.01)\n",
        "11 / 100 parameter combinations completed. Estimated remaining time: 1026.243"
       ]
      },
      {
       "output_type": "stream",
       "stream": "stdout",
       "text": [
        "\n",
        "param:  ('gaussian', 0.027825594022071243, 0.027825594022071243)\n",
        "param: "
       ]
      },
      {
       "output_type": "stream",
       "stream": "stdout",
       "text": [
        " ('gaussian', 0.027825594022071243, 0.077426368268112694)\n",
        "param: "
       ]
      },
      {
       "output_type": "stream",
       "stream": "stdout",
       "text": [
        " ('gaussian', 0.027825594022071243, 0.21544346900318834)\n",
        "param: "
       ]
      },
      {
       "output_type": "stream",
       "stream": "stdout",
       "text": [
        " ('gaussian', 0.027825594022071243, 0.59948425031894093)\n",
        "param: "
       ]
      },
      {
       "output_type": "stream",
       "stream": "stdout",
       "text": [
        " ('gaussian', 0.027825594022071243, 1.6681005372000592)\n",
        "param: "
       ]
      },
      {
       "output_type": "stream",
       "stream": "stdout",
       "text": [
        " ('gaussian', 0.027825594022071243, 4.6415888336127775)\n",
        "param: "
       ]
      },
      {
       "output_type": "stream",
       "stream": "stdout",
       "text": [
        " ('gaussian', 0.027825594022071243, 12.915496650148826)\n",
        "param: "
       ]
      },
      {
       "output_type": "stream",
       "stream": "stdout",
       "text": [
        " ('gaussian', 0.027825594022071243, 35.938136638046259)\n",
        "param: "
       ]
      },
      {
       "output_type": "stream",
       "stream": "stdout",
       "text": [
        " ('gaussian', 0.027825594022071243, 100.0)\n",
        "param: "
       ]
      },
      {
       "output_type": "stream",
       "stream": "stdout",
       "text": [
        " ('gaussian', 0.077426368268112694, 0.01)\n",
        "21 / 100 parameter combinations completed. Estimated remaining time: 1188.281"
       ]
      },
      {
       "output_type": "stream",
       "stream": "stdout",
       "text": [
        "\n",
        "param:  ('gaussian', 0.077426368268112694, 0.027825594022071243)\n",
        "param: "
       ]
      },
      {
       "output_type": "stream",
       "stream": "stdout",
       "text": [
        " ('gaussian', 0.077426368268112694, 0.077426368268112694)\n",
        "param: "
       ]
      },
      {
       "output_type": "stream",
       "stream": "stdout",
       "text": [
        " ('gaussian', 0.077426368268112694, 0.21544346900318834)\n",
        "param: "
       ]
      },
      {
       "output_type": "stream",
       "stream": "stdout",
       "text": [
        " ('gaussian', 0.077426368268112694, 0.59948425031894093)\n",
        "param: "
       ]
      },
      {
       "output_type": "stream",
       "stream": "stdout",
       "text": [
        " ('gaussian', 0.077426368268112694, 1.6681005372000592)\n",
        "param: "
       ]
      },
      {
       "output_type": "stream",
       "stream": "stdout",
       "text": [
        " ('gaussian', 0.077426368268112694, 4.6415888336127775)\n",
        "param: "
       ]
      },
      {
       "output_type": "stream",
       "stream": "stdout",
       "text": [
        " ('gaussian', 0.077426368268112694, 12.915496650148826)\n",
        "param: "
       ]
      },
      {
       "output_type": "stream",
       "stream": "stdout",
       "text": [
        " ('gaussian', 0.077426368268112694, 35.938136638046259)\n",
        "param: "
       ]
      },
      {
       "output_type": "stream",
       "stream": "stdout",
       "text": [
        " ('gaussian', 0.077426368268112694, 100.0)\n",
        "param: "
       ]
      },
      {
       "output_type": "stream",
       "stream": "stdout",
       "text": [
        " ('gaussian', 0.21544346900318834, 0.01)\n",
        "31 / 100 parameter combinations completed. Estimated remaining time: 1269.892"
       ]
      },
      {
       "output_type": "stream",
       "stream": "stdout",
       "text": [
        "\n",
        "param:  ('gaussian', 0.21544346900318834, 0.027825594022071243)\n",
        "param: "
       ]
      },
      {
       "output_type": "stream",
       "stream": "stdout",
       "text": [
        " ('gaussian', 0.21544346900318834, 0.077426368268112694)\n",
        "param: "
       ]
      },
      {
       "output_type": "stream",
       "stream": "stdout",
       "text": [
        " ('gaussian', 0.21544346900318834, 0.21544346900318834)\n",
        "param: "
       ]
      },
      {
       "output_type": "stream",
       "stream": "stdout",
       "text": [
        " ('gaussian', 0.21544346900318834, 0.59948425031894093)\n",
        "param: "
       ]
      },
      {
       "output_type": "stream",
       "stream": "stdout",
       "text": [
        " ('gaussian', 0.21544346900318834, 1.6681005372000592)\n",
        "param: "
       ]
      },
      {
       "output_type": "stream",
       "stream": "stdout",
       "text": [
        " ('gaussian', 0.21544346900318834, 4.6415888336127775)\n",
        "param: "
       ]
      },
      {
       "output_type": "stream",
       "stream": "stdout",
       "text": [
        " ('gaussian', 0.21544346900318834, 12.915496650148826)\n",
        "param: "
       ]
      },
      {
       "output_type": "stream",
       "stream": "stdout",
       "text": [
        " ('gaussian', 0.21544346900318834, 35.938136638046259)\n",
        "param: "
       ]
      },
      {
       "output_type": "stream",
       "stream": "stdout",
       "text": [
        " ('gaussian', 0.21544346900318834, 100.0)\n",
        "param: "
       ]
      },
      {
       "output_type": "stream",
       "stream": "stdout",
       "text": [
        " ('gaussian', 0.59948425031894093, 0.01)\n",
        "41 / 100 parameter combinations completed. Estimated remaining time: 2042.440"
       ]
      },
      {
       "output_type": "stream",
       "stream": "stdout",
       "text": [
        "\n",
        "param:  ('gaussian', 0.59948425031894093, 0.027825594022071243)\n",
        "param: "
       ]
      },
      {
       "output_type": "stream",
       "stream": "stdout",
       "text": [
        " ('gaussian', 0.59948425031894093, 0.077426368268112694)\n",
        "param: "
       ]
      },
      {
       "output_type": "stream",
       "stream": "stdout",
       "text": [
        " ('gaussian', 0.59948425031894093, 0.21544346900318834)\n",
        "param: "
       ]
      },
      {
       "output_type": "stream",
       "stream": "stdout",
       "text": [
        " ('gaussian', 0.59948425031894093, 0.59948425031894093)\n",
        "param: "
       ]
      },
      {
       "output_type": "stream",
       "stream": "stdout",
       "text": [
        " ('gaussian', 0.59948425031894093, 1.6681005372000592)\n",
        "param: "
       ]
      },
      {
       "output_type": "stream",
       "stream": "stdout",
       "text": [
        " ('gaussian', 0.59948425031894093, 4.6415888336127775)\n",
        "param: "
       ]
      },
      {
       "output_type": "stream",
       "stream": "stdout",
       "text": [
        " ('gaussian', 0.59948425031894093, 12.915496650148826)\n",
        "param: "
       ]
      },
      {
       "output_type": "stream",
       "stream": "stdout",
       "text": [
        " ('gaussian', 0.59948425031894093, 35.938136638046259)\n",
        "param: "
       ]
      },
      {
       "output_type": "stream",
       "stream": "stdout",
       "text": [
        " ('gaussian', 0.59948425031894093, 100.0)\n",
        "param: "
       ]
      },
      {
       "output_type": "stream",
       "stream": "stdout",
       "text": [
        " ('gaussian', 1.6681005372000592, 0.01)\n",
        "51 / 100 parameter combinations completed. Estimated remaining time: 2943.384"
       ]
      },
      {
       "output_type": "stream",
       "stream": "stdout",
       "text": [
        "\n",
        "param:  ('gaussian', 1.6681005372000592, 0.027825594022071243)\n",
        "param: "
       ]
      },
      {
       "output_type": "stream",
       "stream": "stdout",
       "text": [
        " ('gaussian', 1.6681005372000592, 0.077426368268112694)\n",
        "param: "
       ]
      },
      {
       "output_type": "stream",
       "stream": "stdout",
       "text": [
        " ('gaussian', 1.6681005372000592, 0.21544346900318834)\n",
        "param: "
       ]
      },
      {
       "output_type": "stream",
       "stream": "stdout",
       "text": [
        " ('gaussian', 1.6681005372000592, 0.59948425031894093)\n",
        "param: "
       ]
      },
      {
       "output_type": "stream",
       "stream": "stdout",
       "text": [
        " ('gaussian', 1.6681005372000592, 1.6681005372000592)\n",
        "param: "
       ]
      },
      {
       "output_type": "stream",
       "stream": "stdout",
       "text": [
        " ('gaussian', 1.6681005372000592, 4.6415888336127775)\n",
        "param: "
       ]
      },
      {
       "output_type": "stream",
       "stream": "stdout",
       "text": [
        " ('gaussian', 1.6681005372000592, 12.915496650148826)\n",
        "param: "
       ]
      },
      {
       "output_type": "stream",
       "stream": "stdout",
       "text": [
        " ('gaussian', 1.6681005372000592, 35.938136638046259)\n",
        "param: "
       ]
      },
      {
       "output_type": "stream",
       "stream": "stdout",
       "text": [
        " ('gaussian', 1.6681005372000592, 100.0)\n",
        "param: "
       ]
      },
      {
       "output_type": "stream",
       "stream": "stdout",
       "text": [
        " ('gaussian', 4.6415888336127775, 0.01)\n",
        "61 / 100 parameter combinations completed. Estimated remaining time: 2097.702"
       ]
      },
      {
       "output_type": "stream",
       "stream": "stdout",
       "text": [
        "\n",
        "param:  ('gaussian', 4.6415888336127775, 0.027825594022071243)\n",
        "param: "
       ]
      },
      {
       "output_type": "stream",
       "stream": "stdout",
       "text": [
        " ('gaussian', 4.6415888336127775, 0.077426368268112694)\n",
        "param: "
       ]
      },
      {
       "output_type": "stream",
       "stream": "stdout",
       "text": [
        " ('gaussian', 4.6415888336127775, 0.21544346900318834)\n",
        "param: "
       ]
      },
      {
       "output_type": "stream",
       "stream": "stdout",
       "text": [
        " ('gaussian', 4.6415888336127775, 0.59948425031894093)\n",
        "param: "
       ]
      },
      {
       "output_type": "stream",
       "stream": "stdout",
       "text": [
        " ('gaussian', 4.6415888336127775, 1.6681005372000592)\n",
        "param: "
       ]
      },
      {
       "output_type": "stream",
       "stream": "stdout",
       "text": [
        " ('gaussian', 4.6415888336127775, 4.6415888336127775)\n",
        "param: "
       ]
      },
      {
       "output_type": "stream",
       "stream": "stdout",
       "text": [
        " ('gaussian', 4.6415888336127775, 12.915496650148826)\n",
        "param: "
       ]
      },
      {
       "output_type": "stream",
       "stream": "stdout",
       "text": [
        " ('gaussian', 4.6415888336127775, 35.938136638046259)\n",
        "param: "
       ]
      },
      {
       "output_type": "stream",
       "stream": "stdout",
       "text": [
        " ('gaussian', 4.6415888336127775, 100.0)\n",
        "param: "
       ]
      },
      {
       "output_type": "stream",
       "stream": "stdout",
       "text": [
        " ('gaussian', 12.915496650148826, 0.01)\n",
        "71 / 100 parameter combinations completed. Estimated remaining time: 1389.631"
       ]
      },
      {
       "output_type": "stream",
       "stream": "stdout",
       "text": [
        "\n",
        "param:  ('gaussian', 12.915496650148826, 0.027825594022071243)\n",
        "param: "
       ]
      },
      {
       "output_type": "stream",
       "stream": "stdout",
       "text": [
        " ('gaussian', 12.915496650148826, 0.077426368268112694)\n",
        "param: "
       ]
      },
      {
       "output_type": "stream",
       "stream": "stdout",
       "text": [
        " ('gaussian', 12.915496650148826, 0.21544346900318834)\n",
        "param: "
       ]
      },
      {
       "output_type": "stream",
       "stream": "stdout",
       "text": [
        " ('gaussian', 12.915496650148826, 0.59948425031894093)\n",
        "param: "
       ]
      },
      {
       "output_type": "stream",
       "stream": "stdout",
       "text": [
        " ('gaussian', 12.915496650148826, 1.6681005372000592)\n",
        "param: "
       ]
      },
      {
       "output_type": "stream",
       "stream": "stdout",
       "text": [
        " ('gaussian', 12.915496650148826, 4.6415888336127775)\n",
        "param: "
       ]
      },
      {
       "output_type": "stream",
       "stream": "stdout",
       "text": [
        " ('gaussian', 12.915496650148826, 12.915496650148826)\n",
        "param: "
       ]
      },
      {
       "output_type": "stream",
       "stream": "stdout",
       "text": [
        " ('gaussian', 12.915496650148826, 35.938136638046259)\n",
        "param: "
       ]
      },
      {
       "output_type": "stream",
       "stream": "stdout",
       "text": [
        " ('gaussian', 12.915496650148826, 100.0)\n",
        "param: "
       ]
      },
      {
       "output_type": "stream",
       "stream": "stdout",
       "text": [
        " ('gaussian', 35.938136638046259, 0.01)\n",
        "81 / 100 parameter combinations completed. Estimated remaining time: 827.732"
       ]
      },
      {
       "output_type": "stream",
       "stream": "stdout",
       "text": [
        "\n",
        "param:  ('gaussian', 35.938136638046259, 0.027825594022071243)\n",
        "param: "
       ]
      },
      {
       "output_type": "stream",
       "stream": "stdout",
       "text": [
        " ('gaussian', 35.938136638046259, 0.077426368268112694)\n",
        "param: "
       ]
      },
      {
       "output_type": "stream",
       "stream": "stdout",
       "text": [
        " ('gaussian', 35.938136638046259, 0.21544346900318834)\n",
        "param: "
       ]
      },
      {
       "output_type": "stream",
       "stream": "stdout",
       "text": [
        " ('gaussian', 35.938136638046259, 0.59948425031894093)\n",
        "param: "
       ]
      },
      {
       "output_type": "stream",
       "stream": "stdout",
       "text": [
        " ('gaussian', 35.938136638046259, 1.6681005372000592)\n",
        "param: "
       ]
      },
      {
       "output_type": "stream",
       "stream": "stdout",
       "text": [
        " ('gaussian', 35.938136638046259, 4.6415888336127775)\n",
        "param: "
       ]
      },
      {
       "output_type": "stream",
       "stream": "stdout",
       "text": [
        " ('gaussian', 35.938136638046259, 12.915496650148826)\n",
        "param: "
       ]
      },
      {
       "output_type": "stream",
       "stream": "stdout",
       "text": [
        " ('gaussian', 35.938136638046259, 35.938136638046259)\n",
        "param: "
       ]
      },
      {
       "output_type": "stream",
       "stream": "stdout",
       "text": [
        " ('gaussian', 35.938136638046259, 100.0)\n",
        "param: "
       ]
      },
      {
       "output_type": "stream",
       "stream": "stdout",
       "text": [
        " ('gaussian', 100.0, 0.01)\n",
        "91 / 100 parameter combinations completed. Estimated remaining time: 374.109"
       ]
      },
      {
       "output_type": "stream",
       "stream": "stdout",
       "text": [
        "\n",
        "param:  ('gaussian', 100.0, 0.027825594022071243)\n",
        "param: "
       ]
      },
      {
       "output_type": "stream",
       "stream": "stdout",
       "text": [
        " ('gaussian', 100.0, 0.077426368268112694)\n",
        "param: "
       ]
      },
      {
       "output_type": "stream",
       "stream": "stdout",
       "text": [
        " ('gaussian', 100.0, 0.21544346900318834)\n",
        "param: "
       ]
      },
      {
       "output_type": "stream",
       "stream": "stdout",
       "text": [
        " ('gaussian', 100.0, 0.59948425031894093)\n",
        "param: "
       ]
      },
      {
       "output_type": "stream",
       "stream": "stdout",
       "text": [
        " ('gaussian', 100.0, 1.6681005372000592)\n",
        "param: "
       ]
      },
      {
       "output_type": "stream",
       "stream": "stdout",
       "text": [
        " ('gaussian', 100.0, 4.6415888336127775)\n",
        "param: "
       ]
      },
      {
       "output_type": "stream",
       "stream": "stdout",
       "text": [
        " ('gaussian', 100.0, 12.915496650148826)\n",
        "param: "
       ]
      },
      {
       "output_type": "stream",
       "stream": "stdout",
       "text": [
        " ('gaussian', 100.0, 35.938136638046259)\n",
        "param: "
       ]
      },
      {
       "output_type": "stream",
       "stream": "stdout",
       "text": [
        " ('gaussian', 100.0, 100.0)\n"
       ]
      }
     ],
     "prompt_number": 21
    },
    {
     "cell_type": "code",
     "collapsed": false,
     "input": [
      "print 'kernel: ', cvkrr.kernel\n",
      "print 'kernelparameter: ', cvkrr.kernelparameter\n",
      "print 'regularization: ', cvkrr.C\n",
      "print 'cvloss: ', cvkrr.cvloss\n",
      "print 'Total SVs: ', len(cvkrr.alpha_sv)\n",
      "print 'Total data points: ', len(easy_Ytr)\n",
      "print 'time: ', cvkrr.time / 3600, 'hours;', cvkrr.time, 'seconds'"
     ],
     "language": "python",
     "metadata": {},
     "outputs": [
      {
       "output_type": "stream",
       "stream": "stdout",
       "text": [
        "kernel:  gaussian\n",
        "kernelparameter:  0.215443469003\n",
        "regularization:  1.6681005372\n",
        "cvloss:  0.1\n",
        "Total SVs:  55\n",
        "Total data points:  100\n",
        "time:  0.959145730005 hours; 3452.92462802 seconds\n"
       ]
      }
     ],
     "prompt_number": 33
    },
    {
     "cell_type": "code",
     "collapsed": false,
     "input": [
      "imp.plot_svm_2d(easy_Xtr, easy_Ytr, cvkrr, title='SVM SMO run on easy_2d dataset')"
     ],
     "language": "python",
     "metadata": {},
     "outputs": [
      {
       "metadata": {},
       "output_type": "display_data",
       "png": "[encoded data removed]",
       "text": [
        "<matplotlib.figure.Figure at 0x106889c50>"
       ]
      }
     ],
     "prompt_number": 35
    },
    {
     "cell_type": "code",
     "collapsed": false,
     "input": [
      "cvkrr.predict(easy_Xte)\n",
      "easy_Ypred = cvkrr.ypred\n",
      "loss_Xte = float(np.sum(np.sign(easy_Yte) != np.sign(easy_Ypred)))/float(len(easy_Yte))\n",
      "print 'Loss easy_Xte: ', loss_Xte"
     ],
     "language": "python",
     "metadata": {},
     "outputs": [
      {
       "output_type": "stream",
       "stream": "stdout",
       "text": [
        "Loss easy_Xte:  0.01\n"
       ]
      }
     ],
     "prompt_number": 27
    },
    {
     "cell_type": "code",
     "collapsed": false,
     "input": [
      "cvkrr.predict(easy_Xtr)\n",
      "easy_Ypred = cvkrr.ypred\n",
      "loss_Xtr = float(np.sum(np.sign(easy_Ytr) != np.sign(easy_Ypred)))/float(len(easy_Ytr))\n",
      "print 'Loss easy_Xtr: ', loss_Xtr\n",
      "print 'cvkrr.kernelparameter: ', cvkrr.kernelparameter\n",
      "print 'cvkrr.C: ', cvkrr.C"
     ],
     "language": "python",
     "metadata": {},
     "outputs": [
      {
       "output_type": "stream",
       "stream": "stdout",
       "text": [
        "Loss easy_Xtr:  0.07\n",
        "cvkrr.kernelparameter:  0.215443469003\n",
        "cvkrr.C:  1.6681005372\n"
       ]
      }
     ],
     "prompt_number": 39
    },
    {
     "cell_type": "code",
     "collapsed": false,
     "input": [
      "kernelparam = cvkrr.kernelparameter\n",
      "C = np.logspace(-2, 2.5, 20)\n",
      "svm = imp.svm_smo(kernel='gaussian', C=0.01)\n",
      "Loss = np.ones(len(C))\n",
      "for i, c in enumerate(C):\n",
      "    print str(i+1) + ') ' + 'C: ' + str(c)\n",
      "    svm.fit(easy_Xtr, easy_Ytr, kernel='gaussian', kernelparameter = kernelparam, C=c)\n",
      "    svm.predict(easy_Xtr)\n",
      "    easy_Ypred = svm.ypred\n",
      "    loss = float(np.sum(np.sign(easy_Ytr) != np.sign(easy_Ypred)))/float(len(easy_Ytr))\n",
      "    Loss[i] = loss\n",
      "    "
     ],
     "language": "python",
     "metadata": {},
     "outputs": [
      {
       "output_type": "stream",
       "stream": "stdout",
       "text": [
        "1) C: 0.01\n",
        "2) C: 0.0172521054994"
       ]
      },
      {
       "output_type": "stream",
       "stream": "stdout",
       "text": [
        "\n",
        "3) C: 0.0297635144163"
       ]
      },
      {
       "output_type": "stream",
       "stream": "stdout",
       "text": [
        "\n",
        "4) C: 0.0513483290744"
       ]
      },
      {
       "output_type": "stream",
       "stream": "stdout",
       "text": [
        "\n",
        "5) C: 0.088586679041"
       ]
      },
      {
       "output_type": "stream",
       "stream": "stdout",
       "text": [
        "\n",
        "6) C: 0.152830673266"
       ]
      },
      {
       "output_type": "stream",
       "stream": "stdout",
       "text": [
        "\n",
        "7) C: 0.263665089873"
       ]
      },
      {
       "output_type": "stream",
       "stream": "stdout",
       "text": [
        "\n",
        "8) C: 0.4548777947"
       ]
      },
      {
       "output_type": "stream",
       "stream": "stdout",
       "text": [
        "\n",
        "9) C: 0.784759970351"
       ]
      },
      {
       "output_type": "stream",
       "stream": "stdout",
       "text": [
        "\n",
        "10) C: 1.35387618002"
       ]
      },
      {
       "output_type": "stream",
       "stream": "stdout",
       "text": [
        "\n",
        "11) C: 2.33572146909"
       ]
      },
      {
       "output_type": "stream",
       "stream": "stdout",
       "text": [
        "\n",
        "12) C: 4.0296113202"
       ]
      },
      {
       "output_type": "stream",
       "stream": "stdout",
       "text": [
        "\n",
        "13) C: 6.95192796178"
       ]
      },
      {
       "output_type": "stream",
       "stream": "stdout",
       "text": [
        "\n",
        "14) C: 11.9935394621"
       ]
      },
      {
       "output_type": "stream",
       "stream": "stdout",
       "text": [
        "\n",
        "15) C: 20.6913808111"
       ]
      },
      {
       "output_type": "stream",
       "stream": "stdout",
       "text": [
        "\n",
        "16) C: 35.6969884683"
       ]
      },
      {
       "output_type": "stream",
       "stream": "stdout",
       "text": [
        "\n",
        "17) C: 61.5848211066"
       ]
      },
      {
       "output_type": "stream",
       "stream": "stdout",
       "text": [
        "\n",
        "18) C: 106.246783089"
       ]
      },
      {
       "output_type": "stream",
       "stream": "stdout",
       "text": [
        "\n",
        "19) C: 183.298071083"
       ]
      },
      {
       "output_type": "stream",
       "stream": "stdout",
       "text": [
        "\n",
        "20) C: 316.227766017"
       ]
      },
      {
       "output_type": "stream",
       "stream": "stdout",
       "text": [
        "\n"
       ]
      }
     ],
     "prompt_number": 75
    },
    {
     "cell_type": "code",
     "collapsed": false,
     "input": [
      "c = cvkrr.C\n",
      "kernelparams = np.logspace(-2, 2.5, 20)\n",
      "svm = imp.svm_smo()\n",
      "Loss_Sigma = np.ones(len(kernelparams))\n",
      "for i, kp in enumerate(kernelparams):\n",
      "    print str(i+1) + ') ' + 'Kernelparameter: ' + str(kp)\n",
      "    svm.fit(easy_Xtr, easy_Ytr, kernel='gaussian', kernelparameter = kp, C=c)\n",
      "    svm.predict(easy_Xtr)\n",
      "    easy_Ypred = svm.ypred\n",
      "    loss = float(np.sum(np.sign(easy_Ytr) != np.sign(easy_Ypred)))/float(len(easy_Ytr))\n",
      "    Loss_Sigma[i] = loss"
     ],
     "language": "python",
     "metadata": {},
     "outputs": [
      {
       "output_type": "stream",
       "stream": "stdout",
       "text": [
        "1) Kernelparameter: 0.01\n",
        "2) Kernelparameter: 0.0172521054994"
       ]
      },
      {
       "output_type": "stream",
       "stream": "stdout",
       "text": [
        "\n",
        "3) Kernelparameter: 0.0297635144163"
       ]
      },
      {
       "output_type": "stream",
       "stream": "stdout",
       "text": [
        "\n",
        "4) Kernelparameter: 0.0513483290744"
       ]
      },
      {
       "output_type": "stream",
       "stream": "stdout",
       "text": [
        "\n",
        "5) Kernelparameter: 0.088586679041"
       ]
      },
      {
       "output_type": "stream",
       "stream": "stdout",
       "text": [
        "\n",
        "6) Kernelparameter: 0.152830673266"
       ]
      },
      {
       "output_type": "stream",
       "stream": "stdout",
       "text": [
        "\n",
        "7) Kernelparameter: 0.263665089873"
       ]
      },
      {
       "output_type": "stream",
       "stream": "stdout",
       "text": [
        "\n",
        "8) Kernelparameter: 0.4548777947"
       ]
      },
      {
       "output_type": "stream",
       "stream": "stdout",
       "text": [
        "\n",
        "9) Kernelparameter: 0.784759970351"
       ]
      },
      {
       "output_type": "stream",
       "stream": "stdout",
       "text": [
        "\n",
        "10) Kernelparameter: 1.35387618002"
       ]
      },
      {
       "output_type": "stream",
       "stream": "stdout",
       "text": [
        "\n",
        "11) Kernelparameter: 2.33572146909"
       ]
      },
      {
       "output_type": "stream",
       "stream": "stdout",
       "text": [
        "\n",
        "12) Kernelparameter: 4.0296113202"
       ]
      },
      {
       "output_type": "stream",
       "stream": "stdout",
       "text": [
        "\n",
        "13) Kernelparameter: 6.95192796178"
       ]
      },
      {
       "output_type": "stream",
       "stream": "stdout",
       "text": [
        "\n",
        "14) Kernelparameter: 11.9935394621"
       ]
      },
      {
       "output_type": "stream",
       "stream": "stdout",
       "text": [
        "\n",
        "15) Kernelparameter: 20.6913808111"
       ]
      },
      {
       "output_type": "stream",
       "stream": "stdout",
       "text": [
        "\n",
        "16) Kernelparameter: 35.6969884683"
       ]
      },
      {
       "output_type": "stream",
       "stream": "stdout",
       "text": [
        "\n",
        "17) Kernelparameter: 61.5848211066"
       ]
      },
      {
       "output_type": "stream",
       "stream": "stdout",
       "text": [
        "\n",
        "18) Kernelparameter: 106.246783089"
       ]
      },
      {
       "output_type": "stream",
       "stream": "stdout",
       "text": [
        "\n",
        "19) Kernelparameter: 183.298071083"
       ]
      },
      {
       "output_type": "stream",
       "stream": "stdout",
       "text": [
        "\n",
        "20) Kernelparameter: 316.227766017"
       ]
      },
      {
       "output_type": "stream",
       "stream": "stdout",
       "text": [
        "\n"
       ]
      }
     ],
     "prompt_number": 72
    },
    {
     "cell_type": "code",
     "collapsed": false,
     "input": [
      "X0 = np.logspace(-2,2.5, 20)\n",
      "fig = pl.figure()\n",
      "ax = fig.add_subplot(111)\n",
      "ax.plot(np.linspace(0, 1, 20), Loss)\n",
      "ax.set_xlim(-0.2, 1.2)\n",
      "ax.set_ylim(-0.1, 0.6)\n",
      "X0_min, X0_max = np.min(X0), np.max(X0)\n",
      "X0 = np.linspace(X0_min, X0_max, 6)\n",
      "xnew = np.zeros(8)\n",
      "xnew[1:7] = X0\n",
      "xnew[0] = X0[0] - (X0[1] - X0[0])\n",
      "xnew[7] = X0[5] + (X0[1] - X0[0])\n",
      "ax.set_xticklabels(np.around(xnew, decimals=2))\n",
      "ax.set_title('Loss value of SMO with various $C$ and $\\sigma=0.2154$', fontweight='bold', fontsize=14)\n",
      "ax.set_xlabel('C', fontsize=14)\n",
      "ax.set_ylabel('Loss', fontsize=14)\n",
      "fig.savefig('loss_various_c.png')"
     ],
     "language": "python",
     "metadata": {},
     "outputs": [
      {
       "metadata": {},
       "output_type": "display_data",
       "png": "[encoded data removed]",
       "text": [
        "<matplotlib.figure.Figure at 0x10ad19150>"
       ]
      }
     ],
     "prompt_number": 108
    },
    {
     "cell_type": "code",
     "collapsed": false,
     "input": [
      "X0 = np.logspace(-2,2.5, 20)\n",
      "fig = pl.figure()\n",
      "ax = fig.add_subplot(111)\n",
      "ax.plot(np.linspace(0, 1, 20), Loss_Sigma)\n",
      "ax.set_xlim(-0.2, 1.2)\n",
      "ax.set_ylim(-0.1, 0.6)\n",
      "X0_min, X0_max = np.min(X0), np.max(X0)\n",
      "X0 = np.linspace(X0_min, X0_max, 6)\n",
      "xnew = np.zeros(8)\n",
      "xnew[1:7] = X0\n",
      "xnew[0] = X0[0] - (X0[1] - X0[0])\n",
      "xnew[7] = X0[5] + (X0[1] - X0[0])\n",
      "ax.set_xticklabels(np.around(xnew, decimals=2))\n",
      "ax.set_title('Loss value of SMO with various $\\sigma$ and $C=1.6681$', fontweight='bold', fontsize=14)\n",
      "ax.set_xlabel('$\\sigma$', fontsize=14)\n",
      "ax.set_ylabel('Loss', fontsize=14)\n",
      "pl.savefig('loss_various_sigma.png')"
     ],
     "language": "python",
     "metadata": {},
     "outputs": [
      {
       "metadata": {},
       "output_type": "display_data",
       "png": "[encoded data removed]",
       "text": [
        "<matplotlib.figure.Figure at 0x10ad3ddd0>"
       ]
      }
     ],
     "prompt_number": 107
    },
    {
     "cell_type": "code",
     "collapsed": false,
     "input": [
      "svm = imp.svm_smo()\n",
      "svm.fit(easy_Xtr, easy_Ytr, kernel='gaussian', kernelparameter = 60, C=0.5)\n",
      "svm.predict(easy_Xtr)\n",
      "easy_Ypred = svm.ypred\n",
      "loss = float(np.sum(np.sign(easy_Ytr) != np.sign(easy_Ypred)))/float(len(easy_Ytr))\n",
      "print 'Loss: ', loss\n",
      "\n",
      "imp.plot_svm_2d(easy_Xtr, easy_Ytr, svm, title='SVM SMO with $\\sigma=300$ and $C=0.01$')"
     ],
     "language": "python",
     "metadata": {},
     "outputs": [
      {
       "output_type": "stream",
       "stream": "stdout",
       "text": [
        "Loss:  0.27\n"
       ]
      },
      {
       "metadata": {},
       "output_type": "display_data",
       "png": "[encoded data removed]",
       "text": [
        "<matplotlib.figure.Figure at 0x10adc8d90>"
       ]
      }
     ],
     "prompt_number": 122
    },
    {
     "cell_type": "code",
     "collapsed": false,
     "input": [
      "svm = imp.svm_smo()\n",
      "svm.fit(easy_Xtr, easy_Ytr, kernel='gaussian', kernelparameter = 0.21, C=200)\n",
      "svm.predict(easy_Xtr)\n",
      "easy_Ypred = svm.ypred\n",
      "loss = float(np.sum(np.sign(easy_Ytr) != np.sign(easy_Ypred)))/float(len(easy_Ytr))\n",
      "print 'Loss: ', loss\n",
      "\n",
      "imp.plot_svm_2d(easy_Xtr, easy_Ytr, svm, title='SVM SMO with $\\sigma=0.01$ and $C=300$')\n"
     ],
     "language": "python",
     "metadata": {},
     "outputs": [
      {
       "output_type": "stream",
       "stream": "stdout",
       "text": [
        "Loss:  0.0\n"
       ]
      },
      {
       "metadata": {},
       "output_type": "display_data",
       "png": "[encoded data removed]",
       "text": [
        "<matplotlib.figure.Figure at 0x10ad75bd0>"
       ]
      }
     ],
     "prompt_number": 118
    },
    {
     "cell_type": "code",
     "collapsed": false,
     "input": [
      "#reg = cvkrr.C\n",
      "#sigma = cvkrr.kernelparameter\n",
      "B = np.linspace(-50, 100, 100)\n",
      "TPRs = np.zeros(len(B))\n",
      "FPRs = np.zeros(len(B))\n",
      "K = imp.buildKernel(easy_Xte, Y=cvkrr.X_sv, kernel=cvkrr.kernel, kernelparameter=cvkrr.kernelparameter)\n",
      "for idx, b in enumerate(B):\n",
      "    \n",
      "    p = np.sum(K * cvkrr.Y_sv[np.newaxis, :] * cvkrr.alpha_sv[np.newaxis, :], axis=1) + b\n",
      "    easy_ypred = np.sign(p)\n",
      "    results = np.zeros(len(easy_ypred), dtype=int)\n",
      "    results = easy_ypred + easy_Yte\n",
      "    total_pos = len(np.nonzero(easy_Yte==1)[0])\n",
      "    total_neg = len(np.nonzero(easy_Yte==-1)[0])\n",
      "    results_TP = results == 2 # +2 if both true and prediction value are 1\n",
      "    results_TN = results == -2 # -2 if both true and prediction value are -1\n",
      "    TPR = np.sum(results_TP) / float(total_pos)\n",
      "    FPR = 1 - (np.sum(results_TN) / float(total_neg))\n",
      "    TPRs[idx] = TPR\n",
      "    FPRs[idx] = FPR\n",
      "    \n",
      "    \n",
      "    "
     ],
     "language": "python",
     "metadata": {},
     "outputs": [],
     "prompt_number": 135
    },
    {
     "cell_type": "code",
     "collapsed": false,
     "input": [
      "print TPRs\n",
      "print FPRs"
     ],
     "language": "python",
     "metadata": {},
     "outputs": [
      {
       "output_type": "stream",
       "stream": "stdout",
       "text": [
        "[ 0.    0.    0.    0.    0.    0.    0.    0.    0.    0.    0.    0.    0.\n",
        "  0.    0.    0.    0.    0.    0.    0.    0.    0.    0.    0.    0.    0.\n",
        "  0.    0.    0.    0.    0.    0.    0.    0.95  1.    1.    1.    1.    1.\n",
        "  1.    1.    1.    1.    1.    1.    1.    1.    1.    1.    1.    1.    1.\n",
        "  1.    1.    1.    1.    1.    1.    1.    1.    1.    1.    1.    1.    1.\n",
        "  1.    1.    1.    1.    1.    1.    1.    1.    1.    1.    1.    1.    1.\n",
        "  1.    1.    1.    1.    1.    1.    1.    1.    1.    1.    1.    1.    1.\n",
        "  1.    1.    1.    1.    1.    1.    1.    1.    1.  ]\n",
        "[ 0.    0.    0.    0.    0.    0.    0.    0.    0.    0.    0.    0.    0.\n",
        "  0.    0.    0.    0.    0.    0.    0.    0.    0.    0.    0.    0.    0.\n",
        "  0.    0.    0.    0.    0.    0.    0.    0.07  1.    1.    1.    1.    1.\n",
        "  1.    1.    1.    1.    1.    1.    1.    1.    1.    1.    1.    1.    1.\n",
        "  1.    1.    1.    1.    1.    1.    1.    1.    1.    1.    1.    1.    1.\n",
        "  1.    1.    1.    1.    1.    1.    1.    1.    1.    1.    1.    1.    1.\n",
        "  1.    1.    1.    1.    1.    1.    1.    1.    1.    1.    1.    1.    1.\n",
        "  1.    1.    1.    1.    1.    1.    1.    1.    1.  ]\n"
       ]
      }
     ],
     "prompt_number": 136
    },
    {
     "cell_type": "code",
     "collapsed": false,
     "input": [
      "inds = np.argsort(FPRs)\n",
      "FPRs = FPRs[inds]\n",
      "TPRs = TPRs[inds]\n",
      "fig = pl.figure()\n",
      "ax = fig.add_subplot(111)\n",
      "ax.plot(FPRs, TPRs)\n",
      "ax.set_ylim(np.min(TPRs), 1.1)\n",
      "ax.set_title('ROC Curve by varying b between -50 and 100')\n",
      "ax.set_xlabel('FPR', fontsize=14)\n",
      "ax.set_ylabel('TPR', fontsize=14)\n",
      "fig.savefig('ROC_Easy2D.png')"
     ],
     "language": "python",
     "metadata": {},
     "outputs": [
      {
       "metadata": {},
       "output_type": "display_data",
       "png": "[encoded data removed]",
       "text": [
        "<matplotlib.figure.Figure at 0x1027bbd10>"
       ]
      }
     ],
     "prompt_number": 141
    },
    {
     "cell_type": "code",
     "collapsed": false,
     "input": [],
     "language": "python",
     "metadata": {},
     "outputs": []
    }
   ],
   "metadata": {}
  }
 ]
}