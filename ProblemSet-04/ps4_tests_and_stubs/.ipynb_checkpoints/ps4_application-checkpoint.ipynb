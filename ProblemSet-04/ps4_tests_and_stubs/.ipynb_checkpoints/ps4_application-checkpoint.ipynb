{
 "metadata": {
  "name": "",
  "signature": "sha256:45fbf1068a1f26a3bd4229051e0c03af6e8e239612c35805e3ef29714d332df9"
 },
 "nbformat": 3,
 "nbformat_minor": 0,
 "worksheets": [
  {
   "cells": [
    {
     "cell_type": "code",
     "collapsed": false,
     "input": [
      "import numpy as np\n",
      "import random\n",
      "import matplotlib.pyplot as pl\n",
      "%matplotlib inline\n",
      "from scipy.stats import norm\n",
      "import pickle\n",
      "import time\n",
      "\n",
      "import ps4_implementation as imp\n",
      "imp = reload(imp)\n",
      "\n",
      "import ps3_implementation as imp3\n",
      "imp3 = reload(imp3)"
     ],
     "language": "python",
     "metadata": {},
     "outputs": [],
     "prompt_number": 2
    },
    {
     "cell_type": "code",
     "collapsed": false,
     "input": [
      "path = \"../Datasets/\"\n",
      "easy_2d = np.load(path + \"easy_2d.npz\")\n",
      "iris = np.load(path + \"iris.npz\")\n",
      "easy_Xtr = easy_2d['X_tr']\n",
      "easy_Ytr = easy_2d['Y_tr']\n",
      "easy_Xte = easy_2d['X_te']\n",
      "easy_Yte = easy_2d['Y_te']\n",
      "iris_X = iris['X']\n",
      "iris_Y = iris['Y']\n",
      "print 'easy_Xtr: ', easy_Xtr.shape\n",
      "print 'easy_Ytr: ', easy_Ytr.shape\n",
      "print 'easy_Xte: ', easy_Xte.shape\n",
      "print 'easy_Yte: ', easy_Yte.shape\n",
      "print 'iris_X: ', iris_X.shape\n",
      "print 'iris_Y: ', iris_Y.shape"
     ],
     "language": "python",
     "metadata": {},
     "outputs": [
      {
       "output_type": "stream",
       "stream": "stdout",
       "text": [
        "easy_Xtr:  (2, 100)\n",
        "easy_Ytr:  (100,)\n",
        "easy_Xte:  (2, 100)\n",
        "easy_Yte:  (100,)\n",
        "iris_X:  (4, 135)\n",
        "iris_Y:  (135,)\n"
       ]
      }
     ],
     "prompt_number": 3
    },
    {
     "cell_type": "code",
     "collapsed": false,
     "input": [
      "easy_Xtr_pos = easy_Xtr[:, np.nonzero(easy_Ytr == 1)[0]]\n",
      "easy_Xtr_neg = easy_Xtr[:, np.nonzero(easy_Ytr == -1)[0]]\n",
      "print 'easy_Xtr_pos: ', easy_Xtr_pos.shape\n",
      "print 'easy_Xtr_neg: ', easy_Xtr_neg.shape\n",
      "pl.scatter(easy_Xtr_pos[0], easy_Xtr_pos[1], c='red')\n",
      "pl.scatter(easy_Xtr_neg[0], easy_Xtr_neg[1], c='blue')"
     ],
     "language": "python",
     "metadata": {},
     "outputs": [
      {
       "output_type": "stream",
       "stream": "stdout",
       "text": [
        "easy_Xtr_pos:  (2, 50)\n",
        "easy_Xtr_neg:  (2, 50)\n"
       ]
      },
      {
       "metadata": {},
       "output_type": "pyout",
       "prompt_number": 4,
       "text": [
        "<matplotlib.collections.PathCollection at 0x10687ae50>"
       ]
      },
      {
       "metadata": {},
       "output_type": "display_data",
       "png": "[encoded data removed]",
       "text": [
        "<matplotlib.figure.Figure at 0x1067ffc90>"
       ]
      }
     ],
     "prompt_number": 4
    },
    {
     "cell_type": "code",
     "collapsed": false,
     "input": [
      "params = [ 'kernel',['gaussian'], 'kernelparam', np.logspace(-2,2,10), 'regularization', np.logspace(-2,2,10)]\n",
      "svm = imp.svm_smo(kernel='gaussian', C=0.1) \n",
      "\n",
      "cvkrr = imp3.cv(easy_Xtr, easy_Ytr[np.newaxis, :], svm, params, nrepetitions=2) # use default nfolds=10 and nrepetitions=5\n",
      "#cvkrr.predict(easy_Xte)"
     ],
     "language": "python",
     "metadata": {},
     "outputs": [
      {
       "output_type": "stream",
       "stream": "stdout",
       "text": [
        "param:  ('gaussian', 0.01, 0.01)\n",
        "b_sv: "
       ]
      },
      {
       "output_type": "stream",
       "stream": "stdout",
       "text": [
        " -0.990353067569\n",
        "b_sv: "
       ]
      },
      {
       "output_type": "stream",
       "stream": "stdout",
       "text": [
        " 0.985879316488\n",
        "b_sv: "
       ]
      },
      {
       "output_type": "stream",
       "stream": "stdout",
       "text": [
        " 0.984870899944\n",
        "b_sv: "
       ]
      },
      {
       "output_type": "stream",
       "stream": "stdout",
       "text": [
        " 0.989719221666\n",
        "b_sv: "
       ]
      },
      {
       "output_type": "stream",
       "stream": "stdout",
       "text": [
        " 0.990270164132\n",
        "b_sv: "
       ]
      },
      {
       "output_type": "stream",
       "stream": "stdout",
       "text": [
        " -0.991180414233\n",
        "b_sv: "
       ]
      },
      {
       "output_type": "stream",
       "stream": "stdout",
       "text": [
        " 0.990714365041\n",
        "b_sv: "
       ]
      },
      {
       "output_type": "stream",
       "stream": "stdout",
       "text": [
        " 0.990271138052\n",
        "b_sv: "
       ]
      },
      {
       "output_type": "stream",
       "stream": "stdout",
       "text": [
        " 0.990278585036\n",
        "b_sv: "
       ]
      },
      {
       "output_type": "stream",
       "stream": "stdout",
       "text": [
        " -0.990356088683\n",
        "b_sv: "
       ]
      },
      {
       "output_type": "stream",
       "stream": "stdout",
       "text": [
        " -0.990351021562\n",
        "b_sv: "
       ]
      },
      {
       "output_type": "stream",
       "stream": "stdout",
       "text": [
        " -0.990350132105\n",
        "b_sv: "
       ]
      },
      {
       "output_type": "stream",
       "stream": "stdout",
       "text": [
        " 0.990708224802\n",
        "b_sv: "
       ]
      },
      {
       "output_type": "stream",
       "stream": "stdout",
       "text": [
        " 0.984831858934\n",
        "b_sv: "
       ]
      },
      {
       "output_type": "stream",
       "stream": "stdout",
       "text": [
        " -0.990431344401\n",
        "b_sv: "
       ]
      },
      {
       "output_type": "stream",
       "stream": "stdout",
       "text": [
        " 0.989721501639\n",
        "b_sv: "
       ]
      },
      {
       "output_type": "stream",
       "stream": "stdout",
       "text": [
        " -0.987878875257\n",
        "b_sv: "
       ]
      },
      {
       "output_type": "stream",
       "stream": "stdout",
       "text": [
        " -0.987721625716\n",
        "b_sv: "
       ]
      },
      {
       "output_type": "stream",
       "stream": "stdout",
       "text": [
        " -0.990350161756\n",
        "b_sv: "
       ]
      },
      {
       "output_type": "stream",
       "stream": "stdout",
       "text": [
        " 0.990699886708\n",
        " 1 / 100 parameter combinations completed. Estimated remaining time: 1227.104\n",
        "param:  ('gaussian', 0.01, 0.027825594022071243)\n",
        "b_sv: "
       ]
      },
      {
       "output_type": "stream",
       "stream": "stdout",
       "text": [
        " -0.965626473957\n",
        "b_sv: "
       ]
      },
      {
       "output_type": "stream",
       "stream": "stdout",
       "text": [
        " 0.972945636579\n",
        "b_sv: "
       ]
      },
      {
       "output_type": "stream",
       "stream": "stdout",
       "text": [
        " -0.97545822607\n",
        "b_sv: "
       ]
      },
      {
       "output_type": "stream",
       "stream": "stdout",
       "text": [
        " 0.974127533648\n",
        "b_sv: "
       ]
      },
      {
       "output_type": "stream",
       "stream": "stdout",
       "text": [
        " 0.975267520792\n",
        "b_sv: "
       ]
      },
      {
       "output_type": "stream",
       "stream": "stdout",
       "text": [
        " -0.972174864215\n",
        "b_sv: "
       ]
      },
      {
       "output_type": "stream",
       "stream": "stdout",
       "text": [
        " -0.974334303107\n",
        "b_sv: "
       ]
      },
      {
       "output_type": "stream",
       "stream": "stdout",
       "text": [
        " 0.972930887164\n",
        "b_sv: "
       ]
      },
      {
       "output_type": "stream",
       "stream": "stdout",
       "text": [
        " -0.973163043809\n",
        "b_sv: "
       ]
      },
      {
       "output_type": "stream",
       "stream": "stdout",
       "text": [
        " -0.973156623692\n",
        "b_sv: "
       ]
      },
      {
       "output_type": "stream",
       "stream": "stdout",
       "text": [
        " 0.971759486035\n",
        "b_sv: "
       ]
      },
      {
       "output_type": "stream",
       "stream": "stdout",
       "text": [
        " -0.973382552681\n",
        "b_sv: "
       ]
      },
      {
       "output_type": "stream",
       "stream": "stdout",
       "text": [
        " 0.972941625371\n",
        "b_sv: "
       ]
      },
      {
       "output_type": "stream",
       "stream": "stdout",
       "text": [
        " -0.974333360893\n",
        "b_sv: "
       ]
      },
      {
       "output_type": "stream",
       "stream": "stdout",
       "text": [
        " 0.972939972581\n",
        "b_sv: "
       ]
      },
      {
       "output_type": "stream",
       "stream": "stdout",
       "text": [
        " -0.973158776677\n",
        "b_sv: "
       ]
      },
      {
       "output_type": "stream",
       "stream": "stdout",
       "text": [
        " -0.974329780033\n",
        "b_sv: "
       ]
      },
      {
       "output_type": "stream",
       "stream": "stdout",
       "text": [
        " 0.972943816626\n",
        "b_sv: "
       ]
      },
      {
       "output_type": "stream",
       "stream": "stdout",
       "text": [
        " 0.974127229164\n",
        "b_sv: "
       ]
      },
      {
       "output_type": "stream",
       "stream": "stdout",
       "text": [
        " 0.973348535051\n",
        "param:  ('gaussian', 0.01, 0.077426368268112694)\n",
        "b_sv: "
       ]
      },
      {
       "output_type": "stream",
       "stream": "stdout",
       "text": [
        " 0.928020265558\n",
        "b_sv: "
       ]
      },
      {
       "output_type": "stream",
       "stream": "stdout",
       "text": [
        " 0.924701746756\n",
        "b_sv: "
       ]
      },
      {
       "output_type": "stream",
       "stream": "stdout",
       "text": [
        " -0.925322733542\n",
        "b_sv: "
       ]
      },
      {
       "output_type": "stream",
       "stream": "stdout",
       "text": [
        " -0.931703350609\n",
        "b_sv: "
       ]
      },
      {
       "output_type": "stream",
       "stream": "stdout",
       "text": [
        " -0.934705388421\n",
        "b_sv: "
       ]
      },
      {
       "output_type": "stream",
       "stream": "stdout",
       "text": [
        " 0.924699630943\n",
        "b_sv: "
       ]
      },
      {
       "output_type": "stream",
       "stream": "stdout",
       "text": [
        " 0.928003678401\n",
        "b_sv: "
       ]
      },
      {
       "output_type": "stream",
       "stream": "stdout",
       "text": [
        " 0.929062054979\n",
        "b_sv: "
       ]
      },
      {
       "output_type": "stream",
       "stream": "stdout",
       "text": [
        " 0.924702308313\n",
        "b_sv: "
       ]
      },
      {
       "output_type": "stream",
       "stream": "stdout",
       "text": [
        " -0.925327042803\n",
        "b_sv: "
       ]
      },
      {
       "output_type": "stream",
       "stream": "stdout",
       "text": [
        " 0.924809086888\n",
        "b_sv: "
       ]
      },
      {
       "output_type": "stream",
       "stream": "stdout",
       "text": [
        " 0.920316659571\n",
        "b_sv: "
       ]
      },
      {
       "output_type": "stream",
       "stream": "stdout",
       "text": [
        " -0.925322830527\n",
        "b_sv: "
       ]
      },
      {
       "output_type": "stream",
       "stream": "stdout",
       "text": [
        " -0.92858264999\n",
        "b_sv: "
       ]
      },
      {
       "output_type": "stream",
       "stream": "stdout",
       "text": [
        " -0.910145822585\n",
        "b_sv: "
       ]
      },
      {
       "output_type": "stream",
       "stream": "stdout",
       "text": [
        " -0.925312534717\n",
        "b_sv: "
       ]
      },
      {
       "output_type": "stream",
       "stream": "stdout",
       "text": [
        " -0.925320009007\n",
        "b_sv: "
       ]
      },
      {
       "output_type": "stream",
       "stream": "stdout",
       "text": [
        " 0.928007923523\n",
        "b_sv: "
       ]
      },
      {
       "output_type": "stream",
       "stream": "stdout",
       "text": [
        " 0.928002550206\n",
        "b_sv: "
       ]
      },
      {
       "output_type": "stream",
       "stream": "stdout",
       "text": [
        " 0.882208996349\n",
        "param:  ('gaussian', 0.01, 0.21544346900318834)\n",
        "b_sv: "
       ]
      },
      {
       "output_type": "stream",
       "stream": "stdout",
       "text": [
        " -0.733952913257\n",
        "b_sv: "
       ]
      },
      {
       "output_type": "stream",
       "stream": "stdout",
       "text": [
        " 0.780093230375\n",
        "b_sv: "
       ]
      },
      {
       "output_type": "stream",
       "stream": "stdout",
       "text": [
        " -0.801275829523\n",
        "b_sv: "
       ]
      },
      {
       "output_type": "stream",
       "stream": "stdout",
       "text": [
        " -0.792199020904\n",
        "b_sv: "
       ]
      },
      {
       "output_type": "stream",
       "stream": "stdout",
       "text": [
        " 0.799670777173\n",
        "b_sv: "
       ]
      },
      {
       "output_type": "stream",
       "stream": "stdout",
       "text": [
        " -0.801276888683\n",
        "b_sv: "
       ]
      },
      {
       "output_type": "stream",
       "stream": "stdout",
       "text": [
        " 0.671750005387\n",
        "b_sv: "
       ]
      },
      {
       "output_type": "stream",
       "stream": "stdout",
       "text": [
        " 0.81690929893\n",
        "b_sv: "
       ]
      },
      {
       "output_type": "stream",
       "stream": "stdout",
       "text": [
        " 0.790482065192\n",
        "b_sv: "
       ]
      },
      {
       "output_type": "stream",
       "stream": "stdout",
       "text": [
        " -0.802890094721\n",
        "b_sv: "
       ]
      },
      {
       "output_type": "stream",
       "stream": "stdout",
       "text": [
        " -0.801277105301\n",
        "b_sv: "
       ]
      },
      {
       "output_type": "stream",
       "stream": "stdout",
       "text": [
        " 0.790483777988\n",
        "b_sv: "
       ]
      },
      {
       "output_type": "stream",
       "stream": "stdout",
       "text": [
        " 0.78455653103\n",
        "b_sv: "
       ]
      },
      {
       "output_type": "stream",
       "stream": "stdout",
       "text": [
        " -0.79220167442\n",
        "b_sv: "
       ]
      },
      {
       "output_type": "stream",
       "stream": "stdout",
       "text": [
        " -0.784498444516\n",
        "b_sv: "
       ]
      },
      {
       "output_type": "stream",
       "stream": "stdout",
       "text": [
        " -0.792192713873\n",
        "b_sv: "
       ]
      },
      {
       "output_type": "stream",
       "stream": "stdout",
       "text": [
        " 0.678012037352\n",
        "b_sv: "
       ]
      },
      {
       "output_type": "stream",
       "stream": "stdout",
       "text": [
        " 0.790494321715\n",
        "b_sv: "
       ]
      },
      {
       "output_type": "stream",
       "stream": "stdout",
       "text": [
        " 0.793622864531\n",
        "b_sv: "
       ]
      },
      {
       "output_type": "stream",
       "stream": "stdout",
       "text": [
        " 0.790482052918\n",
        "param:  ('gaussian', 0.01, 0.59948425031894093)\n",
        "b_sv: "
       ]
      },
      {
       "output_type": "stream",
       "stream": "stdout",
       "text": [
        " 0.442577725982\n",
        "b_sv: "
       ]
      },
      {
       "output_type": "stream",
       "stream": "stdout",
       "text": [
        " 0.0906933362684\n",
        "b_sv: "
       ]
      },
      {
       "output_type": "stream",
       "stream": "stdout",
       "text": [
        " 0.0866313537695\n",
        "b_sv: "
       ]
      },
      {
       "output_type": "stream",
       "stream": "stdout",
       "text": [
        " 0.417004786574\n",
        "b_sv: "
       ]
      },
      {
       "output_type": "stream",
       "stream": "stdout",
       "text": [
        " -0.44703829391\n",
        "b_sv: "
       ]
      },
      {
       "output_type": "stream",
       "stream": "stdout",
       "text": [
        " -0.451517321431\n",
        "b_sv: "
       ]
      },
      {
       "output_type": "stream",
       "stream": "stdout",
       "text": [
        " -0.421774919207\n",
        "b_sv: "
       ]
      },
      {
       "output_type": "stream",
       "stream": "stdout",
       "text": [
        " -0.421785276287\n",
        "b_sv: "
       ]
      },
      {
       "output_type": "stream",
       "stream": "stdout",
       "text": [
        " 0.383853034506\n",
        "b_sv: "
       ]
      },
      {
       "output_type": "stream",
       "stream": "stdout",
       "text": [
        " 0.467141684502\n",
        "b_sv: "
       ]
      },
      {
       "output_type": "stream",
       "stream": "stdout",
       "text": [
        " -0.400371969335\n",
        "b_sv: "
       ]
      },
      {
       "output_type": "stream",
       "stream": "stdout",
       "text": [
        " 0.147911868432\n",
        "b_sv: "
       ]
      },
      {
       "output_type": "stream",
       "stream": "stdout",
       "text": [
        " 0.382654756109\n",
        "b_sv: "
       ]
      },
      {
       "output_type": "stream",
       "stream": "stdout",
       "text": [
        " -0.261015919059\n",
        "b_sv: "
       ]
      },
      {
       "output_type": "stream",
       "stream": "stdout",
       "text": [
        " -0.447043467861\n",
        "b_sv: "
       ]
      },
      {
       "output_type": "stream",
       "stream": "stdout",
       "text": [
        " 0.102862146352\n",
        "b_sv: "
       ]
      },
      {
       "output_type": "stream",
       "stream": "stdout",
       "text": [
        " 0.386812766918\n",
        "b_sv: "
       ]
      },
      {
       "output_type": "stream",
       "stream": "stdout",
       "text": [
        " -0.421780612136\n",
        "b_sv: "
       ]
      },
      {
       "output_type": "stream",
       "stream": "stdout",
       "text": [
        " 0.417749993965\n",
        "b_sv: "
       ]
      },
      {
       "output_type": "stream",
       "stream": "stdout",
       "text": [
        " 0.442573798905\n",
        "param:  ('gaussian', 0.01, 1.6681005372000592)\n",
        "b_sv: "
       ]
      },
      {
       "output_type": "stream",
       "stream": "stdout",
       "text": [
        " -0.026635203911\n",
        "b_sv: "
       ]
      },
      {
       "output_type": "stream",
       "stream": "stdout",
       "text": [
        " 0.0408129142475\n",
        "b_sv: "
       ]
      },
      {
       "output_type": "stream",
       "stream": "stdout",
       "text": [
        " -0.00779540044288\n",
        "b_sv: "
       ]
      },
      {
       "output_type": "stream",
       "stream": "stdout",
       "text": [
        " -0.0301898734824\n",
        "b_sv: "
       ]
      },
      {
       "output_type": "stream",
       "stream": "stdout",
       "text": [
        " -0.0492199970513\n",
        "b_sv: "
       ]
      },
      {
       "output_type": "stream",
       "stream": "stdout",
       "text": [
        " 0.018381974435\n",
        "b_sv: "
       ]
      },
      {
       "output_type": "stream",
       "stream": "stdout",
       "text": [
        " -0.00420741936111\n",
        "b_sv: "
       ]
      },
      {
       "output_type": "stream",
       "stream": "stdout",
       "text": [
        " -0.00416626708417\n",
        "b_sv: "
       ]
      },
      {
       "output_type": "stream",
       "stream": "stdout",
       "text": [
        " -0.0267058484051\n",
        "b_sv: "
       ]
      },
      {
       "output_type": "stream",
       "stream": "stdout",
       "text": [
        " 0.048172966124\n",
        "b_sv: "
       ]
      },
      {
       "output_type": "stream",
       "stream": "stdout",
       "text": [
        " 0.0633223978559\n",
        "b_sv: "
       ]
      },
      {
       "output_type": "stream",
       "stream": "stdout",
       "text": [
        " -0.0266367806716\n",
        "b_sv: "
       ]
      },
      {
       "output_type": "stream",
       "stream": "stdout",
       "text": [
        " -0.026680873894\n",
        "b_sv: "
       ]
      },
      {
       "output_type": "stream",
       "stream": "stdout",
       "text": [
        " 0.0408158382658\n",
        "b_sv: "
       ]
      },
      {
       "output_type": "stream",
       "stream": "stdout",
       "text": [
        " -0.0267091369338\n",
        "b_sv: "
       ]
      },
      {
       "output_type": "stream",
       "stream": "stdout",
       "text": [
        " -0.0260056160743\n",
        "b_sv: "
       ]
      },
      {
       "output_type": "stream",
       "stream": "stdout",
       "text": [
        " -0.0307838733121\n",
        "b_sv: "
       ]
      },
      {
       "output_type": "stream",
       "stream": "stdout",
       "text": [
        " -0.0411538540363\n",
        "b_sv: "
       ]
      },
      {
       "output_type": "stream",
       "stream": "stdout",
       "text": [
        " 0.0139561465511\n",
        "b_sv: "
       ]
      },
      {
       "output_type": "stream",
       "stream": "stdout",
       "text": [
        " 0.0189423319841\n",
        "param:  ('gaussian', 0.01, 4.6415888336127775)\n",
        "b_sv: "
       ]
      },
      {
       "output_type": "stream",
       "stream": "stdout",
       "text": [
        " 0.0482107407035\n",
        "b_sv: "
       ]
      },
      {
       "output_type": "stream",
       "stream": "stdout",
       "text": [
        " -0.0267103956844\n",
        "b_sv: "
       ]
      },
      {
       "output_type": "stream",
       "stream": "stdout",
       "text": [
        " -0.0411578307492\n",
        "b_sv: "
       ]
      },
      {
       "output_type": "stream",
       "stream": "stdout",
       "text": [
        " -0.0484505494667\n",
        "b_sv: "
       ]
      },
      {
       "output_type": "stream",
       "stream": "stdout",
       "text": [
        " 0.0183057774474\n",
        "b_sv: "
       ]
      },
      {
       "output_type": "stream",
       "stream": "stdout",
       "text": [
        " -0.0266276269512\n",
        "b_sv: "
       ]
      },
      {
       "output_type": "stream",
       "stream": "stdout",
       "text": [
        " 0.0182998522077\n",
        "b_sv: "
       ]
      },
      {
       "output_type": "stream",
       "stream": "stdout",
       "text": [
        " 0.0364012707973\n",
        "b_sv: "
       ]
      },
      {
       "output_type": "stream",
       "stream": "stdout",
       "text": [
        " -0.0260466770655\n",
        "b_sv: "
       ]
      },
      {
       "output_type": "stream",
       "stream": "stdout",
       "text": [
        " 0.0139555547794\n",
        "b_sv: "
       ]
      },
      {
       "output_type": "stream",
       "stream": "stdout",
       "text": [
        " 0.0364457606313\n",
        "b_sv: "
       ]
      },
      {
       "output_type": "stream",
       "stream": "stdout",
       "text": [
        " 0.0363652982453\n",
        "b_sv: "
       ]
      },
      {
       "output_type": "stream",
       "stream": "stdout",
       "text": [
        " -0.0492171632742\n",
        "b_sv: "
       ]
      },
      {
       "output_type": "stream",
       "stream": "stdout",
       "text": [
        " 0.0408073454226\n",
        "b_sv: "
       ]
      },
      {
       "output_type": "stream",
       "stream": "stdout",
       "text": [
        " -0.0260393080905\n",
        "b_sv: "
       ]
      },
      {
       "output_type": "stream",
       "stream": "stdout",
       "text": [
        " -0.00411778667206\n",
        "b_sv: "
       ]
      },
      {
       "output_type": "stream",
       "stream": "stdout",
       "text": [
        " 0.0264717018568\n",
        "b_sv: "
       ]
      },
      {
       "output_type": "stream",
       "stream": "stdout",
       "text": [
        " -0.0491791005759\n",
        "b_sv: "
       ]
      },
      {
       "output_type": "stream",
       "stream": "stdout",
       "text": [
        " 0.00353409901752\n",
        "b_sv: "
       ]
      },
      {
       "output_type": "stream",
       "stream": "stdout",
       "text": [
        " -0.0492198215298\n",
        "param:  ('gaussian', 0.01, 12.915496650148826)\n",
        "b_sv: "
       ]
      },
      {
       "output_type": "stream",
       "stream": "stdout",
       "text": [
        " 0.00350295785744\n",
        "b_sv: "
       ]
      },
      {
       "output_type": "stream",
       "stream": "stdout",
       "text": [
        " 0.00422920855294\n",
        "b_sv: "
       ]
      },
      {
       "output_type": "stream",
       "stream": "stdout",
       "text": [
        " -0.00834021341743\n",
        "b_sv: "
       ]
      },
      {
       "output_type": "stream",
       "stream": "stdout",
       "text": [
        " -0.00416722084987\n",
        "b_sv: "
       ]
      },
      {
       "output_type": "stream",
       "stream": "stdout",
       "text": [
        " 0.0183083769023\n",
        "b_sv: "
       ]
      },
      {
       "output_type": "stream",
       "stream": "stdout",
       "text": [
        " -0.00419985212217\n",
        "b_sv: "
       ]
      },
      {
       "output_type": "stream",
       "stream": "stdout",
       "text": [
        " -0.0267086784352\n",
        "b_sv: "
       ]
      },
      {
       "output_type": "stream",
       "stream": "stdout",
       "text": [
        " 0.0408138144611\n",
        "b_sv: "
       ]
      },
      {
       "output_type": "stream",
       "stream": "stdout",
       "text": [
        " -0.0485237434214\n",
        "b_sv: "
       ]
      },
      {
       "output_type": "stream",
       "stream": "stdout",
       "text": [
        " -0.00420809608002\n",
        "b_sv: "
       ]
      },
      {
       "output_type": "stream",
       "stream": "stdout",
       "text": [
        " 0.0408081086249\n",
        "b_sv: "
       ]
      },
      {
       "output_type": "stream",
       "stream": "stdout",
       "text": [
        " -0.0451396585222\n",
        "b_sv: "
       ]
      },
      {
       "output_type": "stream",
       "stream": "stdout",
       "text": [
        " -0.000671914823892\n",
        "b_sv: "
       ]
      },
      {
       "output_type": "stream",
       "stream": "stdout",
       "text": [
        " -0.00420877098422\n",
        "b_sv: "
       ]
      },
      {
       "output_type": "stream",
       "stream": "stdout",
       "text": [
        " -0.0267061746649\n",
        "b_sv: "
       ]
      },
      {
       "output_type": "stream",
       "stream": "stdout",
       "text": [
        " -0.026709447353\n",
        "b_sv: "
       ]
      },
      {
       "output_type": "stream",
       "stream": "stdout",
       "text": [
        " -0.0035173576537\n",
        "b_sv: "
       ]
      },
      {
       "output_type": "stream",
       "stream": "stdout",
       "text": [
        " 0.0183077793245\n",
        "b_sv: "
       ]
      },
      {
       "output_type": "stream",
       "stream": "stdout",
       "text": [
        " -0.00416405164675\n",
        "b_sv: "
       ]
      },
      {
       "output_type": "stream",
       "stream": "stdout",
       "text": [
        " 0.0189507631476\n",
        "param:  ('gaussian', 0.01, 35.938136638046259)\n",
        "b_sv: "
       ]
      },
      {
       "output_type": "stream",
       "stream": "stdout",
       "text": [
        " -0.00350884148948\n",
        "b_sv: "
       ]
      },
      {
       "output_type": "stream",
       "stream": "stdout",
       "text": [
        " -0.0266267936312\n",
        "b_sv: "
       ]
      },
      {
       "output_type": "stream",
       "stream": "stdout",
       "text": [
        " -0.00420088037124\n",
        "b_sv: "
       ]
      },
      {
       "output_type": "stream",
       "stream": "stdout",
       "text": [
        " 0.0408869800268\n",
        "b_sv: "
       ]
      },
      {
       "output_type": "stream",
       "stream": "stdout",
       "text": [
        " -0.0267075014356\n",
        "b_sv: "
       ]
      },
      {
       "output_type": "stream",
       "stream": "stdout",
       "text": [
        " 0.036366820552\n",
        "b_sv: "
       ]
      },
      {
       "output_type": "stream",
       "stream": "stdout",
       "text": [
        " -0.00416659948398\n",
        "b_sv: "
       ]
      },
      {
       "output_type": "stream",
       "stream": "stdout",
       "text": [
        " -0.0445421344239\n",
        "b_sv: "
       ]
      },
      {
       "output_type": "stream",
       "stream": "stdout",
       "text": [
        " -0.00420902848762\n",
        "b_sv: "
       ]
      },
      {
       "output_type": "stream",
       "stream": "stdout",
       "text": [
        " 0.00350320951571\n",
        "b_sv: "
       ]
      },
      {
       "output_type": "stream",
       "stream": "stdout",
       "text": [
        " -0.108073629687\n",
        "b_sv: "
       ]
      },
      {
       "output_type": "stream",
       "stream": "stdout",
       "text": [
        " -0.026681126111\n",
        "b_sv: "
       ]
      },
      {
       "output_type": "stream",
       "stream": "stdout",
       "text": [
        " 0.0633537919625\n",
        "b_sv: "
       ]
      },
      {
       "output_type": "stream",
       "stream": "stdout",
       "text": [
        " -0.0485354926816\n",
        "b_sv: "
       ]
      },
      {
       "output_type": "stream",
       "stream": "stdout",
       "text": [
        " -0.0267064854861\n",
        "b_sv: "
       ]
      },
      {
       "output_type": "stream",
       "stream": "stdout",
       "text": [
        " -0.0267061525118\n",
        "b_sv: "
       ]
      },
      {
       "output_type": "stream",
       "stream": "stdout",
       "text": [
        " -0.00779427611908\n",
        "b_sv: "
       ]
      },
      {
       "output_type": "stream",
       "stream": "stdout",
       "text": [
        " 0.0858181671773\n",
        "b_sv: "
       ]
      },
      {
       "output_type": "stream",
       "stream": "stdout",
       "text": [
        " 0.0481795252566\n",
        "b_sv: "
       ]
      },
      {
       "output_type": "stream",
       "stream": "stdout",
       "text": [
        " 0.0139608406672\n",
        "param:  ('gaussian', 0.01, 100.0)\n",
        "b_sv: "
       ]
      },
      {
       "output_type": "stream",
       "stream": "stdout",
       "text": [
        " 0.0182929855008\n",
        "b_sv: "
       ]
      },
      {
       "output_type": "stream",
       "stream": "stdout",
       "text": [
        " -0.0035479153421\n",
        "b_sv: "
       ]
      },
      {
       "output_type": "stream",
       "stream": "stdout",
       "text": [
        " -0.0188224429777\n",
        "b_sv: "
       ]
      },
      {
       "output_type": "stream",
       "stream": "stdout",
       "text": [
        " -0.0634567043346\n",
        "b_sv: "
       ]
      },
      {
       "output_type": "stream",
       "stream": "stdout",
       "text": [
        " -0.0267067990607\n",
        "b_sv: "
       ]
      },
      {
       "output_type": "stream",
       "stream": "stdout",
       "text": [
        " 0.0189489197992\n",
        "b_sv: "
       ]
      },
      {
       "output_type": "stream",
       "stream": "stdout",
       "text": [
        " 0.0633881272073\n",
        "b_sv: "
       ]
      },
      {
       "output_type": "stream",
       "stream": "stdout",
       "text": [
        " -0.0307826319095\n",
        "b_sv: "
       ]
      },
      {
       "output_type": "stream",
       "stream": "stdout",
       "text": [
        " 0.0183345281181\n",
        "b_sv: "
       ]
      },
      {
       "output_type": "stream",
       "stream": "stdout",
       "text": [
        " -0.00845108130489\n",
        "b_sv: "
       ]
      },
      {
       "output_type": "stream",
       "stream": "stdout",
       "text": [
        " -0.0492159057311\n",
        "b_sv: "
       ]
      },
      {
       "output_type": "stream",
       "stream": "stdout",
       "text": [
        " -0.00845324642111\n",
        "b_sv: "
       ]
      },
      {
       "output_type": "stream",
       "stream": "stdout",
       "text": [
        " -0.0266697861568\n",
        "b_sv: "
       ]
      },
      {
       "output_type": "stream",
       "stream": "stdout",
       "text": [
        " -0.0308576877328\n",
        "b_sv: "
       ]
      },
      {
       "output_type": "stream",
       "stream": "stdout",
       "text": [
        " -0.0188322977402\n",
        "b_sv: "
       ]
      },
      {
       "output_type": "stream",
       "stream": "stdout",
       "text": [
        " -0.0491013682129\n",
        "b_sv: "
       ]
      },
      {
       "output_type": "stream",
       "stream": "stdout",
       "text": [
        " 0.0633095057322\n",
        "b_sv: "
       ]
      },
      {
       "output_type": "stream",
       "stream": "stdout",
       "text": [
        " 0.0639334842738\n",
        "b_sv: "
       ]
      },
      {
       "output_type": "stream",
       "stream": "stdout",
       "text": [
        " -0.00346569603022\n",
        "b_sv: "
       ]
      },
      {
       "output_type": "stream",
       "stream": "stdout",
       "text": [
        " 0.0258518275388\n",
        "param:  ('gaussian', 0.027825594022071243, 0.01)\n",
        "b_sv: "
       ]
      },
      {
       "output_type": "stream",
       "stream": "stdout",
       "text": [
        " 0.990104508426\n",
        "b_sv: "
       ]
      },
      {
       "output_type": "stream",
       "stream": "stdout",
       "text": [
        " 0.990250552819\n",
        "b_sv: "
       ]
      },
      {
       "output_type": "stream",
       "stream": "stdout",
       "text": [
        " -0.989342903048\n",
        "b_sv: "
       ]
      },
      {
       "output_type": "stream",
       "stream": "stdout",
       "text": [
        " 0.988061227159\n",
        "b_sv: "
       ]
      },
      {
       "output_type": "stream",
       "stream": "stdout",
       "text": [
        " -0.982849822952\n",
        "b_sv: "
       ]
      },
      {
       "output_type": "stream",
       "stream": "stdout",
       "text": [
        " -0.989693239033\n",
        "b_sv: "
       ]
      },
      {
       "output_type": "stream",
       "stream": "stdout",
       "text": [
        " 0.988052140808\n",
        "b_sv: "
       ]
      },
      {
       "output_type": "stream",
       "stream": "stdout",
       "text": [
        " -0.989317595704\n",
        "b_sv: "
       ]
      },
      {
       "output_type": "stream",
       "stream": "stdout",
       "text": [
        " -0.990682280545\n",
        "b_sv: "
       ]
      },
      {
       "output_type": "stream",
       "stream": "stdout",
       "text": [
        " -0.982444167278\n",
        "b_sv: "
       ]
      },
      {
       "output_type": "stream",
       "stream": "stdout",
       "text": [
        " 0.990558088071\n",
        "b_sv: "
       ]
      },
      {
       "output_type": "stream",
       "stream": "stdout",
       "text": [
        " 0.988901256344\n",
        "b_sv: "
       ]
      },
      {
       "output_type": "stream",
       "stream": "stdout",
       "text": [
        " 0.98819345711\n",
        "b_sv: "
       ]
      },
      {
       "output_type": "stream",
       "stream": "stdout",
       "text": [
        " -0.988938340127\n",
        "b_sv: "
       ]
      },
      {
       "output_type": "stream",
       "stream": "stdout",
       "text": [
        " -0.98937789221\n",
        "b_sv: "
       ]
      },
      {
       "output_type": "stream",
       "stream": "stdout",
       "text": [
        " -0.990081889271\n",
        "b_sv: "
       ]
      },
      {
       "output_type": "stream",
       "stream": "stdout",
       "text": [
        " 0.988910534731\n",
        "b_sv: "
       ]
      },
      {
       "output_type": "stream",
       "stream": "stdout",
       "text": [
        " -0.98258003251\n",
        "b_sv: "
       ]
      },
      {
       "output_type": "stream",
       "stream": "stdout",
       "text": [
        " -0.988899047226\n",
        "b_sv: "
       ]
      },
      {
       "output_type": "stream",
       "stream": "stdout",
       "text": [
        " -0.990370792617\n",
        "11 / 100 parameter combinations completed. Estimated remaining time: 1197.310\n",
        "param:  ('gaussian', 0.027825594022071243, 0.027825594022071243)\n",
        "b_sv: "
       ]
      },
      {
       "output_type": "stream",
       "stream": "stdout",
       "text": [
        " -0.970210276818\n",
        "b_sv: "
       ]
      },
      {
       "output_type": "stream",
       "stream": "stdout",
       "text": [
        " -0.972587908278\n",
        "b_sv: "
       ]
      },
      {
       "output_type": "stream",
       "stream": "stdout",
       "text": [
        " 0.966713060774\n",
        "b_sv: "
       ]
      },
      {
       "output_type": "stream",
       "stream": "stdout",
       "text": [
        " -0.972477396254\n",
        "b_sv: "
       ]
      },
      {
       "output_type": "stream",
       "stream": "stdout",
       "text": [
        " -0.969516486383\n",
        "b_sv: "
       ]
      },
      {
       "output_type": "stream",
       "stream": "stdout",
       "text": [
        " 0.968733265664\n",
        "b_sv: "
       ]
      },
      {
       "output_type": "stream",
       "stream": "stdout",
       "text": [
        " 0.972504111193\n",
        "b_sv: "
       ]
      },
      {
       "output_type": "stream",
       "stream": "stdout",
       "text": [
        " 0.948270920629\n",
        "b_sv: "
       ]
      },
      {
       "output_type": "stream",
       "stream": "stdout",
       "text": [
        " 0.970198485363\n",
        "b_sv: "
       ]
      },
      {
       "output_type": "stream",
       "stream": "stdout",
       "text": [
        " 0.966731795405\n",
        "b_sv: "
       ]
      },
      {
       "output_type": "stream",
       "stream": "stdout",
       "text": [
        " -0.955465343876\n",
        "b_sv: "
       ]
      },
      {
       "output_type": "stream",
       "stream": "stdout",
       "text": [
        " -0.97261916389\n",
        "b_sv: "
       ]
      },
      {
       "output_type": "stream",
       "stream": "stdout",
       "text": [
        " -0.971764236417\n",
        "b_sv: "
       ]
      },
      {
       "output_type": "stream",
       "stream": "stdout",
       "text": [
        " 0.966771793096\n",
        "b_sv: "
       ]
      },
      {
       "output_type": "stream",
       "stream": "stdout",
       "text": [
        " -0.971897253531\n",
        "b_sv: "
       ]
      },
      {
       "output_type": "stream",
       "stream": "stdout",
       "text": [
        " 0.969978882888\n",
        "b_sv: "
       ]
      },
      {
       "output_type": "stream",
       "stream": "stdout",
       "text": [
        " -0.970478016835\n",
        "b_sv: "
       ]
      },
      {
       "output_type": "stream",
       "stream": "stdout",
       "text": [
        " 0.972418751047\n",
        "b_sv: "
       ]
      },
      {
       "output_type": "stream",
       "stream": "stdout",
       "text": [
        " 0.947597568359\n",
        "b_sv: "
       ]
      },
      {
       "output_type": "stream",
       "stream": "stdout",
       "text": [
        " 0.971852412207\n",
        "param:  ('gaussian', 0.027825594022071243, 0.077426368268112694)\n",
        "b_sv: "
       ]
      },
      {
       "output_type": "stream",
       "stream": "stdout",
       "text": [
        " 0.907544306011\n",
        "b_sv: "
       ]
      },
      {
       "output_type": "stream",
       "stream": "stdout",
       "text": [
        " 0.912900792525\n",
        "b_sv: "
       ]
      },
      {
       "output_type": "stream",
       "stream": "stdout",
       "text": [
        " -0.897018390764\n",
        "b_sv: "
       ]
      },
      {
       "output_type": "stream",
       "stream": "stdout",
       "text": [
        " -0.914138792263\n",
        "b_sv: "
       ]
      },
      {
       "output_type": "stream",
       "stream": "stdout",
       "text": [
        " 0.920036568455\n",
        "b_sv: "
       ]
      },
      {
       "output_type": "stream",
       "stream": "stdout",
       "text": [
        " -0.916747115464\n",
        "b_sv: "
       ]
      },
      {
       "output_type": "stream",
       "stream": "stdout",
       "text": [
        " 0.907546169616\n",
        "b_sv: "
       ]
      },
      {
       "output_type": "stream",
       "stream": "stdout",
       "text": [
        " -0.9244025265\n",
        "b_sv: "
       ]
      },
      {
       "output_type": "stream",
       "stream": "stdout",
       "text": [
        " -0.914635520138\n",
        "b_sv: "
       ]
      },
      {
       "output_type": "stream",
       "stream": "stdout",
       "text": [
        " 0.916487616043\n",
        "b_sv: "
       ]
      },
      {
       "output_type": "stream",
       "stream": "stdout",
       "text": [
        " -0.924412354418\n",
        "b_sv: "
       ]
      },
      {
       "output_type": "stream",
       "stream": "stdout",
       "text": [
        " 0.905297340244\n",
        "b_sv: "
       ]
      },
      {
       "output_type": "stream",
       "stream": "stdout",
       "text": [
        " 0.924897322402\n",
        "b_sv: "
       ]
      },
      {
       "output_type": "stream",
       "stream": "stdout",
       "text": [
        " -0.914763155165\n",
        "b_sv: "
       ]
      },
      {
       "output_type": "stream",
       "stream": "stdout",
       "text": [
        " 0.924821750686\n",
        "b_sv: "
       ]
      },
      {
       "output_type": "stream",
       "stream": "stdout",
       "text": [
        " -0.917127251746\n",
        "b_sv: "
       ]
      },
      {
       "output_type": "stream",
       "stream": "stdout",
       "text": [
        " 0.907583158612\n",
        "b_sv: "
       ]
      },
      {
       "output_type": "stream",
       "stream": "stdout",
       "text": [
        " 0.856573094628\n",
        "b_sv: "
       ]
      },
      {
       "output_type": "stream",
       "stream": "stdout",
       "text": [
        " -0.923411562428\n",
        "b_sv: "
       ]
      },
      {
       "output_type": "stream",
       "stream": "stdout",
       "text": [
        " -0.862086303064\n",
        "param:  ('gaussian', 0.027825594022071243, 0.21544346900318834)\n",
        "b_sv: "
       ]
      },
      {
       "output_type": "stream",
       "stream": "stdout",
       "text": [
        " -0.789666618521\n",
        "b_sv: "
       ]
      },
      {
       "output_type": "stream",
       "stream": "stdout",
       "text": [
        " 0.742847250244\n",
        "b_sv: "
       ]
      },
      {
       "output_type": "stream",
       "stream": "stdout",
       "text": [
        " 0.787515553551\n",
        "b_sv: "
       ]
      },
      {
       "output_type": "stream",
       "stream": "stdout",
       "text": [
        " 0.797322962176\n",
        "b_sv: "
       ]
      },
      {
       "output_type": "stream",
       "stream": "stdout",
       "text": [
        " 0.597114222038\n",
        "b_sv: "
       ]
      },
      {
       "output_type": "stream",
       "stream": "stdout",
       "text": [
        " 0.589039699558\n",
        "b_sv: "
       ]
      },
      {
       "output_type": "stream",
       "stream": "stdout",
       "text": [
        " -0.770492637078\n",
        "b_sv: "
       ]
      },
      {
       "output_type": "stream",
       "stream": "stdout",
       "text": [
        " -0.786831649337\n",
        "b_sv: "
       ]
      },
      {
       "output_type": "stream",
       "stream": "stdout",
       "text": [
        " 0.600308166513\n",
        "b_sv: "
       ]
      },
      {
       "output_type": "stream",
       "stream": "stdout",
       "text": [
        " -0.761116306018\n",
        "b_sv: "
       ]
      },
      {
       "output_type": "stream",
       "stream": "stdout",
       "text": [
        " -0.768236403256\n",
        "b_sv: "
       ]
      },
      {
       "output_type": "stream",
       "stream": "stdout",
       "text": [
        " -0.789780615312\n",
        "b_sv: "
       ]
      },
      {
       "output_type": "stream",
       "stream": "stdout",
       "text": [
        " 0.761107400936\n",
        "b_sv: "
       ]
      },
      {
       "output_type": "stream",
       "stream": "stdout",
       "text": [
        " 0.742773765961\n",
        "b_sv: "
       ]
      },
      {
       "output_type": "stream",
       "stream": "stdout",
       "text": [
        " 0.753488500208\n",
        "b_sv: "
       ]
      },
      {
       "output_type": "stream",
       "stream": "stdout",
       "text": [
        " 0.75576693292\n",
        "b_sv: "
       ]
      },
      {
       "output_type": "stream",
       "stream": "stdout",
       "text": [
        " -0.761114705155\n",
        "b_sv: "
       ]
      },
      {
       "output_type": "stream",
       "stream": "stdout",
       "text": [
        " 0.742725632838\n",
        "b_sv: "
       ]
      },
      {
       "output_type": "stream",
       "stream": "stdout",
       "text": [
        " -0.771413004761\n",
        "b_sv: "
       ]
      },
      {
       "output_type": "stream",
       "stream": "stdout",
       "text": [
        " -0.71251545498\n",
        "param:  ('gaussian', 0.027825594022071243, 0.59948425031894093)\n",
        "b_sv: "
       ]
      },
      {
       "output_type": "stream",
       "stream": "stdout",
       "text": [
        " 0.14544595622\n",
        "b_sv: "
       ]
      },
      {
       "output_type": "stream",
       "stream": "stdout",
       "text": [
        " 0.320137567228\n",
        "b_sv: "
       ]
      },
      {
       "output_type": "stream",
       "stream": "stdout",
       "text": [
        " -0.414676124233\n",
        "b_sv: "
       ]
      },
      {
       "output_type": "stream",
       "stream": "stdout",
       "text": [
        " -0.342840993636\n",
        "b_sv: "
       ]
      },
      {
       "output_type": "stream",
       "stream": "stdout",
       "text": [
        " -0.0244250452567\n",
        "b_sv: "
       ]
      },
      {
       "output_type": "stream",
       "stream": "stdout",
       "text": [
        " 0.0578135361059\n",
        "b_sv: "
       ]
      },
      {
       "output_type": "stream",
       "stream": "stdout",
       "text": [
        " -0.402364940333\n",
        "b_sv: "
       ]
      },
      {
       "output_type": "stream",
       "stream": "stdout",
       "text": [
        " -0.381471912511\n",
        "b_sv: "
       ]
      },
      {
       "output_type": "stream",
       "stream": "stdout",
       "text": [
        " 0.44628804306\n",
        "b_sv: "
       ]
      },
      {
       "output_type": "stream",
       "stream": "stdout",
       "text": [
        " 0.284082553964\n",
        "b_sv: "
       ]
      },
      {
       "output_type": "stream",
       "stream": "stdout",
       "text": [
        " -0.420414688734\n",
        "b_sv: "
       ]
      },
      {
       "output_type": "stream",
       "stream": "stdout",
       "text": [
        " 0.284102749783\n",
        "b_sv: "
       ]
      },
      {
       "output_type": "stream",
       "stream": "stdout",
       "text": [
        " -0.134512421524\n",
        "b_sv: "
       ]
      },
      {
       "output_type": "stream",
       "stream": "stdout",
       "text": [
        " 0.0487682509525\n",
        "b_sv: "
       ]
      },
      {
       "output_type": "stream",
       "stream": "stdout",
       "text": [
        " 0.440438242862\n",
        "b_sv: "
       ]
      },
      {
       "output_type": "stream",
       "stream": "stdout",
       "text": [
        " -0.38075781517\n",
        "b_sv: "
       ]
      },
      {
       "output_type": "stream",
       "stream": "stdout",
       "text": [
        " -0.336869838988\n",
        "b_sv: "
       ]
      },
      {
       "output_type": "stream",
       "stream": "stdout",
       "text": [
        " 0.284090433008\n",
        "b_sv: "
       ]
      },
      {
       "output_type": "stream",
       "stream": "stdout",
       "text": [
        " -0.408682379341\n",
        "b_sv: "
       ]
      },
      {
       "output_type": "stream",
       "stream": "stdout",
       "text": [
        " 0.284087390358\n",
        "param:  ('gaussian', 0.027825594022071243, 1.6681005372000592)\n",
        "b_sv: "
       ]
      },
      {
       "output_type": "stream",
       "stream": "stdout",
       "text": [
        " 0.018362557784\n",
        "b_sv: "
       ]
      },
      {
       "output_type": "stream",
       "stream": "stdout",
       "text": [
        " 0.0209193906628\n",
        "b_sv: "
       ]
      },
      {
       "output_type": "stream",
       "stream": "stdout",
       "text": [
        " -0.0211949900923\n",
        "b_sv: "
       ]
      },
      {
       "output_type": "stream",
       "stream": "stdout",
       "text": [
        " 0.0149864029768\n",
        "b_sv: "
       ]
      },
      {
       "output_type": "stream",
       "stream": "stdout",
       "text": [
        " -0.00966554573837\n",
        "b_sv: "
       ]
      },
      {
       "output_type": "stream",
       "stream": "stdout",
       "text": [
        " -0.00860746158138\n",
        "b_sv: "
       ]
      },
      {
       "output_type": "stream",
       "stream": "stdout",
       "text": [
        " -0.00805980270628\n",
        "b_sv: "
       ]
      },
      {
       "output_type": "stream",
       "stream": "stdout",
       "text": [
        " -0.00734453244211\n",
        "b_sv: "
       ]
      },
      {
       "output_type": "stream",
       "stream": "stdout",
       "text": [
        " -0.00619938910479\n",
        "b_sv: "
       ]
      },
      {
       "output_type": "stream",
       "stream": "stdout",
       "text": [
        " -0.0311500433303\n",
        "b_sv: "
       ]
      },
      {
       "output_type": "stream",
       "stream": "stdout",
       "text": [
        " 0.000433720072814\n",
        "b_sv: "
       ]
      },
      {
       "output_type": "stream",
       "stream": "stdout",
       "text": [
        " -0.00316325180572\n",
        "b_sv: "
       ]
      },
      {
       "output_type": "stream",
       "stream": "stdout",
       "text": [
        " 0.0131990288414\n",
        "b_sv: "
       ]
      },
      {
       "output_type": "stream",
       "stream": "stdout",
       "text": [
        " 0.00889996920353\n",
        "b_sv: "
       ]
      },
      {
       "output_type": "stream",
       "stream": "stdout",
       "text": [
        " 0.0208803264764\n",
        "b_sv: "
       ]
      },
      {
       "output_type": "stream",
       "stream": "stdout",
       "text": [
        " -0.0343723137961\n",
        "b_sv: "
       ]
      },
      {
       "output_type": "stream",
       "stream": "stdout",
       "text": [
        " -0.0482584715229\n",
        "b_sv: "
       ]
      },
      {
       "output_type": "stream",
       "stream": "stdout",
       "text": [
        " 0.002675250402\n",
        "b_sv: "
       ]
      },
      {
       "output_type": "stream",
       "stream": "stdout",
       "text": [
        " -0.00440412247184\n",
        "b_sv: "
       ]
      },
      {
       "output_type": "stream",
       "stream": "stdout",
       "text": [
        " 0.0176327969594\n",
        "param:  ('gaussian', 0.027825594022071243, 4.6415888336127775)\n",
        "b_sv: "
       ]
      },
      {
       "output_type": "stream",
       "stream": "stdout",
       "text": [
        " -0.0799751811598\n",
        "b_sv: "
       ]
      },
      {
       "output_type": "stream",
       "stream": "stdout",
       "text": [
        " 0.0152042144506\n",
        "b_sv: "
       ]
      },
      {
       "output_type": "stream",
       "stream": "stdout",
       "text": [
        " -0.0569383602125\n",
        "b_sv: "
       ]
      },
      {
       "output_type": "stream",
       "stream": "stdout",
       "text": [
        " 0.00344890462706\n",
        "b_sv: "
       ]
      },
      {
       "output_type": "stream",
       "stream": "stdout",
       "text": [
        " -0.00816490654506\n",
        "b_sv: "
       ]
      },
      {
       "output_type": "stream",
       "stream": "stdout",
       "text": [
        " 0.0630783118798\n",
        "b_sv: "
       ]
      },
      {
       "output_type": "stream",
       "stream": "stdout",
       "text": [
        " 0.0424543830184\n",
        "b_sv: "
       ]
      },
      {
       "output_type": "stream",
       "stream": "stdout",
       "text": [
        " -0.00671556879179\n",
        "b_sv: "
       ]
      },
      {
       "output_type": "stream",
       "stream": "stdout",
       "text": [
        " -0.0283779237054\n",
        "b_sv: "
       ]
      },
      {
       "output_type": "stream",
       "stream": "stdout",
       "text": [
        " 0.0192565249013\n",
        "b_sv: "
       ]
      },
      {
       "output_type": "stream",
       "stream": "stdout",
       "text": [
        " -0.0184308414584\n",
        "b_sv: "
       ]
      },
      {
       "output_type": "stream",
       "stream": "stdout",
       "text": [
        " -0.0110094805353\n",
        "b_sv: "
       ]
      },
      {
       "output_type": "stream",
       "stream": "stdout",
       "text": [
        " -0.00596195102799\n",
        "b_sv: "
       ]
      },
      {
       "output_type": "stream",
       "stream": "stdout",
       "text": [
        " -0.01409153404\n",
        "b_sv: "
       ]
      },
      {
       "output_type": "stream",
       "stream": "stdout",
       "text": [
        " 0.0183024823012\n",
        "b_sv: "
       ]
      },
      {
       "output_type": "stream",
       "stream": "stdout",
       "text": [
        " -0.038555408583\n",
        "b_sv: "
       ]
      },
      {
       "output_type": "stream",
       "stream": "stdout",
       "text": [
        " -0.00826826333721\n",
        "b_sv: "
       ]
      },
      {
       "output_type": "stream",
       "stream": "stdout",
       "text": [
        " -0.00329526524857\n",
        "b_sv: "
       ]
      },
      {
       "output_type": "stream",
       "stream": "stdout",
       "text": [
        " -0.000971384618562\n",
        "b_sv: "
       ]
      },
      {
       "output_type": "stream",
       "stream": "stdout",
       "text": [
        " 0.0399078253791\n",
        "param:  ('gaussian', 0.027825594022071243, 12.915496650148826)\n",
        "b_sv: "
       ]
      },
      {
       "output_type": "stream",
       "stream": "stdout",
       "text": [
        " -0.0290764755521\n",
        "b_sv: "
       ]
      },
      {
       "output_type": "stream",
       "stream": "stdout",
       "text": [
        " -0.0112676223992\n",
        "b_sv: "
       ]
      },
      {
       "output_type": "stream",
       "stream": "stdout",
       "text": [
        " -0.0403023506852\n",
        "b_sv: "
       ]
      },
      {
       "output_type": "stream",
       "stream": "stdout",
       "text": [
        " -0.00346783022852\n",
        "b_sv: "
       ]
      },
      {
       "output_type": "stream",
       "stream": "stdout",
       "text": [
        " 0.0161478364778\n",
        "b_sv: "
       ]
      },
      {
       "output_type": "stream",
       "stream": "stdout",
       "text": [
        " -0.0106736416142\n",
        "b_sv: "
       ]
      },
      {
       "output_type": "stream",
       "stream": "stdout",
       "text": [
        " -0.00126854202299\n",
        "b_sv: "
       ]
      },
      {
       "output_type": "stream",
       "stream": "stdout",
       "text": [
        " -0.00362692400865\n",
        "b_sv: "
       ]
      },
      {
       "output_type": "stream",
       "stream": "stdout",
       "text": [
        " -0.0143197526254\n",
        "b_sv: "
       ]
      },
      {
       "output_type": "stream",
       "stream": "stdout",
       "text": [
        " 0.0616016209507\n",
        "b_sv: "
       ]
      },
      {
       "output_type": "stream",
       "stream": "stdout",
       "text": [
        " -0.00308331301321\n",
        "b_sv: "
       ]
      },
      {
       "output_type": "stream",
       "stream": "stdout",
       "text": [
        " 0.000220216240478\n",
        "b_sv: "
       ]
      },
      {
       "output_type": "stream",
       "stream": "stdout",
       "text": [
        " -0.0260148307657\n",
        "b_sv: "
       ]
      },
      {
       "output_type": "stream",
       "stream": "stdout",
       "text": [
        " 0.0525822550517\n",
        "b_sv: "
       ]
      },
      {
       "output_type": "stream",
       "stream": "stdout",
       "text": [
        " -0.0173133741014\n",
        "b_sv: "
       ]
      },
      {
       "output_type": "stream",
       "stream": "stdout",
       "text": [
        " -0.0566500637198\n",
        "b_sv: "
       ]
      },
      {
       "output_type": "stream",
       "stream": "stdout",
       "text": [
        " 0.021917217037\n",
        "b_sv: "
       ]
      },
      {
       "output_type": "stream",
       "stream": "stdout",
       "text": [
        " -0.0118279275331\n",
        "b_sv: "
       ]
      },
      {
       "output_type": "stream",
       "stream": "stdout",
       "text": [
        " -0.0290044272723\n",
        "b_sv: "
       ]
      },
      {
       "output_type": "stream",
       "stream": "stdout",
       "text": [
        " 0.0334544096681\n",
        "param:  ('gaussian', 0.027825594022071243, 35.938136638046259)\n",
        "b_sv: "
       ]
      },
      {
       "output_type": "stream",
       "stream": "stdout",
       "text": [
        " -0.0663438415838\n",
        "b_sv: "
       ]
      },
      {
       "output_type": "stream",
       "stream": "stdout",
       "text": [
        " -0.0533771647899\n",
        "b_sv: "
       ]
      },
      {
       "output_type": "stream",
       "stream": "stdout",
       "text": [
        " 0.0772344977587\n",
        "b_sv: "
       ]
      },
      {
       "output_type": "stream",
       "stream": "stdout",
       "text": [
        " -0.00637105681914\n",
        "b_sv: "
       ]
      },
      {
       "output_type": "stream",
       "stream": "stdout",
       "text": [
        " -0.00369428199018\n",
        "b_sv: "
       ]
      },
      {
       "output_type": "stream",
       "stream": "stdout",
       "text": [
        " -0.0306935933806\n",
        "b_sv: "
       ]
      },
      {
       "output_type": "stream",
       "stream": "stdout",
       "text": [
        " -0.0295502286514\n",
        "b_sv: "
       ]
      },
      {
       "output_type": "stream",
       "stream": "stdout",
       "text": [
        " 0.0709113341708\n",
        "b_sv: "
       ]
      },
      {
       "output_type": "stream",
       "stream": "stdout",
       "text": [
        " -0.00462765098917\n",
        "b_sv: "
       ]
      },
      {
       "output_type": "stream",
       "stream": "stdout",
       "text": [
        " 0.00847878066218\n",
        "b_sv: "
       ]
      },
      {
       "output_type": "stream",
       "stream": "stdout",
       "text": [
        " -0.0132288486447\n",
        "b_sv: "
       ]
      },
      {
       "output_type": "stream",
       "stream": "stdout",
       "text": [
        " -0.00720797692732\n",
        "b_sv: "
       ]
      },
      {
       "output_type": "stream",
       "stream": "stdout",
       "text": [
        " 0.00218564536889\n",
        "b_sv: "
       ]
      },
      {
       "output_type": "stream",
       "stream": "stdout",
       "text": [
        " -0.0349516765577\n",
        "b_sv: "
       ]
      },
      {
       "output_type": "stream",
       "stream": "stdout",
       "text": [
        " 0.0381943756011\n",
        "b_sv: "
       ]
      },
      {
       "output_type": "stream",
       "stream": "stdout",
       "text": [
        " -0.0433471982643\n",
        "b_sv: "
       ]
      },
      {
       "output_type": "stream",
       "stream": "stdout",
       "text": [
        " 0.0165724978459\n",
        "b_sv: "
       ]
      },
      {
       "output_type": "stream",
       "stream": "stdout",
       "text": [
        " 0.0449114250518\n",
        "b_sv: "
       ]
      },
      {
       "output_type": "stream",
       "stream": "stdout",
       "text": [
        " -0.0484613322912\n",
        "b_sv: "
       ]
      },
      {
       "output_type": "stream",
       "stream": "stdout",
       "text": [
        " 0.00520703561073\n",
        "param:  ('gaussian', 0.027825594022071243, 100.0)\n",
        "b_sv: "
       ]
      },
      {
       "output_type": "stream",
       "stream": "stdout",
       "text": [
        " -0.0427910877336\n",
        "b_sv: "
       ]
      },
      {
       "output_type": "stream",
       "stream": "stdout",
       "text": [
        " -0.0567916094911\n",
        "b_sv: "
       ]
      },
      {
       "output_type": "stream",
       "stream": "stdout",
       "text": [
        " 0.0709578823057\n",
        "b_sv: "
       ]
      },
      {
       "output_type": "stream",
       "stream": "stdout",
       "text": [
        " 0.0492170931144\n",
        "b_sv: "
       ]
      },
      {
       "output_type": "stream",
       "stream": "stdout",
       "text": [
        " -0.0341231054593\n",
        "b_sv: "
       ]
      },
      {
       "output_type": "stream",
       "stream": "stdout",
       "text": [
        " -0.0567161278979\n",
        "b_sv: "
       ]
      },
      {
       "output_type": "stream",
       "stream": "stdout",
       "text": [
        " 0.0262893167358\n",
        "b_sv: "
       ]
      },
      {
       "output_type": "stream",
       "stream": "stdout",
       "text": [
        " -0.0398099702919\n",
        "b_sv: "
       ]
      },
      {
       "output_type": "stream",
       "stream": "stdout",
       "text": [
        " 0.0310509771278\n",
        "b_sv: "
       ]
      },
      {
       "output_type": "stream",
       "stream": "stdout",
       "text": [
        " 0.0148262465749\n",
        "b_sv: "
       ]
      },
      {
       "output_type": "stream",
       "stream": "stdout",
       "text": [
        " -0.0200888686127\n",
        "b_sv: "
       ]
      },
      {
       "output_type": "stream",
       "stream": "stdout",
       "text": [
        " 0.042532541414\n",
        "b_sv: "
       ]
      },
      {
       "output_type": "stream",
       "stream": "stdout",
       "text": [
        " 0.0362019528893\n",
        "b_sv: "
       ]
      },
      {
       "output_type": "stream",
       "stream": "stdout",
       "text": [
        " -0.00140543761556\n",
        "b_sv: "
       ]
      },
      {
       "output_type": "stream",
       "stream": "stdout",
       "text": [
        " -0.0209192806071\n",
        "b_sv: "
       ]
      },
      {
       "output_type": "stream",
       "stream": "stdout",
       "text": [
        " 0.00752781412178\n",
        "b_sv: "
       ]
      },
      {
       "output_type": "stream",
       "stream": "stdout",
       "text": [
        " -0.0333254710109\n",
        "b_sv: "
       ]
      },
      {
       "output_type": "stream",
       "stream": "stdout",
       "text": [
        " -0.0568735093938\n",
        "b_sv: "
       ]
      },
      {
       "output_type": "stream",
       "stream": "stdout",
       "text": [
        " -0.00652127174338\n",
        "b_sv: "
       ]
      },
      {
       "output_type": "stream",
       "stream": "stdout",
       "text": [
        " 0.0197870361447\n",
        "param:  ('gaussian', 0.077426368268112694, 0.01)\n",
        "b_sv: "
       ]
      },
      {
       "output_type": "stream",
       "stream": "stdout",
       "text": [
        " 0.974359888895\n",
        "b_sv: "
       ]
      },
      {
       "output_type": "stream",
       "stream": "stdout",
       "text": [
        " 0.979656456053\n",
        "b_sv: "
       ]
      },
      {
       "output_type": "stream",
       "stream": "stdout",
       "text": [
        " -0.982871689473\n",
        "b_sv: "
       ]
      },
      {
       "output_type": "stream",
       "stream": "stdout",
       "text": [
        " -0.96968922793\n",
        "b_sv: "
       ]
      },
      {
       "output_type": "stream",
       "stream": "stdout",
       "text": [
        " 0.975150040585\n",
        "b_sv: "
       ]
      },
      {
       "output_type": "stream",
       "stream": "stdout",
       "text": [
        " -0.976205675659\n",
        "b_sv: "
       ]
      },
      {
       "output_type": "stream",
       "stream": "stdout",
       "text": [
        " -0.977958069967\n",
        "b_sv: "
       ]
      },
      {
       "output_type": "stream",
       "stream": "stdout",
       "text": [
        " -0.980397733347\n",
        "b_sv: "
       ]
      },
      {
       "output_type": "stream",
       "stream": "stdout",
       "text": [
        " 0.977209505943\n",
        "b_sv: "
       ]
      },
      {
       "output_type": "stream",
       "stream": "stdout",
       "text": [
        " -0.981134042851\n",
        "b_sv: "
       ]
      },
      {
       "output_type": "stream",
       "stream": "stdout",
       "text": [
        " -0.96941950497\n",
        "b_sv: "
       ]
      },
      {
       "output_type": "stream",
       "stream": "stdout",
       "text": [
        " -0.983640669153\n",
        "b_sv: "
       ]
      },
      {
       "output_type": "stream",
       "stream": "stdout",
       "text": [
        " -0.982953228222\n",
        "b_sv: "
       ]
      },
      {
       "output_type": "stream",
       "stream": "stdout",
       "text": [
        " -0.976733762076\n",
        "b_sv: "
       ]
      },
      {
       "output_type": "stream",
       "stream": "stdout",
       "text": [
        " 0.978912623099\n",
        "b_sv: "
       ]
      },
      {
       "output_type": "stream",
       "stream": "stdout",
       "text": [
        " 0.975066858233\n",
        "b_sv: "
       ]
      },
      {
       "output_type": "stream",
       "stream": "stdout",
       "text": [
        " 0.978552047216\n",
        "b_sv: "
       ]
      },
      {
       "output_type": "stream",
       "stream": "stdout",
       "text": [
        " -0.979077752039\n",
        "b_sv: "
       ]
      },
      {
       "output_type": "stream",
       "stream": "stdout",
       "text": [
        " 0.97810686322\n",
        "b_sv: "
       ]
      },
      {
       "output_type": "stream",
       "stream": "stdout",
       "text": [
        " 0.972152496591\n",
        "21 / 100 parameter combinations completed. Estimated remaining time: 1425.038\n",
        "param:  ('gaussian', 0.077426368268112694, 0.027825594022071243)\n",
        "b_sv: "
       ]
      },
      {
       "output_type": "stream",
       "stream": "stdout",
       "text": [
        " 0.934967946865\n",
        "b_sv: "
       ]
      },
      {
       "output_type": "stream",
       "stream": "stdout",
       "text": [
        " -0.935238263162\n",
        "b_sv: "
       ]
      },
      {
       "output_type": "stream",
       "stream": "stdout",
       "text": [
        " -0.947493577769\n",
        "b_sv: "
       ]
      },
      {
       "output_type": "stream",
       "stream": "stdout",
       "text": [
        " 0.927271493475\n",
        "b_sv: "
       ]
      },
      {
       "output_type": "stream",
       "stream": "stdout",
       "text": [
        " 0.92718393454\n",
        "b_sv: "
       ]
      },
      {
       "output_type": "stream",
       "stream": "stdout",
       "text": [
        " 0.937123613926\n",
        "b_sv: "
       ]
      },
      {
       "output_type": "stream",
       "stream": "stdout",
       "text": [
        " 0.914920108284\n",
        "b_sv: "
       ]
      },
      {
       "output_type": "stream",
       "stream": "stdout",
       "text": [
        " -0.961478944636\n",
        "b_sv: "
       ]
      },
      {
       "output_type": "stream",
       "stream": "stdout",
       "text": [
        " 0.934062045279\n",
        "b_sv: "
       ]
      },
      {
       "output_type": "stream",
       "stream": "stdout",
       "text": [
        " 0.930750544393\n",
        "b_sv: "
       ]
      },
      {
       "output_type": "stream",
       "stream": "stdout",
       "text": [
        " -0.936364340662\n",
        "b_sv: "
       ]
      },
      {
       "output_type": "stream",
       "stream": "stdout",
       "text": [
        " -0.91384637453\n",
        "b_sv: "
       ]
      },
      {
       "output_type": "stream",
       "stream": "stdout",
       "text": [
        " -0.932186607451\n",
        "b_sv: "
       ]
      },
      {
       "output_type": "stream",
       "stream": "stdout",
       "text": [
        " -0.947700396667\n",
        "b_sv: "
       ]
      },
      {
       "output_type": "stream",
       "stream": "stdout",
       "text": [
        " 0.927346814862\n",
        "b_sv: "
       ]
      },
      {
       "output_type": "stream",
       "stream": "stdout",
       "text": [
        " 0.932053070246\n",
        "b_sv: "
       ]
      },
      {
       "output_type": "stream",
       "stream": "stdout",
       "text": [
        " -0.939495181241\n",
        "b_sv: "
       ]
      },
      {
       "output_type": "stream",
       "stream": "stdout",
       "text": [
        " 0.937333178523\n",
        "b_sv: "
       ]
      },
      {
       "output_type": "stream",
       "stream": "stdout",
       "text": [
        " -0.918818595331\n",
        "b_sv: "
       ]
      },
      {
       "output_type": "stream",
       "stream": "stdout",
       "text": [
        " -0.922967864279\n",
        "param:  ('gaussian', 0.077426368268112694, 0.077426368268112694)\n",
        "b_sv: "
       ]
      },
      {
       "output_type": "stream",
       "stream": "stdout",
       "text": [
        " -0.765305331279\n",
        "b_sv: "
       ]
      },
      {
       "output_type": "stream",
       "stream": "stdout",
       "text": [
        " 0.795442051256\n",
        "b_sv: "
       ]
      },
      {
       "output_type": "stream",
       "stream": "stdout",
       "text": [
        " 0.831818778495\n",
        "b_sv: "
       ]
      },
      {
       "output_type": "stream",
       "stream": "stdout",
       "text": [
        " -0.824719842452\n",
        "b_sv: "
       ]
      },
      {
       "output_type": "stream",
       "stream": "stdout",
       "text": [
        " 0.76246414066\n",
        "b_sv: "
       ]
      },
      {
       "output_type": "stream",
       "stream": "stdout",
       "text": [
        " -0.860288434446\n",
        "b_sv: "
       ]
      },
      {
       "output_type": "stream",
       "stream": "stdout",
       "text": [
        " 0.802738205733\n",
        "b_sv: "
       ]
      },
      {
       "output_type": "stream",
       "stream": "stdout",
       "text": [
        " 0.796617803999\n",
        "b_sv: "
       ]
      },
      {
       "output_type": "stream",
       "stream": "stdout",
       "text": [
        " -0.7699288664\n",
        "b_sv: "
       ]
      },
      {
       "output_type": "stream",
       "stream": "stdout",
       "text": [
        " -0.865710451848\n",
        "b_sv: "
       ]
      },
      {
       "output_type": "stream",
       "stream": "stdout",
       "text": [
        " 0.808894400359\n",
        "b_sv: "
       ]
      },
      {
       "output_type": "stream",
       "stream": "stdout",
       "text": [
        " -0.772069996627\n",
        "b_sv: "
       ]
      },
      {
       "output_type": "stream",
       "stream": "stdout",
       "text": [
        " -0.853853054804\n",
        "b_sv: "
       ]
      },
      {
       "output_type": "stream",
       "stream": "stdout",
       "text": [
        " 0.760025058386\n",
        "b_sv: "
       ]
      },
      {
       "output_type": "stream",
       "stream": "stdout",
       "text": [
        " -0.7677688541\n",
        "b_sv: "
       ]
      },
      {
       "output_type": "stream",
       "stream": "stdout",
       "text": [
        " 0.795308171135\n",
        "b_sv: "
       ]
      },
      {
       "output_type": "stream",
       "stream": "stdout",
       "text": [
        " -0.853850446255\n",
        "b_sv: "
       ]
      },
      {
       "output_type": "stream",
       "stream": "stdout",
       "text": [
        " 0.724897029696\n",
        "b_sv: "
       ]
      },
      {
       "output_type": "stream",
       "stream": "stdout",
       "text": [
        " 0.838767927273\n",
        "b_sv: "
       ]
      },
      {
       "output_type": "stream",
       "stream": "stdout",
       "text": [
        " -0.798672138212\n",
        "param:  ('gaussian', 0.077426368268112694, 0.21544346900318834)\n",
        "b_sv: "
       ]
      },
      {
       "output_type": "stream",
       "stream": "stdout",
       "text": [
        " -0.593580902033\n",
        "b_sv: "
       ]
      },
      {
       "output_type": "stream",
       "stream": "stdout",
       "text": [
        " 0.437165684756\n",
        "b_sv: "
       ]
      },
      {
       "output_type": "stream",
       "stream": "stdout",
       "text": [
        " 0.467780405995\n",
        "b_sv: "
       ]
      },
      {
       "output_type": "stream",
       "stream": "stdout",
       "text": [
        " 0.521842151057\n",
        "b_sv: "
       ]
      },
      {
       "output_type": "stream",
       "stream": "stdout",
       "text": [
        " -0.582924049163\n",
        "b_sv: "
       ]
      },
      {
       "output_type": "stream",
       "stream": "stdout",
       "text": [
        " 0.241599048802\n",
        "b_sv: "
       ]
      },
      {
       "output_type": "stream",
       "stream": "stdout",
       "text": [
        " 0.443422343704\n",
        "b_sv: "
       ]
      },
      {
       "output_type": "stream",
       "stream": "stdout",
       "text": [
        " 0.287717046365\n",
        "b_sv: "
       ]
      },
      {
       "output_type": "stream",
       "stream": "stdout",
       "text": [
        " 0.479810562565\n",
        "b_sv: "
       ]
      },
      {
       "output_type": "stream",
       "stream": "stdout",
       "text": [
        " -0.542203600449\n",
        "b_sv: "
       ]
      },
      {
       "output_type": "stream",
       "stream": "stdout",
       "text": [
        " -0.676278058322\n",
        "b_sv: "
       ]
      },
      {
       "output_type": "stream",
       "stream": "stdout",
       "text": [
        " -0.536820840786\n",
        "b_sv: "
       ]
      },
      {
       "output_type": "stream",
       "stream": "stdout",
       "text": [
        " -0.358267762088\n",
        "b_sv: "
       ]
      },
      {
       "output_type": "stream",
       "stream": "stdout",
       "text": [
        " -0.555692326958\n",
        "b_sv: "
       ]
      },
      {
       "output_type": "stream",
       "stream": "stdout",
       "text": [
        " 0.222564207906\n",
        "b_sv: "
       ]
      },
      {
       "output_type": "stream",
       "stream": "stdout",
       "text": [
        " 0.287457950526\n",
        "b_sv: "
       ]
      },
      {
       "output_type": "stream",
       "stream": "stdout",
       "text": [
        " 0.596487788837\n",
        "b_sv: "
       ]
      },
      {
       "output_type": "stream",
       "stream": "stdout",
       "text": [
        " -0.391745677373\n",
        "b_sv: "
       ]
      },
      {
       "output_type": "stream",
       "stream": "stdout",
       "text": [
        " 0.47206854361\n",
        "b_sv: "
       ]
      },
      {
       "output_type": "stream",
       "stream": "stdout",
       "text": [
        " 0.48570628227\n",
        "param:  ('gaussian', 0.077426368268112694, 0.59948425031894093)\n",
        "b_sv: "
       ]
      },
      {
       "output_type": "stream",
       "stream": "stdout",
       "text": [
        " -0.0872236790686\n",
        "b_sv: "
       ]
      },
      {
       "output_type": "stream",
       "stream": "stdout",
       "text": [
        " -0.088359859721\n",
        "b_sv: "
       ]
      },
      {
       "output_type": "stream",
       "stream": "stdout",
       "text": [
        " -0.0109466345884\n",
        "b_sv: "
       ]
      },
      {
       "output_type": "stream",
       "stream": "stdout",
       "text": [
        " -0.122958717887\n",
        "b_sv: "
       ]
      },
      {
       "output_type": "stream",
       "stream": "stdout",
       "text": [
        " -0.0339509655599\n",
        "b_sv: "
       ]
      },
      {
       "output_type": "stream",
       "stream": "stdout",
       "text": [
        " -0.0419279802232\n",
        "b_sv: "
       ]
      },
      {
       "output_type": "stream",
       "stream": "stdout",
       "text": [
        " 0.0342706804151\n",
        "b_sv: "
       ]
      },
      {
       "output_type": "stream",
       "stream": "stdout",
       "text": [
        " -0.0648955303525\n",
        "b_sv: "
       ]
      },
      {
       "output_type": "stream",
       "stream": "stdout",
       "text": [
        " -0.294732243731\n",
        "b_sv: "
       ]
      },
      {
       "output_type": "stream",
       "stream": "stdout",
       "text": [
        " 0.0854311685695\n",
        "b_sv: "
       ]
      },
      {
       "output_type": "stream",
       "stream": "stdout",
       "text": [
        " -0.15238978754\n",
        "b_sv: "
       ]
      },
      {
       "output_type": "stream",
       "stream": "stdout",
       "text": [
        " 0.0241684420679\n",
        "b_sv: "
       ]
      },
      {
       "output_type": "stream",
       "stream": "stdout",
       "text": [
        " -0.0598912605439\n",
        "b_sv: "
       ]
      },
      {
       "output_type": "stream",
       "stream": "stdout",
       "text": [
        " -0.134196457509\n",
        "b_sv: "
       ]
      },
      {
       "output_type": "stream",
       "stream": "stdout",
       "text": [
        " -0.0260252611241\n",
        "b_sv: "
       ]
      },
      {
       "output_type": "stream",
       "stream": "stdout",
       "text": [
        " 0.0295572562573\n",
        "b_sv: "
       ]
      },
      {
       "output_type": "stream",
       "stream": "stdout",
       "text": [
        " -0.00265298222125\n",
        "b_sv: "
       ]
      },
      {
       "output_type": "stream",
       "stream": "stdout",
       "text": [
        " -0.0617418528248\n",
        "b_sv: "
       ]
      },
      {
       "output_type": "stream",
       "stream": "stdout",
       "text": [
        " -0.068793482991\n",
        "b_sv: "
       ]
      },
      {
       "output_type": "stream",
       "stream": "stdout",
       "text": [
        " -0.115932572487\n",
        "param:  ('gaussian', 0.077426368268112694, 1.6681005372000592)\n",
        "b_sv: "
       ]
      },
      {
       "output_type": "stream",
       "stream": "stdout",
       "text": [
        " -0.0563035218087\n",
        "b_sv: "
       ]
      },
      {
       "output_type": "stream",
       "stream": "stdout",
       "text": [
        " -0.0795061817068\n",
        "b_sv: "
       ]
      },
      {
       "output_type": "stream",
       "stream": "stdout",
       "text": [
        " -0.015229556092\n",
        "b_sv: "
       ]
      },
      {
       "output_type": "stream",
       "stream": "stdout",
       "text": [
        " 0.00926781061504\n",
        "b_sv: "
       ]
      },
      {
       "output_type": "stream",
       "stream": "stdout",
       "text": [
        " -0.0629550741416\n",
        "b_sv: "
       ]
      },
      {
       "output_type": "stream",
       "stream": "stdout",
       "text": [
        " -0.00853922042509\n",
        "b_sv: "
       ]
      },
      {
       "output_type": "stream",
       "stream": "stdout",
       "text": [
        " -0.0491935563256\n",
        "b_sv: "
       ]
      },
      {
       "output_type": "stream",
       "stream": "stdout",
       "text": [
        " 0.0166261874857\n",
        "b_sv: "
       ]
      },
      {
       "output_type": "stream",
       "stream": "stdout",
       "text": [
        " -0.0229115391862\n",
        "b_sv: "
       ]
      },
      {
       "output_type": "stream",
       "stream": "stdout",
       "text": [
        " 0.00247762826969\n",
        "b_sv: "
       ]
      },
      {
       "output_type": "stream",
       "stream": "stdout",
       "text": [
        " -0.0545188045184\n",
        "b_sv: "
       ]
      },
      {
       "output_type": "stream",
       "stream": "stdout",
       "text": [
        " -0.0625573588567\n",
        "b_sv: "
       ]
      },
      {
       "output_type": "stream",
       "stream": "stdout",
       "text": [
        " -0.0386821665632\n",
        "b_sv: "
       ]
      },
      {
       "output_type": "stream",
       "stream": "stdout",
       "text": [
        " -0.0465827438775\n",
        "b_sv: "
       ]
      },
      {
       "output_type": "stream",
       "stream": "stdout",
       "text": [
        " -0.0267758282335\n",
        "b_sv: "
       ]
      },
      {
       "output_type": "stream",
       "stream": "stdout",
       "text": [
        " -0.00318027130247\n",
        "b_sv: "
       ]
      },
      {
       "output_type": "stream",
       "stream": "stdout",
       "text": [
        " 0.010077959385\n",
        "b_sv: "
       ]
      },
      {
       "output_type": "stream",
       "stream": "stdout",
       "text": [
        " -0.0106420330155\n",
        "b_sv: "
       ]
      },
      {
       "output_type": "stream",
       "stream": "stdout",
       "text": [
        " -0.00883431121292\n",
        "b_sv: "
       ]
      },
      {
       "output_type": "stream",
       "stream": "stdout",
       "text": [
        " 0.0074055963573\n",
        "param:  ('gaussian', 0.077426368268112694, 4.6415888336127775)\n",
        "b_sv: "
       ]
      },
      {
       "output_type": "stream",
       "stream": "stdout",
       "text": [
        " -0.00832355340627\n",
        "b_sv: "
       ]
      },
      {
       "output_type": "stream",
       "stream": "stdout",
       "text": [
        " -0.0136978973761\n",
        "b_sv: "
       ]
      },
      {
       "output_type": "stream",
       "stream": "stdout",
       "text": [
        " -0.0266296172391\n",
        "b_sv: "
       ]
      },
      {
       "output_type": "stream",
       "stream": "stdout",
       "text": [
        " -0.0332000178876\n",
        "b_sv: "
       ]
      },
      {
       "output_type": "stream",
       "stream": "stdout",
       "text": [
        " -0.0793374084416\n",
        "b_sv: "
       ]
      },
      {
       "output_type": "stream",
       "stream": "stdout",
       "text": [
        " -0.0587695112048\n",
        "b_sv: "
       ]
      },
      {
       "output_type": "stream",
       "stream": "stdout",
       "text": [
        " -0.0220498091941\n",
        "b_sv: "
       ]
      },
      {
       "output_type": "stream",
       "stream": "stdout",
       "text": [
        " -0.015463827991\n",
        "b_sv: "
       ]
      },
      {
       "output_type": "stream",
       "stream": "stdout",
       "text": [
        " 0.000752556791015\n",
        "b_sv: "
       ]
      },
      {
       "output_type": "stream",
       "stream": "stdout",
       "text": [
        " -0.0968316823494\n",
        "b_sv: "
       ]
      },
      {
       "output_type": "stream",
       "stream": "stdout",
       "text": [
        " -0.0163222842101\n",
        "b_sv: "
       ]
      },
      {
       "output_type": "stream",
       "stream": "stdout",
       "text": [
        " 0.00193472747476\n",
        "b_sv: "
       ]
      },
      {
       "output_type": "stream",
       "stream": "stdout",
       "text": [
        " 0.00826517102347\n",
        "b_sv: "
       ]
      },
      {
       "output_type": "stream",
       "stream": "stdout",
       "text": [
        " -0.112361713616\n",
        "b_sv: "
       ]
      },
      {
       "output_type": "stream",
       "stream": "stdout",
       "text": [
        " -0.00310313397105\n",
        "b_sv: "
       ]
      },
      {
       "output_type": "stream",
       "stream": "stdout",
       "text": [
        " -0.0226012521874\n",
        "b_sv: "
       ]
      },
      {
       "output_type": "stream",
       "stream": "stdout",
       "text": [
        " -0.101695343689\n",
        "b_sv: "
       ]
      },
      {
       "output_type": "stream",
       "stream": "stdout",
       "text": [
        " -0.102172597567\n",
        "b_sv: "
       ]
      },
      {
       "output_type": "stream",
       "stream": "stdout",
       "text": [
        " 0.0181466757621\n",
        "b_sv: "
       ]
      },
      {
       "output_type": "stream",
       "stream": "stdout",
       "text": [
        " -0.0363049193816\n",
        "param:  ('gaussian', 0.077426368268112694, 12.915496650148826)\n",
        "b_sv: "
       ]
      },
      {
       "output_type": "stream",
       "stream": "stdout",
       "text": [
        " -0.0378142655164\n",
        "b_sv: "
       ]
      },
      {
       "output_type": "stream",
       "stream": "stdout",
       "text": [
        " 0.0164588139659\n",
        "b_sv: "
       ]
      },
      {
       "output_type": "stream",
       "stream": "stdout",
       "text": [
        " -0.0102217994783\n",
        "b_sv: "
       ]
      },
      {
       "output_type": "stream",
       "stream": "stdout",
       "text": [
        " 0.00616943198603\n",
        "b_sv: "
       ]
      },
      {
       "output_type": "stream",
       "stream": "stdout",
       "text": [
        " -0.0519012527102\n",
        "b_sv: "
       ]
      },
      {
       "output_type": "stream",
       "stream": "stdout",
       "text": [
        " -0.0663140296856\n",
        "b_sv: "
       ]
      },
      {
       "output_type": "stream",
       "stream": "stdout",
       "text": [
        " -0.0731774259634\n",
        "b_sv: "
       ]
      },
      {
       "output_type": "stream",
       "stream": "stdout",
       "text": [
        " -0.096060358283\n",
        "b_sv: "
       ]
      },
      {
       "output_type": "stream",
       "stream": "stdout",
       "text": [
        " -0.0416583529947\n",
        "b_sv: "
       ]
      },
      {
       "output_type": "stream",
       "stream": "stdout",
       "text": [
        " -0.0298922590836\n",
        "b_sv: "
       ]
      },
      {
       "output_type": "stream",
       "stream": "stdout",
       "text": [
        " -0.0232899138831\n",
        "b_sv: "
       ]
      },
      {
       "output_type": "stream",
       "stream": "stdout",
       "text": [
        " -0.0794354283473\n",
        "b_sv: "
       ]
      },
      {
       "output_type": "stream",
       "stream": "stdout",
       "text": [
        " -0.0470196132033\n",
        "b_sv: "
       ]
      },
      {
       "output_type": "stream",
       "stream": "stdout",
       "text": [
        " -0.0805086823802\n",
        "b_sv: "
       ]
      },
      {
       "output_type": "stream",
       "stream": "stdout",
       "text": [
        " -0.0423771855145\n",
        "b_sv: "
       ]
      },
      {
       "output_type": "stream",
       "stream": "stdout",
       "text": [
        " -0.00319298596126\n",
        "b_sv: "
       ]
      },
      {
       "output_type": "stream",
       "stream": "stdout",
       "text": [
        " 0.0242501644089\n",
        "b_sv: "
       ]
      },
      {
       "output_type": "stream",
       "stream": "stdout",
       "text": [
        " -0.0552109483938\n",
        "b_sv: "
       ]
      },
      {
       "output_type": "stream",
       "stream": "stdout",
       "text": [
        " -0.0728600256211\n",
        "b_sv: "
       ]
      },
      {
       "output_type": "stream",
       "stream": "stdout",
       "text": [
        " 0.0049694026141\n",
        "param:  ('gaussian', 0.077426368268112694, 35.938136638046259)\n",
        "b_sv: "
       ]
      },
      {
       "output_type": "stream",
       "stream": "stdout",
       "text": [
        " -0.0607825169814\n",
        "b_sv: "
       ]
      },
      {
       "output_type": "stream",
       "stream": "stdout",
       "text": [
        " -0.064065600281\n",
        "b_sv: "
       ]
      },
      {
       "output_type": "stream",
       "stream": "stdout",
       "text": [
        " -0.0139940210632\n",
        "b_sv: "
       ]
      },
      {
       "output_type": "stream",
       "stream": "stdout",
       "text": [
        " -0.0387191567709\n",
        "b_sv: "
       ]
      },
      {
       "output_type": "stream",
       "stream": "stdout",
       "text": [
        " -0.0134195496665\n",
        "b_sv: "
       ]
      },
      {
       "output_type": "stream",
       "stream": "stdout",
       "text": [
        " -0.0395523114506\n",
        "b_sv: "
       ]
      },
      {
       "output_type": "stream",
       "stream": "stdout",
       "text": [
        " -0.00908451851294\n",
        "b_sv: "
       ]
      },
      {
       "output_type": "stream",
       "stream": "stdout",
       "text": [
        " -0.084098566694\n",
        "b_sv: "
       ]
      },
      {
       "output_type": "stream",
       "stream": "stdout",
       "text": [
        " -0.00670441705811\n",
        "b_sv: "
       ]
      },
      {
       "output_type": "stream",
       "stream": "stdout",
       "text": [
        " -0.0107972051762\n",
        "b_sv: "
       ]
      },
      {
       "output_type": "stream",
       "stream": "stdout",
       "text": [
        " -0.0425520355825\n",
        "b_sv: "
       ]
      },
      {
       "output_type": "stream",
       "stream": "stdout",
       "text": [
        " -0.0779853985495\n",
        "b_sv: "
       ]
      },
      {
       "output_type": "stream",
       "stream": "stdout",
       "text": [
        " -0.0276440224884\n",
        "b_sv: "
       ]
      },
      {
       "output_type": "stream",
       "stream": "stdout",
       "text": [
        " 0.0254256869741\n",
        "b_sv: "
       ]
      },
      {
       "output_type": "stream",
       "stream": "stdout",
       "text": [
        " -0.0492967414007\n",
        "b_sv: "
       ]
      },
      {
       "output_type": "stream",
       "stream": "stdout",
       "text": [
        " -0.0918750351088\n",
        "b_sv: "
       ]
      },
      {
       "output_type": "stream",
       "stream": "stdout",
       "text": [
        " -0.0723838679122\n",
        "b_sv: "
       ]
      },
      {
       "output_type": "stream",
       "stream": "stdout",
       "text": [
        " 0.0538826724942\n",
        "b_sv: "
       ]
      },
      {
       "output_type": "stream",
       "stream": "stdout",
       "text": [
        " -0.0636366004387\n",
        "b_sv: "
       ]
      },
      {
       "output_type": "stream",
       "stream": "stdout",
       "text": [
        " -0.0444143799967\n",
        "param:  ('gaussian', 0.077426368268112694, 100.0)\n",
        "b_sv: "
       ]
      },
      {
       "output_type": "stream",
       "stream": "stdout",
       "text": [
        " 0.00896726799131\n",
        "b_sv: "
       ]
      },
      {
       "output_type": "stream",
       "stream": "stdout",
       "text": [
        " -0.0696905751669\n",
        "b_sv: "
       ]
      },
      {
       "output_type": "stream",
       "stream": "stdout",
       "text": [
        " -0.06768301255\n",
        "b_sv: "
       ]
      },
      {
       "output_type": "stream",
       "stream": "stdout",
       "text": [
        " -0.043998663062\n",
        "b_sv: "
       ]
      },
      {
       "output_type": "stream",
       "stream": "stdout",
       "text": [
        " -0.0144504842166\n",
        "b_sv: "
       ]
      },
      {
       "output_type": "stream",
       "stream": "stdout",
       "text": [
        " -0.0322160701826\n",
        "b_sv: "
       ]
      },
      {
       "output_type": "stream",
       "stream": "stdout",
       "text": [
        " -0.028365484119\n",
        "b_sv: "
       ]
      },
      {
       "output_type": "stream",
       "stream": "stdout",
       "text": [
        " -0.0641344951031\n",
        "b_sv: "
       ]
      },
      {
       "output_type": "stream",
       "stream": "stdout",
       "text": [
        " -0.0682784317492\n",
        "b_sv: "
       ]
      },
      {
       "output_type": "stream",
       "stream": "stdout",
       "text": [
        " -0.0233288152324\n",
        "b_sv: "
       ]
      },
      {
       "output_type": "stream",
       "stream": "stdout",
       "text": [
        " -0.030723220059\n",
        "b_sv: "
       ]
      },
      {
       "output_type": "stream",
       "stream": "stdout",
       "text": [
        " -0.0645434948434\n",
        "b_sv: "
       ]
      },
      {
       "output_type": "stream",
       "stream": "stdout",
       "text": [
        " -0.0294936158301\n",
        "b_sv: "
       ]
      },
      {
       "output_type": "stream",
       "stream": "stdout",
       "text": [
        " -0.0397700044608\n",
        "b_sv: "
       ]
      },
      {
       "output_type": "stream",
       "stream": "stdout",
       "text": [
        " -0.0767692215196\n",
        "b_sv: "
       ]
      },
      {
       "output_type": "stream",
       "stream": "stdout",
       "text": [
        " 0.0341443246496\n",
        "b_sv: "
       ]
      },
      {
       "output_type": "stream",
       "stream": "stdout",
       "text": [
        " -0.0509272420049\n",
        "b_sv: "
       ]
      },
      {
       "output_type": "stream",
       "stream": "stdout",
       "text": [
        " -0.0734522234959\n",
        "b_sv: "
       ]
      },
      {
       "output_type": "stream",
       "stream": "stdout",
       "text": [
        " -0.0406901221223\n",
        "b_sv: "
       ]
      },
      {
       "output_type": "stream",
       "stream": "stdout",
       "text": [
        " 0.0181362897726\n",
        "param:  ('gaussian', 0.21544346900318834, 0.01)\n",
        "b_sv: "
       ]
      },
      {
       "output_type": "stream",
       "stream": "stdout",
       "text": [
        " 0.94163015869\n",
        "b_sv: "
       ]
      },
      {
       "output_type": "stream",
       "stream": "stdout",
       "text": [
        " -0.911803710566\n",
        "b_sv: "
       ]
      },
      {
       "output_type": "stream",
       "stream": "stdout",
       "text": [
        " 0.922754766003\n",
        "b_sv: "
       ]
      },
      {
       "output_type": "stream",
       "stream": "stdout",
       "text": [
        " -0.944256208742\n",
        "b_sv: "
       ]
      },
      {
       "output_type": "stream",
       "stream": "stdout",
       "text": [
        " -0.936005061963\n",
        "b_sv: "
       ]
      },
      {
       "output_type": "stream",
       "stream": "stdout",
       "text": [
        " 0.940094803439\n",
        "b_sv: "
       ]
      },
      {
       "output_type": "stream",
       "stream": "stdout",
       "text": [
        " -0.924760825566\n",
        "b_sv: "
       ]
      },
      {
       "output_type": "stream",
       "stream": "stdout",
       "text": [
        " 0.917177757094\n",
        "b_sv: "
       ]
      },
      {
       "output_type": "stream",
       "stream": "stdout",
       "text": [
        " -0.948226293014\n",
        "b_sv: "
       ]
      },
      {
       "output_type": "stream",
       "stream": "stdout",
       "text": [
        " -0.938140508912\n",
        "b_sv: "
       ]
      },
      {
       "output_type": "stream",
       "stream": "stdout",
       "text": [
        " -0.948208219133\n",
        "b_sv: "
       ]
      },
      {
       "output_type": "stream",
       "stream": "stdout",
       "text": [
        " -0.908196717911\n",
        "b_sv: "
       ]
      },
      {
       "output_type": "stream",
       "stream": "stdout",
       "text": [
        " 0.931609557812\n",
        "b_sv: "
       ]
      },
      {
       "output_type": "stream",
       "stream": "stdout",
       "text": [
        " -0.926988459993\n",
        "b_sv: "
       ]
      },
      {
       "output_type": "stream",
       "stream": "stdout",
       "text": [
        " 0.902669685422\n",
        "b_sv: "
       ]
      },
      {
       "output_type": "stream",
       "stream": "stdout",
       "text": [
        " -0.931988075156\n",
        "b_sv: "
       ]
      },
      {
       "output_type": "stream",
       "stream": "stdout",
       "text": [
        " 0.928347946641\n",
        "b_sv: "
       ]
      },
      {
       "output_type": "stream",
       "stream": "stdout",
       "text": [
        " -0.000330073631142\n",
        "b_sv: "
       ]
      },
      {
       "output_type": "stream",
       "stream": "stdout",
       "text": [
        " 0.922645709665\n",
        "b_sv: "
       ]
      },
      {
       "output_type": "stream",
       "stream": "stdout",
       "text": [
        " -0.942537192884\n",
        "31 / 100 parameter combinations completed. Estimated remaining time: 1471.159\n",
        "param:  ('gaussian', 0.21544346900318834, 0.027825594022071243)\n",
        "b_sv: "
       ]
      },
      {
       "output_type": "stream",
       "stream": "stdout",
       "text": [
        " 0.718733090954\n",
        "b_sv: "
       ]
      },
      {
       "output_type": "stream",
       "stream": "stdout",
       "text": [
        " -0.761382080604\n",
        "b_sv: "
       ]
      },
      {
       "output_type": "stream",
       "stream": "stdout",
       "text": [
        " 0.779739046587\n",
        "b_sv: "
       ]
      },
      {
       "output_type": "stream",
       "stream": "stdout",
       "text": [
        " 0.751947975157\n",
        "b_sv: "
       ]
      },
      {
       "output_type": "stream",
       "stream": "stdout",
       "text": [
        " 0.817459152489\n",
        "b_sv: "
       ]
      },
      {
       "output_type": "stream",
       "stream": "stdout",
       "text": [
        " -0.762963423096\n",
        "b_sv: "
       ]
      },
      {
       "output_type": "stream",
       "stream": "stdout",
       "text": [
        " -0.81095547125\n",
        "b_sv: "
       ]
      },
      {
       "output_type": "stream",
       "stream": "stdout",
       "text": [
        " 0.728505928449\n",
        "b_sv: "
       ]
      },
      {
       "output_type": "stream",
       "stream": "stdout",
       "text": [
        " -0.747000112644\n",
        "b_sv: "
       ]
      },
      {
       "output_type": "stream",
       "stream": "stdout",
       "text": [
        " -0.853778015996\n",
        "b_sv: "
       ]
      },
      {
       "output_type": "stream",
       "stream": "stdout",
       "text": [
        " -0.796619546433\n",
        "b_sv: "
       ]
      },
      {
       "output_type": "stream",
       "stream": "stdout",
       "text": [
        " 0.770422344154\n",
        "b_sv: "
       ]
      },
      {
       "output_type": "stream",
       "stream": "stdout",
       "text": [
        " -0.738575922983\n",
        "b_sv: "
       ]
      },
      {
       "output_type": "stream",
       "stream": "stdout",
       "text": [
        " 0.744511498322\n",
        "b_sv: "
       ]
      },
      {
       "output_type": "stream",
       "stream": "stdout",
       "text": [
        " -0.86859991156\n",
        "b_sv: "
       ]
      },
      {
       "output_type": "stream",
       "stream": "stdout",
       "text": [
        " 0.815056542989\n",
        "b_sv: "
       ]
      },
      {
       "output_type": "stream",
       "stream": "stdout",
       "text": [
        " -0.748285439945\n",
        "b_sv: "
       ]
      },
      {
       "output_type": "stream",
       "stream": "stdout",
       "text": [
        " 0.763841328638\n",
        "b_sv: "
       ]
      },
      {
       "output_type": "stream",
       "stream": "stdout",
       "text": [
        " 0.802834575349\n",
        "b_sv: "
       ]
      },
      {
       "output_type": "stream",
       "stream": "stdout",
       "text": [
        " -0.859772619206\n",
        "param:  ('gaussian', 0.21544346900318834, 0.077426368268112694)\n",
        "b_sv: "
       ]
      },
      {
       "output_type": "stream",
       "stream": "stdout",
       "text": [
        " 0.591408968367\n",
        "b_sv: "
       ]
      },
      {
       "output_type": "stream",
       "stream": "stdout",
       "text": [
        " -0.516847821868\n",
        "b_sv: "
       ]
      },
      {
       "output_type": "stream",
       "stream": "stdout",
       "text": [
        " 0.360746987207\n",
        "b_sv: "
       ]
      },
      {
       "output_type": "stream",
       "stream": "stdout",
       "text": [
        " -0.520199079997\n",
        "b_sv: "
       ]
      },
      {
       "output_type": "stream",
       "stream": "stdout",
       "text": [
        " -0.395948265544\n",
        "b_sv: "
       ]
      },
      {
       "output_type": "stream",
       "stream": "stdout",
       "text": [
        " 0.352958310379\n",
        "b_sv: "
       ]
      },
      {
       "output_type": "stream",
       "stream": "stdout",
       "text": [
        " -0.585955262141\n",
        "b_sv: "
       ]
      },
      {
       "output_type": "stream",
       "stream": "stdout",
       "text": [
        " 0.334617974809\n",
        "b_sv: "
       ]
      },
      {
       "output_type": "stream",
       "stream": "stdout",
       "text": [
        " 0.326023069408\n",
        "b_sv: "
       ]
      },
      {
       "output_type": "stream",
       "stream": "stdout",
       "text": [
        " -0.519938537674\n",
        "b_sv: "
       ]
      },
      {
       "output_type": "stream",
       "stream": "stdout",
       "text": [
        " 0.453626435812\n",
        "b_sv: "
       ]
      },
      {
       "output_type": "stream",
       "stream": "stdout",
       "text": [
        " -0.38255751626\n",
        "b_sv: "
       ]
      },
      {
       "output_type": "stream",
       "stream": "stdout",
       "text": [
        " 0.407004646669\n",
        "b_sv: "
       ]
      },
      {
       "output_type": "stream",
       "stream": "stdout",
       "text": [
        " 0.308655214133\n",
        "b_sv: "
       ]
      },
      {
       "output_type": "stream",
       "stream": "stdout",
       "text": [
        " -0.62203354841\n",
        "b_sv: "
       ]
      },
      {
       "output_type": "stream",
       "stream": "stdout",
       "text": [
        " -0.418381246733\n",
        "b_sv: "
       ]
      },
      {
       "output_type": "stream",
       "stream": "stdout",
       "text": [
        " 0.450842500726\n",
        "b_sv: "
       ]
      },
      {
       "output_type": "stream",
       "stream": "stdout",
       "text": [
        " -0.46803685551\n",
        "b_sv: "
       ]
      },
      {
       "output_type": "stream",
       "stream": "stdout",
       "text": [
        " -0.423481393613\n",
        "b_sv: "
       ]
      },
      {
       "output_type": "stream",
       "stream": "stdout",
       "text": [
        " -0.296051031889\n",
        "param:  ('gaussian', 0.21544346900318834, 0.21544346900318834)\n",
        "b_sv: "
       ]
      },
      {
       "output_type": "stream",
       "stream": "stdout",
       "text": [
        " -0.157995043569\n",
        "b_sv: "
       ]
      },
      {
       "output_type": "stream",
       "stream": "stdout",
       "text": [
        " -0.116436393762\n",
        "b_sv: "
       ]
      },
      {
       "output_type": "stream",
       "stream": "stdout",
       "text": [
        " -0.13649638009\n",
        "b_sv: "
       ]
      },
      {
       "output_type": "stream",
       "stream": "stdout",
       "text": [
        " -0.0216742463983\n",
        "b_sv: "
       ]
      },
      {
       "output_type": "stream",
       "stream": "stdout",
       "text": [
        " -0.115743566851\n",
        "b_sv: "
       ]
      },
      {
       "output_type": "stream",
       "stream": "stdout",
       "text": [
        " -0.127982925557\n",
        "b_sv: "
       ]
      },
      {
       "output_type": "stream",
       "stream": "stdout",
       "text": [
        " -0.194863472706\n",
        "b_sv: "
       ]
      },
      {
       "output_type": "stream",
       "stream": "stdout",
       "text": [
        " -0.00433668413287\n",
        "b_sv: "
       ]
      },
      {
       "output_type": "stream",
       "stream": "stdout",
       "text": [
        " -0.0509281690223\n",
        "b_sv: "
       ]
      },
      {
       "output_type": "stream",
       "stream": "stdout",
       "text": [
        " -0.0156038564109\n",
        "b_sv: "
       ]
      },
      {
       "output_type": "stream",
       "stream": "stdout",
       "text": [
        " -0.0930740511204\n",
        "b_sv: "
       ]
      },
      {
       "output_type": "stream",
       "stream": "stdout",
       "text": [
        " -0.0450498838256\n",
        "b_sv: "
       ]
      },
      {
       "output_type": "stream",
       "stream": "stdout",
       "text": [
        " -0.113762218108\n",
        "b_sv: "
       ]
      },
      {
       "output_type": "stream",
       "stream": "stdout",
       "text": [
        " -0.0993512398983\n",
        "b_sv: "
       ]
      },
      {
       "output_type": "stream",
       "stream": "stdout",
       "text": [
        " -0.134342204592\n",
        "b_sv: "
       ]
      },
      {
       "output_type": "stream",
       "stream": "stdout",
       "text": [
        " -0.134782148008\n",
        "b_sv: "
       ]
      },
      {
       "output_type": "stream",
       "stream": "stdout",
       "text": [
        " -0.0410962691164\n",
        "b_sv: "
       ]
      },
      {
       "output_type": "stream",
       "stream": "stdout",
       "text": [
        " -0.0982624914927\n",
        "b_sv: "
       ]
      },
      {
       "output_type": "stream",
       "stream": "stdout",
       "text": [
        " -0.0302313438483\n",
        "b_sv: "
       ]
      },
      {
       "output_type": "stream",
       "stream": "stdout",
       "text": [
        " -0.186086563871\n",
        "param:  ('gaussian', 0.21544346900318834, 0.59948425031894093)\n",
        "b_sv: "
       ]
      },
      {
       "output_type": "stream",
       "stream": "stdout",
       "text": [
        " -0.0175360760419\n",
        "b_sv: "
       ]
      },
      {
       "output_type": "stream",
       "stream": "stdout",
       "text": [
        " -0.111481661128\n",
        "b_sv: "
       ]
      },
      {
       "output_type": "stream",
       "stream": "stdout",
       "text": [
        " -0.0696402574104\n",
        "b_sv: "
       ]
      },
      {
       "output_type": "stream",
       "stream": "stdout",
       "text": [
        " -0.0632636368842\n",
        "b_sv: "
       ]
      },
      {
       "output_type": "stream",
       "stream": "stdout",
       "text": [
        " -0.124848862729\n",
        "b_sv: "
       ]
      },
      {
       "output_type": "stream",
       "stream": "stdout",
       "text": [
        " -0.0825310613221\n",
        "b_sv: "
       ]
      },
      {
       "output_type": "stream",
       "stream": "stdout",
       "text": [
        " -0.0360628562415\n",
        "b_sv: "
       ]
      },
      {
       "output_type": "stream",
       "stream": "stdout",
       "text": [
        " 0.00442337053396\n",
        "b_sv: "
       ]
      },
      {
       "output_type": "stream",
       "stream": "stdout",
       "text": [
        " -0.0732365347172\n",
        "b_sv: "
       ]
      },
      {
       "output_type": "stream",
       "stream": "stdout",
       "text": [
        " -0.0919763300924\n",
        "b_sv: "
       ]
      },
      {
       "output_type": "stream",
       "stream": "stdout",
       "text": [
        " -0.089205732786\n",
        "b_sv: "
       ]
      },
      {
       "output_type": "stream",
       "stream": "stdout",
       "text": [
        " -0.0980978294032\n",
        "b_sv: "
       ]
      },
      {
       "output_type": "stream",
       "stream": "stdout",
       "text": [
        " -0.0863305301261\n",
        "b_sv: "
       ]
      },
      {
       "output_type": "stream",
       "stream": "stdout",
       "text": [
        " -0.0429599579677\n",
        "b_sv: "
       ]
      },
      {
       "output_type": "stream",
       "stream": "stdout",
       "text": [
        " -0.0683665491992\n",
        "b_sv: "
       ]
      },
      {
       "output_type": "stream",
       "stream": "stdout",
       "text": [
        " -0.0532517645314\n",
        "b_sv: "
       ]
      },
      {
       "output_type": "stream",
       "stream": "stdout",
       "text": [
        " -0.0193688958718\n",
        "b_sv: "
       ]
      },
      {
       "output_type": "stream",
       "stream": "stdout",
       "text": [
        " -0.0259139540843\n",
        "b_sv: "
       ]
      },
      {
       "output_type": "stream",
       "stream": "stdout",
       "text": [
        " -0.101167372176\n",
        "b_sv: "
       ]
      },
      {
       "output_type": "stream",
       "stream": "stdout",
       "text": [
        " -0.0633168606646\n",
        "param:  ('gaussian', 0.21544346900318834, 1.6681005372000592)\n",
        "b_sv: "
       ]
      },
      {
       "output_type": "stream",
       "stream": "stdout",
       "text": [
        " -0.009407271763\n",
        "b_sv: "
       ]
      },
      {
       "output_type": "stream",
       "stream": "stdout",
       "text": [
        " 0.00516508962301\n",
        "b_sv: "
       ]
      },
      {
       "output_type": "stream",
       "stream": "stdout",
       "text": [
        " -0.0159354774587\n",
        "b_sv: "
       ]
      },
      {
       "output_type": "stream",
       "stream": "stdout",
       "text": [
        " 0.0156280155017\n",
        "b_sv: "
       ]
      },
      {
       "output_type": "stream",
       "stream": "stdout",
       "text": [
        " -0.090935490013\n",
        "b_sv: "
       ]
      },
      {
       "output_type": "stream",
       "stream": "stdout",
       "text": [
        " 0.0385187520339\n",
        "b_sv: "
       ]
      },
      {
       "output_type": "stream",
       "stream": "stdout",
       "text": [
        " -0.0793865019157\n",
        "b_sv: "
       ]
      },
      {
       "output_type": "stream",
       "stream": "stdout",
       "text": [
        " 0.0241772918275\n",
        "b_sv: "
       ]
      },
      {
       "output_type": "stream",
       "stream": "stdout",
       "text": [
        " -0.033912556374\n",
        "b_sv: "
       ]
      },
      {
       "output_type": "stream",
       "stream": "stdout",
       "text": [
        " -0.0323580473444\n",
        "b_sv: "
       ]
      },
      {
       "output_type": "stream",
       "stream": "stdout",
       "text": [
        " 0.00200236672076\n",
        "b_sv: "
       ]
      },
      {
       "output_type": "stream",
       "stream": "stdout",
       "text": [
        " -0.015311469404\n",
        "b_sv: "
       ]
      },
      {
       "output_type": "stream",
       "stream": "stdout",
       "text": [
        " -0.00581345701113\n",
        "b_sv: "
       ]
      },
      {
       "output_type": "stream",
       "stream": "stdout",
       "text": [
        " -0.0141488723376\n",
        "b_sv: "
       ]
      },
      {
       "output_type": "stream",
       "stream": "stdout",
       "text": [
        " -0.0355983209023\n",
        "b_sv: "
       ]
      },
      {
       "output_type": "stream",
       "stream": "stdout",
       "text": [
        " -0.00600696653155\n",
        "b_sv: "
       ]
      },
      {
       "output_type": "stream",
       "stream": "stdout",
       "text": [
        " -0.0124003436346\n",
        "b_sv: "
       ]
      },
      {
       "output_type": "stream",
       "stream": "stdout",
       "text": [
        " -0.0183746778954\n",
        "b_sv: "
       ]
      },
      {
       "output_type": "stream",
       "stream": "stdout",
       "text": [
        " -0.0655546910208\n",
        "b_sv: "
       ]
      },
      {
       "output_type": "stream",
       "stream": "stdout",
       "text": [
        " -0.0651454712543\n",
        "param:  ('gaussian', 0.21544346900318834, 4.6415888336127775)\n",
        "b_sv: "
       ]
      },
      {
       "output_type": "stream",
       "stream": "stdout",
       "text": [
        " -0.0253767083956\n",
        "b_sv: "
       ]
      },
      {
       "output_type": "stream",
       "stream": "stdout",
       "text": [
        " -0.0531782823738\n",
        "b_sv: "
       ]
      },
      {
       "output_type": "stream",
       "stream": "stdout",
       "text": [
        " 0.0220513620691\n",
        "b_sv: "
       ]
      },
      {
       "output_type": "stream",
       "stream": "stdout",
       "text": [
        " -0.0312501973981\n",
        "b_sv: "
       ]
      },
      {
       "output_type": "stream",
       "stream": "stdout",
       "text": [
        " -0.12122060102\n",
        "b_sv: "
       ]
      },
      {
       "output_type": "stream",
       "stream": "stdout",
       "text": [
        " -0.07441722912\n",
        "b_sv: "
       ]
      },
      {
       "output_type": "stream",
       "stream": "stdout",
       "text": [
        " -0.0921011089684\n",
        "b_sv: "
       ]
      },
      {
       "output_type": "stream",
       "stream": "stdout",
       "text": [
        " -0.0123262643959\n",
        "b_sv: "
       ]
      },
      {
       "output_type": "stream",
       "stream": "stdout",
       "text": [
        " -0.0290218396665\n",
        "b_sv: "
       ]
      },
      {
       "output_type": "stream",
       "stream": "stdout",
       "text": [
        " -0.0396109641383\n",
        "b_sv: "
       ]
      },
      {
       "output_type": "stream",
       "stream": "stdout",
       "text": [
        " -0.190845299329\n",
        "b_sv: "
       ]
      },
      {
       "output_type": "stream",
       "stream": "stdout",
       "text": [
        " -0.0239345333149\n",
        "b_sv: "
       ]
      },
      {
       "output_type": "stream",
       "stream": "stdout",
       "text": [
        " -0.0136859468053\n",
        "b_sv: "
       ]
      },
      {
       "output_type": "stream",
       "stream": "stdout",
       "text": [
        " -0.0547059385043\n",
        "b_sv: "
       ]
      },
      {
       "output_type": "stream",
       "stream": "stdout",
       "text": [
        " -0.0886017855213\n",
        "b_sv: "
       ]
      },
      {
       "output_type": "stream",
       "stream": "stdout",
       "text": [
        " -0.0378732614014\n",
        "b_sv: "
       ]
      },
      {
       "output_type": "stream",
       "stream": "stdout",
       "text": [
        " 0.0121391776814\n",
        "b_sv: "
       ]
      },
      {
       "output_type": "stream",
       "stream": "stdout",
       "text": [
        " -0.069388468789\n",
        "b_sv: "
       ]
      },
      {
       "output_type": "stream",
       "stream": "stdout",
       "text": [
        " -0.03986133346\n",
        "b_sv: "
       ]
      },
      {
       "output_type": "stream",
       "stream": "stdout",
       "text": [
        " -0.0222247143499\n",
        "param:  ('gaussian', 0.21544346900318834, 12.915496650148826)\n",
        "b_sv: "
       ]
      },
      {
       "output_type": "stream",
       "stream": "stdout",
       "text": [
        " -0.138200549935\n",
        "b_sv: "
       ]
      },
      {
       "output_type": "stream",
       "stream": "stdout",
       "text": [
        " -0.156226933137\n",
        "b_sv: "
       ]
      },
      {
       "output_type": "stream",
       "stream": "stdout",
       "text": [
        " 0.00189801764792\n",
        "b_sv: "
       ]
      },
      {
       "output_type": "stream",
       "stream": "stdout",
       "text": [
        " -0.0903105026379\n",
        "b_sv: "
       ]
      },
      {
       "output_type": "stream",
       "stream": "stdout",
       "text": [
        " -0.125080864187\n",
        "b_sv: "
       ]
      },
      {
       "output_type": "stream",
       "stream": "stdout",
       "text": [
        " -0.0356302642528\n",
        "b_sv: "
       ]
      },
      {
       "output_type": "stream",
       "stream": "stdout",
       "text": [
        " -0.153801882987\n",
        "b_sv: "
       ]
      },
      {
       "output_type": "stream",
       "stream": "stdout",
       "text": [
        " -0.118675495062\n",
        "b_sv: "
       ]
      },
      {
       "output_type": "stream",
       "stream": "stdout",
       "text": [
        " -0.0744658052684\n",
        "b_sv: "
       ]
      },
      {
       "output_type": "stream",
       "stream": "stdout",
       "text": [
        " -0.181484949339\n",
        "b_sv: "
       ]
      },
      {
       "output_type": "stream",
       "stream": "stdout",
       "text": [
        " -0.119936156354\n",
        "b_sv: "
       ]
      },
      {
       "output_type": "stream",
       "stream": "stdout",
       "text": [
        " -0.154844637555\n",
        "b_sv: "
       ]
      },
      {
       "output_type": "stream",
       "stream": "stdout",
       "text": [
        " -0.139253564017\n",
        "b_sv: "
       ]
      },
      {
       "output_type": "stream",
       "stream": "stdout",
       "text": [
        " -0.129906708125\n",
        "b_sv: "
       ]
      },
      {
       "output_type": "stream",
       "stream": "stdout",
       "text": [
        " -0.0297921202861\n",
        "b_sv: "
       ]
      },
      {
       "output_type": "stream",
       "stream": "stdout",
       "text": [
        " -0.10727296557\n",
        "b_sv: "
       ]
      },
      {
       "output_type": "stream",
       "stream": "stdout",
       "text": [
        " -0.125836105954\n",
        "b_sv: "
       ]
      },
      {
       "output_type": "stream",
       "stream": "stdout",
       "text": [
        " -0.0856094993708\n",
        "b_sv: "
       ]
      },
      {
       "output_type": "stream",
       "stream": "stdout",
       "text": [
        " -0.0711313497408\n",
        "b_sv: "
       ]
      },
      {
       "output_type": "stream",
       "stream": "stdout",
       "text": [
        " -0.195173926875\n",
        "param:  ('gaussian', 0.21544346900318834, 35.938136638046259)\n",
        "b_sv: "
       ]
      },
      {
       "output_type": "stream",
       "stream": "stdout",
       "text": [
        " -0.000349753386903\n",
        "b_sv: "
       ]
      },
      {
       "output_type": "stream",
       "stream": "stdout",
       "text": [
        " -0.187841416732\n",
        "b_sv: "
       ]
      },
      {
       "output_type": "stream",
       "stream": "stdout",
       "text": [
        " -0.291688921906\n",
        "b_sv: "
       ]
      },
      {
       "output_type": "stream",
       "stream": "stdout",
       "text": [
        " 0.0556966659718\n",
        "b_sv: "
       ]
      },
      {
       "output_type": "stream",
       "stream": "stdout",
       "text": [
        " -0.0394316134206\n",
        "b_sv: "
       ]
      },
      {
       "output_type": "stream",
       "stream": "stdout",
       "text": [
        " 0.0125043588707\n",
        "b_sv: "
       ]
      },
      {
       "output_type": "stream",
       "stream": "stdout",
       "text": [
        " -0.203955095902\n",
        "b_sv: "
       ]
      },
      {
       "output_type": "stream",
       "stream": "stdout",
       "text": [
        " -0.157455933589\n",
        "b_sv: "
       ]
      },
      {
       "output_type": "stream",
       "stream": "stdout",
       "text": [
        " -0.223004293121\n",
        "b_sv: "
       ]
      },
      {
       "output_type": "stream",
       "stream": "stdout",
       "text": [
        " -0.0314342756341\n",
        "b_sv: "
       ]
      },
      {
       "output_type": "stream",
       "stream": "stdout",
       "text": [
        " -0.214143826507\n",
        "b_sv: "
       ]
      },
      {
       "output_type": "stream",
       "stream": "stdout",
       "text": [
        " -0.215974122018\n",
        "b_sv: "
       ]
      },
      {
       "output_type": "stream",
       "stream": "stdout",
       "text": [
        " -0.240268573674\n",
        "b_sv: "
       ]
      },
      {
       "output_type": "stream",
       "stream": "stdout",
       "text": [
        " -0.0373525538948\n",
        "b_sv: "
       ]
      },
      {
       "output_type": "stream",
       "stream": "stdout",
       "text": [
        " -0.245292512364\n",
        "b_sv: "
       ]
      },
      {
       "output_type": "stream",
       "stream": "stdout",
       "text": [
        " -0.0947814949579\n",
        "b_sv: "
       ]
      },
      {
       "output_type": "stream",
       "stream": "stdout",
       "text": [
        " 0.0616478175538\n",
        "b_sv: "
       ]
      },
      {
       "output_type": "stream",
       "stream": "stdout",
       "text": [
        " -0.0271268749168\n",
        "b_sv: "
       ]
      },
      {
       "output_type": "stream",
       "stream": "stdout",
       "text": [
        " -0.0935602468974\n",
        "b_sv: "
       ]
      },
      {
       "output_type": "stream",
       "stream": "stdout",
       "text": [
        " 0.0662268453539\n",
        "param:  ('gaussian', 0.21544346900318834, 100.0)\n",
        "b_sv: "
       ]
      },
      {
       "output_type": "stream",
       "stream": "stdout",
       "text": [
        " 0.0551489365879\n",
        "b_sv: "
       ]
      },
      {
       "output_type": "stream",
       "stream": "stdout",
       "text": [
        " -0.104887183705\n",
        "b_sv: "
       ]
      },
      {
       "output_type": "stream",
       "stream": "stdout",
       "text": [
        " 0.216819239396\n",
        "b_sv: "
       ]
      },
      {
       "output_type": "stream",
       "stream": "stdout",
       "text": [
        " 0.143209859906\n",
        "b_sv: "
       ]
      },
      {
       "output_type": "stream",
       "stream": "stdout",
       "text": [
        " -0.0930410009359\n",
        "b_sv: "
       ]
      },
      {
       "output_type": "stream",
       "stream": "stdout",
       "text": [
        " -0.0526405414146\n",
        "b_sv: "
       ]
      },
      {
       "output_type": "stream",
       "stream": "stdout",
       "text": [
        " 0.584963402408\n",
        "b_sv: "
       ]
      },
      {
       "output_type": "stream",
       "stream": "stdout",
       "text": [
        " -0.59673597862\n",
        "b_sv: "
       ]
      },
      {
       "output_type": "stream",
       "stream": "stdout",
       "text": [
        " -0.212082444105\n",
        "b_sv: "
       ]
      },
      {
       "output_type": "stream",
       "stream": "stdout",
       "text": [
        " -0.084664565445\n",
        "b_sv: "
       ]
      },
      {
       "output_type": "stream",
       "stream": "stdout",
       "text": [
        " -0.0346698228504\n",
        "b_sv: "
       ]
      },
      {
       "output_type": "stream",
       "stream": "stdout",
       "text": [
        " 0.133876155494\n",
        "b_sv: "
       ]
      },
      {
       "output_type": "stream",
       "stream": "stdout",
       "text": [
        " -0.242689822713\n",
        "b_sv: "
       ]
      },
      {
       "output_type": "stream",
       "stream": "stdout",
       "text": [
        " -0.118685372273\n",
        "b_sv: "
       ]
      },
      {
       "output_type": "stream",
       "stream": "stdout",
       "text": [
        " 0.40534002738\n",
        "b_sv: "
       ]
      },
      {
       "output_type": "stream",
       "stream": "stdout",
       "text": [
        " -0.138853005207\n",
        "b_sv: "
       ]
      },
      {
       "output_type": "stream",
       "stream": "stdout",
       "text": [
        " 0.379728729195\n",
        "b_sv: "
       ]
      },
      {
       "output_type": "stream",
       "stream": "stdout",
       "text": [
        " -0.178404834902\n",
        "b_sv: "
       ]
      },
      {
       "output_type": "stream",
       "stream": "stdout",
       "text": [
        " -0.00298769038243\n",
        "b_sv: "
       ]
      },
      {
       "output_type": "stream",
       "stream": "stdout",
       "text": [
        " -0.264837964045\n",
        "param:  ('gaussian', 0.59948425031894093, 0.01)\n",
        "b_sv: "
       ]
      },
      {
       "output_type": "stream",
       "stream": "stdout",
       "text": [
        " -0.870873693136\n",
        "b_sv: "
       ]
      },
      {
       "output_type": "stream",
       "stream": "stdout",
       "text": [
        " 0.827010522809\n",
        "b_sv: "
       ]
      },
      {
       "output_type": "stream",
       "stream": "stdout",
       "text": [
        " 0.831677250475\n",
        "b_sv: "
       ]
      },
      {
       "output_type": "stream",
       "stream": "stdout",
       "text": [
        " -0.86739807662\n",
        "b_sv: "
       ]
      },
      {
       "output_type": "stream",
       "stream": "stdout",
       "text": [
        " -0.859724582624\n",
        "b_sv: "
       ]
      },
      {
       "output_type": "stream",
       "stream": "stdout",
       "text": [
        " 0.83894005549\n",
        "b_sv: "
       ]
      },
      {
       "output_type": "stream",
       "stream": "stdout",
       "text": [
        " 0.848147506469\n",
        "b_sv: "
       ]
      },
      {
       "output_type": "stream",
       "stream": "stdout",
       "text": [
        " -0.864442799411\n",
        "b_sv: "
       ]
      },
      {
       "output_type": "stream",
       "stream": "stdout",
       "text": [
        " 0.852161702562\n",
        "b_sv: "
       ]
      },
      {
       "output_type": "stream",
       "stream": "stdout",
       "text": [
        " -0.853424526404\n",
        "b_sv: "
       ]
      },
      {
       "output_type": "stream",
       "stream": "stdout",
       "text": [
        " 0.836053229457\n",
        "b_sv: "
       ]
      },
      {
       "output_type": "stream",
       "stream": "stdout",
       "text": [
        " 0.827842421821\n",
        "b_sv: "
       ]
      },
      {
       "output_type": "stream",
       "stream": "stdout",
       "text": [
        " 0.842335330566\n",
        "b_sv: "
       ]
      },
      {
       "output_type": "stream",
       "stream": "stdout",
       "text": [
        " 0.828891553387\n",
        "b_sv: "
       ]
      },
      {
       "output_type": "stream",
       "stream": "stdout",
       "text": [
        " -0.854540824956\n",
        "b_sv: "
       ]
      },
      {
       "output_type": "stream",
       "stream": "stdout",
       "text": [
        " 0.81980088859\n",
        "b_sv: "
       ]
      },
      {
       "output_type": "stream",
       "stream": "stdout",
       "text": [
        " -0.849881398194\n",
        "b_sv: "
       ]
      },
      {
       "output_type": "stream",
       "stream": "stdout",
       "text": [
        " -0.87422395365\n",
        "b_sv: "
       ]
      },
      {
       "output_type": "stream",
       "stream": "stdout",
       "text": [
        " -0.883623940285\n",
        "b_sv: "
       ]
      },
      {
       "output_type": "stream",
       "stream": "stdout",
       "text": [
        " 0.845915847576\n",
        "41 / 100 parameter combinations completed. Estimated remaining time: 2410.677\n",
        "param:  ('gaussian', 0.59948425031894093, 0.027825594022071243)\n",
        "b_sv: "
       ]
      },
      {
       "output_type": "stream",
       "stream": "stdout",
       "text": [
        " -0.594892857618\n",
        "b_sv: "
       ]
      },
      {
       "output_type": "stream",
       "stream": "stdout",
       "text": [
        " 0.542618981214\n",
        "b_sv: "
       ]
      },
      {
       "output_type": "stream",
       "stream": "stdout",
       "text": [
        " 0.594174625212\n",
        "b_sv: "
       ]
      },
      {
       "output_type": "stream",
       "stream": "stdout",
       "text": [
        " 0.552148708925\n",
        "b_sv: "
       ]
      },
      {
       "output_type": "stream",
       "stream": "stdout",
       "text": [
        " -0.649469905023\n",
        "b_sv: "
       ]
      },
      {
       "output_type": "stream",
       "stream": "stdout",
       "text": [
        " 0.65636754432\n",
        "b_sv: "
       ]
      },
      {
       "output_type": "stream",
       "stream": "stdout",
       "text": [
        " -0.64463902474\n",
        "b_sv: "
       ]
      },
      {
       "output_type": "stream",
       "stream": "stdout",
       "text": [
        " -0.577181669485\n",
        "b_sv: "
       ]
      },
      {
       "output_type": "stream",
       "stream": "stdout",
       "text": [
        " 0.563329591881\n",
        "b_sv: "
       ]
      },
      {
       "output_type": "stream",
       "stream": "stdout",
       "text": [
        " -0.652697977965\n",
        "b_sv: "
       ]
      },
      {
       "output_type": "stream",
       "stream": "stdout",
       "text": [
        " -0.616165278919\n",
        "b_sv: "
       ]
      },
      {
       "output_type": "stream",
       "stream": "stdout",
       "text": [
        " -0.602586260518\n",
        "b_sv: "
       ]
      },
      {
       "output_type": "stream",
       "stream": "stdout",
       "text": [
        " 0.519109212839\n",
        "b_sv: "
       ]
      },
      {
       "output_type": "stream",
       "stream": "stdout",
       "text": [
        " -0.626630460035\n",
        "b_sv: "
       ]
      },
      {
       "output_type": "stream",
       "stream": "stdout",
       "text": [
        " -0.0466426250855\n",
        "b_sv: "
       ]
      },
      {
       "output_type": "stream",
       "stream": "stdout",
       "text": [
        " 0.585420260658\n",
        "b_sv: "
       ]
      },
      {
       "output_type": "stream",
       "stream": "stdout",
       "text": [
        " 0.627292956051\n",
        "b_sv: "
       ]
      },
      {
       "output_type": "stream",
       "stream": "stdout",
       "text": [
        " -0.607576941447\n",
        "b_sv: "
       ]
      },
      {
       "output_type": "stream",
       "stream": "stdout",
       "text": [
        " 0.519373902922\n",
        "b_sv: "
       ]
      },
      {
       "output_type": "stream",
       "stream": "stdout",
       "text": [
        " 0.569235260788\n",
        "param:  ('gaussian', 0.59948425031894093, 0.077426368268112694)\n",
        "b_sv: "
       ]
      },
      {
       "output_type": "stream",
       "stream": "stdout",
       "text": [
        " -0.117372466722\n",
        "b_sv: "
       ]
      },
      {
       "output_type": "stream",
       "stream": "stdout",
       "text": [
        " -0.119718796155\n",
        "b_sv: "
       ]
      },
      {
       "output_type": "stream",
       "stream": "stdout",
       "text": [
        " 0.00953823713382\n",
        "b_sv: "
       ]
      },
      {
       "output_type": "stream",
       "stream": "stdout",
       "text": [
        " -0.00914658381763\n",
        "b_sv: "
       ]
      },
      {
       "output_type": "stream",
       "stream": "stdout",
       "text": [
        " -0.0561395195545\n",
        "b_sv: "
       ]
      },
      {
       "output_type": "stream",
       "stream": "stdout",
       "text": [
        " -0.150653988636\n",
        "b_sv: "
       ]
      },
      {
       "output_type": "stream",
       "stream": "stdout",
       "text": [
        " 0.0166503069304\n",
        "b_sv: "
       ]
      },
      {
       "output_type": "stream",
       "stream": "stdout",
       "text": [
        " -0.0426017280689\n",
        "b_sv: "
       ]
      },
      {
       "output_type": "stream",
       "stream": "stdout",
       "text": [
        " -0.0818959164937\n",
        "b_sv: "
       ]
      },
      {
       "output_type": "stream",
       "stream": "stdout",
       "text": [
        " -0.0382455327487\n",
        "b_sv: "
       ]
      },
      {
       "output_type": "stream",
       "stream": "stdout",
       "text": [
        " -0.0573594916027\n",
        "b_sv: "
       ]
      },
      {
       "output_type": "stream",
       "stream": "stdout",
       "text": [
        " -0.113867003035\n",
        "b_sv: "
       ]
      },
      {
       "output_type": "stream",
       "stream": "stdout",
       "text": [
        " -0.158785895423\n",
        "b_sv: "
       ]
      },
      {
       "output_type": "stream",
       "stream": "stdout",
       "text": [
        " 0.0120922962767\n",
        "b_sv: "
       ]
      },
      {
       "output_type": "stream",
       "stream": "stdout",
       "text": [
        " -0.0569841957451\n",
        "b_sv: "
       ]
      },
      {
       "output_type": "stream",
       "stream": "stdout",
       "text": [
        " -0.154377731013\n",
        "b_sv: "
       ]
      },
      {
       "output_type": "stream",
       "stream": "stdout",
       "text": [
        " 0.0103253061752\n",
        "b_sv: "
       ]
      },
      {
       "output_type": "stream",
       "stream": "stdout",
       "text": [
        " 0.00427603231421\n",
        "b_sv: "
       ]
      },
      {
       "output_type": "stream",
       "stream": "stdout",
       "text": [
        " -0.0837230020358\n",
        "b_sv: "
       ]
      },
      {
       "output_type": "stream",
       "stream": "stdout",
       "text": [
        " 0.0522068354289\n",
        "param:  ('gaussian', 0.59948425031894093, 0.21544346900318834)\n",
        "b_sv: "
       ]
      },
      {
       "output_type": "stream",
       "stream": "stdout",
       "text": [
        " -0.0553138907832\n",
        "b_sv: "
       ]
      },
      {
       "output_type": "stream",
       "stream": "stdout",
       "text": [
        " -0.0555079213525\n",
        "b_sv: "
       ]
      },
      {
       "output_type": "stream",
       "stream": "stdout",
       "text": [
        " -0.00314985274114\n",
        "b_sv: "
       ]
      },
      {
       "output_type": "stream",
       "stream": "stdout",
       "text": [
        " -0.0106931010593\n",
        "b_sv: "
       ]
      },
      {
       "output_type": "stream",
       "stream": "stdout",
       "text": [
        " -0.0119364006244\n",
        "b_sv: "
       ]
      },
      {
       "output_type": "stream",
       "stream": "stdout",
       "text": [
        " -0.0400837149443\n",
        "b_sv: "
       ]
      },
      {
       "output_type": "stream",
       "stream": "stdout",
       "text": [
        " -0.0337053969422\n",
        "b_sv: "
       ]
      },
      {
       "output_type": "stream",
       "stream": "stdout",
       "text": [
        " -0.0145483064207\n",
        "b_sv: "
       ]
      },
      {
       "output_type": "stream",
       "stream": "stdout",
       "text": [
        " -0.0411420983093\n",
        "b_sv: "
       ]
      },
      {
       "output_type": "stream",
       "stream": "stdout",
       "text": [
        " -0.0364692412364\n",
        "b_sv: "
       ]
      },
      {
       "output_type": "stream",
       "stream": "stdout",
       "text": [
        " -0.0795669695013\n",
        "b_sv: "
       ]
      },
      {
       "output_type": "stream",
       "stream": "stdout",
       "text": [
        " -0.0424204891536\n",
        "b_sv: "
       ]
      },
      {
       "output_type": "stream",
       "stream": "stdout",
       "text": [
        " -0.0247484796352\n",
        "b_sv: "
       ]
      },
      {
       "output_type": "stream",
       "stream": "stdout",
       "text": [
        " -0.0649361342878\n",
        "b_sv: "
       ]
      },
      {
       "output_type": "stream",
       "stream": "stdout",
       "text": [
        " -0.0138584256856\n",
        "b_sv: "
       ]
      },
      {
       "output_type": "stream",
       "stream": "stdout",
       "text": [
        " -0.0259051818501\n",
        "b_sv: "
       ]
      },
      {
       "output_type": "stream",
       "stream": "stdout",
       "text": [
        " -0.0180431194176\n",
        "b_sv: "
       ]
      },
      {
       "output_type": "stream",
       "stream": "stdout",
       "text": [
        " 0.0215099011495\n",
        "b_sv: "
       ]
      },
      {
       "output_type": "stream",
       "stream": "stdout",
       "text": [
        " -0.0422918564548\n",
        "b_sv: "
       ]
      },
      {
       "output_type": "stream",
       "stream": "stdout",
       "text": [
        " -0.0209786143368\n",
        "param:  ('gaussian', 0.59948425031894093, 0.59948425031894093)\n",
        "b_sv: "
       ]
      },
      {
       "output_type": "stream",
       "stream": "stdout",
       "text": [
        " -0.0149593919056\n",
        "b_sv: "
       ]
      },
      {
       "output_type": "stream",
       "stream": "stdout",
       "text": [
        " 0.0411313049902\n",
        "b_sv: "
       ]
      },
      {
       "output_type": "stream",
       "stream": "stdout",
       "text": [
        " 0.0191457360995\n",
        "b_sv: "
       ]
      },
      {
       "output_type": "stream",
       "stream": "stdout",
       "text": [
        " -0.14604886907\n",
        "b_sv: "
       ]
      },
      {
       "output_type": "stream",
       "stream": "stdout",
       "text": [
        " 0.00228213816466\n",
        "b_sv: "
       ]
      },
      {
       "output_type": "stream",
       "stream": "stdout",
       "text": [
        " -0.00292107130941\n",
        "b_sv: "
       ]
      },
      {
       "output_type": "stream",
       "stream": "stdout",
       "text": [
        " 0.00911891904949\n",
        "b_sv: "
       ]
      },
      {
       "output_type": "stream",
       "stream": "stdout",
       "text": [
        " -0.0535080137729\n",
        "b_sv: "
       ]
      },
      {
       "output_type": "stream",
       "stream": "stdout",
       "text": [
        " 0.00670642664402\n",
        "b_sv: "
       ]
      },
      {
       "output_type": "stream",
       "stream": "stdout",
       "text": [
        " -0.000408078320035\n",
        "b_sv: "
       ]
      },
      {
       "output_type": "stream",
       "stream": "stdout",
       "text": [
        " -0.0130879657813\n",
        "b_sv: "
       ]
      },
      {
       "output_type": "stream",
       "stream": "stdout",
       "text": [
        " 0.0296888342486\n",
        "b_sv: "
       ]
      },
      {
       "output_type": "stream",
       "stream": "stdout",
       "text": [
        " -0.0387933763507\n",
        "b_sv: "
       ]
      },
      {
       "output_type": "stream",
       "stream": "stdout",
       "text": [
        " -0.0027845308711\n",
        "b_sv: "
       ]
      },
      {
       "output_type": "stream",
       "stream": "stdout",
       "text": [
        " -0.00982904476456\n",
        "b_sv: "
       ]
      },
      {
       "output_type": "stream",
       "stream": "stdout",
       "text": [
        " -0.00254074125465\n",
        "b_sv: "
       ]
      },
      {
       "output_type": "stream",
       "stream": "stdout",
       "text": [
        " -0.00420846747704\n",
        "b_sv: "
       ]
      },
      {
       "output_type": "stream",
       "stream": "stdout",
       "text": [
        " 0.00379727038475\n",
        "b_sv: "
       ]
      },
      {
       "output_type": "stream",
       "stream": "stdout",
       "text": [
        " -0.00860197008506\n",
        "b_sv: "
       ]
      },
      {
       "output_type": "stream",
       "stream": "stdout",
       "text": [
        " -0.105600561242\n",
        "param:  ('gaussian', 0.59948425031894093, 1.6681005372000592)\n",
        "b_sv: "
       ]
      },
      {
       "output_type": "stream",
       "stream": "stdout",
       "text": [
        " -0.0186480801015\n",
        "b_sv: "
       ]
      },
      {
       "output_type": "stream",
       "stream": "stdout",
       "text": [
        " -0.0971934800026\n",
        "b_sv: "
       ]
      },
      {
       "output_type": "stream",
       "stream": "stdout",
       "text": [
        " -0.0454741375131\n",
        "b_sv: "
       ]
      },
      {
       "output_type": "stream",
       "stream": "stdout",
       "text": [
        " -0.061498031694\n",
        "b_sv: "
       ]
      },
      {
       "output_type": "stream",
       "stream": "stdout",
       "text": [
        " -0.203355760193\n",
        "b_sv: "
       ]
      },
      {
       "output_type": "stream",
       "stream": "stdout",
       "text": [
        " 0.0225177511076\n",
        "b_sv: "
       ]
      },
      {
       "output_type": "stream",
       "stream": "stdout",
       "text": [
        " 0.0112807810918\n",
        "b_sv: "
       ]
      },
      {
       "output_type": "stream",
       "stream": "stdout",
       "text": [
        " -0.0477013544047\n",
        "b_sv: "
       ]
      },
      {
       "output_type": "stream",
       "stream": "stdout",
       "text": [
        " -8.70174453375e-05\n",
        "b_sv: "
       ]
      },
      {
       "output_type": "stream",
       "stream": "stdout",
       "text": [
        " -0.0908206021474\n",
        "b_sv: "
       ]
      },
      {
       "output_type": "stream",
       "stream": "stdout",
       "text": [
        " -0.0497448345188\n",
        "b_sv: "
       ]
      },
      {
       "output_type": "stream",
       "stream": "stdout",
       "text": [
        " 0.0200345404813\n",
        "b_sv: "
       ]
      },
      {
       "output_type": "stream",
       "stream": "stdout",
       "text": [
        " -0.131801659138\n",
        "b_sv: "
       ]
      },
      {
       "output_type": "stream",
       "stream": "stdout",
       "text": [
        " -0.0109618344331\n",
        "b_sv: "
       ]
      },
      {
       "output_type": "stream",
       "stream": "stdout",
       "text": [
        " -0.0262604356777\n",
        "b_sv: "
       ]
      },
      {
       "output_type": "stream",
       "stream": "stdout",
       "text": [
        " -0.0477872176196\n",
        "b_sv: "
       ]
      },
      {
       "output_type": "stream",
       "stream": "stdout",
       "text": [
        " -0.0671472499296\n",
        "b_sv: "
       ]
      },
      {
       "output_type": "stream",
       "stream": "stdout",
       "text": [
        " -0.050441588131\n",
        "b_sv: "
       ]
      },
      {
       "output_type": "stream",
       "stream": "stdout",
       "text": [
        " -0.0489608269534\n",
        "b_sv: "
       ]
      },
      {
       "output_type": "stream",
       "stream": "stdout",
       "text": [
        " 0.0143798710896\n",
        "param:  ('gaussian', 0.59948425031894093, 4.6415888336127775)\n",
        "b_sv: "
       ]
      },
      {
       "output_type": "stream",
       "stream": "stdout",
       "text": [
        " 0.00585506370021\n",
        "b_sv: "
       ]
      },
      {
       "output_type": "stream",
       "stream": "stdout",
       "text": [
        " -0.255555063261\n",
        "b_sv: "
       ]
      },
      {
       "output_type": "stream",
       "stream": "stdout",
       "text": [
        " -0.170590056576\n",
        "b_sv: "
       ]
      },
      {
       "output_type": "stream",
       "stream": "stdout",
       "text": [
        " -0.248361343819\n",
        "b_sv: "
       ]
      },
      {
       "output_type": "stream",
       "stream": "stdout",
       "text": [
        " -0.239373336373\n",
        "b_sv: "
       ]
      },
      {
       "output_type": "stream",
       "stream": "stdout",
       "text": [
        " -0.0214430609015\n",
        "b_sv: "
       ]
      },
      {
       "output_type": "stream",
       "stream": "stdout",
       "text": [
        " -0.0808578472397\n",
        "b_sv: "
       ]
      },
      {
       "output_type": "stream",
       "stream": "stdout",
       "text": [
        " -0.256559295857\n",
        "b_sv: "
       ]
      },
      {
       "output_type": "stream",
       "stream": "stdout",
       "text": [
        " -0.274452663495\n",
        "b_sv: "
       ]
      },
      {
       "output_type": "stream",
       "stream": "stdout",
       "text": [
        " -0.243044625289\n",
        "b_sv: "
       ]
      },
      {
       "output_type": "stream",
       "stream": "stdout",
       "text": [
        " -0.0187875466473\n",
        "b_sv: "
       ]
      },
      {
       "output_type": "stream",
       "stream": "stdout",
       "text": [
        " -0.0858322111575\n",
        "b_sv: "
       ]
      },
      {
       "output_type": "stream",
       "stream": "stdout",
       "text": [
        " -0.319370984533\n",
        "b_sv: "
       ]
      },
      {
       "output_type": "stream",
       "stream": "stdout",
       "text": [
        " -0.217487621225\n",
        "b_sv: "
       ]
      },
      {
       "output_type": "stream",
       "stream": "stdout",
       "text": [
        " -0.185541173712\n",
        "b_sv: "
       ]
      },
      {
       "output_type": "stream",
       "stream": "stdout",
       "text": [
        " -0.232503913608\n",
        "b_sv: "
       ]
      },
      {
       "output_type": "stream",
       "stream": "stdout",
       "text": [
        " -0.192234998558\n",
        "b_sv: "
       ]
      },
      {
       "output_type": "stream",
       "stream": "stdout",
       "text": [
        " -0.270365330115\n",
        "b_sv: "
       ]
      },
      {
       "output_type": "stream",
       "stream": "stdout",
       "text": [
        " -0.155917479172\n",
        "b_sv: "
       ]
      },
      {
       "output_type": "stream",
       "stream": "stdout",
       "text": [
        " -0.138116208054\n",
        "param:  ('gaussian', 0.59948425031894093, 12.915496650148826)\n",
        "b_sv: "
       ]
      },
      {
       "output_type": "stream",
       "stream": "stdout",
       "text": [
        " -0.21203119088\n",
        "b_sv: "
       ]
      },
      {
       "output_type": "stream",
       "stream": "stdout",
       "text": [
        " -0.194533108249\n",
        "b_sv: "
       ]
      },
      {
       "output_type": "stream",
       "stream": "stdout",
       "text": [
        " -0.0321032127717\n",
        "b_sv: "
       ]
      },
      {
       "output_type": "stream",
       "stream": "stdout",
       "text": [
        " -0.157664752346\n",
        "b_sv: "
       ]
      },
      {
       "output_type": "stream",
       "stream": "stdout",
       "text": [
        " -0.326395277668\n",
        "b_sv: "
       ]
      },
      {
       "output_type": "stream",
       "stream": "stdout",
       "text": [
        " -0.0804036206094\n",
        "b_sv: "
       ]
      },
      {
       "output_type": "stream",
       "stream": "stdout",
       "text": [
        " -0.0922372367933\n",
        "b_sv: "
       ]
      },
      {
       "output_type": "stream",
       "stream": "stdout",
       "text": [
        " -0.317990510547\n",
        "b_sv: "
       ]
      },
      {
       "output_type": "stream",
       "stream": "stdout",
       "text": [
        " -0.32286543989\n",
        "b_sv: "
       ]
      },
      {
       "output_type": "stream",
       "stream": "stdout",
       "text": [
        " -0.216745767478\n",
        "b_sv: "
       ]
      },
      {
       "output_type": "stream",
       "stream": "stdout",
       "text": [
        " -0.100023171077\n",
        "b_sv: "
       ]
      },
      {
       "output_type": "stream",
       "stream": "stdout",
       "text": [
        " -0.263824298049\n",
        "b_sv: "
       ]
      },
      {
       "output_type": "stream",
       "stream": "stdout",
       "text": [
        " -0.152401367439\n",
        "b_sv: "
       ]
      },
      {
       "output_type": "stream",
       "stream": "stdout",
       "text": [
        " -0.306228521355\n",
        "b_sv: "
       ]
      },
      {
       "output_type": "stream",
       "stream": "stdout",
       "text": [
        " -0.211915053492\n",
        "b_sv: "
       ]
      },
      {
       "output_type": "stream",
       "stream": "stdout",
       "text": [
        " 0.00439825635891\n",
        "b_sv: "
       ]
      },
      {
       "output_type": "stream",
       "stream": "stdout",
       "text": [
        " -0.381638003344\n",
        "b_sv: "
       ]
      },
      {
       "output_type": "stream",
       "stream": "stdout",
       "text": [
        " -0.0796881517528\n",
        "b_sv: "
       ]
      },
      {
       "output_type": "stream",
       "stream": "stdout",
       "text": [
        " -0.368757767824\n",
        "b_sv: "
       ]
      },
      {
       "output_type": "stream",
       "stream": "stdout",
       "text": [
        " -0.178270671234\n",
        "param:  ('gaussian', 0.59948425031894093, 35.938136638046259)\n",
        "b_sv: "
       ]
      },
      {
       "output_type": "stream",
       "stream": "stdout",
       "text": [
        " -0.0684664287233\n",
        "b_sv: "
       ]
      },
      {
       "output_type": "stream",
       "stream": "stdout",
       "text": [
        " -0.274440992026\n",
        "b_sv: "
       ]
      },
      {
       "output_type": "stream",
       "stream": "stdout",
       "text": [
        " 0.06575215621\n",
        "b_sv: "
       ]
      },
      {
       "output_type": "stream",
       "stream": "stdout",
       "text": [
        " -0.214744086078\n",
        "b_sv: "
       ]
      },
      {
       "output_type": "stream",
       "stream": "stdout",
       "text": [
        " -0.521416845743\n",
        "b_sv: "
       ]
      },
      {
       "output_type": "stream",
       "stream": "stdout",
       "text": [
        " -0.0532969948481\n",
        "b_sv: "
       ]
      },
      {
       "output_type": "stream",
       "stream": "stdout",
       "text": [
        " -0.358553095954\n",
        "b_sv: "
       ]
      },
      {
       "output_type": "stream",
       "stream": "stdout",
       "text": [
        " -0.110303523659\n",
        "b_sv: "
       ]
      },
      {
       "output_type": "stream",
       "stream": "stdout",
       "text": [
        " -0.449755659419\n",
        "b_sv: "
       ]
      },
      {
       "output_type": "stream",
       "stream": "stdout",
       "text": [
        " -0.58705594816\n",
        "b_sv: "
       ]
      },
      {
       "output_type": "stream",
       "stream": "stdout",
       "text": [
        " -0.308751006964\n",
        "b_sv: "
       ]
      },
      {
       "output_type": "stream",
       "stream": "stdout",
       "text": [
        " -0.0998579464908\n",
        "b_sv: "
       ]
      },
      {
       "output_type": "stream",
       "stream": "stdout",
       "text": [
        " -0.497972791118\n",
        "b_sv: "
       ]
      },
      {
       "output_type": "stream",
       "stream": "stdout",
       "text": [
        " -0.39945155163\n",
        "b_sv: "
       ]
      },
      {
       "output_type": "stream",
       "stream": "stdout",
       "text": [
        " -0.172940494569\n",
        "b_sv: "
       ]
      },
      {
       "output_type": "stream",
       "stream": "stdout",
       "text": [
        " -0.656828875277\n",
        "b_sv: "
       ]
      },
      {
       "output_type": "stream",
       "stream": "stdout",
       "text": [
        " -0.0520249126387\n",
        "b_sv: "
       ]
      },
      {
       "output_type": "stream",
       "stream": "stdout",
       "text": [
        " -0.492158130381\n",
        "b_sv: "
       ]
      },
      {
       "output_type": "stream",
       "stream": "stdout",
       "text": [
        " 0.267819245741\n",
        "b_sv: "
       ]
      },
      {
       "output_type": "stream",
       "stream": "stdout",
       "text": [
        " 0.076042539736\n",
        "param:  ('gaussian', 0.59948425031894093, 100.0)\n",
        "b_sv: "
       ]
      },
      {
       "output_type": "stream",
       "stream": "stdout",
       "text": [
        " 0.232158713075\n",
        "b_sv: "
       ]
      },
      {
       "output_type": "stream",
       "stream": "stdout",
       "text": [
        " -0.564302852545\n",
        "b_sv: "
       ]
      },
      {
       "output_type": "stream",
       "stream": "stdout",
       "text": [
        " -1.14731409407\n",
        "b_sv: "
       ]
      },
      {
       "output_type": "stream",
       "stream": "stdout",
       "text": [
        " 0.0208818378102\n",
        "b_sv: "
       ]
      },
      {
       "output_type": "stream",
       "stream": "stdout",
       "text": [
        " -0.895004635533\n",
        "b_sv: "
       ]
      },
      {
       "output_type": "stream",
       "stream": "stdout",
       "text": [
        " -0.0982759868891\n",
        "b_sv: "
       ]
      },
      {
       "output_type": "stream",
       "stream": "stdout",
       "text": [
        " -0.0348587962747\n",
        "b_sv: "
       ]
      },
      {
       "output_type": "stream",
       "stream": "stdout",
       "text": [
        " -0.331944765401\n",
        "b_sv: "
       ]
      },
      {
       "output_type": "stream",
       "stream": "stdout",
       "text": [
        " -0.0943514345362\n",
        "b_sv: "
       ]
      },
      {
       "output_type": "stream",
       "stream": "stdout",
       "text": [
        " -0.850411314993\n",
        "b_sv: "
       ]
      },
      {
       "output_type": "stream",
       "stream": "stdout",
       "text": [
        " -0.300020362822\n",
        "b_sv: "
       ]
      },
      {
       "output_type": "stream",
       "stream": "stdout",
       "text": [
        " -0.497045004532\n",
        "b_sv: "
       ]
      },
      {
       "output_type": "stream",
       "stream": "stdout",
       "text": [
        " -0.64024270361\n",
        "b_sv: "
       ]
      },
      {
       "output_type": "stream",
       "stream": "stdout",
       "text": [
        " -0.38243772882\n",
        "b_sv: "
       ]
      },
      {
       "output_type": "stream",
       "stream": "stdout",
       "text": [
        " -0.119643127965\n",
        "b_sv: "
       ]
      },
      {
       "output_type": "stream",
       "stream": "stdout",
       "text": [
        " -0.814397109149\n",
        "b_sv: "
       ]
      },
      {
       "output_type": "stream",
       "stream": "stdout",
       "text": [
        " -0.304631352588\n",
        "b_sv: "
       ]
      },
      {
       "output_type": "stream",
       "stream": "stdout",
       "text": [
        " -0.0386020776287\n",
        "b_sv: "
       ]
      },
      {
       "output_type": "stream",
       "stream": "stdout",
       "text": [
        " 0.274601666617\n",
        "b_sv: "
       ]
      },
      {
       "output_type": "stream",
       "stream": "stdout",
       "text": [
        " -0.0680508264792\n",
        "param:  ('gaussian', 1.6681005372000592, 0.01)\n",
        "b_sv: "
       ]
      },
      {
       "output_type": "stream",
       "stream": "stdout",
       "text": [
        " 0.886895313156\n",
        "b_sv: "
       ]
      },
      {
       "output_type": "stream",
       "stream": "stdout",
       "text": [
        " -0.889896118248\n",
        "b_sv: "
       ]
      },
      {
       "output_type": "stream",
       "stream": "stdout",
       "text": [
        " -0.887597970033\n",
        "b_sv: "
       ]
      },
      {
       "output_type": "stream",
       "stream": "stdout",
       "text": [
        " 0.873017036105\n",
        "b_sv: "
       ]
      },
      {
       "output_type": "stream",
       "stream": "stdout",
       "text": [
        " -0.0104905460783\n",
        "b_sv: "
       ]
      },
      {
       "output_type": "stream",
       "stream": "stdout",
       "text": [
        " -0.899105631235\n",
        "b_sv: "
       ]
      },
      {
       "output_type": "stream",
       "stream": "stdout",
       "text": [
        " -0.886121257604\n",
        "b_sv: "
       ]
      },
      {
       "output_type": "stream",
       "stream": "stdout",
       "text": [
        " -0.894892012545\n",
        "b_sv: "
       ]
      },
      {
       "output_type": "stream",
       "stream": "stdout",
       "text": [
        " 0.877286743676\n",
        "b_sv: "
       ]
      },
      {
       "output_type": "stream",
       "stream": "stdout",
       "text": [
        " 0.878948468033\n",
        "b_sv: "
       ]
      },
      {
       "output_type": "stream",
       "stream": "stdout",
       "text": [
        " 0.882425790273\n",
        "b_sv: "
       ]
      },
      {
       "output_type": "stream",
       "stream": "stdout",
       "text": [
        " -0.879285714736\n",
        "b_sv: "
       ]
      },
      {
       "output_type": "stream",
       "stream": "stdout",
       "text": [
        " -0.882008603673\n",
        "b_sv: "
       ]
      },
      {
       "output_type": "stream",
       "stream": "stdout",
       "text": [
        " 0.889777166432\n",
        "b_sv: "
       ]
      },
      {
       "output_type": "stream",
       "stream": "stdout",
       "text": [
        " -0.868404720055\n",
        "b_sv: "
       ]
      },
      {
       "output_type": "stream",
       "stream": "stdout",
       "text": [
        " -0.890310154257\n",
        "b_sv: "
       ]
      },
      {
       "output_type": "stream",
       "stream": "stdout",
       "text": [
        " 0.872343307305\n",
        "b_sv: "
       ]
      },
      {
       "output_type": "stream",
       "stream": "stdout",
       "text": [
        " -0.881107967013\n",
        "b_sv: "
       ]
      },
      {
       "output_type": "stream",
       "stream": "stdout",
       "text": [
        " -0.886141924846\n",
        "b_sv: "
       ]
      },
      {
       "output_type": "stream",
       "stream": "stdout",
       "text": [
        " 0.874679928711\n",
        "51 / 100 parameter combinations completed. Estimated remaining time: 3217.756\n",
        "param:  ('gaussian', 1.6681005372000592, 0.027825594022071243)\n",
        "b_sv: "
       ]
      },
      {
       "output_type": "stream",
       "stream": "stdout",
       "text": [
        " 0.596485673223\n",
        "b_sv: "
       ]
      },
      {
       "output_type": "stream",
       "stream": "stdout",
       "text": [
        " -0.730236574776\n",
        "b_sv: "
       ]
      },
      {
       "output_type": "stream",
       "stream": "stdout",
       "text": [
        " -0.691447439606\n",
        "b_sv: "
       ]
      },
      {
       "output_type": "stream",
       "stream": "stdout",
       "text": [
        " -0.0278429055597\n",
        "b_sv: "
       ]
      },
      {
       "output_type": "stream",
       "stream": "stdout",
       "text": [
        " 0.616640801375\n",
        "b_sv: "
       ]
      },
      {
       "output_type": "stream",
       "stream": "stdout",
       "text": [
        " -0.0129765037097\n",
        "b_sv: "
       ]
      },
      {
       "output_type": "stream",
       "stream": "stdout",
       "text": [
        " 0.675500139252\n",
        "b_sv: "
       ]
      },
      {
       "output_type": "stream",
       "stream": "stdout",
       "text": [
        " -0.673678964348\n",
        "b_sv: "
       ]
      },
      {
       "output_type": "stream",
       "stream": "stdout",
       "text": [
        " 0.0139783730232\n",
        "b_sv: "
       ]
      },
      {
       "output_type": "stream",
       "stream": "stdout",
       "text": [
        " 0.678249696057\n",
        "b_sv: "
       ]
      },
      {
       "output_type": "stream",
       "stream": "stdout",
       "text": [
        " -0.615996118363\n",
        "b_sv: "
       ]
      },
      {
       "output_type": "stream",
       "stream": "stdout",
       "text": [
        " 0.646293568766\n",
        "b_sv: "
       ]
      },
      {
       "output_type": "stream",
       "stream": "stdout",
       "text": [
        " 0.608056711145\n",
        "b_sv: "
       ]
      },
      {
       "output_type": "stream",
       "stream": "stdout",
       "text": [
        " -0.0393640652043\n",
        "b_sv: "
       ]
      },
      {
       "output_type": "stream",
       "stream": "stdout",
       "text": [
        " 0.679989605829\n",
        "b_sv: "
       ]
      },
      {
       "output_type": "stream",
       "stream": "stdout",
       "text": [
        " -0.740996185664\n",
        "b_sv: "
       ]
      },
      {
       "output_type": "stream",
       "stream": "stdout",
       "text": [
        " -0.0366066653851\n",
        "b_sv: "
       ]
      },
      {
       "output_type": "stream",
       "stream": "stdout",
       "text": [
        " -0.0424261579135\n",
        "b_sv: "
       ]
      },
      {
       "output_type": "stream",
       "stream": "stdout",
       "text": [
        " 0.616998267539\n",
        "b_sv: "
       ]
      },
      {
       "output_type": "stream",
       "stream": "stdout",
       "text": [
        " -0.670669298206\n",
        "param:  ('gaussian', 1.6681005372000592, 0.077426368268112694)\n",
        "b_sv: "
       ]
      },
      {
       "output_type": "stream",
       "stream": "stdout",
       "text": [
        " -0.0335760043164\n",
        "b_sv: "
       ]
      },
      {
       "output_type": "stream",
       "stream": "stdout",
       "text": [
        " -0.1247141552\n",
        "b_sv: "
       ]
      },
      {
       "output_type": "stream",
       "stream": "stdout",
       "text": [
        " 0.0891234821494\n",
        "b_sv: "
       ]
      },
      {
       "output_type": "stream",
       "stream": "stdout",
       "text": [
        " 0.0848194168062\n",
        "b_sv: "
       ]
      },
      {
       "output_type": "stream",
       "stream": "stdout",
       "text": [
        " -0.050147589689\n",
        "b_sv: "
       ]
      },
      {
       "output_type": "stream",
       "stream": "stdout",
       "text": [
        " -0.134278906384\n",
        "b_sv: "
       ]
      },
      {
       "output_type": "stream",
       "stream": "stdout",
       "text": [
        " -0.0185035019899\n",
        "b_sv: "
       ]
      },
      {
       "output_type": "stream",
       "stream": "stdout",
       "text": [
        " -0.169790901522\n",
        "b_sv: "
       ]
      },
      {
       "output_type": "stream",
       "stream": "stdout",
       "text": [
        " -0.163073562\n",
        "b_sv: "
       ]
      },
      {
       "output_type": "stream",
       "stream": "stdout",
       "text": [
        " -0.024542176022\n",
        "b_sv: "
       ]
      },
      {
       "output_type": "stream",
       "stream": "stdout",
       "text": [
        " -0.0172129074562\n",
        "b_sv: "
       ]
      },
      {
       "output_type": "stream",
       "stream": "stdout",
       "text": [
        " 0.0365038393267\n",
        "b_sv: "
       ]
      },
      {
       "output_type": "stream",
       "stream": "stdout",
       "text": [
        " 0.0646213427399\n",
        "b_sv: "
       ]
      },
      {
       "output_type": "stream",
       "stream": "stdout",
       "text": [
        " 0.00373406458265\n",
        "b_sv: "
       ]
      },
      {
       "output_type": "stream",
       "stream": "stdout",
       "text": [
        " -0.142939199553\n",
        "b_sv: "
       ]
      },
      {
       "output_type": "stream",
       "stream": "stdout",
       "text": [
        " -0.109691996044\n",
        "b_sv: "
       ]
      },
      {
       "output_type": "stream",
       "stream": "stdout",
       "text": [
        " -0.0851255665189\n",
        "b_sv: "
       ]
      },
      {
       "output_type": "stream",
       "stream": "stdout",
       "text": [
        " -0.0407947106471\n",
        "b_sv: "
       ]
      },
      {
       "output_type": "stream",
       "stream": "stdout",
       "text": [
        " -0.248305632756\n",
        "b_sv: "
       ]
      },
      {
       "output_type": "stream",
       "stream": "stdout",
       "text": [
        " -0.157718071176\n",
        "param:  ('gaussian', 1.6681005372000592, 0.21544346900318834)\n",
        "b_sv: "
       ]
      },
      {
       "output_type": "stream",
       "stream": "stdout",
       "text": [
        " -0.120330337095\n",
        "b_sv: "
       ]
      },
      {
       "output_type": "stream",
       "stream": "stdout",
       "text": [
        " -0.0295224840064\n",
        "b_sv: "
       ]
      },
      {
       "output_type": "stream",
       "stream": "stdout",
       "text": [
        " -0.13078874435\n",
        "b_sv: "
       ]
      },
      {
       "output_type": "stream",
       "stream": "stdout",
       "text": [
        " -0.133784317838\n",
        "b_sv: "
       ]
      },
      {
       "output_type": "stream",
       "stream": "stdout",
       "text": [
        " -0.0840040763075\n",
        "b_sv: "
       ]
      },
      {
       "output_type": "stream",
       "stream": "stdout",
       "text": [
        " -0.0877609898388\n",
        "b_sv: "
       ]
      },
      {
       "output_type": "stream",
       "stream": "stdout",
       "text": [
        " -0.028344342828\n",
        "b_sv: "
       ]
      },
      {
       "output_type": "stream",
       "stream": "stdout",
       "text": [
        " -0.0567611667497\n",
        "b_sv: "
       ]
      },
      {
       "output_type": "stream",
       "stream": "stdout",
       "text": [
        " -0.0893613724375\n",
        "b_sv: "
       ]
      },
      {
       "output_type": "stream",
       "stream": "stdout",
       "text": [
        " -0.0603165499737\n",
        "b_sv: "
       ]
      },
      {
       "output_type": "stream",
       "stream": "stdout",
       "text": [
        " -0.0666176701984\n",
        "b_sv: "
       ]
      },
      {
       "output_type": "stream",
       "stream": "stdout",
       "text": [
        " -0.0936241166977\n",
        "b_sv: "
       ]
      },
      {
       "output_type": "stream",
       "stream": "stdout",
       "text": [
        " -0.0942872333966\n",
        "b_sv: "
       ]
      },
      {
       "output_type": "stream",
       "stream": "stdout",
       "text": [
        " -0.0717166128234\n",
        "b_sv: "
       ]
      },
      {
       "output_type": "stream",
       "stream": "stdout",
       "text": [
        " -0.0135789795104\n",
        "b_sv: "
       ]
      },
      {
       "output_type": "stream",
       "stream": "stdout",
       "text": [
        " -0.130437120468\n",
        "b_sv: "
       ]
      },
      {
       "output_type": "stream",
       "stream": "stdout",
       "text": [
        " -0.0918697078115\n",
        "b_sv: "
       ]
      },
      {
       "output_type": "stream",
       "stream": "stdout",
       "text": [
        " -0.0891521413748\n",
        "b_sv: "
       ]
      },
      {
       "output_type": "stream",
       "stream": "stdout",
       "text": [
        " -0.0842229088486\n",
        "b_sv: "
       ]
      },
      {
       "output_type": "stream",
       "stream": "stdout",
       "text": [
        " -0.0956727145528\n",
        "param:  ('gaussian', 1.6681005372000592, 0.59948425031894093)\n",
        "b_sv: "
       ]
      },
      {
       "output_type": "stream",
       "stream": "stdout",
       "text": [
        " -0.191063924909\n",
        "b_sv: "
       ]
      },
      {
       "output_type": "stream",
       "stream": "stdout",
       "text": [
        " -0.213408362436\n",
        "b_sv: "
       ]
      },
      {
       "output_type": "stream",
       "stream": "stdout",
       "text": [
        " -0.127024941942\n",
        "b_sv: "
       ]
      },
      {
       "output_type": "stream",
       "stream": "stdout",
       "text": [
        " -0.0905990082487\n",
        "b_sv: "
       ]
      },
      {
       "output_type": "stream",
       "stream": "stdout",
       "text": [
        " -0.0578184908798\n",
        "b_sv: "
       ]
      },
      {
       "output_type": "stream",
       "stream": "stdout",
       "text": [
        " -0.143288428272\n",
        "b_sv: "
       ]
      },
      {
       "output_type": "stream",
       "stream": "stdout",
       "text": [
        " -0.167644462934\n",
        "b_sv: "
       ]
      },
      {
       "output_type": "stream",
       "stream": "stdout",
       "text": [
        " -0.0580983462342\n",
        "b_sv: "
       ]
      },
      {
       "output_type": "stream",
       "stream": "stdout",
       "text": [
        " -0.197589634282\n",
        "b_sv: "
       ]
      },
      {
       "output_type": "stream",
       "stream": "stdout",
       "text": [
        " -0.124894180613\n",
        "b_sv: "
       ]
      },
      {
       "output_type": "stream",
       "stream": "stdout",
       "text": [
        " -0.135256327031\n",
        "b_sv: "
       ]
      },
      {
       "output_type": "stream",
       "stream": "stdout",
       "text": [
        " -0.118435249034\n",
        "b_sv: "
       ]
      },
      {
       "output_type": "stream",
       "stream": "stdout",
       "text": [
        " -0.245643830224\n",
        "b_sv: "
       ]
      },
      {
       "output_type": "stream",
       "stream": "stdout",
       "text": [
        " -0.141679153393\n",
        "b_sv: "
       ]
      },
      {
       "output_type": "stream",
       "stream": "stdout",
       "text": [
        " -0.107382238411\n",
        "b_sv: "
       ]
      },
      {
       "output_type": "stream",
       "stream": "stdout",
       "text": [
        " -0.174315381998\n",
        "b_sv: "
       ]
      },
      {
       "output_type": "stream",
       "stream": "stdout",
       "text": [
        " -0.0685763424162\n",
        "b_sv: "
       ]
      },
      {
       "output_type": "stream",
       "stream": "stdout",
       "text": [
        " -0.165358547845\n",
        "b_sv: "
       ]
      },
      {
       "output_type": "stream",
       "stream": "stdout",
       "text": [
        " -0.0921994470651\n",
        "b_sv: "
       ]
      },
      {
       "output_type": "stream",
       "stream": "stdout",
       "text": [
        " -0.0764014877753\n",
        "param:  ('gaussian', 1.6681005372000592, 1.6681005372000592)\n",
        "b_sv: "
       ]
      },
      {
       "output_type": "stream",
       "stream": "stdout",
       "text": [
        " -0.471852111668\n",
        "b_sv: "
       ]
      },
      {
       "output_type": "stream",
       "stream": "stdout",
       "text": [
        " -0.282227350497\n",
        "b_sv: "
       ]
      },
      {
       "output_type": "stream",
       "stream": "stdout",
       "text": [
        " -0.346310604739\n",
        "b_sv: "
       ]
      },
      {
       "output_type": "stream",
       "stream": "stdout",
       "text": [
        " -0.273705653974\n",
        "b_sv: "
       ]
      },
      {
       "output_type": "stream",
       "stream": "stdout",
       "text": [
        " -0.286725330829\n",
        "b_sv: "
       ]
      },
      {
       "output_type": "stream",
       "stream": "stdout",
       "text": [
        " -0.355588252213\n",
        "b_sv: "
       ]
      },
      {
       "output_type": "stream",
       "stream": "stdout",
       "text": [
        " -0.33186042904\n",
        "b_sv: "
       ]
      },
      {
       "output_type": "stream",
       "stream": "stdout",
       "text": [
        " -0.317138568165\n",
        "b_sv: "
       ]
      },
      {
       "output_type": "stream",
       "stream": "stdout",
       "text": [
        " -0.118143797992\n",
        "b_sv: "
       ]
      },
      {
       "output_type": "stream",
       "stream": "stdout",
       "text": [
        " -0.176152872108\n",
        "b_sv: "
       ]
      },
      {
       "output_type": "stream",
       "stream": "stdout",
       "text": [
        " -0.445422163947\n",
        "b_sv: "
       ]
      },
      {
       "output_type": "stream",
       "stream": "stdout",
       "text": [
        " -0.220644180291\n",
        "b_sv: "
       ]
      },
      {
       "output_type": "stream",
       "stream": "stdout",
       "text": [
        " -0.282624632119\n",
        "b_sv: "
       ]
      },
      {
       "output_type": "stream",
       "stream": "stdout",
       "text": [
        " -0.264480231631\n",
        "b_sv: "
       ]
      },
      {
       "output_type": "stream",
       "stream": "stdout",
       "text": [
        " -0.383926161473\n",
        "b_sv: "
       ]
      },
      {
       "output_type": "stream",
       "stream": "stdout",
       "text": [
        " -0.252906988796\n",
        "b_sv: "
       ]
      },
      {
       "output_type": "stream",
       "stream": "stdout",
       "text": [
        " -0.220514405935\n",
        "b_sv: "
       ]
      },
      {
       "output_type": "stream",
       "stream": "stdout",
       "text": [
        " -0.20794196146\n",
        "b_sv: "
       ]
      },
      {
       "output_type": "stream",
       "stream": "stdout",
       "text": [
        " -0.220715912808\n",
        "b_sv: "
       ]
      },
      {
       "output_type": "stream",
       "stream": "stdout",
       "text": [
        " -0.433466276038\n",
        "param:  ('gaussian', 1.6681005372000592, 4.6415888336127775)\n",
        "b_sv: "
       ]
      },
      {
       "output_type": "stream",
       "stream": "stdout",
       "text": [
        " -0.129468912835\n",
        "b_sv: "
       ]
      },
      {
       "output_type": "stream",
       "stream": "stdout",
       "text": [
        " -0.517346358037\n",
        "b_sv: "
       ]
      },
      {
       "output_type": "stream",
       "stream": "stdout",
       "text": [
        " -1.06554128573\n",
        "b_sv: "
       ]
      },
      {
       "output_type": "stream",
       "stream": "stdout",
       "text": [
        " -0.906608842055\n",
        "b_sv: "
       ]
      },
      {
       "output_type": "stream",
       "stream": "stdout",
       "text": [
        " -0.728937001323\n",
        "b_sv: "
       ]
      },
      {
       "output_type": "stream",
       "stream": "stdout",
       "text": [
        " -1.01771710114\n",
        "b_sv: "
       ]
      },
      {
       "output_type": "stream",
       "stream": "stdout",
       "text": [
        " -0.852819966657\n",
        "b_sv: "
       ]
      },
      {
       "output_type": "stream",
       "stream": "stdout",
       "text": [
        " -0.888671976057\n",
        "b_sv: "
       ]
      },
      {
       "output_type": "stream",
       "stream": "stdout",
       "text": [
        " -0.636566546517\n",
        "b_sv: "
       ]
      },
      {
       "output_type": "stream",
       "stream": "stdout",
       "text": [
        " -0.815281264385\n",
        "b_sv: "
       ]
      },
      {
       "output_type": "stream",
       "stream": "stdout",
       "text": [
        " -0.876849844786\n",
        "b_sv: "
       ]
      },
      {
       "output_type": "stream",
       "stream": "stdout",
       "text": [
        " -0.798025764303\n",
        "b_sv: "
       ]
      },
      {
       "output_type": "stream",
       "stream": "stdout",
       "text": [
        " -0.978022154285\n",
        "b_sv: "
       ]
      },
      {
       "output_type": "stream",
       "stream": "stdout",
       "text": [
        " -0.611276277076\n",
        "b_sv: "
       ]
      },
      {
       "output_type": "stream",
       "stream": "stdout",
       "text": [
        " -0.777867799764\n",
        "b_sv: "
       ]
      },
      {
       "output_type": "stream",
       "stream": "stdout",
       "text": [
        " -0.887235241334\n",
        "b_sv: "
       ]
      },
      {
       "output_type": "stream",
       "stream": "stdout",
       "text": [
        " -1.01668206181\n",
        "b_sv: "
       ]
      },
      {
       "output_type": "stream",
       "stream": "stdout",
       "text": [
        " -0.41524227996\n",
        "b_sv: "
       ]
      },
      {
       "output_type": "stream",
       "stream": "stdout",
       "text": [
        " -0.713496802338\n",
        "b_sv: "
       ]
      },
      {
       "output_type": "stream",
       "stream": "stdout",
       "text": [
        " -0.430417900488\n",
        "param:  ('gaussian', 1.6681005372000592, 12.915496650148826)\n",
        "b_sv: "
       ]
      },
      {
       "output_type": "stream",
       "stream": "stdout",
       "text": [
        " -0.239078492043\n",
        "b_sv: "
       ]
      },
      {
       "output_type": "stream",
       "stream": "stdout",
       "text": [
        " -1.31007380851\n",
        "b_sv: "
       ]
      },
      {
       "output_type": "stream",
       "stream": "stdout",
       "text": [
        " -0.899909551918\n",
        "b_sv: "
       ]
      },
      {
       "output_type": "stream",
       "stream": "stdout",
       "text": [
        " -1.09263612719\n",
        "b_sv: "
       ]
      },
      {
       "output_type": "stream",
       "stream": "stdout",
       "text": [
        " -1.33339092376\n",
        "b_sv: "
       ]
      },
      {
       "output_type": "stream",
       "stream": "stdout",
       "text": [
        " -1.42932521108\n",
        "b_sv: "
       ]
      },
      {
       "output_type": "stream",
       "stream": "stdout",
       "text": [
        " -1.22944556607\n",
        "b_sv: "
       ]
      },
      {
       "output_type": "stream",
       "stream": "stdout",
       "text": [
        " -1.68842766253\n",
        "b_sv: "
       ]
      },
      {
       "output_type": "stream",
       "stream": "stdout",
       "text": [
        " -1.78184022934\n",
        "b_sv: "
       ]
      },
      {
       "output_type": "stream",
       "stream": "stdout",
       "text": [
        " -1.47394878993\n",
        "b_sv: "
       ]
      },
      {
       "output_type": "stream",
       "stream": "stdout",
       "text": [
        " -1.16576389783\n",
        "b_sv: "
       ]
      },
      {
       "output_type": "stream",
       "stream": "stdout",
       "text": [
        " -0.860014124903\n",
        "b_sv: "
       ]
      },
      {
       "output_type": "stream",
       "stream": "stdout",
       "text": [
        " -1.74748618253\n",
        "b_sv: "
       ]
      },
      {
       "output_type": "stream",
       "stream": "stdout",
       "text": [
        " -1.28060266247\n",
        "b_sv: "
       ]
      },
      {
       "output_type": "stream",
       "stream": "stdout",
       "text": [
        " -0.674964575953\n",
        "b_sv: "
       ]
      },
      {
       "output_type": "stream",
       "stream": "stdout",
       "text": [
        " -1.10488273466\n",
        "b_sv: "
       ]
      },
      {
       "output_type": "stream",
       "stream": "stdout",
       "text": [
        " -1.31021365052\n",
        "b_sv: "
       ]
      },
      {
       "output_type": "stream",
       "stream": "stdout",
       "text": [
        " -1.43357156898\n",
        "b_sv: "
       ]
      },
      {
       "output_type": "stream",
       "stream": "stdout",
       "text": [
        " -1.46246332468\n",
        "b_sv: "
       ]
      },
      {
       "output_type": "stream",
       "stream": "stdout",
       "text": [
        " -1.59555312146\n",
        "param:  ('gaussian', 1.6681005372000592, 35.938136638046259)\n",
        "b_sv: "
       ]
      },
      {
       "output_type": "stream",
       "stream": "stdout",
       "text": [
        " -1.79376837285\n",
        "b_sv: "
       ]
      },
      {
       "output_type": "stream",
       "stream": "stdout",
       "text": [
        " -1.68145615566\n",
        "b_sv: "
       ]
      },
      {
       "output_type": "stream",
       "stream": "stdout",
       "text": [
        " -3.42383561054\n",
        "b_sv: "
       ]
      },
      {
       "output_type": "stream",
       "stream": "stdout",
       "text": [
        " -2.0620294462\n",
        "b_sv: "
       ]
      },
      {
       "output_type": "stream",
       "stream": "stdout",
       "text": [
        " -2.96290319856\n",
        "b_sv: "
       ]
      },
      {
       "output_type": "stream",
       "stream": "stdout",
       "text": [
        " -1.63610979857\n",
        "b_sv: "
       ]
      },
      {
       "output_type": "stream",
       "stream": "stdout",
       "text": [
        " -1.58954351458\n",
        "b_sv: "
       ]
      },
      {
       "output_type": "stream",
       "stream": "stdout",
       "text": [
        " -1.15133050282\n",
        "b_sv: "
       ]
      },
      {
       "output_type": "stream",
       "stream": "stdout",
       "text": [
        " -1.99110086698\n",
        "b_sv: "
       ]
      },
      {
       "output_type": "stream",
       "stream": "stdout",
       "text": [
        " -0.949553502371\n",
        "b_sv: "
       ]
      },
      {
       "output_type": "stream",
       "stream": "stdout",
       "text": [
        " -1.35983072738\n",
        "b_sv: "
       ]
      },
      {
       "output_type": "stream",
       "stream": "stdout",
       "text": [
        " -1.55302574368\n",
        "b_sv: "
       ]
      },
      {
       "output_type": "stream",
       "stream": "stdout",
       "text": [
        " -2.13401022473\n",
        "b_sv: "
       ]
      },
      {
       "output_type": "stream",
       "stream": "stdout",
       "text": [
        " -1.58088981662\n",
        "b_sv: "
       ]
      },
      {
       "output_type": "stream",
       "stream": "stdout",
       "text": [
        " -1.97959265832\n",
        "b_sv: "
       ]
      },
      {
       "output_type": "stream",
       "stream": "stdout",
       "text": [
        " -0.370118524795\n",
        "b_sv: "
       ]
      },
      {
       "output_type": "stream",
       "stream": "stdout",
       "text": [
        " -2.34745690462\n",
        "b_sv: "
       ]
      },
      {
       "output_type": "stream",
       "stream": "stdout",
       "text": [
        " -2.45690740592\n",
        "b_sv: "
       ]
      },
      {
       "output_type": "stream",
       "stream": "stdout",
       "text": [
        " -2.09267234247\n",
        "b_sv: "
       ]
      },
      {
       "output_type": "stream",
       "stream": "stdout",
       "text": [
        " -1.78943683755\n",
        "param:  ('gaussian', 1.6681005372000592, 100.0)\n",
        "b_sv: "
       ]
      },
      {
       "output_type": "stream",
       "stream": "stdout",
       "text": [
        " -4.44242362327\n",
        "b_sv: "
       ]
      },
      {
       "output_type": "stream",
       "stream": "stdout",
       "text": [
        " -0.0821564887337\n",
        "b_sv: "
       ]
      },
      {
       "output_type": "stream",
       "stream": "stdout",
       "text": [
        " -4.01967064903\n",
        "b_sv: "
       ]
      },
      {
       "output_type": "stream",
       "stream": "stdout",
       "text": [
        " -1.09059794436\n",
        "b_sv: "
       ]
      },
      {
       "output_type": "stream",
       "stream": "stdout",
       "text": [
        " -4.11676354447\n",
        "b_sv: "
       ]
      },
      {
       "output_type": "stream",
       "stream": "stdout",
       "text": [
        " -4.81823952394\n",
        "b_sv: "
       ]
      },
      {
       "output_type": "stream",
       "stream": "stdout",
       "text": [
        " -4.93153261373\n",
        "b_sv: "
       ]
      },
      {
       "output_type": "stream",
       "stream": "stdout",
       "text": [
        " -2.23414364215\n",
        "b_sv: "
       ]
      },
      {
       "output_type": "stream",
       "stream": "stdout",
       "text": [
        " -4.3542094241\n",
        "b_sv: "
       ]
      },
      {
       "output_type": "stream",
       "stream": "stdout",
       "text": [
        " -4.92365770526\n",
        "b_sv: "
       ]
      },
      {
       "output_type": "stream",
       "stream": "stdout",
       "text": [
        " -4.33470561131\n",
        "b_sv: "
       ]
      },
      {
       "output_type": "stream",
       "stream": "stdout",
       "text": [
        " -4.26587470437\n",
        "b_sv: "
       ]
      },
      {
       "output_type": "stream",
       "stream": "stdout",
       "text": [
        " -4.2257532291\n",
        "b_sv: "
       ]
      },
      {
       "output_type": "stream",
       "stream": "stdout",
       "text": [
        " -2.14319611509\n",
        "b_sv: "
       ]
      },
      {
       "output_type": "stream",
       "stream": "stdout",
       "text": [
        " -4.31436485111\n",
        "b_sv: "
       ]
      },
      {
       "output_type": "stream",
       "stream": "stdout",
       "text": [
        " -1.14842788669\n",
        "b_sv: "
       ]
      },
      {
       "output_type": "stream",
       "stream": "stdout",
       "text": [
        " -4.40664535314\n",
        "b_sv: "
       ]
      },
      {
       "output_type": "stream",
       "stream": "stdout",
       "text": [
        " -2.71565336634\n",
        "b_sv: "
       ]
      },
      {
       "output_type": "stream",
       "stream": "stdout",
       "text": [
        " -4.37831662523\n",
        "b_sv: "
       ]
      },
      {
       "output_type": "stream",
       "stream": "stdout",
       "text": [
        " -4.42793414612\n",
        "param:  ('gaussian', 4.6415888336127775, 0.01)\n",
        "b_sv: "
       ]
      },
      {
       "output_type": "stream",
       "stream": "stdout",
       "text": [
        " -0.972025142647\n",
        "b_sv: "
       ]
      },
      {
       "output_type": "stream",
       "stream": "stdout",
       "text": [
        " -0.00205716669723\n",
        "b_sv: "
       ]
      },
      {
       "output_type": "stream",
       "stream": "stdout",
       "text": [
        " -0.977544606884\n",
        "b_sv: "
       ]
      },
      {
       "output_type": "stream",
       "stream": "stdout",
       "text": [
        " -0.975107185468\n",
        "b_sv: "
       ]
      },
      {
       "output_type": "stream",
       "stream": "stdout",
       "text": [
        " 0.972329225769\n",
        "b_sv: "
       ]
      },
      {
       "output_type": "stream",
       "stream": "stdout",
       "text": [
        " 5.95557806865e-06\n",
        "b_sv: "
       ]
      },
      {
       "output_type": "stream",
       "stream": "stdout",
       "text": [
        " 0.971271765241\n",
        "b_sv: "
       ]
      },
      {
       "output_type": "stream",
       "stream": "stdout",
       "text": [
        " 0.970112816995\n",
        "b_sv: "
       ]
      },
      {
       "output_type": "stream",
       "stream": "stdout",
       "text": [
        " -0.00198515408556\n",
        "b_sv: "
       ]
      },
      {
       "output_type": "stream",
       "stream": "stdout",
       "text": [
        " 0.974623469705\n",
        "b_sv: "
       ]
      },
      {
       "output_type": "stream",
       "stream": "stdout",
       "text": [
        " -0.975553815984\n",
        "b_sv: "
       ]
      },
      {
       "output_type": "stream",
       "stream": "stdout",
       "text": [
        " 0.978211545556\n",
        "b_sv: "
       ]
      },
      {
       "output_type": "stream",
       "stream": "stdout",
       "text": [
        " -0.974551456565\n",
        "b_sv: "
       ]
      },
      {
       "output_type": "stream",
       "stream": "stdout",
       "text": [
        " -0.973392907974\n",
        "b_sv: "
       ]
      },
      {
       "output_type": "stream",
       "stream": "stdout",
       "text": [
        " -0.980502779019\n",
        "b_sv: "
       ]
      },
      {
       "output_type": "stream",
       "stream": "stdout",
       "text": [
        " 0.973880814759\n",
        "b_sv: "
       ]
      },
      {
       "output_type": "stream",
       "stream": "stdout",
       "text": [
        " -0.00125716267497\n",
        "b_sv: "
       ]
      },
      {
       "output_type": "stream",
       "stream": "stdout",
       "text": [
        " 0.96932135472\n",
        "b_sv: "
       ]
      },
      {
       "output_type": "stream",
       "stream": "stdout",
       "text": [
        " -0.974992828044\n",
        "b_sv: "
       ]
      },
      {
       "output_type": "stream",
       "stream": "stdout",
       "text": [
        " -0.00663044910456\n",
        "61 / 100 parameter combinations completed. Estimated remaining time: 2343.523\n",
        "param:  ('gaussian', 4.6415888336127775, 0.027825594022071243)\n",
        "b_sv: "
       ]
      },
      {
       "output_type": "stream",
       "stream": "stdout",
       "text": [
        " -0.931100937782\n",
        "b_sv: "
       ]
      },
      {
       "output_type": "stream",
       "stream": "stdout",
       "text": [
        " 0.927683275524\n",
        "b_sv: "
       ]
      },
      {
       "output_type": "stream",
       "stream": "stdout",
       "text": [
        " -0.00563860498401\n",
        "b_sv: "
       ]
      },
      {
       "output_type": "stream",
       "stream": "stdout",
       "text": [
        " -0.0204654515719\n",
        "b_sv: "
       ]
      },
      {
       "output_type": "stream",
       "stream": "stdout",
       "text": [
        " -0.931941374562\n",
        "b_sv: "
       ]
      },
      {
       "output_type": "stream",
       "stream": "stdout",
       "text": [
        " -0.00110093947628\n",
        "b_sv: "
       ]
      },
      {
       "output_type": "stream",
       "stream": "stdout",
       "text": [
        " 0.00440372692411\n",
        "b_sv: "
       ]
      },
      {
       "output_type": "stream",
       "stream": "stdout",
       "text": [
        " -0.941372772018\n",
        "b_sv: "
       ]
      },
      {
       "output_type": "stream",
       "stream": "stdout",
       "text": [
        " 0.91893925137\n",
        "b_sv: "
       ]
      },
      {
       "output_type": "stream",
       "stream": "stdout",
       "text": [
        " 0.902181020499\n",
        "b_sv: "
       ]
      },
      {
       "output_type": "stream",
       "stream": "stdout",
       "text": [
        " 0.939339398147\n",
        "b_sv: "
       ]
      },
      {
       "output_type": "stream",
       "stream": "stdout",
       "text": [
        " 0.920266930194\n",
        "b_sv: "
       ]
      },
      {
       "output_type": "stream",
       "stream": "stdout",
       "text": [
        " -0.9281502143\n",
        "b_sv: "
       ]
      },
      {
       "output_type": "stream",
       "stream": "stdout",
       "text": [
        " -0.00854370995582\n",
        "b_sv: "
       ]
      },
      {
       "output_type": "stream",
       "stream": "stdout",
       "text": [
        " -0.920832565428\n",
        "b_sv: "
       ]
      },
      {
       "output_type": "stream",
       "stream": "stdout",
       "text": [
        " -0.00400690452999\n",
        "b_sv: "
       ]
      },
      {
       "output_type": "stream",
       "stream": "stdout",
       "text": [
        " -0.944819409206\n",
        "b_sv: "
       ]
      },
      {
       "output_type": "stream",
       "stream": "stdout",
       "text": [
        " -0.936122253468\n",
        "b_sv: "
       ]
      },
      {
       "output_type": "stream",
       "stream": "stdout",
       "text": [
        " -0.936201413017\n",
        "b_sv: "
       ]
      },
      {
       "output_type": "stream",
       "stream": "stdout",
       "text": [
        " 0.941603636183\n",
        "param:  ('gaussian', 4.6415888336127775, 0.077426368268112694)\n",
        "b_sv: "
       ]
      },
      {
       "output_type": "stream",
       "stream": "stdout",
       "text": [
        " -0.0375220199976\n",
        "b_sv: "
       ]
      },
      {
       "output_type": "stream",
       "stream": "stdout",
       "text": [
        " -0.813410783139\n",
        "b_sv: "
       ]
      },
      {
       "output_type": "stream",
       "stream": "stdout",
       "text": [
        " -0.029460855403\n",
        "b_sv: "
       ]
      },
      {
       "output_type": "stream",
       "stream": "stdout",
       "text": [
        " -0.839868922068\n",
        "b_sv: "
       ]
      },
      {
       "output_type": "stream",
       "stream": "stdout",
       "text": [
        " 0.0114222009694\n",
        "b_sv: "
       ]
      },
      {
       "output_type": "stream",
       "stream": "stdout",
       "text": [
        " -0.013351410189\n",
        "b_sv: "
       ]
      },
      {
       "output_type": "stream",
       "stream": "stdout",
       "text": [
        " -0.797429873935\n",
        "b_sv: "
       ]
      },
      {
       "output_type": "stream",
       "stream": "stdout",
       "text": [
        " -0.0124322122491\n",
        "b_sv: "
       ]
      },
      {
       "output_type": "stream",
       "stream": "stdout",
       "text": [
        " 0.751303992833\n",
        "b_sv: "
       ]
      },
      {
       "output_type": "stream",
       "stream": "stdout",
       "text": [
        " 0.835383217893\n",
        "b_sv: "
       ]
      },
      {
       "output_type": "stream",
       "stream": "stdout",
       "text": [
        " 0.776061542376\n",
        "b_sv: "
       ]
      },
      {
       "output_type": "stream",
       "stream": "stdout",
       "text": [
        " 0.769617376073\n",
        "b_sv: "
       ]
      },
      {
       "output_type": "stream",
       "stream": "stdout",
       "text": [
        " -0.0190805071842\n",
        "b_sv: "
       ]
      },
      {
       "output_type": "stream",
       "stream": "stdout",
       "text": [
        " -0.795942784077\n",
        "b_sv: "
       ]
      },
      {
       "output_type": "stream",
       "stream": "stdout",
       "text": [
        " 0.77997802359\n",
        "b_sv: "
       ]
      },
      {
       "output_type": "stream",
       "stream": "stdout",
       "text": [
        " -0.83030290722\n",
        "b_sv: "
       ]
      },
      {
       "output_type": "stream",
       "stream": "stdout",
       "text": [
        " 0.815899974566\n",
        "b_sv: "
       ]
      },
      {
       "output_type": "stream",
       "stream": "stdout",
       "text": [
        " 0.805563089846\n",
        "b_sv: "
       ]
      },
      {
       "output_type": "stream",
       "stream": "stdout",
       "text": [
        " 0.00618280691593\n",
        "b_sv: "
       ]
      },
      {
       "output_type": "stream",
       "stream": "stdout",
       "text": [
        " -0.8000810216\n",
        "param:  ('gaussian', 4.6415888336127775, 0.21544346900318834)\n",
        "b_sv: "
       ]
      },
      {
       "output_type": "stream",
       "stream": "stdout",
       "text": [
        " -0.538883955497\n",
        "b_sv: "
       ]
      },
      {
       "output_type": "stream",
       "stream": "stdout",
       "text": [
        " -0.435472069878\n",
        "b_sv: "
       ]
      },
      {
       "output_type": "stream",
       "stream": "stdout",
       "text": [
        " 0.392095218845\n",
        "b_sv: "
       ]
      },
      {
       "output_type": "stream",
       "stream": "stdout",
       "text": [
        " -0.0375549943287\n",
        "b_sv: "
       ]
      },
      {
       "output_type": "stream",
       "stream": "stdout",
       "text": [
        " -0.447951514855\n",
        "b_sv: "
       ]
      },
      {
       "output_type": "stream",
       "stream": "stdout",
       "text": [
        " -0.478313942793\n",
        "b_sv: "
       ]
      },
      {
       "output_type": "stream",
       "stream": "stdout",
       "text": [
        " -0.0655960594985\n",
        "b_sv: "
       ]
      },
      {
       "output_type": "stream",
       "stream": "stdout",
       "text": [
        " 0.411309353951\n",
        "b_sv: "
       ]
      },
      {
       "output_type": "stream",
       "stream": "stdout",
       "text": [
        " 0.00560372978831\n",
        "b_sv: "
       ]
      },
      {
       "output_type": "stream",
       "stream": "stdout",
       "text": [
        " 0.477527250103\n",
        "b_sv: "
       ]
      },
      {
       "output_type": "stream",
       "stream": "stdout",
       "text": [
        " -0.447982028085\n",
        "b_sv: "
       ]
      },
      {
       "output_type": "stream",
       "stream": "stdout",
       "text": [
        " -0.490267895592\n",
        "b_sv: "
       ]
      },
      {
       "output_type": "stream",
       "stream": "stdout",
       "text": [
        " 0.412701731253\n",
        "b_sv: "
       ]
      },
      {
       "output_type": "stream",
       "stream": "stdout",
       "text": [
        " -0.451040172595\n",
        "b_sv: "
       ]
      },
      {
       "output_type": "stream",
       "stream": "stdout",
       "text": [
        " 0.520526072556\n",
        "b_sv: "
       ]
      },
      {
       "output_type": "stream",
       "stream": "stdout",
       "text": [
        " 0.440429312415\n",
        "b_sv: "
       ]
      },
      {
       "output_type": "stream",
       "stream": "stdout",
       "text": [
        " -0.499203720182\n",
        "b_sv: "
       ]
      },
      {
       "output_type": "stream",
       "stream": "stdout",
       "text": [
        " 0.432259055309\n",
        "b_sv: "
       ]
      },
      {
       "output_type": "stream",
       "stream": "stdout",
       "text": [
        " -0.127421360221\n",
        "b_sv: "
       ]
      },
      {
       "output_type": "stream",
       "stream": "stdout",
       "text": [
        " -0.507632719555\n",
        "param:  ('gaussian', 4.6415888336127775, 0.59948425031894093)\n",
        "b_sv: "
       ]
      },
      {
       "output_type": "stream",
       "stream": "stdout",
       "text": [
        " -0.0662248912467\n",
        "b_sv: "
       ]
      },
      {
       "output_type": "stream",
       "stream": "stdout",
       "text": [
        " -0.110895111654\n",
        "b_sv: "
       ]
      },
      {
       "output_type": "stream",
       "stream": "stdout",
       "text": [
        " -0.0363455159911\n",
        "b_sv: "
       ]
      },
      {
       "output_type": "stream",
       "stream": "stdout",
       "text": [
        " -0.0449326716036\n",
        "b_sv: "
       ]
      },
      {
       "output_type": "stream",
       "stream": "stdout",
       "text": [
        " -0.0289729022353\n",
        "b_sv: "
       ]
      },
      {
       "output_type": "stream",
       "stream": "stdout",
       "text": [
        " -0.092559395273\n",
        "b_sv: "
       ]
      },
      {
       "output_type": "stream",
       "stream": "stdout",
       "text": [
        " -0.0451835022056\n",
        "b_sv: "
       ]
      },
      {
       "output_type": "stream",
       "stream": "stdout",
       "text": [
        " -0.116852076076\n",
        "b_sv: "
       ]
      },
      {
       "output_type": "stream",
       "stream": "stdout",
       "text": [
        " -0.0205005144289\n",
        "b_sv: "
       ]
      },
      {
       "output_type": "stream",
       "stream": "stdout",
       "text": [
        " -0.101758693588\n",
        "b_sv: "
       ]
      },
      {
       "output_type": "stream",
       "stream": "stdout",
       "text": [
        " -0.0355465882652\n",
        "b_sv: "
       ]
      },
      {
       "output_type": "stream",
       "stream": "stdout",
       "text": [
        " -0.0534660165433\n",
        "b_sv: "
       ]
      },
      {
       "output_type": "stream",
       "stream": "stdout",
       "text": [
        " -0.0624671836699\n",
        "b_sv: "
       ]
      },
      {
       "output_type": "stream",
       "stream": "stdout",
       "text": [
        " -0.0734484364381\n",
        "b_sv: "
       ]
      },
      {
       "output_type": "stream",
       "stream": "stdout",
       "text": [
        " -0.126459470534\n",
        "b_sv: "
       ]
      },
      {
       "output_type": "stream",
       "stream": "stdout",
       "text": [
        " -0.0363771945826\n",
        "b_sv: "
       ]
      },
      {
       "output_type": "stream",
       "stream": "stdout",
       "text": [
        " -0.0776924250505\n",
        "b_sv: "
       ]
      },
      {
       "output_type": "stream",
       "stream": "stdout",
       "text": [
        " -0.0227615625543\n",
        "b_sv: "
       ]
      },
      {
       "output_type": "stream",
       "stream": "stdout",
       "text": [
        " -0.0885823545513\n",
        "b_sv: "
       ]
      },
      {
       "output_type": "stream",
       "stream": "stdout",
       "text": [
        " -0.137857429197\n",
        "param:  ('gaussian', 4.6415888336127775, 1.6681005372000592)\n",
        "b_sv: "
       ]
      },
      {
       "output_type": "stream",
       "stream": "stdout",
       "text": [
        " -0.177887053384\n",
        "b_sv: "
       ]
      },
      {
       "output_type": "stream",
       "stream": "stdout",
       "text": [
        " -0.109715266992\n",
        "b_sv: "
       ]
      },
      {
       "output_type": "stream",
       "stream": "stdout",
       "text": [
        " -0.0986314725297\n",
        "b_sv: "
       ]
      },
      {
       "output_type": "stream",
       "stream": "stdout",
       "text": [
        " -0.156237310248\n",
        "b_sv: "
       ]
      },
      {
       "output_type": "stream",
       "stream": "stdout",
       "text": [
        " -0.0766228104944\n",
        "b_sv: "
       ]
      },
      {
       "output_type": "stream",
       "stream": "stdout",
       "text": [
        " -0.0934601363564\n",
        "b_sv: "
       ]
      },
      {
       "output_type": "stream",
       "stream": "stdout",
       "text": [
        " -0.145703777564\n",
        "b_sv: "
       ]
      },
      {
       "output_type": "stream",
       "stream": "stdout",
       "text": [
        " -0.169375364809\n",
        "b_sv: "
       ]
      },
      {
       "output_type": "stream",
       "stream": "stdout",
       "text": [
        " -0.223049949376\n",
        "b_sv: "
       ]
      },
      {
       "output_type": "stream",
       "stream": "stdout",
       "text": [
        " -0.126130464539\n",
        "b_sv: "
       ]
      },
      {
       "output_type": "stream",
       "stream": "stdout",
       "text": [
        " -0.0687394552396\n",
        "b_sv: "
       ]
      },
      {
       "output_type": "stream",
       "stream": "stdout",
       "text": [
        " -0.177178157969\n",
        "b_sv: "
       ]
      },
      {
       "output_type": "stream",
       "stream": "stdout",
       "text": [
        " -0.189091340822\n",
        "b_sv: "
       ]
      },
      {
       "output_type": "stream",
       "stream": "stdout",
       "text": [
        " -0.0962621217815\n",
        "b_sv: "
       ]
      },
      {
       "output_type": "stream",
       "stream": "stdout",
       "text": [
        " -0.113051233333\n",
        "b_sv: "
       ]
      },
      {
       "output_type": "stream",
       "stream": "stdout",
       "text": [
        " -0.112664029804\n",
        "b_sv: "
       ]
      },
      {
       "output_type": "stream",
       "stream": "stdout",
       "text": [
        " -0.104816409934\n",
        "b_sv: "
       ]
      },
      {
       "output_type": "stream",
       "stream": "stdout",
       "text": [
        " -0.109512803623\n",
        "b_sv: "
       ]
      },
      {
       "output_type": "stream",
       "stream": "stdout",
       "text": [
        " -0.194907966311\n",
        "b_sv: "
       ]
      },
      {
       "output_type": "stream",
       "stream": "stdout",
       "text": [
        " -0.182703328388\n",
        "param:  ('gaussian', 4.6415888336127775, 4.6415888336127775)\n",
        "b_sv: "
       ]
      },
      {
       "output_type": "stream",
       "stream": "stdout",
       "text": [
        " -0.37634028709\n",
        "b_sv: "
       ]
      },
      {
       "output_type": "stream",
       "stream": "stdout",
       "text": [
        " -0.28443439716\n",
        "b_sv: "
       ]
      },
      {
       "output_type": "stream",
       "stream": "stdout",
       "text": [
        " -0.270018702427\n",
        "b_sv: "
       ]
      },
      {
       "output_type": "stream",
       "stream": "stdout",
       "text": [
        " -0.54607580265\n",
        "b_sv: "
       ]
      },
      {
       "output_type": "stream",
       "stream": "stdout",
       "text": [
        " -0.345795015296\n",
        "b_sv: "
       ]
      },
      {
       "output_type": "stream",
       "stream": "stdout",
       "text": [
        " -0.769484923722\n",
        "b_sv: "
       ]
      },
      {
       "output_type": "stream",
       "stream": "stdout",
       "text": [
        " -0.690816506156\n",
        "b_sv: "
       ]
      },
      {
       "output_type": "stream",
       "stream": "stdout",
       "text": [
        " -0.234827611038\n",
        "b_sv: "
       ]
      },
      {
       "output_type": "stream",
       "stream": "stdout",
       "text": [
        " -0.48485267734\n",
        "b_sv: "
       ]
      },
      {
       "output_type": "stream",
       "stream": "stdout",
       "text": [
        " -0.313194961783\n",
        "b_sv: "
       ]
      },
      {
       "output_type": "stream",
       "stream": "stdout",
       "text": [
        " -0.526711769663\n",
        "b_sv: "
       ]
      },
      {
       "output_type": "stream",
       "stream": "stdout",
       "text": [
        " -0.52624257075\n",
        "b_sv: "
       ]
      },
      {
       "output_type": "stream",
       "stream": "stdout",
       "text": [
        " -0.243077396883\n",
        "b_sv: "
       ]
      },
      {
       "output_type": "stream",
       "stream": "stdout",
       "text": [
        " -0.436130783181\n",
        "b_sv: "
       ]
      },
      {
       "output_type": "stream",
       "stream": "stdout",
       "text": [
        " -0.262122540555\n",
        "b_sv: "
       ]
      },
      {
       "output_type": "stream",
       "stream": "stdout",
       "text": [
        " -0.568888301486\n",
        "b_sv: "
       ]
      },
      {
       "output_type": "stream",
       "stream": "stdout",
       "text": [
        " -0.462292757449\n",
        "b_sv: "
       ]
      },
      {
       "output_type": "stream",
       "stream": "stdout",
       "text": [
        " -0.242122244002\n",
        "b_sv: "
       ]
      },
      {
       "output_type": "stream",
       "stream": "stdout",
       "text": [
        " -0.576654149202\n",
        "b_sv: "
       ]
      },
      {
       "output_type": "stream",
       "stream": "stdout",
       "text": [
        " -0.53150508564\n",
        "param:  ('gaussian', 4.6415888336127775, 12.915496650148826)\n",
        "b_sv: "
       ]
      },
      {
       "output_type": "stream",
       "stream": "stdout",
       "text": [
        " -1.47093414889\n",
        "b_sv: "
       ]
      },
      {
       "output_type": "stream",
       "stream": "stdout",
       "text": [
        " -1.263838386\n",
        "b_sv: "
       ]
      },
      {
       "output_type": "stream",
       "stream": "stdout",
       "text": [
        " -0.449934059912\n",
        "b_sv: "
       ]
      },
      {
       "output_type": "stream",
       "stream": "stdout",
       "text": [
        " -1.04891201628\n",
        "b_sv: "
       ]
      },
      {
       "output_type": "stream",
       "stream": "stdout",
       "text": [
        " -1.31048019944\n",
        "b_sv: "
       ]
      },
      {
       "output_type": "stream",
       "stream": "stdout",
       "text": [
        " -1.29417629945\n",
        "b_sv: "
       ]
      },
      {
       "output_type": "stream",
       "stream": "stdout",
       "text": [
        " -1.03311576897\n",
        "b_sv: "
       ]
      },
      {
       "output_type": "stream",
       "stream": "stdout",
       "text": [
        " -0.907455865204\n",
        "b_sv: "
       ]
      },
      {
       "output_type": "stream",
       "stream": "stdout",
       "text": [
        " -1.51233361648\n",
        "b_sv: "
       ]
      },
      {
       "output_type": "stream",
       "stream": "stdout",
       "text": [
        " -1.16533561256\n",
        "b_sv: "
       ]
      },
      {
       "output_type": "stream",
       "stream": "stdout",
       "text": [
        " -0.790213883666\n",
        "b_sv: "
       ]
      },
      {
       "output_type": "stream",
       "stream": "stdout",
       "text": [
        " -1.26740849697\n",
        "b_sv: "
       ]
      },
      {
       "output_type": "stream",
       "stream": "stdout",
       "text": [
        " -0.796857929141\n",
        "b_sv: "
       ]
      },
      {
       "output_type": "stream",
       "stream": "stdout",
       "text": [
        " -1.11030985488\n",
        "b_sv: "
       ]
      },
      {
       "output_type": "stream",
       "stream": "stdout",
       "text": [
        " -1.44004941798\n",
        "b_sv: "
       ]
      },
      {
       "output_type": "stream",
       "stream": "stdout",
       "text": [
        " -0.853535380221\n",
        "b_sv: "
       ]
      },
      {
       "output_type": "stream",
       "stream": "stdout",
       "text": [
        " -0.765222737437\n",
        "b_sv: "
       ]
      },
      {
       "output_type": "stream",
       "stream": "stdout",
       "text": [
        " -0.77027465167\n",
        "b_sv: "
       ]
      },
      {
       "output_type": "stream",
       "stream": "stdout",
       "text": [
        " -1.22431419115\n",
        "b_sv: "
       ]
      },
      {
       "output_type": "stream",
       "stream": "stdout",
       "text": [
        " -1.16270534904\n",
        "param:  ('gaussian', 4.6415888336127775, 35.938136638046259)\n",
        "b_sv: "
       ]
      },
      {
       "output_type": "stream",
       "stream": "stdout",
       "text": [
        " -2.39396877713\n",
        "b_sv: "
       ]
      },
      {
       "output_type": "stream",
       "stream": "stdout",
       "text": [
        " -1.55958686103\n",
        "b_sv: "
       ]
      },
      {
       "output_type": "stream",
       "stream": "stdout",
       "text": [
        " -2.01723971172\n",
        "b_sv: "
       ]
      },
      {
       "output_type": "stream",
       "stream": "stdout",
       "text": [
        " -2.0385385297\n",
        "b_sv: "
       ]
      },
      {
       "output_type": "stream",
       "stream": "stdout",
       "text": [
        " -1.4933116653\n",
        "b_sv: "
       ]
      },
      {
       "output_type": "stream",
       "stream": "stdout",
       "text": [
        " -1.76477868037\n",
        "b_sv: "
       ]
      },
      {
       "output_type": "stream",
       "stream": "stdout",
       "text": [
        " -2.23071726078\n",
        "b_sv: "
       ]
      },
      {
       "output_type": "stream",
       "stream": "stdout",
       "text": [
        " -3.67845759981\n",
        "b_sv: "
       ]
      },
      {
       "output_type": "stream",
       "stream": "stdout",
       "text": [
        " -2.47075382034\n",
        "b_sv: "
       ]
      },
      {
       "output_type": "stream",
       "stream": "stdout",
       "text": [
        " -2.24597038628\n",
        "b_sv: "
       ]
      },
      {
       "output_type": "stream",
       "stream": "stdout",
       "text": [
        " -0.8559123107\n",
        "b_sv: "
       ]
      },
      {
       "output_type": "stream",
       "stream": "stdout",
       "text": [
        " -2.41546080819\n",
        "b_sv: "
       ]
      },
      {
       "output_type": "stream",
       "stream": "stdout",
       "text": [
        " -2.52043636732\n",
        "b_sv: "
       ]
      },
      {
       "output_type": "stream",
       "stream": "stdout",
       "text": [
        " -2.49359692063\n",
        "b_sv: "
       ]
      },
      {
       "output_type": "stream",
       "stream": "stdout",
       "text": [
        " -1.35681164698\n",
        "b_sv: "
       ]
      },
      {
       "output_type": "stream",
       "stream": "stdout",
       "text": [
        " -2.48852033476\n",
        "b_sv: "
       ]
      },
      {
       "output_type": "stream",
       "stream": "stdout",
       "text": [
        " -2.48062062845\n",
        "b_sv: "
       ]
      },
      {
       "output_type": "stream",
       "stream": "stdout",
       "text": [
        " -2.8799440682\n",
        "b_sv: "
       ]
      },
      {
       "output_type": "stream",
       "stream": "stdout",
       "text": [
        " -1.71852961417\n",
        "b_sv: "
       ]
      },
      {
       "output_type": "stream",
       "stream": "stdout",
       "text": [
        " -2.29577647459\n",
        "param:  ('gaussian', 4.6415888336127775, 100.0)\n",
        "b_sv: "
       ]
      },
      {
       "output_type": "stream",
       "stream": "stdout",
       "text": [
        " -3.32823250929\n",
        "b_sv: "
       ]
      },
      {
       "output_type": "stream",
       "stream": "stdout",
       "text": [
        " -2.76840130419\n",
        "b_sv: "
       ]
      },
      {
       "output_type": "stream",
       "stream": "stdout",
       "text": [
        " -2.30838857354\n",
        "b_sv: "
       ]
      },
      {
       "output_type": "stream",
       "stream": "stdout",
       "text": [
        " -3.73999751819\n",
        "b_sv: "
       ]
      },
      {
       "output_type": "stream",
       "stream": "stdout",
       "text": [
        " -3.95329712782\n",
        "b_sv: "
       ]
      },
      {
       "output_type": "stream",
       "stream": "stdout",
       "text": [
        " -5.44240795816\n",
        "b_sv: "
       ]
      },
      {
       "output_type": "stream",
       "stream": "stdout",
       "text": [
        " -6.63694615224\n",
        "b_sv: "
       ]
      },
      {
       "output_type": "stream",
       "stream": "stdout",
       "text": [
        " -1.33443127995\n",
        "b_sv: "
       ]
      },
      {
       "output_type": "stream",
       "stream": "stdout",
       "text": [
        " -4.10628875413\n",
        "b_sv: "
       ]
      },
      {
       "output_type": "stream",
       "stream": "stdout",
       "text": [
        " -4.04747274483\n",
        "b_sv: "
       ]
      },
      {
       "output_type": "stream",
       "stream": "stdout",
       "text": [
        " -5.68641619234\n",
        "b_sv: "
       ]
      },
      {
       "output_type": "stream",
       "stream": "stdout",
       "text": [
        " -3.97136802999\n",
        "b_sv: "
       ]
      },
      {
       "output_type": "stream",
       "stream": "stdout",
       "text": [
        " -1.72692307234\n",
        "b_sv: "
       ]
      },
      {
       "output_type": "stream",
       "stream": "stdout",
       "text": [
        " -2.03973316534\n",
        "b_sv: "
       ]
      },
      {
       "output_type": "stream",
       "stream": "stdout",
       "text": [
        " -5.81485791497\n",
        "b_sv: "
       ]
      },
      {
       "output_type": "stream",
       "stream": "stdout",
       "text": [
        " -3.56679263848\n",
        "b_sv: "
       ]
      },
      {
       "output_type": "stream",
       "stream": "stdout",
       "text": [
        " -4.32672058207\n",
        "b_sv: "
       ]
      },
      {
       "output_type": "stream",
       "stream": "stdout",
       "text": [
        " -4.27365967857\n",
        "b_sv: "
       ]
      },
      {
       "output_type": "stream",
       "stream": "stdout",
       "text": [
        " -3.08218423573\n",
        "b_sv: "
       ]
      },
      {
       "output_type": "stream",
       "stream": "stdout",
       "text": [
        " -4.71849495561\n",
        "param:  ('gaussian', 12.915496650148826, 0.01)\n",
        "b_sv: "
       ]
      },
      {
       "output_type": "stream",
       "stream": "stdout",
       "text": [
        " -0.996570163851\n",
        "b_sv: "
       ]
      },
      {
       "output_type": "stream",
       "stream": "stdout",
       "text": [
        " -0.996903391562\n",
        "b_sv: "
       ]
      },
      {
       "output_type": "stream",
       "stream": "stdout",
       "text": [
        " -0.00106138144641\n",
        "b_sv: "
       ]
      },
      {
       "output_type": "stream",
       "stream": "stdout",
       "text": [
        " 0.996487307248\n",
        "b_sv: "
       ]
      },
      {
       "output_type": "stream",
       "stream": "stdout",
       "text": [
        " -0.996280481331\n",
        "b_sv: "
       ]
      },
      {
       "output_type": "stream",
       "stream": "stdout",
       "text": [
        " 0.997114294042\n",
        "b_sv: "
       ]
      },
      {
       "output_type": "stream",
       "stream": "stdout",
       "text": [
        " -0.995988476657\n",
        "b_sv: "
       ]
      },
      {
       "output_type": "stream",
       "stream": "stdout",
       "text": [
        " -0.996356555681\n",
        "b_sv: "
       ]
      },
      {
       "output_type": "stream",
       "stream": "stdout",
       "text": [
        " -0.996219371411\n",
        "b_sv: "
       ]
      },
      {
       "output_type": "stream",
       "stream": "stdout",
       "text": [
        " 0.996182145609\n",
        "b_sv: "
       ]
      },
      {
       "output_type": "stream",
       "stream": "stdout",
       "text": [
        " -0.996540907198\n",
        "b_sv: "
       ]
      },
      {
       "output_type": "stream",
       "stream": "stdout",
       "text": [
        " -0.996288914531\n",
        "b_sv: "
       ]
      },
      {
       "output_type": "stream",
       "stream": "stdout",
       "text": [
        " 0.997012375815\n",
        "b_sv: "
       ]
      },
      {
       "output_type": "stream",
       "stream": "stdout",
       "text": [
        " 0.995300669443\n",
        "b_sv: "
       ]
      },
      {
       "output_type": "stream",
       "stream": "stdout",
       "text": [
        " 0.996087197837\n",
        "b_sv: "
       ]
      },
      {
       "output_type": "stream",
       "stream": "stdout",
       "text": [
        " -0.996281706864\n",
        "b_sv: "
       ]
      },
      {
       "output_type": "stream",
       "stream": "stdout",
       "text": [
        " -0.996367498933\n",
        "b_sv: "
       ]
      },
      {
       "output_type": "stream",
       "stream": "stdout",
       "text": [
        " -0.996933339732\n",
        "b_sv: "
       ]
      },
      {
       "output_type": "stream",
       "stream": "stdout",
       "text": [
        " -0.996928572355\n",
        "b_sv: "
       ]
      },
      {
       "output_type": "stream",
       "stream": "stdout",
       "text": [
        " -0.996785215205\n",
        "71 / 100 parameter combinations completed. Estimated remaining time: 1563.142\n",
        "param:  ('gaussian', 12.915496650148826, 0.027825594022071243)\n",
        "b_sv: "
       ]
      },
      {
       "output_type": "stream",
       "stream": "stdout",
       "text": [
        " -0.00266811982017\n",
        "b_sv: "
       ]
      },
      {
       "output_type": "stream",
       "stream": "stdout",
       "text": [
        " -0.000705796932888\n",
        "b_sv: "
       ]
      },
      {
       "output_type": "stream",
       "stream": "stdout",
       "text": [
        " 0.990820427916\n",
        "b_sv: "
       ]
      },
      {
       "output_type": "stream",
       "stream": "stdout",
       "text": [
        " -0.00131585837362\n",
        "b_sv: "
       ]
      },
      {
       "output_type": "stream",
       "stream": "stdout",
       "text": [
        " 0.989461098536\n",
        "b_sv: "
       ]
      },
      {
       "output_type": "stream",
       "stream": "stdout",
       "text": [
        " -0.00267760084407\n",
        "b_sv: "
       ]
      },
      {
       "output_type": "stream",
       "stream": "stdout",
       "text": [
        " -0.000372702469745\n",
        "b_sv: "
       ]
      },
      {
       "output_type": "stream",
       "stream": "stdout",
       "text": [
        " -0.989581051224\n",
        "b_sv: "
       ]
      },
      {
       "output_type": "stream",
       "stream": "stdout",
       "text": [
        " -0.00296570686338\n",
        "b_sv: "
       ]
      },
      {
       "output_type": "stream",
       "stream": "stdout",
       "text": [
        " -0.00322582070849\n",
        "b_sv: "
       ]
      },
      {
       "output_type": "stream",
       "stream": "stdout",
       "text": [
        " 0.00235199915271\n",
        "b_sv: "
       ]
      },
      {
       "output_type": "stream",
       "stream": "stdout",
       "text": [
        " -0.991947758935\n",
        "b_sv: "
       ]
      },
      {
       "output_type": "stream",
       "stream": "stdout",
       "text": [
        " 0.000907199526718\n",
        "b_sv: "
       ]
      },
      {
       "output_type": "stream",
       "stream": "stdout",
       "text": [
        " 0.993349737189\n",
        "b_sv: "
       ]
      },
      {
       "output_type": "stream",
       "stream": "stdout",
       "text": [
        " 0.991378048061\n",
        "b_sv: "
       ]
      },
      {
       "output_type": "stream",
       "stream": "stdout",
       "text": [
        " 0.989429457469\n",
        "b_sv: "
       ]
      },
      {
       "output_type": "stream",
       "stream": "stdout",
       "text": [
        " -0.991170507648\n",
        "b_sv: "
       ]
      },
      {
       "output_type": "stream",
       "stream": "stdout",
       "text": [
        " -0.00175746127331\n",
        "b_sv: "
       ]
      },
      {
       "output_type": "stream",
       "stream": "stdout",
       "text": [
        " -0.992653407268\n",
        "b_sv: "
       ]
      },
      {
       "output_type": "stream",
       "stream": "stdout",
       "text": [
        " -0.000981979777837\n",
        "param:  ('gaussian', 12.915496650148826, 0.077426368268112694)\n",
        "b_sv: "
       ]
      },
      {
       "output_type": "stream",
       "stream": "stdout",
       "text": [
        " -0.973409460297\n",
        "b_sv: "
       ]
      },
      {
       "output_type": "stream",
       "stream": "stdout",
       "text": [
        " -0.00381316703727\n",
        "b_sv: "
       ]
      },
      {
       "output_type": "stream",
       "stream": "stdout",
       "text": [
        " 0.965702227677\n",
        "b_sv: "
       ]
      },
      {
       "output_type": "stream",
       "stream": "stdout",
       "text": [
        " 0.976155320193\n",
        "b_sv: "
       ]
      },
      {
       "output_type": "stream",
       "stream": "stdout",
       "text": [
        " -0.00717199289153\n",
        "b_sv: "
       ]
      },
      {
       "output_type": "stream",
       "stream": "stdout",
       "text": [
        " 0.961144723394\n",
        "b_sv: "
       ]
      },
      {
       "output_type": "stream",
       "stream": "stdout",
       "text": [
        " -0.00184157987007\n",
        "b_sv: "
       ]
      },
      {
       "output_type": "stream",
       "stream": "stdout",
       "text": [
        " -0.00127116155469\n",
        "b_sv: "
       ]
      },
      {
       "output_type": "stream",
       "stream": "stdout",
       "text": [
        " -0.00315354937596\n",
        "b_sv: "
       ]
      },
      {
       "output_type": "stream",
       "stream": "stdout",
       "text": [
        " -0.972184619317\n",
        "b_sv: "
       ]
      },
      {
       "output_type": "stream",
       "stream": "stdout",
       "text": [
        " -0.000939517255263\n",
        "b_sv: "
       ]
      },
      {
       "output_type": "stream",
       "stream": "stdout",
       "text": [
        " -0.00531772150883\n",
        "b_sv: "
       ]
      },
      {
       "output_type": "stream",
       "stream": "stdout",
       "text": [
        " -0.00229368305384\n",
        "b_sv: "
       ]
      },
      {
       "output_type": "stream",
       "stream": "stdout",
       "text": [
        " -0.976199045469\n",
        "b_sv: "
       ]
      },
      {
       "output_type": "stream",
       "stream": "stdout",
       "text": [
        " -0.00176734134229\n",
        "b_sv: "
       ]
      },
      {
       "output_type": "stream",
       "stream": "stdout",
       "text": [
        " -0.97145819674\n",
        "b_sv: "
       ]
      },
      {
       "output_type": "stream",
       "stream": "stdout",
       "text": [
        " -0.972843664701\n",
        "b_sv: "
       ]
      },
      {
       "output_type": "stream",
       "stream": "stdout",
       "text": [
        " -0.00464930143136\n",
        "b_sv: "
       ]
      },
      {
       "output_type": "stream",
       "stream": "stdout",
       "text": [
        " -0.975378097881\n",
        "b_sv: "
       ]
      },
      {
       "output_type": "stream",
       "stream": "stdout",
       "text": [
        " -0.972435279807\n",
        "param:  ('gaussian', 12.915496650148826, 0.21544346900318834)\n",
        "b_sv: "
       ]
      },
      {
       "output_type": "stream",
       "stream": "stdout",
       "text": [
        " -0.939721086796\n",
        "b_sv: "
       ]
      },
      {
       "output_type": "stream",
       "stream": "stdout",
       "text": [
        " 0.933636321288\n",
        "b_sv: "
       ]
      },
      {
       "output_type": "stream",
       "stream": "stdout",
       "text": [
        " 0.000661874159633\n",
        "b_sv: "
       ]
      },
      {
       "output_type": "stream",
       "stream": "stdout",
       "text": [
        " -0.00669848833422\n",
        "b_sv: "
       ]
      },
      {
       "output_type": "stream",
       "stream": "stdout",
       "text": [
        " -0.0194690352969\n",
        "b_sv: "
       ]
      },
      {
       "output_type": "stream",
       "stream": "stdout",
       "text": [
        " 0.934221593458\n",
        "b_sv: "
       ]
      },
      {
       "output_type": "stream",
       "stream": "stdout",
       "text": [
        " 0.921330316658\n",
        "b_sv: "
       ]
      },
      {
       "output_type": "stream",
       "stream": "stdout",
       "text": [
        " -0.936886278926\n",
        "b_sv: "
       ]
      },
      {
       "output_type": "stream",
       "stream": "stdout",
       "text": [
        " -0.0224738849129\n",
        "b_sv: "
       ]
      },
      {
       "output_type": "stream",
       "stream": "stdout",
       "text": [
        " -0.934217034579\n",
        "b_sv: "
       ]
      },
      {
       "output_type": "stream",
       "stream": "stdout",
       "text": [
        " -0.930332303067\n",
        "b_sv: "
       ]
      },
      {
       "output_type": "stream",
       "stream": "stdout",
       "text": [
        " -0.935185326565\n",
        "b_sv: "
       ]
      },
      {
       "output_type": "stream",
       "stream": "stdout",
       "text": [
        " 0.886343292919\n",
        "b_sv: "
       ]
      },
      {
       "output_type": "stream",
       "stream": "stdout",
       "text": [
        " -0.0155274115406\n",
        "b_sv: "
       ]
      },
      {
       "output_type": "stream",
       "stream": "stdout",
       "text": [
        " -0.929470751879\n",
        "b_sv: "
       ]
      },
      {
       "output_type": "stream",
       "stream": "stdout",
       "text": [
        " -0.0116052862498\n",
        "b_sv: "
       ]
      },
      {
       "output_type": "stream",
       "stream": "stdout",
       "text": [
        " -0.0185735340473\n",
        "b_sv: "
       ]
      },
      {
       "output_type": "stream",
       "stream": "stdout",
       "text": [
        " 0.927014467022\n",
        "b_sv: "
       ]
      },
      {
       "output_type": "stream",
       "stream": "stdout",
       "text": [
        " 0.936017988759\n",
        "b_sv: "
       ]
      },
      {
       "output_type": "stream",
       "stream": "stdout",
       "text": [
        " -0.00946263378205\n",
        "param:  ('gaussian', 12.915496650148826, 0.59948425031894093)\n",
        "b_sv: "
       ]
      },
      {
       "output_type": "stream",
       "stream": "stdout",
       "text": [
        " -0.825107606004\n",
        "b_sv: "
       ]
      },
      {
       "output_type": "stream",
       "stream": "stdout",
       "text": [
        " -0.0133645019291\n",
        "b_sv: "
       ]
      },
      {
       "output_type": "stream",
       "stream": "stdout",
       "text": [
        " 0.822719523189\n",
        "b_sv: "
       ]
      },
      {
       "output_type": "stream",
       "stream": "stdout",
       "text": [
        " 0.810724468353\n",
        "b_sv: "
       ]
      },
      {
       "output_type": "stream",
       "stream": "stdout",
       "text": [
        " -0.811057385581\n",
        "b_sv: "
       ]
      },
      {
       "output_type": "stream",
       "stream": "stdout",
       "text": [
        " 0.683799373949\n",
        "b_sv: "
       ]
      },
      {
       "output_type": "stream",
       "stream": "stdout",
       "text": [
        " -0.0101568861369\n",
        "b_sv: "
       ]
      },
      {
       "output_type": "stream",
       "stream": "stdout",
       "text": [
        " -4.20186912505e-05\n",
        "b_sv: "
       ]
      },
      {
       "output_type": "stream",
       "stream": "stdout",
       "text": [
        " 0.694858180874\n",
        "b_sv: "
       ]
      },
      {
       "output_type": "stream",
       "stream": "stdout",
       "text": [
        " -0.750545263975\n",
        "b_sv: "
       ]
      },
      {
       "output_type": "stream",
       "stream": "stdout",
       "text": [
        " -0.84478153292\n",
        "b_sv: "
       ]
      },
      {
       "output_type": "stream",
       "stream": "stdout",
       "text": [
        " -0.019666170803\n",
        "b_sv: "
       ]
      },
      {
       "output_type": "stream",
       "stream": "stdout",
       "text": [
        " -0.0126976248451\n",
        "b_sv: "
       ]
      },
      {
       "output_type": "stream",
       "stream": "stdout",
       "text": [
        " -0.8058306844\n",
        "b_sv: "
       ]
      },
      {
       "output_type": "stream",
       "stream": "stdout",
       "text": [
        " -0.833711056464\n",
        "b_sv: "
       ]
      },
      {
       "output_type": "stream",
       "stream": "stdout",
       "text": [
        " 0.0107469987708\n",
        "b_sv: "
       ]
      },
      {
       "output_type": "stream",
       "stream": "stdout",
       "text": [
        " 0.00869542347632\n",
        "b_sv: "
       ]
      },
      {
       "output_type": "stream",
       "stream": "stdout",
       "text": [
        " -0.819958590115\n",
        "b_sv: "
       ]
      },
      {
       "output_type": "stream",
       "stream": "stdout",
       "text": [
        " 0.790704659621\n",
        "b_sv: "
       ]
      },
      {
       "output_type": "stream",
       "stream": "stdout",
       "text": [
        " 0.787822775123\n",
        "param:  ('gaussian', 12.915496650148826, 1.6681005372000592)\n",
        "b_sv: "
       ]
      },
      {
       "output_type": "stream",
       "stream": "stdout",
       "text": [
        " -0.480981247989\n",
        "b_sv: "
       ]
      },
      {
       "output_type": "stream",
       "stream": "stdout",
       "text": [
        " -0.475377818889\n",
        "b_sv: "
       ]
      },
      {
       "output_type": "stream",
       "stream": "stdout",
       "text": [
        " 0.2421149821\n",
        "b_sv: "
       ]
      },
      {
       "output_type": "stream",
       "stream": "stdout",
       "text": [
        " -0.566398301869\n",
        "b_sv: "
       ]
      },
      {
       "output_type": "stream",
       "stream": "stdout",
       "text": [
        " -0.427984321308\n",
        "b_sv: "
       ]
      },
      {
       "output_type": "stream",
       "stream": "stdout",
       "text": [
        " 0.405231758354\n",
        "b_sv: "
       ]
      },
      {
       "output_type": "stream",
       "stream": "stdout",
       "text": [
        " -0.00265544420199\n",
        "b_sv: "
       ]
      },
      {
       "output_type": "stream",
       "stream": "stdout",
       "text": [
        " -0.158893054475\n",
        "b_sv: "
       ]
      },
      {
       "output_type": "stream",
       "stream": "stdout",
       "text": [
        " 0.0589240380899\n",
        "b_sv: "
       ]
      },
      {
       "output_type": "stream",
       "stream": "stdout",
       "text": [
        " -0.0958201566018\n",
        "b_sv: "
       ]
      },
      {
       "output_type": "stream",
       "stream": "stdout",
       "text": [
        " -0.391261649026\n",
        "b_sv: "
       ]
      },
      {
       "output_type": "stream",
       "stream": "stdout",
       "text": [
        " -0.552780541541\n",
        "b_sv: "
       ]
      },
      {
       "output_type": "stream",
       "stream": "stdout",
       "text": [
        " 0.429288767599\n",
        "b_sv: "
       ]
      },
      {
       "output_type": "stream",
       "stream": "stdout",
       "text": [
        " -0.494544378371\n",
        "b_sv: "
       ]
      },
      {
       "output_type": "stream",
       "stream": "stdout",
       "text": [
        " 0.340495395785\n",
        "b_sv: "
       ]
      },
      {
       "output_type": "stream",
       "stream": "stdout",
       "text": [
        " -0.452025149183\n",
        "b_sv: "
       ]
      },
      {
       "output_type": "stream",
       "stream": "stdout",
       "text": [
        " 0.439649294016\n",
        "b_sv: "
       ]
      },
      {
       "output_type": "stream",
       "stream": "stdout",
       "text": [
        " -0.00966798597638\n",
        "b_sv: "
       ]
      },
      {
       "output_type": "stream",
       "stream": "stdout",
       "text": [
        " 0.383546658229\n",
        "b_sv: "
       ]
      },
      {
       "output_type": "stream",
       "stream": "stdout",
       "text": [
        " -0.453929703656\n",
        "param:  ('gaussian', 12.915496650148826, 4.6415888336127775)\n",
        "b_sv: "
       ]
      },
      {
       "output_type": "stream",
       "stream": "stdout",
       "text": [
        " -0.0568332856926\n",
        "b_sv: "
       ]
      },
      {
       "output_type": "stream",
       "stream": "stdout",
       "text": [
        " -0.0191172921808\n",
        "b_sv: "
       ]
      },
      {
       "output_type": "stream",
       "stream": "stdout",
       "text": [
        " -0.0601774574993\n",
        "b_sv: "
       ]
      },
      {
       "output_type": "stream",
       "stream": "stdout",
       "text": [
        " -0.0769653386578\n",
        "b_sv: "
       ]
      },
      {
       "output_type": "stream",
       "stream": "stdout",
       "text": [
        " -0.0433102777245\n",
        "b_sv: "
       ]
      },
      {
       "output_type": "stream",
       "stream": "stdout",
       "text": [
        " -0.0832965920667\n",
        "b_sv: "
       ]
      },
      {
       "output_type": "stream",
       "stream": "stdout",
       "text": [
        " -0.0701511468586\n",
        "b_sv: "
       ]
      },
      {
       "output_type": "stream",
       "stream": "stdout",
       "text": [
        " -0.0750399859962\n",
        "b_sv: "
       ]
      },
      {
       "output_type": "stream",
       "stream": "stdout",
       "text": [
        " -0.0676170099672\n",
        "b_sv: "
       ]
      },
      {
       "output_type": "stream",
       "stream": "stdout",
       "text": [
        " -0.0805051231192\n",
        "b_sv: "
       ]
      },
      {
       "output_type": "stream",
       "stream": "stdout",
       "text": [
        " -0.0550077832608\n",
        "b_sv: "
       ]
      },
      {
       "output_type": "stream",
       "stream": "stdout",
       "text": [
        " -0.0942066931332\n",
        "b_sv: "
       ]
      },
      {
       "output_type": "stream",
       "stream": "stdout",
       "text": [
        " -0.069688775913\n",
        "b_sv: "
       ]
      },
      {
       "output_type": "stream",
       "stream": "stdout",
       "text": [
        " -0.165919437234\n",
        "b_sv: "
       ]
      },
      {
       "output_type": "stream",
       "stream": "stdout",
       "text": [
        " 0.0154855060039\n",
        "b_sv: "
       ]
      },
      {
       "output_type": "stream",
       "stream": "stdout",
       "text": [
        " -0.0691809330777\n",
        "b_sv: "
       ]
      },
      {
       "output_type": "stream",
       "stream": "stdout",
       "text": [
        " 0.0332825815931\n",
        "b_sv: "
       ]
      },
      {
       "output_type": "stream",
       "stream": "stdout",
       "text": [
        " -0.000733079534757\n",
        "b_sv: "
       ]
      },
      {
       "output_type": "stream",
       "stream": "stdout",
       "text": [
        " -0.0183515386738\n",
        "b_sv: "
       ]
      },
      {
       "output_type": "stream",
       "stream": "stdout",
       "text": [
        " -0.0490025488512\n",
        "param:  ('gaussian', 12.915496650148826, 12.915496650148826)\n",
        "b_sv: "
       ]
      },
      {
       "output_type": "stream",
       "stream": "stdout",
       "text": [
        " -0.237916600343\n",
        "b_sv: "
       ]
      },
      {
       "output_type": "stream",
       "stream": "stdout",
       "text": [
        " -0.124844581274\n",
        "b_sv: "
       ]
      },
      {
       "output_type": "stream",
       "stream": "stdout",
       "text": [
        " -0.0989109124971\n",
        "b_sv: "
       ]
      },
      {
       "output_type": "stream",
       "stream": "stdout",
       "text": [
        " -0.159931608613\n",
        "b_sv: "
       ]
      },
      {
       "output_type": "stream",
       "stream": "stdout",
       "text": [
        " -0.157400175625\n",
        "b_sv: "
       ]
      },
      {
       "output_type": "stream",
       "stream": "stdout",
       "text": [
        " -0.0965426896256\n",
        "b_sv: "
       ]
      },
      {
       "output_type": "stream",
       "stream": "stdout",
       "text": [
        " -0.104290903139\n",
        "b_sv: "
       ]
      },
      {
       "output_type": "stream",
       "stream": "stdout",
       "text": [
        " -0.205650342995\n",
        "b_sv: "
       ]
      },
      {
       "output_type": "stream",
       "stream": "stdout",
       "text": [
        " -0.0707630700965\n",
        "b_sv: "
       ]
      },
      {
       "output_type": "stream",
       "stream": "stdout",
       "text": [
        " -0.24250758044\n",
        "b_sv: "
       ]
      },
      {
       "output_type": "stream",
       "stream": "stdout",
       "text": [
        " -0.161567524828\n",
        "b_sv: "
       ]
      },
      {
       "output_type": "stream",
       "stream": "stdout",
       "text": [
        " -0.162142960812\n",
        "b_sv: "
       ]
      },
      {
       "output_type": "stream",
       "stream": "stdout",
       "text": [
        " -0.109203009309\n",
        "b_sv: "
       ]
      },
      {
       "output_type": "stream",
       "stream": "stdout",
       "text": [
        " -0.168432854175\n",
        "b_sv: "
       ]
      },
      {
       "output_type": "stream",
       "stream": "stdout",
       "text": [
        " -0.168667695947\n",
        "b_sv: "
       ]
      },
      {
       "output_type": "stream",
       "stream": "stdout",
       "text": [
        " -0.145072768078\n",
        "b_sv: "
       ]
      },
      {
       "output_type": "stream",
       "stream": "stdout",
       "text": [
        " -0.284470987745\n",
        "b_sv: "
       ]
      },
      {
       "output_type": "stream",
       "stream": "stdout",
       "text": [
        " -0.084827567339\n",
        "b_sv: "
       ]
      },
      {
       "output_type": "stream",
       "stream": "stdout",
       "text": [
        " -0.16103789497\n",
        "b_sv: "
       ]
      },
      {
       "output_type": "stream",
       "stream": "stdout",
       "text": [
        " -0.122003571381\n",
        "param:  ('gaussian', 12.915496650148826, 35.938136638046259)\n",
        "b_sv: "
       ]
      },
      {
       "output_type": "stream",
       "stream": "stdout",
       "text": [
        " -0.353525034035\n",
        "b_sv: "
       ]
      },
      {
       "output_type": "stream",
       "stream": "stdout",
       "text": [
        " -0.453506449176\n",
        "b_sv: "
       ]
      },
      {
       "output_type": "stream",
       "stream": "stdout",
       "text": [
        " -0.607570158748\n",
        "b_sv: "
       ]
      },
      {
       "output_type": "stream",
       "stream": "stdout",
       "text": [
        " -0.59756432247\n",
        "b_sv: "
       ]
      },
      {
       "output_type": "stream",
       "stream": "stdout",
       "text": [
        " -0.441727945511\n",
        "b_sv: "
       ]
      },
      {
       "output_type": "stream",
       "stream": "stdout",
       "text": [
        " -0.573264941189\n",
        "b_sv: "
       ]
      },
      {
       "output_type": "stream",
       "stream": "stdout",
       "text": [
        " -0.36736688409\n",
        "b_sv: "
       ]
      },
      {
       "output_type": "stream",
       "stream": "stdout",
       "text": [
        " -0.508193416688\n",
        "b_sv: "
       ]
      },
      {
       "output_type": "stream",
       "stream": "stdout",
       "text": [
        " -0.383961534331\n",
        "b_sv: "
       ]
      },
      {
       "output_type": "stream",
       "stream": "stdout",
       "text": [
        " -0.326681210884\n",
        "b_sv: "
       ]
      },
      {
       "output_type": "stream",
       "stream": "stdout",
       "text": [
        " -0.770981024932\n",
        "b_sv: "
       ]
      },
      {
       "output_type": "stream",
       "stream": "stdout",
       "text": [
        " -0.512646454255\n",
        "b_sv: "
       ]
      },
      {
       "output_type": "stream",
       "stream": "stdout",
       "text": [
        " -0.333739722395\n",
        "b_sv: "
       ]
      },
      {
       "output_type": "stream",
       "stream": "stdout",
       "text": [
        " -0.582304689141\n",
        "b_sv: "
       ]
      },
      {
       "output_type": "stream",
       "stream": "stdout",
       "text": [
        " -0.355013537869\n",
        "b_sv: "
       ]
      },
      {
       "output_type": "stream",
       "stream": "stdout",
       "text": [
        " -0.293742509349\n",
        "b_sv: "
       ]
      },
      {
       "output_type": "stream",
       "stream": "stdout",
       "text": [
        " -0.517735461343\n",
        "b_sv: "
       ]
      },
      {
       "output_type": "stream",
       "stream": "stdout",
       "text": [
        " -0.321402718392\n",
        "b_sv: "
       ]
      },
      {
       "output_type": "stream",
       "stream": "stdout",
       "text": [
        " -0.886910338418\n",
        "b_sv: "
       ]
      },
      {
       "output_type": "stream",
       "stream": "stdout",
       "text": [
        " -0.411310493543\n",
        "param:  ('gaussian', 12.915496650148826, 100.0)\n",
        "b_sv: "
       ]
      },
      {
       "output_type": "stream",
       "stream": "stdout",
       "text": [
        " -0.809137616303\n",
        "b_sv: "
       ]
      },
      {
       "output_type": "stream",
       "stream": "stdout",
       "text": [
        " -1.57023394821\n",
        "b_sv: "
       ]
      },
      {
       "output_type": "stream",
       "stream": "stdout",
       "text": [
        " -2.25966787777\n",
        "b_sv: "
       ]
      },
      {
       "output_type": "stream",
       "stream": "stdout",
       "text": [
        " -0.6273671144\n",
        "b_sv: "
       ]
      },
      {
       "output_type": "stream",
       "stream": "stdout",
       "text": [
        " -2.25731079559\n",
        "b_sv: "
       ]
      },
      {
       "output_type": "stream",
       "stream": "stdout",
       "text": [
        " -1.33044118941\n",
        "b_sv: "
       ]
      },
      {
       "output_type": "stream",
       "stream": "stdout",
       "text": [
        " -1.23071376601\n",
        "b_sv: "
       ]
      },
      {
       "output_type": "stream",
       "stream": "stdout",
       "text": [
        " -0.547074762028\n",
        "b_sv: "
       ]
      },
      {
       "output_type": "stream",
       "stream": "stdout",
       "text": [
        " -0.893137438552\n",
        "b_sv: "
       ]
      },
      {
       "output_type": "stream",
       "stream": "stdout",
       "text": [
        " -2.10309240883\n",
        "b_sv: "
       ]
      },
      {
       "output_type": "stream",
       "stream": "stdout",
       "text": [
        " -1.50316061704\n",
        "b_sv: "
       ]
      },
      {
       "output_type": "stream",
       "stream": "stdout",
       "text": [
        " -0.877603930401\n",
        "b_sv: "
       ]
      },
      {
       "output_type": "stream",
       "stream": "stdout",
       "text": [
        " -1.50599913248\n",
        "b_sv: "
       ]
      },
      {
       "output_type": "stream",
       "stream": "stdout",
       "text": [
        " -0.967013815375\n",
        "b_sv: "
       ]
      },
      {
       "output_type": "stream",
       "stream": "stdout",
       "text": [
        " -1.26430297825\n",
        "b_sv: "
       ]
      },
      {
       "output_type": "stream",
       "stream": "stdout",
       "text": [
        " -1.03600199253\n",
        "b_sv: "
       ]
      },
      {
       "output_type": "stream",
       "stream": "stdout",
       "text": [
        " -1.22408294047\n",
        "b_sv: "
       ]
      },
      {
       "output_type": "stream",
       "stream": "stdout",
       "text": [
        " -2.04739430792\n",
        "b_sv: "
       ]
      },
      {
       "output_type": "stream",
       "stream": "stdout",
       "text": [
        " -1.14205752431\n",
        "b_sv: "
       ]
      },
      {
       "output_type": "stream",
       "stream": "stdout",
       "text": [
        " -1.33449437291\n",
        "param:  ('gaussian', 35.938136638046259, 0.01)\n",
        "b_sv: "
       ]
      },
      {
       "output_type": "stream",
       "stream": "stdout",
       "text": [
        " -0.999540533256\n",
        "b_sv: "
       ]
      },
      {
       "output_type": "stream",
       "stream": "stdout",
       "text": [
        " 1.87915987266e-05\n",
        "b_sv: "
       ]
      },
      {
       "output_type": "stream",
       "stream": "stdout",
       "text": [
        " 0.999497825913\n",
        "b_sv: "
       ]
      },
      {
       "output_type": "stream",
       "stream": "stdout",
       "text": [
        " 0.999519244536\n",
        "b_sv: "
       ]
      },
      {
       "output_type": "stream",
       "stream": "stdout",
       "text": [
        " -0.999508388897\n",
        "b_sv: "
       ]
      },
      {
       "output_type": "stream",
       "stream": "stdout",
       "text": [
        " 0.99951166037\n",
        "b_sv: "
       ]
      },
      {
       "output_type": "stream",
       "stream": "stdout",
       "text": [
        " 0.999511492068\n",
        "b_sv: "
       ]
      },
      {
       "output_type": "stream",
       "stream": "stdout",
       "text": [
        " -0.999595573558\n",
        "b_sv: "
       ]
      },
      {
       "output_type": "stream",
       "stream": "stdout",
       "text": [
        " -0.999540106018\n",
        "b_sv: "
       ]
      },
      {
       "output_type": "stream",
       "stream": "stdout",
       "text": [
        " 0.999475415837\n",
        "b_sv: "
       ]
      },
      {
       "output_type": "stream",
       "stream": "stdout",
       "text": [
        " -0.999523097517\n",
        "b_sv: "
       ]
      },
      {
       "output_type": "stream",
       "stream": "stdout",
       "text": [
        " -0.999573655648\n",
        "b_sv: "
       ]
      },
      {
       "output_type": "stream",
       "stream": "stdout",
       "text": [
        " -6.06122664046e-05\n",
        "b_sv: "
       ]
      },
      {
       "output_type": "stream",
       "stream": "stdout",
       "text": [
        " -0.999616401451\n",
        "b_sv: "
       ]
      },
      {
       "output_type": "stream",
       "stream": "stdout",
       "text": [
        " -0.999478055781\n",
        "b_sv: "
       ]
      },
      {
       "output_type": "stream",
       "stream": "stdout",
       "text": [
        " 0.999517134977\n",
        "b_sv: "
       ]
      },
      {
       "output_type": "stream",
       "stream": "stdout",
       "text": [
        " -0.999544168082\n",
        "b_sv: "
       ]
      },
      {
       "output_type": "stream",
       "stream": "stdout",
       "text": [
        " 0.999601593033\n",
        "b_sv: "
       ]
      },
      {
       "output_type": "stream",
       "stream": "stdout",
       "text": [
        " -0.999607448049\n",
        "b_sv: "
       ]
      },
      {
       "output_type": "stream",
       "stream": "stdout",
       "text": [
        " -9.90314304508e-05\n",
        "81 / 100 parameter combinations completed. Estimated remaining time: 933.936\n",
        "param:  ('gaussian', 35.938136638046259, 0.027825594022071243)\n",
        "b_sv: "
       ]
      },
      {
       "output_type": "stream",
       "stream": "stdout",
       "text": [
        " -1.0480285912e-05\n",
        "b_sv: "
       ]
      },
      {
       "output_type": "stream",
       "stream": "stdout",
       "text": [
        " -0.998959183443\n",
        "b_sv: "
       ]
      },
      {
       "output_type": "stream",
       "stream": "stdout",
       "text": [
        " -0.999043315749\n",
        "b_sv: "
       ]
      },
      {
       "output_type": "stream",
       "stream": "stdout",
       "text": [
        " 0.998896403309\n",
        "b_sv: "
       ]
      },
      {
       "output_type": "stream",
       "stream": "stdout",
       "text": [
        " -0.000123307104476\n",
        "b_sv: "
       ]
      },
      {
       "output_type": "stream",
       "stream": "stdout",
       "text": [
        " 0.998508500501\n",
        "b_sv: "
       ]
      },
      {
       "output_type": "stream",
       "stream": "stdout",
       "text": [
        " 0.000130706201576\n",
        "b_sv: "
       ]
      },
      {
       "output_type": "stream",
       "stream": "stdout",
       "text": [
        " -0.998805931016\n",
        "b_sv: "
       ]
      },
      {
       "output_type": "stream",
       "stream": "stdout",
       "text": [
        " -0.998879942171\n",
        "b_sv: "
       ]
      },
      {
       "output_type": "stream",
       "stream": "stdout",
       "text": [
        " -0.998762065493\n",
        "b_sv: "
       ]
      },
      {
       "output_type": "stream",
       "stream": "stdout",
       "text": [
        " 0.998882752737\n",
        "b_sv: "
       ]
      },
      {
       "output_type": "stream",
       "stream": "stdout",
       "text": [
        " -0.998781768629\n",
        "b_sv: "
       ]
      },
      {
       "output_type": "stream",
       "stream": "stdout",
       "text": [
        " 0.998801722116\n",
        "b_sv: "
       ]
      },
      {
       "output_type": "stream",
       "stream": "stdout",
       "text": [
        " -0.998688960317\n",
        "b_sv: "
       ]
      },
      {
       "output_type": "stream",
       "stream": "stdout",
       "text": [
        " -0.998705153685\n",
        "b_sv: "
       ]
      },
      {
       "output_type": "stream",
       "stream": "stdout",
       "text": [
        " -0.000218849374538\n",
        "b_sv: "
       ]
      },
      {
       "output_type": "stream",
       "stream": "stdout",
       "text": [
        " 7.57857480504e-06\n",
        "b_sv: "
       ]
      },
      {
       "output_type": "stream",
       "stream": "stdout",
       "text": [
        " -0.998894902686\n",
        "b_sv: "
       ]
      },
      {
       "output_type": "stream",
       "stream": "stdout",
       "text": [
        " -0.000148986683199\n",
        "b_sv: "
       ]
      },
      {
       "output_type": "stream",
       "stream": "stdout",
       "text": [
        " 0.998777938587\n",
        "param:  ('gaussian', 35.938136638046259, 0.077426368268112694)\n",
        "b_sv: "
       ]
      },
      {
       "output_type": "stream",
       "stream": "stdout",
       "text": [
        " 0.996060184825\n",
        "b_sv: "
       ]
      },
      {
       "output_type": "stream",
       "stream": "stdout",
       "text": [
        " -0.000207728265363\n",
        "b_sv: "
       ]
      },
      {
       "output_type": "stream",
       "stream": "stdout",
       "text": [
        " -0.996468703754\n",
        "b_sv: "
       ]
      },
      {
       "output_type": "stream",
       "stream": "stdout",
       "text": [
        " -0.996880671094\n",
        "b_sv: "
       ]
      },
      {
       "output_type": "stream",
       "stream": "stdout",
       "text": [
        " -1.98619427072e-06\n",
        "b_sv: "
       ]
      },
      {
       "output_type": "stream",
       "stream": "stdout",
       "text": [
        " -0.996379724128\n",
        "b_sv: "
       ]
      },
      {
       "output_type": "stream",
       "stream": "stdout",
       "text": [
        " 0.000436428571997\n",
        "b_sv: "
       ]
      },
      {
       "output_type": "stream",
       "stream": "stdout",
       "text": [
        " -0.000307367871482\n",
        "b_sv: "
       ]
      },
      {
       "output_type": "stream",
       "stream": "stdout",
       "text": [
        " -0.000160226695018\n",
        "b_sv: "
       ]
      },
      {
       "output_type": "stream",
       "stream": "stdout",
       "text": [
        " 0.997076532477\n",
        "b_sv: "
       ]
      },
      {
       "output_type": "stream",
       "stream": "stdout",
       "text": [
        " -0.00014549516526\n",
        "b_sv: "
       ]
      },
      {
       "output_type": "stream",
       "stream": "stdout",
       "text": [
        " 0.996597723758\n",
        "b_sv: "
       ]
      },
      {
       "output_type": "stream",
       "stream": "stdout",
       "text": [
        " -0.000183606455524\n",
        "b_sv: "
       ]
      },
      {
       "output_type": "stream",
       "stream": "stdout",
       "text": [
        " 0.995828445012\n",
        "b_sv: "
       ]
      },
      {
       "output_type": "stream",
       "stream": "stdout",
       "text": [
        " -0.996970442369\n",
        "b_sv: "
       ]
      },
      {
       "output_type": "stream",
       "stream": "stdout",
       "text": [
        " 0.996562284056\n",
        "b_sv: "
       ]
      },
      {
       "output_type": "stream",
       "stream": "stdout",
       "text": [
        " -0.997162640558\n",
        "b_sv: "
       ]
      },
      {
       "output_type": "stream",
       "stream": "stdout",
       "text": [
        " -0.996605362191\n",
        "b_sv: "
       ]
      },
      {
       "output_type": "stream",
       "stream": "stdout",
       "text": [
        " -0.996310653966\n",
        "b_sv: "
       ]
      },
      {
       "output_type": "stream",
       "stream": "stdout",
       "text": [
        " 0.996002371717\n",
        "param:  ('gaussian', 35.938136638046259, 0.21544346900318834)\n",
        "b_sv: "
       ]
      },
      {
       "output_type": "stream",
       "stream": "stdout",
       "text": [
        " -0.991235992556\n",
        "b_sv: "
       ]
      },
      {
       "output_type": "stream",
       "stream": "stdout",
       "text": [
        " -0.000505078957589\n",
        "b_sv: "
       ]
      },
      {
       "output_type": "stream",
       "stream": "stdout",
       "text": [
        " 0.988889661181\n",
        "b_sv: "
       ]
      },
      {
       "output_type": "stream",
       "stream": "stdout",
       "text": [
        " 0.995088138466\n",
        "b_sv: "
       ]
      },
      {
       "output_type": "stream",
       "stream": "stdout",
       "text": [
        " 0.987516398492\n",
        "b_sv: "
       ]
      },
      {
       "output_type": "stream",
       "stream": "stdout",
       "text": [
        " -0.00034619970493\n",
        "b_sv: "
       ]
      },
      {
       "output_type": "stream",
       "stream": "stdout",
       "text": [
        " -0.991493696666\n",
        "b_sv: "
       ]
      },
      {
       "output_type": "stream",
       "stream": "stdout",
       "text": [
        " 0.990820439326\n",
        "b_sv: "
       ]
      },
      {
       "output_type": "stream",
       "stream": "stdout",
       "text": [
        " 0.989210957962\n",
        "b_sv: "
       ]
      },
      {
       "output_type": "stream",
       "stream": "stdout",
       "text": [
        " 0.992450821596\n",
        "b_sv: "
       ]
      },
      {
       "output_type": "stream",
       "stream": "stdout",
       "text": [
        " -0.990341054923\n",
        "b_sv: "
       ]
      },
      {
       "output_type": "stream",
       "stream": "stdout",
       "text": [
        " -0.988794304571\n",
        "b_sv: "
       ]
      },
      {
       "output_type": "stream",
       "stream": "stdout",
       "text": [
        " -0.99000532297\n",
        "b_sv: "
       ]
      },
      {
       "output_type": "stream",
       "stream": "stdout",
       "text": [
        " -0.993680647567\n",
        "b_sv: "
       ]
      },
      {
       "output_type": "stream",
       "stream": "stdout",
       "text": [
        " 0.990864909992\n",
        "b_sv: "
       ]
      },
      {
       "output_type": "stream",
       "stream": "stdout",
       "text": [
        " -0.00168418638049\n",
        "b_sv: "
       ]
      },
      {
       "output_type": "stream",
       "stream": "stdout",
       "text": [
        " 0.988948174361\n",
        "b_sv: "
       ]
      },
      {
       "output_type": "stream",
       "stream": "stdout",
       "text": [
        " 0.984955963037\n",
        "b_sv: "
       ]
      },
      {
       "output_type": "stream",
       "stream": "stdout",
       "text": [
        " 0.986161010467\n",
        "b_sv: "
       ]
      },
      {
       "output_type": "stream",
       "stream": "stdout",
       "text": [
        " -0.00126079019281\n",
        "param:  ('gaussian', 35.938136638046259, 0.59948425031894093)\n",
        "b_sv: "
       ]
      },
      {
       "output_type": "stream",
       "stream": "stdout",
       "text": [
        " 0.969499717632\n",
        "b_sv: "
       ]
      },
      {
       "output_type": "stream",
       "stream": "stdout",
       "text": [
        " -0.00200346305072\n",
        "b_sv: "
       ]
      },
      {
       "output_type": "stream",
       "stream": "stdout",
       "text": [
        " -0.000833576789286\n",
        "b_sv: "
       ]
      },
      {
       "output_type": "stream",
       "stream": "stdout",
       "text": [
        " -0.973350555929\n",
        "b_sv: "
       ]
      },
      {
       "output_type": "stream",
       "stream": "stdout",
       "text": [
        " -0.000970035460305\n",
        "b_sv: "
       ]
      },
      {
       "output_type": "stream",
       "stream": "stdout",
       "text": [
        " -0.00319953174957\n",
        "b_sv: "
       ]
      },
      {
       "output_type": "stream",
       "stream": "stdout",
       "text": [
        " 0.964617848132\n",
        "b_sv: "
       ]
      },
      {
       "output_type": "stream",
       "stream": "stdout",
       "text": [
        " 0.975143461336\n",
        "b_sv: "
       ]
      },
      {
       "output_type": "stream",
       "stream": "stdout",
       "text": [
        " 0.971386449464\n",
        "b_sv: "
       ]
      },
      {
       "output_type": "stream",
       "stream": "stdout",
       "text": [
        " 0.96988950969\n",
        "b_sv: "
       ]
      },
      {
       "output_type": "stream",
       "stream": "stdout",
       "text": [
        " 0.000950297361426\n",
        "b_sv: "
       ]
      },
      {
       "output_type": "stream",
       "stream": "stdout",
       "text": [
        " -0.000114248881175\n",
        "b_sv: "
       ]
      },
      {
       "output_type": "stream",
       "stream": "stdout",
       "text": [
        " -0.972638263872\n",
        "b_sv: "
       ]
      },
      {
       "output_type": "stream",
       "stream": "stdout",
       "text": [
        " 0.976113486907\n",
        "b_sv: "
       ]
      },
      {
       "output_type": "stream",
       "stream": "stdout",
       "text": [
        " -0.972357398788\n",
        "b_sv: "
       ]
      },
      {
       "output_type": "stream",
       "stream": "stdout",
       "text": [
        " -0.975272661749\n",
        "b_sv: "
       ]
      },
      {
       "output_type": "stream",
       "stream": "stdout",
       "text": [
        " -0.973096717358\n",
        "b_sv: "
       ]
      },
      {
       "output_type": "stream",
       "stream": "stdout",
       "text": [
        " 0.96647349628\n",
        "b_sv: "
       ]
      },
      {
       "output_type": "stream",
       "stream": "stdout",
       "text": [
        " -0.000727692395137\n",
        "b_sv: "
       ]
      },
      {
       "output_type": "stream",
       "stream": "stdout",
       "text": [
        " -0.969304711759\n",
        "param:  ('gaussian', 35.938136638046259, 1.6681005372000592)\n",
        "b_sv: "
       ]
      },
      {
       "output_type": "stream",
       "stream": "stdout",
       "text": [
        " -0.0274210710065\n",
        "b_sv: "
       ]
      },
      {
       "output_type": "stream",
       "stream": "stdout",
       "text": [
        " -0.925106634642\n",
        "b_sv: "
       ]
      },
      {
       "output_type": "stream",
       "stream": "stdout",
       "text": [
        " -0.922726459918\n",
        "b_sv: "
       ]
      },
      {
       "output_type": "stream",
       "stream": "stdout",
       "text": [
        " -0.00827124953934\n",
        "b_sv: "
       ]
      },
      {
       "output_type": "stream",
       "stream": "stdout",
       "text": [
        " 0.911116949252\n",
        "b_sv: "
       ]
      },
      {
       "output_type": "stream",
       "stream": "stdout",
       "text": [
        " -0.907840012387\n",
        "b_sv: "
       ]
      },
      {
       "output_type": "stream",
       "stream": "stdout",
       "text": [
        " -0.0106477327612\n",
        "b_sv: "
       ]
      },
      {
       "output_type": "stream",
       "stream": "stdout",
       "text": [
        " 0.928349206698\n",
        "b_sv: "
       ]
      },
      {
       "output_type": "stream",
       "stream": "stdout",
       "text": [
        " 6.16950745275e-05\n",
        "b_sv: "
       ]
      },
      {
       "output_type": "stream",
       "stream": "stdout",
       "text": [
        " -0.00837941690737\n",
        "b_sv: "
       ]
      },
      {
       "output_type": "stream",
       "stream": "stdout",
       "text": [
        " 0.905477147284\n",
        "b_sv: "
       ]
      },
      {
       "output_type": "stream",
       "stream": "stdout",
       "text": [
        " -0.921882699797\n",
        "b_sv: "
       ]
      },
      {
       "output_type": "stream",
       "stream": "stdout",
       "text": [
        " -0.000396747091883\n",
        "b_sv: "
       ]
      },
      {
       "output_type": "stream",
       "stream": "stdout",
       "text": [
        " -0.0239457654414\n",
        "b_sv: "
       ]
      },
      {
       "output_type": "stream",
       "stream": "stdout",
       "text": [
        " -0.00353654735842\n",
        "b_sv: "
       ]
      },
      {
       "output_type": "stream",
       "stream": "stdout",
       "text": [
        " -0.930582572788\n",
        "b_sv: "
       ]
      },
      {
       "output_type": "stream",
       "stream": "stdout",
       "text": [
        " -0.929260517395\n",
        "b_sv: "
       ]
      },
      {
       "output_type": "stream",
       "stream": "stdout",
       "text": [
        " 0.898411864861\n",
        "b_sv: "
       ]
      },
      {
       "output_type": "stream",
       "stream": "stdout",
       "text": [
        " 0.883179700384\n",
        "b_sv: "
       ]
      },
      {
       "output_type": "stream",
       "stream": "stdout",
       "text": [
        " -0.931137606273\n",
        "param:  ('gaussian', 35.938136638046259, 4.6415888336127775)\n",
        "b_sv: "
       ]
      },
      {
       "output_type": "stream",
       "stream": "stdout",
       "text": [
        " -0.777131812162\n",
        "b_sv: "
       ]
      },
      {
       "output_type": "stream",
       "stream": "stdout",
       "text": [
        " -0.786285152608\n",
        "b_sv: "
       ]
      },
      {
       "output_type": "stream",
       "stream": "stdout",
       "text": [
        " 0.861684475623\n",
        "b_sv: "
       ]
      },
      {
       "output_type": "stream",
       "stream": "stdout",
       "text": [
        " -0.0141163630075\n",
        "b_sv: "
       ]
      },
      {
       "output_type": "stream",
       "stream": "stdout",
       "text": [
        " -0.820178018048\n",
        "b_sv: "
       ]
      },
      {
       "output_type": "stream",
       "stream": "stdout",
       "text": [
        " 0.742479140574\n",
        "b_sv: "
       ]
      },
      {
       "output_type": "stream",
       "stream": "stdout",
       "text": [
        " -0.00807874246509\n",
        "b_sv: "
       ]
      },
      {
       "output_type": "stream",
       "stream": "stdout",
       "text": [
        " 0.722594055053\n",
        "b_sv: "
       ]
      },
      {
       "output_type": "stream",
       "stream": "stdout",
       "text": [
        " -0.0150707580292\n",
        "b_sv: "
       ]
      },
      {
       "output_type": "stream",
       "stream": "stdout",
       "text": [
        " 0.712370042144\n",
        "b_sv: "
       ]
      },
      {
       "output_type": "stream",
       "stream": "stdout",
       "text": [
        " 0.778469725529\n",
        "b_sv: "
       ]
      },
      {
       "output_type": "stream",
       "stream": "stdout",
       "text": [
        " -0.809474492888\n",
        "b_sv: "
       ]
      },
      {
       "output_type": "stream",
       "stream": "stdout",
       "text": [
        " -0.778639013065\n",
        "b_sv: "
       ]
      },
      {
       "output_type": "stream",
       "stream": "stdout",
       "text": [
        " -0.0230678234523\n",
        "b_sv: "
       ]
      },
      {
       "output_type": "stream",
       "stream": "stdout",
       "text": [
        " 0.828402742264\n",
        "b_sv: "
       ]
      },
      {
       "output_type": "stream",
       "stream": "stdout",
       "text": [
        " 0.663161712712\n",
        "b_sv: "
       ]
      },
      {
       "output_type": "stream",
       "stream": "stdout",
       "text": [
        " -0.0631093194023\n",
        "b_sv: "
       ]
      },
      {
       "output_type": "stream",
       "stream": "stdout",
       "text": [
        " -0.781435906925\n",
        "b_sv: "
       ]
      },
      {
       "output_type": "stream",
       "stream": "stdout",
       "text": [
        " -0.839849614893\n",
        "b_sv: "
       ]
      },
      {
       "output_type": "stream",
       "stream": "stdout",
       "text": [
        " -0.810259178218\n",
        "param:  ('gaussian', 35.938136638046259, 12.915496650148826)\n",
        "b_sv: "
       ]
      },
      {
       "output_type": "stream",
       "stream": "stdout",
       "text": [
        " -0.495627804251\n",
        "b_sv: "
       ]
      },
      {
       "output_type": "stream",
       "stream": "stdout",
       "text": [
        " 0.370562641579\n",
        "b_sv: "
       ]
      },
      {
       "output_type": "stream",
       "stream": "stdout",
       "text": [
        " -0.396080680154\n",
        "b_sv: "
       ]
      },
      {
       "output_type": "stream",
       "stream": "stdout",
       "text": [
        " -0.21468770832\n",
        "b_sv: "
       ]
      },
      {
       "output_type": "stream",
       "stream": "stdout",
       "text": [
        " 0.270327985458\n",
        "b_sv: "
       ]
      },
      {
       "output_type": "stream",
       "stream": "stdout",
       "text": [
        " 0.420808466629\n",
        "b_sv: "
       ]
      },
      {
       "output_type": "stream",
       "stream": "stdout",
       "text": [
        " 0.00131295888192\n",
        "b_sv: "
       ]
      },
      {
       "output_type": "stream",
       "stream": "stdout",
       "text": [
        " 0.496696629098\n",
        "b_sv: "
       ]
      },
      {
       "output_type": "stream",
       "stream": "stdout",
       "text": [
        " -0.368614241195\n",
        "b_sv: "
       ]
      },
      {
       "output_type": "stream",
       "stream": "stdout",
       "text": [
        " -0.436211244406\n",
        "b_sv: "
       ]
      },
      {
       "output_type": "stream",
       "stream": "stdout",
       "text": [
        " 0.0643607393751\n",
        "b_sv: "
       ]
      },
      {
       "output_type": "stream",
       "stream": "stdout",
       "text": [
        " 0.213264943227\n",
        "b_sv: "
       ]
      },
      {
       "output_type": "stream",
       "stream": "stdout",
       "text": [
        " 0.265025814742\n",
        "b_sv: "
       ]
      },
      {
       "output_type": "stream",
       "stream": "stdout",
       "text": [
        " -0.434304912516\n",
        "b_sv: "
       ]
      },
      {
       "output_type": "stream",
       "stream": "stdout",
       "text": [
        " -0.436823277731\n",
        "b_sv: "
       ]
      },
      {
       "output_type": "stream",
       "stream": "stdout",
       "text": [
        " -0.424030077494\n",
        "b_sv: "
       ]
      },
      {
       "output_type": "stream",
       "stream": "stdout",
       "text": [
        " -0.0159010077873\n",
        "b_sv: "
       ]
      },
      {
       "output_type": "stream",
       "stream": "stdout",
       "text": [
        " 0.54501729606\n",
        "b_sv: "
       ]
      },
      {
       "output_type": "stream",
       "stream": "stdout",
       "text": [
        " 0.17978971144\n",
        "b_sv: "
       ]
      },
      {
       "output_type": "stream",
       "stream": "stdout",
       "text": [
        " 0.416771452552\n",
        "param:  ('gaussian', 35.938136638046259, 35.938136638046259)\n",
        "b_sv: "
       ]
      },
      {
       "output_type": "stream",
       "stream": "stdout",
       "text": [
        " -0.117165340181\n",
        "b_sv: "
       ]
      },
      {
       "output_type": "stream",
       "stream": "stdout",
       "text": [
        " -0.0882190601905\n",
        "b_sv: "
       ]
      },
      {
       "output_type": "stream",
       "stream": "stdout",
       "text": [
        " -0.0602715641497\n",
        "b_sv: "
       ]
      },
      {
       "output_type": "stream",
       "stream": "stdout",
       "text": [
        " -0.173599331784\n",
        "b_sv: "
       ]
      },
      {
       "output_type": "stream",
       "stream": "stdout",
       "text": [
        " -0.1295053331\n",
        "b_sv: "
       ]
      },
      {
       "output_type": "stream",
       "stream": "stdout",
       "text": [
        " -0.114702362473\n",
        "b_sv: "
       ]
      },
      {
       "output_type": "stream",
       "stream": "stdout",
       "text": [
        " 0.0594857151842\n",
        "b_sv: "
       ]
      },
      {
       "output_type": "stream",
       "stream": "stdout",
       "text": [
        " -0.0711850156451\n",
        "b_sv: "
       ]
      },
      {
       "output_type": "stream",
       "stream": "stdout",
       "text": [
        " -0.125998110191\n",
        "b_sv: "
       ]
      },
      {
       "output_type": "stream",
       "stream": "stdout",
       "text": [
        " -0.0261651199681\n",
        "b_sv: "
       ]
      },
      {
       "output_type": "stream",
       "stream": "stdout",
       "text": [
        " 0.0179456812073\n",
        "b_sv: "
       ]
      },
      {
       "output_type": "stream",
       "stream": "stdout",
       "text": [
        " -0.0601556630076\n",
        "b_sv: "
       ]
      },
      {
       "output_type": "stream",
       "stream": "stdout",
       "text": [
        " -0.071191727959\n",
        "b_sv: "
       ]
      },
      {
       "output_type": "stream",
       "stream": "stdout",
       "text": [
        " -0.0491488079777\n",
        "b_sv: "
       ]
      },
      {
       "output_type": "stream",
       "stream": "stdout",
       "text": [
        " -0.050743347985\n",
        "b_sv: "
       ]
      },
      {
       "output_type": "stream",
       "stream": "stdout",
       "text": [
        " -0.0339948310824\n",
        "b_sv: "
       ]
      },
      {
       "output_type": "stream",
       "stream": "stdout",
       "text": [
        " -0.0737147127844\n",
        "b_sv: "
       ]
      },
      {
       "output_type": "stream",
       "stream": "stdout",
       "text": [
        " -0.074256773233\n",
        "b_sv: "
       ]
      },
      {
       "output_type": "stream",
       "stream": "stdout",
       "text": [
        " -0.0893895700172\n",
        "b_sv: "
       ]
      },
      {
       "output_type": "stream",
       "stream": "stdout",
       "text": [
        " -0.126136231982\n",
        "param:  ('gaussian', 35.938136638046259, 100.0)\n",
        "b_sv: "
       ]
      },
      {
       "output_type": "stream",
       "stream": "stdout",
       "text": [
        " -0.096613409573\n",
        "b_sv: "
       ]
      },
      {
       "output_type": "stream",
       "stream": "stdout",
       "text": [
        " -0.197375510804\n",
        "b_sv: "
       ]
      },
      {
       "output_type": "stream",
       "stream": "stdout",
       "text": [
        " -0.155207500444\n",
        "b_sv: "
       ]
      },
      {
       "output_type": "stream",
       "stream": "stdout",
       "text": [
        " -0.0955017907114\n",
        "b_sv: "
       ]
      },
      {
       "output_type": "stream",
       "stream": "stdout",
       "text": [
        " -0.195057407159\n",
        "b_sv: "
       ]
      },
      {
       "output_type": "stream",
       "stream": "stdout",
       "text": [
        " -0.150866265821\n",
        "b_sv: "
       ]
      },
      {
       "output_type": "stream",
       "stream": "stdout",
       "text": [
        " -0.170084994326\n",
        "b_sv: "
       ]
      },
      {
       "output_type": "stream",
       "stream": "stdout",
       "text": [
        " -0.0790647496731\n",
        "b_sv: "
       ]
      },
      {
       "output_type": "stream",
       "stream": "stdout",
       "text": [
        " -0.133727374727\n",
        "b_sv: "
       ]
      },
      {
       "output_type": "stream",
       "stream": "stdout",
       "text": [
        " -0.18377913634\n",
        "b_sv: "
       ]
      },
      {
       "output_type": "stream",
       "stream": "stdout",
       "text": [
        " -0.107019643336\n",
        "b_sv: "
       ]
      },
      {
       "output_type": "stream",
       "stream": "stdout",
       "text": [
        " -0.177402166438\n",
        "b_sv: "
       ]
      },
      {
       "output_type": "stream",
       "stream": "stdout",
       "text": [
        " -0.128493963197\n",
        "b_sv: "
       ]
      },
      {
       "output_type": "stream",
       "stream": "stdout",
       "text": [
        " -0.142193735548\n",
        "b_sv: "
       ]
      },
      {
       "output_type": "stream",
       "stream": "stdout",
       "text": [
        " -0.158515076193\n",
        "b_sv: "
       ]
      },
      {
       "output_type": "stream",
       "stream": "stdout",
       "text": [
        " -0.00770418210165\n",
        "b_sv: "
       ]
      },
      {
       "output_type": "stream",
       "stream": "stdout",
       "text": [
        " -0.188065025874\n",
        "b_sv: "
       ]
      },
      {
       "output_type": "stream",
       "stream": "stdout",
       "text": [
        " -0.151881085566\n",
        "b_sv: "
       ]
      },
      {
       "output_type": "stream",
       "stream": "stdout",
       "text": [
        " -0.175711711145\n",
        "b_sv: "
       ]
      },
      {
       "output_type": "stream",
       "stream": "stdout",
       "text": [
        " -0.147675074581\n",
        "param:  ('gaussian', 100.0, 0.01)\n",
        "b_sv: "
       ]
      },
      {
       "output_type": "stream",
       "stream": "stdout",
       "text": [
        " 0.999957529067\n",
        "b_sv: "
       ]
      },
      {
       "output_type": "stream",
       "stream": "stdout",
       "text": [
        " -0.999941628329\n",
        "b_sv: "
       ]
      },
      {
       "output_type": "stream",
       "stream": "stdout",
       "text": [
        " 0.999918316897\n",
        "b_sv: "
       ]
      },
      {
       "output_type": "stream",
       "stream": "stdout",
       "text": [
        " -0.999963654199\n",
        "b_sv: "
       ]
      },
      {
       "output_type": "stream",
       "stream": "stdout",
       "text": [
        " -0.999956609624\n",
        "b_sv: "
       ]
      },
      {
       "output_type": "stream",
       "stream": "stdout",
       "text": [
        " -0.999945001062\n",
        "b_sv: "
       ]
      },
      {
       "output_type": "stream",
       "stream": "stdout",
       "text": [
        " 3.32108839374e-06\n",
        "b_sv: "
       ]
      },
      {
       "output_type": "stream",
       "stream": "stdout",
       "text": [
        " 0.999944388829\n",
        "b_sv: "
       ]
      },
      {
       "output_type": "stream",
       "stream": "stdout",
       "text": [
        " 0.999949882724\n",
        "b_sv: "
       ]
      },
      {
       "output_type": "stream",
       "stream": "stdout",
       "text": [
        " -0.999942954677\n",
        "b_sv: "
       ]
      },
      {
       "output_type": "stream",
       "stream": "stdout",
       "text": [
        " 0.999943373833\n",
        "b_sv: "
       ]
      },
      {
       "output_type": "stream",
       "stream": "stdout",
       "text": [
        " 0.999937293698\n",
        "b_sv: "
       ]
      },
      {
       "output_type": "stream",
       "stream": "stdout",
       "text": [
        " -3.79879468432e-06\n",
        "b_sv: "
       ]
      },
      {
       "output_type": "stream",
       "stream": "stdout",
       "text": [
        " 2.86277105155e-06\n",
        "b_sv: "
       ]
      },
      {
       "output_type": "stream",
       "stream": "stdout",
       "text": [
        " -0.999941359589\n",
        "b_sv: "
       ]
      },
      {
       "output_type": "stream",
       "stream": "stdout",
       "text": [
        " -0.999934215688\n",
        "b_sv: "
       ]
      },
      {
       "output_type": "stream",
       "stream": "stdout",
       "text": [
        " -0.999939943862\n",
        "b_sv: "
       ]
      },
      {
       "output_type": "stream",
       "stream": "stdout",
       "text": [
        " -0.999941300727\n",
        "b_sv: "
       ]
      },
      {
       "output_type": "stream",
       "stream": "stdout",
       "text": [
        " -0.999968807118\n",
        "b_sv: "
       ]
      },
      {
       "output_type": "stream",
       "stream": "stdout",
       "text": [
        " -0.999951113979\n",
        "91 / 100 parameter combinations completed. Estimated remaining time: 423.553\n",
        "param:  ('gaussian', 100.0, 0.027825594022071243)\n",
        "b_sv: "
       ]
      },
      {
       "output_type": "stream",
       "stream": "stdout",
       "text": [
        " -5.24031337823e-06\n",
        "b_sv: "
       ]
      },
      {
       "output_type": "stream",
       "stream": "stdout",
       "text": [
        " 0.999818667063\n",
        "b_sv: "
       ]
      },
      {
       "output_type": "stream",
       "stream": "stdout",
       "text": [
        " -0.999834984384\n",
        "b_sv: "
       ]
      },
      {
       "output_type": "stream",
       "stream": "stdout",
       "text": [
        " 0.999800435791\n",
        "b_sv: "
       ]
      },
      {
       "output_type": "stream",
       "stream": "stdout",
       "text": [
        " -0.999847054716\n",
        "b_sv: "
       ]
      },
      {
       "output_type": "stream",
       "stream": "stdout",
       "text": [
        " -6.08575165321e-05\n",
        "b_sv: "
       ]
      },
      {
       "output_type": "stream",
       "stream": "stdout",
       "text": [
        " -0.999873978129\n",
        "b_sv: "
       ]
      },
      {
       "output_type": "stream",
       "stream": "stdout",
       "text": [
        " -4.95126061287e-05\n",
        "b_sv: "
       ]
      },
      {
       "output_type": "stream",
       "stream": "stdout",
       "text": [
        " 0.999818795366\n",
        "b_sv: "
       ]
      },
      {
       "output_type": "stream",
       "stream": "stdout",
       "text": [
        " 0.999871058162\n",
        "b_sv: "
       ]
      },
      {
       "output_type": "stream",
       "stream": "stdout",
       "text": [
        " -0.999874594142\n",
        "b_sv: "
       ]
      },
      {
       "output_type": "stream",
       "stream": "stdout",
       "text": [
        " 0.999729413083\n",
        "b_sv: "
       ]
      },
      {
       "output_type": "stream",
       "stream": "stdout",
       "text": [
        " 0.999837549866\n",
        "b_sv: "
       ]
      },
      {
       "output_type": "stream",
       "stream": "stdout",
       "text": [
        " -0.999857430951\n",
        "b_sv: "
       ]
      },
      {
       "output_type": "stream",
       "stream": "stdout",
       "text": [
        " -0.999834577021\n",
        "b_sv: "
       ]
      },
      {
       "output_type": "stream",
       "stream": "stdout",
       "text": [
        " -0.999846099087\n",
        "b_sv: "
       ]
      },
      {
       "output_type": "stream",
       "stream": "stdout",
       "text": [
        " -0.999822925924\n",
        "b_sv: "
       ]
      },
      {
       "output_type": "stream",
       "stream": "stdout",
       "text": [
        " -1.49683757332e-05\n",
        "b_sv: "
       ]
      },
      {
       "output_type": "stream",
       "stream": "stdout",
       "text": [
        " 0.999866236936\n",
        "b_sv: "
       ]
      },
      {
       "output_type": "stream",
       "stream": "stdout",
       "text": [
        " 0.999839649271\n",
        "param:  ('gaussian', 100.0, 0.077426368268112694)\n",
        "b_sv: "
       ]
      },
      {
       "output_type": "stream",
       "stream": "stdout",
       "text": [
        " -2.90259766344e-05\n",
        "b_sv: "
       ]
      },
      {
       "output_type": "stream",
       "stream": "stdout",
       "text": [
        " -0.999540662097\n",
        "b_sv: "
       ]
      },
      {
       "output_type": "stream",
       "stream": "stdout",
       "text": [
        " -0.999600001959\n",
        "b_sv: "
       ]
      },
      {
       "output_type": "stream",
       "stream": "stdout",
       "text": [
        " 0.999548669443\n",
        "b_sv: "
       ]
      },
      {
       "output_type": "stream",
       "stream": "stdout",
       "text": [
        " -0.000116412182099\n",
        "b_sv: "
       ]
      },
      {
       "output_type": "stream",
       "stream": "stdout",
       "text": [
        " 0.999562837982\n",
        "b_sv: "
       ]
      },
      {
       "output_type": "stream",
       "stream": "stdout",
       "text": [
        " -0.999474522684\n",
        "b_sv: "
       ]
      },
      {
       "output_type": "stream",
       "stream": "stdout",
       "text": [
        " 0.999523176853\n",
        "b_sv: "
       ]
      },
      {
       "output_type": "stream",
       "stream": "stdout",
       "text": [
        " -0.999542431581\n",
        "b_sv: "
       ]
      },
      {
       "output_type": "stream",
       "stream": "stdout",
       "text": [
        " 0.999633600723\n",
        "b_sv: "
       ]
      },
      {
       "output_type": "stream",
       "stream": "stdout",
       "text": [
        " -4.0211343351e-05\n",
        "b_sv: "
       ]
      },
      {
       "output_type": "stream",
       "stream": "stdout",
       "text": [
        " 0.99943387968\n",
        "b_sv: "
       ]
      },
      {
       "output_type": "stream",
       "stream": "stdout",
       "text": [
        " 6.23333044372e-05\n",
        "b_sv: "
       ]
      },
      {
       "output_type": "stream",
       "stream": "stdout",
       "text": [
        " 0.999581819383\n",
        "b_sv: "
       ]
      },
      {
       "output_type": "stream",
       "stream": "stdout",
       "text": [
        " -0.00011681216849\n",
        "b_sv: "
       ]
      },
      {
       "output_type": "stream",
       "stream": "stdout",
       "text": [
        " -0.999535450682\n",
        "b_sv: "
       ]
      },
      {
       "output_type": "stream",
       "stream": "stdout",
       "text": [
        " -0.999598750915\n",
        "b_sv: "
       ]
      },
      {
       "output_type": "stream",
       "stream": "stdout",
       "text": [
        " -0.999663846871\n",
        "b_sv: "
       ]
      },
      {
       "output_type": "stream",
       "stream": "stdout",
       "text": [
        " -0.000178478652863\n",
        "b_sv: "
       ]
      },
      {
       "output_type": "stream",
       "stream": "stdout",
       "text": [
        " -0.999549487983\n",
        "param:  ('gaussian', 100.0, 0.21544346900318834)\n",
        "b_sv: "
       ]
      },
      {
       "output_type": "stream",
       "stream": "stdout",
       "text": [
        " -3.77625376954e-05\n",
        "b_sv: "
       ]
      },
      {
       "output_type": "stream",
       "stream": "stdout",
       "text": [
        " -0.998682495512\n",
        "b_sv: "
       ]
      },
      {
       "output_type": "stream",
       "stream": "stdout",
       "text": [
        " 0.998809037668\n",
        "b_sv: "
       ]
      },
      {
       "output_type": "stream",
       "stream": "stdout",
       "text": [
        " 0.998766494133\n",
        "b_sv: "
       ]
      },
      {
       "output_type": "stream",
       "stream": "stdout",
       "text": [
        " 0.998666787935\n",
        "b_sv: "
       ]
      },
      {
       "output_type": "stream",
       "stream": "stdout",
       "text": [
        " 0.99880747644\n",
        "b_sv: "
       ]
      },
      {
       "output_type": "stream",
       "stream": "stdout",
       "text": [
        " -0.000356136775155\n",
        "b_sv: "
       ]
      },
      {
       "output_type": "stream",
       "stream": "stdout",
       "text": [
        " -0.998874810017\n",
        "b_sv: "
       ]
      },
      {
       "output_type": "stream",
       "stream": "stdout",
       "text": [
        " 0.998568926698\n",
        "b_sv: "
       ]
      },
      {
       "output_type": "stream",
       "stream": "stdout",
       "text": [
        " -0.998785760754\n",
        "b_sv: "
       ]
      },
      {
       "output_type": "stream",
       "stream": "stdout",
       "text": [
        " -0.998742616218\n",
        "b_sv: "
       ]
      },
      {
       "output_type": "stream",
       "stream": "stdout",
       "text": [
        " 0.997903413938\n",
        "b_sv: "
       ]
      },
      {
       "output_type": "stream",
       "stream": "stdout",
       "text": [
        " -0.99863896887\n",
        "b_sv: "
       ]
      },
      {
       "output_type": "stream",
       "stream": "stdout",
       "text": [
        " 0.99856334781\n",
        "b_sv: "
       ]
      },
      {
       "output_type": "stream",
       "stream": "stdout",
       "text": [
        " 0.99864006814\n",
        "b_sv: "
       ]
      },
      {
       "output_type": "stream",
       "stream": "stdout",
       "text": [
        " -0.999064305062\n",
        "b_sv: "
       ]
      },
      {
       "output_type": "stream",
       "stream": "stdout",
       "text": [
        " 0.998502137713\n",
        "b_sv: "
       ]
      },
      {
       "output_type": "stream",
       "stream": "stdout",
       "text": [
        " -0.998819642\n",
        "b_sv: "
       ]
      },
      {
       "output_type": "stream",
       "stream": "stdout",
       "text": [
        " 0.998764111635\n",
        "b_sv: "
       ]
      },
      {
       "output_type": "stream",
       "stream": "stdout",
       "text": [
        " 0.998436289516\n",
        "param:  ('gaussian', 100.0, 0.59948425031894093)\n",
        "b_sv: "
       ]
      },
      {
       "output_type": "stream",
       "stream": "stdout",
       "text": [
        " 0.996147306976\n",
        "b_sv: "
       ]
      },
      {
       "output_type": "stream",
       "stream": "stdout",
       "text": [
        " 0.996705003466\n",
        "b_sv: "
       ]
      },
      {
       "output_type": "stream",
       "stream": "stdout",
       "text": [
        " 0.995433139345\n",
        "b_sv: "
       ]
      },
      {
       "output_type": "stream",
       "stream": "stdout",
       "text": [
        " -0.000430220450959\n",
        "b_sv: "
       ]
      },
      {
       "output_type": "stream",
       "stream": "stdout",
       "text": [
        " 0.99588076537\n",
        "b_sv: "
       ]
      },
      {
       "output_type": "stream",
       "stream": "stdout",
       "text": [
        " -0.997093651033\n",
        "b_sv: "
       ]
      },
      {
       "output_type": "stream",
       "stream": "stdout",
       "text": [
        " -0.000465887962353\n",
        "b_sv: "
       ]
      },
      {
       "output_type": "stream",
       "stream": "stdout",
       "text": [
        " -0.996768675637\n",
        "b_sv: "
       ]
      },
      {
       "output_type": "stream",
       "stream": "stdout",
       "text": [
        " -0.997499543226\n",
        "b_sv: "
       ]
      },
      {
       "output_type": "stream",
       "stream": "stdout",
       "text": [
        " -0.000495650456722\n",
        "b_sv: "
       ]
      },
      {
       "output_type": "stream",
       "stream": "stdout",
       "text": [
        " 0.995912702369\n",
        "b_sv: "
       ]
      },
      {
       "output_type": "stream",
       "stream": "stdout",
       "text": [
        " 0.996745702196\n",
        "b_sv: "
       ]
      },
      {
       "output_type": "stream",
       "stream": "stdout",
       "text": [
        " -0.996964881175\n",
        "b_sv: "
       ]
      },
      {
       "output_type": "stream",
       "stream": "stdout",
       "text": [
        " -0.996431241678\n",
        "b_sv: "
       ]
      },
      {
       "output_type": "stream",
       "stream": "stdout",
       "text": [
        " 0.996218933816\n",
        "b_sv: "
       ]
      },
      {
       "output_type": "stream",
       "stream": "stdout",
       "text": [
        " 0.996070484136\n",
        "b_sv: "
       ]
      },
      {
       "output_type": "stream",
       "stream": "stdout",
       "text": [
        " -0.996938203895\n",
        "b_sv: "
       ]
      },
      {
       "output_type": "stream",
       "stream": "stdout",
       "text": [
        " -0.000596274867216\n",
        "b_sv: "
       ]
      },
      {
       "output_type": "stream",
       "stream": "stdout",
       "text": [
        " 0.995740948478\n",
        "b_sv: "
       ]
      },
      {
       "output_type": "stream",
       "stream": "stdout",
       "text": [
        " -0.000259398566987\n",
        "param:  ('gaussian', 100.0, 1.6681005372000592)\n",
        "b_sv: "
       ]
      },
      {
       "output_type": "stream",
       "stream": "stdout",
       "text": [
        " -0.00263556604796\n",
        "b_sv: "
       ]
      },
      {
       "output_type": "stream",
       "stream": "stdout",
       "text": [
        " -0.99081972557\n",
        "b_sv: "
       ]
      },
      {
       "output_type": "stream",
       "stream": "stdout",
       "text": [
        " 0.000236998184038\n",
        "b_sv: "
       ]
      },
      {
       "output_type": "stream",
       "stream": "stdout",
       "text": [
        " -0.00165884901447\n",
        "b_sv: "
       ]
      },
      {
       "output_type": "stream",
       "stream": "stdout",
       "text": [
        " 0.991066485761\n",
        "b_sv: "
       ]
      },
      {
       "output_type": "stream",
       "stream": "stdout",
       "text": [
        " 0.990730998019\n",
        "b_sv: "
       ]
      },
      {
       "output_type": "stream",
       "stream": "stdout",
       "text": [
        " -0.991175729507\n",
        "b_sv: "
       ]
      },
      {
       "output_type": "stream",
       "stream": "stdout",
       "text": [
        " 0.98705355532\n",
        "b_sv: "
       ]
      },
      {
       "output_type": "stream",
       "stream": "stdout",
       "text": [
        " 0.987814222956\n",
        "b_sv: "
       ]
      },
      {
       "output_type": "stream",
       "stream": "stdout",
       "text": [
        " -0.00327553763944\n",
        "b_sv: "
       ]
      },
      {
       "output_type": "stream",
       "stream": "stdout",
       "text": [
        " 0.992316275665\n",
        "b_sv: "
       ]
      },
      {
       "output_type": "stream",
       "stream": "stdout",
       "text": [
        " -0.992119275005\n",
        "b_sv: "
       ]
      },
      {
       "output_type": "stream",
       "stream": "stdout",
       "text": [
        " 0.989206246629\n",
        "b_sv: "
       ]
      },
      {
       "output_type": "stream",
       "stream": "stdout",
       "text": [
        " -0.000300976344857\n",
        "b_sv: "
       ]
      },
      {
       "output_type": "stream",
       "stream": "stdout",
       "text": [
        " -0.00173910442078\n",
        "b_sv: "
       ]
      },
      {
       "output_type": "stream",
       "stream": "stdout",
       "text": [
        " 0.986787869929\n",
        "b_sv: "
       ]
      },
      {
       "output_type": "stream",
       "stream": "stdout",
       "text": [
        " -0.990283254844\n",
        "b_sv: "
       ]
      },
      {
       "output_type": "stream",
       "stream": "stdout",
       "text": [
        " -0.99162465717\n",
        "b_sv: "
       ]
      },
      {
       "output_type": "stream",
       "stream": "stdout",
       "text": [
        " -0.000877210061103\n",
        "b_sv: "
       ]
      },
      {
       "output_type": "stream",
       "stream": "stdout",
       "text": [
        " 0.988714906246\n",
        "param:  ('gaussian', 100.0, 4.6415888336127775)\n",
        "b_sv: "
       ]
      },
      {
       "output_type": "stream",
       "stream": "stdout",
       "text": [
        " -0.9794369791\n",
        "b_sv: "
       ]
      },
      {
       "output_type": "stream",
       "stream": "stdout",
       "text": [
        " 0.960212102212\n",
        "b_sv: "
       ]
      },
      {
       "output_type": "stream",
       "stream": "stdout",
       "text": [
        " -0.973536766284\n",
        "b_sv: "
       ]
      },
      {
       "output_type": "stream",
       "stream": "stdout",
       "text": [
        " -0.974067031561\n",
        "b_sv: "
       ]
      },
      {
       "output_type": "stream",
       "stream": "stdout",
       "text": [
        " -0.971113535194\n",
        "b_sv: "
       ]
      },
      {
       "output_type": "stream",
       "stream": "stdout",
       "text": [
        " -0.975799408205\n",
        "b_sv: "
       ]
      },
      {
       "output_type": "stream",
       "stream": "stdout",
       "text": [
        " -0.978058731683\n",
        "b_sv: "
       ]
      },
      {
       "output_type": "stream",
       "stream": "stdout",
       "text": [
        " 0.971774458888\n",
        "b_sv: "
       ]
      },
      {
       "output_type": "stream",
       "stream": "stdout",
       "text": [
        " 0.974219620979\n",
        "b_sv: "
       ]
      },
      {
       "output_type": "stream",
       "stream": "stdout",
       "text": [
        " 0.975717252946\n",
        "b_sv: "
       ]
      },
      {
       "output_type": "stream",
       "stream": "stdout",
       "text": [
        " 0.974682584659\n",
        "b_sv: "
       ]
      },
      {
       "output_type": "stream",
       "stream": "stdout",
       "text": [
        " 0.964170144178\n",
        "b_sv: "
       ]
      },
      {
       "output_type": "stream",
       "stream": "stdout",
       "text": [
        " -0.973102775022\n",
        "b_sv: "
       ]
      },
      {
       "output_type": "stream",
       "stream": "stdout",
       "text": [
        " 0.969794391152\n",
        "b_sv: "
       ]
      },
      {
       "output_type": "stream",
       "stream": "stdout",
       "text": [
        " -0.97442511258\n",
        "b_sv: "
       ]
      },
      {
       "output_type": "stream",
       "stream": "stdout",
       "text": [
        " 0.964620546587\n",
        "b_sv: "
       ]
      },
      {
       "output_type": "stream",
       "stream": "stdout",
       "text": [
        " 0.968529484542\n",
        "b_sv: "
       ]
      },
      {
       "output_type": "stream",
       "stream": "stdout",
       "text": [
        " 0.972058921702\n",
        "b_sv: "
       ]
      },
      {
       "output_type": "stream",
       "stream": "stdout",
       "text": [
        " -0.97304192998\n",
        "b_sv: "
       ]
      },
      {
       "output_type": "stream",
       "stream": "stdout",
       "text": [
        " -0.977390271348\n",
        "param:  ('gaussian', 100.0, 12.915496650148826)\n",
        "b_sv: "
       ]
      },
      {
       "output_type": "stream",
       "stream": "stdout",
       "text": [
        " 0.922804349296\n",
        "b_sv: "
       ]
      },
      {
       "output_type": "stream",
       "stream": "stdout",
       "text": [
        " -0.9230994523\n",
        "b_sv: "
       ]
      },
      {
       "output_type": "stream",
       "stream": "stdout",
       "text": [
        " -0.0110306566265\n",
        "b_sv: "
       ]
      },
      {
       "output_type": "stream",
       "stream": "stdout",
       "text": [
        " -0.00122302618416\n",
        "b_sv: "
       ]
      },
      {
       "output_type": "stream",
       "stream": "stdout",
       "text": [
        " -0.923517309311\n",
        "b_sv: "
       ]
      },
      {
       "output_type": "stream",
       "stream": "stdout",
       "text": [
        " 0.914301472981\n",
        "b_sv: "
       ]
      },
      {
       "output_type": "stream",
       "stream": "stdout",
       "text": [
        " 0.916719975311\n",
        "b_sv: "
       ]
      },
      {
       "output_type": "stream",
       "stream": "stdout",
       "text": [
        " -0.9281415711\n",
        "b_sv: "
       ]
      },
      {
       "output_type": "stream",
       "stream": "stdout",
       "text": [
        " -0.932873862232\n",
        "b_sv: "
       ]
      },
      {
       "output_type": "stream",
       "stream": "stdout",
       "text": [
        " -0.921420971586\n",
        "b_sv: "
       ]
      },
      {
       "output_type": "stream",
       "stream": "stdout",
       "text": [
        " 0.923909684957\n",
        "b_sv: "
       ]
      },
      {
       "output_type": "stream",
       "stream": "stdout",
       "text": [
        " -0.0265101258288\n",
        "b_sv: "
       ]
      },
      {
       "output_type": "stream",
       "stream": "stdout",
       "text": [
        " -0.926903997751\n",
        "b_sv: "
       ]
      },
      {
       "output_type": "stream",
       "stream": "stdout",
       "text": [
        " -0.938834665616\n",
        "b_sv: "
       ]
      },
      {
       "output_type": "stream",
       "stream": "stdout",
       "text": [
        " -0.0144162660848\n",
        "b_sv: "
       ]
      },
      {
       "output_type": "stream",
       "stream": "stdout",
       "text": [
        " -0.929548995194\n",
        "b_sv: "
       ]
      },
      {
       "output_type": "stream",
       "stream": "stdout",
       "text": [
        " -0.00448850241434\n",
        "b_sv: "
       ]
      },
      {
       "output_type": "stream",
       "stream": "stdout",
       "text": [
        " -0.00781316160712\n",
        "b_sv: "
       ]
      },
      {
       "output_type": "stream",
       "stream": "stdout",
       "text": [
        " -0.925812032715\n",
        "b_sv: "
       ]
      },
      {
       "output_type": "stream",
       "stream": "stdout",
       "text": [
        " 0.885544730521\n",
        "param:  ('gaussian', 100.0, 35.938136638046259)\n",
        "b_sv: "
       ]
      },
      {
       "output_type": "stream",
       "stream": "stdout",
       "text": [
        " 0.0148822131422\n",
        "b_sv: "
       ]
      },
      {
       "output_type": "stream",
       "stream": "stdout",
       "text": [
        " 0.0221043970031\n",
        "b_sv: "
       ]
      },
      {
       "output_type": "stream",
       "stream": "stdout",
       "text": [
        " -0.0156105140239\n",
        "b_sv: "
       ]
      },
      {
       "output_type": "stream",
       "stream": "stdout",
       "text": [
        " -0.0296201831729\n",
        "b_sv: "
       ]
      },
      {
       "output_type": "stream",
       "stream": "stdout",
       "text": [
        " -0.0248882011877\n",
        "b_sv: "
       ]
      },
      {
       "output_type": "stream",
       "stream": "stdout",
       "text": [
        " 0.75476041766\n",
        "b_sv: "
       ]
      },
      {
       "output_type": "stream",
       "stream": "stdout",
       "text": [
        " -0.773466529143\n",
        "b_sv: "
       ]
      },
      {
       "output_type": "stream",
       "stream": "stdout",
       "text": [
        " -0.815142163322\n",
        "b_sv: "
       ]
      },
      {
       "output_type": "stream",
       "stream": "stdout",
       "text": [
        " -0.807810935913\n",
        "b_sv: "
       ]
      },
      {
       "output_type": "stream",
       "stream": "stdout",
       "text": [
        " -0.0281108105418\n",
        "b_sv: "
       ]
      },
      {
       "output_type": "stream",
       "stream": "stdout",
       "text": [
        " -0.796864944363\n",
        "b_sv: "
       ]
      },
      {
       "output_type": "stream",
       "stream": "stdout",
       "text": [
        " 0.691665015795\n",
        "b_sv: "
       ]
      },
      {
       "output_type": "stream",
       "stream": "stdout",
       "text": [
        " -0.0113718645342\n",
        "b_sv: "
       ]
      },
      {
       "output_type": "stream",
       "stream": "stdout",
       "text": [
        " -0.79743100114\n",
        "b_sv: "
       ]
      },
      {
       "output_type": "stream",
       "stream": "stdout",
       "text": [
        " 0.785332683939\n",
        "b_sv: "
       ]
      },
      {
       "output_type": "stream",
       "stream": "stdout",
       "text": [
        " 0.00953313753158\n",
        "b_sv: "
       ]
      },
      {
       "output_type": "stream",
       "stream": "stdout",
       "text": [
        " -0.799987168216\n",
        "b_sv: "
       ]
      },
      {
       "output_type": "stream",
       "stream": "stdout",
       "text": [
        " -0.819820345903\n",
        "b_sv: "
       ]
      },
      {
       "output_type": "stream",
       "stream": "stdout",
       "text": [
        " -0.793478499267\n",
        "b_sv: "
       ]
      },
      {
       "output_type": "stream",
       "stream": "stdout",
       "text": [
        " -0.00541952410302\n",
        "param:  ('gaussian', 100.0, 100.0)\n",
        "b_sv: "
       ]
      },
      {
       "output_type": "stream",
       "stream": "stdout",
       "text": [
        " -0.00721953011349\n",
        "b_sv: "
       ]
      },
      {
       "output_type": "stream",
       "stream": "stdout",
       "text": [
        " 0.48103793507\n",
        "b_sv: "
       ]
      },
      {
       "output_type": "stream",
       "stream": "stdout",
       "text": [
        " 0.159357013051\n",
        "b_sv: "
       ]
      },
      {
       "output_type": "stream",
       "stream": "stdout",
       "text": [
        " 0.0913748051835\n",
        "b_sv: "
       ]
      },
      {
       "output_type": "stream",
       "stream": "stdout",
       "text": [
        " -0.433573273347\n",
        "b_sv: "
       ]
      },
      {
       "output_type": "stream",
       "stream": "stdout",
       "text": [
        " 0.502848800103\n",
        "b_sv: "
       ]
      },
      {
       "output_type": "stream",
       "stream": "stdout",
       "text": [
        " -0.443136205774\n",
        "b_sv: "
       ]
      },
      {
       "output_type": "stream",
       "stream": "stdout",
       "text": [
        " -0.013430725139\n",
        "b_sv: "
       ]
      },
      {
       "output_type": "stream",
       "stream": "stdout",
       "text": [
        " -0.181254704014\n",
        "b_sv: "
       ]
      },
      {
       "output_type": "stream",
       "stream": "stdout",
       "text": [
        " 0.0474479379173\n",
        "b_sv: "
       ]
      },
      {
       "output_type": "stream",
       "stream": "stdout",
       "text": [
        " -0.205452522534\n",
        "b_sv: "
       ]
      },
      {
       "output_type": "stream",
       "stream": "stdout",
       "text": [
        " -0.48024975619\n",
        "b_sv: "
       ]
      },
      {
       "output_type": "stream",
       "stream": "stdout",
       "text": [
        " -0.0861584926763\n",
        "b_sv: "
       ]
      },
      {
       "output_type": "stream",
       "stream": "stdout",
       "text": [
        " -0.478772599918\n",
        "b_sv: "
       ]
      },
      {
       "output_type": "stream",
       "stream": "stdout",
       "text": [
        " 0.366979696398\n",
        "b_sv: "
       ]
      },
      {
       "output_type": "stream",
       "stream": "stdout",
       "text": [
        " -0.498044008618\n",
        "b_sv: "
       ]
      },
      {
       "output_type": "stream",
       "stream": "stdout",
       "text": [
        " 0.331821779706\n",
        "b_sv: "
       ]
      },
      {
       "output_type": "stream",
       "stream": "stdout",
       "text": [
        " -0.421842900824\n",
        "b_sv: "
       ]
      },
      {
       "output_type": "stream",
       "stream": "stdout",
       "text": [
        " 0.430931384792\n",
        "b_sv: "
       ]
      },
      {
       "output_type": "stream",
       "stream": "stdout",
       "text": [
        " 0.380166018599\n",
        "b_sv: "
       ]
      },
      {
       "output_type": "stream",
       "stream": "stdout",
       "text": [
        " -0.00950743333306\n"
       ]
      }
     ],
     "prompt_number": 5
    },
    {
     "cell_type": "code",
     "collapsed": false,
     "input": [
      "print 'kernel: ', cvkrr.kernel\n",
      "print 'kernelparameter: ', cvkrr.kernelparameter\n",
      "print 'regularization: ', cvkrr.C\n",
      "print 'cvloss: ', cvkrr.cvloss\n",
      "print 'time: ', cvkrr.time / 3600, 'hours'"
     ],
     "language": "python",
     "metadata": {},
     "outputs": [
      {
       "output_type": "stream",
       "stream": "stdout",
       "text": [
        "kernel:  gaussian\n",
        "kernelparameter:  0.215443469003\n",
        "regularization:  1.6681005372\n",
        "cvloss:  0.105\n",
        "time:  1.08833036138 hours\n"
       ]
      }
     ],
     "prompt_number": 11
    },
    {
     "cell_type": "code",
     "collapsed": false,
     "input": [],
     "language": "python",
     "metadata": {},
     "outputs": []
    }
   ],
   "metadata": {}
  }
 ]
}