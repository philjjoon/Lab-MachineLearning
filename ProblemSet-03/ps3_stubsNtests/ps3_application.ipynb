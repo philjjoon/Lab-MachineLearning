{
 "metadata": {
  "name": "",
  "signature": "sha256:e8c4ba195db41b072bb8d900a157953c9fbf12f777ffc45c38041216b9b7e49d"
 },
 "nbformat": 3,
 "nbformat_minor": 0,
 "worksheets": [
  {
   "cells": [
    {
     "cell_type": "code",
     "collapsed": false,
     "input": [
      "import numpy as np\n",
      "#import pylab as pl\n",
      "import random\n",
      "import matplotlib.pyplot as pl\n",
      "# from mpl_toolkits.mplot3d import Axes3D\n",
      "# from matplotlib.lines import Line2D\n",
      "from scipy.stats import norm\n",
      "import os\n",
      "import sys\n",
      "import pickle\n",
      "import time\n",
      "\n",
      "\n",
      "import ps3_implementation as imp\n",
      "imp = reload(imp)"
     ],
     "language": "python",
     "metadata": {},
     "outputs": [],
     "prompt_number": 70
    },
    {
     "cell_type": "code",
     "collapsed": false,
     "input": [
      "def squared_error_loss(y_true, y_pred):\n",
      "    ''' returns the squared error loss\n",
      "    '''\n",
      "    loss = np.mean( (y_true - y_pred)**2 )\n",
      "    return loss"
     ],
     "language": "python",
     "metadata": {},
     "outputs": [],
     "prompt_number": 36
    },
    {
     "cell_type": "code",
     "collapsed": false,
     "input": [
      "def roc_curve(n):\n",
      "    ''' Plots an analytical and an empirical ROC curve for \n",
      "    the probability distribution\n",
      "    p(x|y=-1)*p(y=-1)+p(x|y=+1)*p(y=+1),\n",
      "    where p(x|y=-1) ~ N(0,1) and p(x|y=+1) ~ N(2,1)\n",
      "    with sample size n\n",
      "    '''\n",
      "    pl.close('all')\n",
      "    mu_minus,mu_plus = 0,2\n",
      "    def tpr(x):\n",
      "        tp = norm.cdf(mu_plus-x)\n",
      "        fn = norm.cdf(x-mu_plus)\n",
      "        return tp/(tp+fn)\n",
      "    def fpr(x):\n",
      "        fp = norm.cdf(mu_minus-x)\n",
      "        tn = norm.cdf(x-mu_minus)\n",
      "        return fp/(fp+tn)\n",
      "    rand = np.round(np.random.rand(n))\n",
      "    sizeClassTwo = len(np.nonzero(rand)[0])\n",
      "    sizeClassOne = n-sizeClassTwo\n",
      "    samples = np.zeros((2,n))\n",
      "    samples[0,rand==0] = np.random.randn(sizeClassOne)\n",
      "    samples[1,rand==0] = -1\n",
      "    samples[0,rand==1] = np.random.randn(sizeClassTwo) + 2 \n",
      "    samples[1,rand==1] = 1\n",
      "    sort = np.argsort(samples[0])\n",
      "    x = np.cumsum(rand[sort])\n",
      "    y = np.arange(n) -x + 1\n",
      "    XY = np.hstack((np.zeros(2).reshape(-1,1),np.vstack((x,y))))\n",
      "    x,y = XY\n",
      "    d = np.nonzero(rand[sort]) # rand[sort] == np.diff(x), which is the right choice\n",
      "    y /= sizeClassOne\n",
      "    x /= sizeClassTwo\n",
      "    AUC = np.sum(y[d] * 1/sizeClassTwo) # = np.trapz(y,x)\n",
      "    pl.figure()\n",
      "    pl.plot(x,y,label='empirical: %0.2f'%AUC)\n",
      "    pl.title('ROC curves for sample size n = %d with AUC values'%n)\n",
      "    pl.xlim(-0.2,1.2)\n",
      "    pl.ylim(-0.2,1.2)\n",
      "    ticks = [0,0.2,0.4,0.6,0.8,1]\n",
      "    pl.xticks(ticks)\n",
      "    pl.yticks(ticks)\n",
      "    pl.grid(True)\n",
      "    var = 3 # with sigma= 1, we know that in 3*sigma = 3 about 99.73% of data lies\n",
      "    x = np.linspace(mu_minus-var,mu_plus+var,n)\n",
      "    TPR = np.sort(tpr(x))\n",
      "    FPR = np.sort(fpr(x))\n",
      "    AUC = np.trapz(TPR,FPR)\n",
      "    pl.plot(fpr(x),tpr(x),c='r',label='analytical: %0.2f'%AUC)\n",
      "    pl.legend(loc='center right')"
     ],
     "language": "python",
     "metadata": {},
     "outputs": [],
     "prompt_number": 2
    },
    {
     "cell_type": "code",
     "collapsed": false,
     "input": [
      "def roc_fun(y_true, y_pred):\n",
      "    ''' not necessarily what its supposed to be,\n",
      "    I did not check if that is correct, because I did not understand where to\n",
      "    get the y_true from.\n",
      "    '''\n",
      "    d,n = y_true.shape\n",
      "    ytrue = np.sign(y_true)\n",
      "    ypred = np.sign(y_pred)\n",
      "    ytrue[ytrue == -1] = 0\n",
      "    ypred[ypred == -1] = 0\n",
      "    diff = np.aps(ytrue-ypred)\n",
      "    x = np.cumsum(diff)\n",
      "    y = np.arange(n) -x +1\n",
      "    XY = np.hstack((np.zeros(2).reshape(-1,1),np.vstack((x,y))))\n",
      "    x,y = XY\n",
      "    pl.plot(x,y)"
     ],
     "language": "python",
     "metadata": {},
     "outputs": [],
     "prompt_number": 37
    },
    {
     "cell_type": "code",
     "collapsed": false,
     "input": [
      "def krr_app_old(reg=False):\n",
      "    ''' Applies krr to all data sets and saves the result to a file\n",
      "    '''\n",
      "    datasets = ['banana','diabetis','flare-solar','image','ringnorm']\n",
      "    #dataset = ['image'] # for computing the results via console, the dataset was changed manually\n",
      "    path = 'ps3_datasets/'\n",
      "    results = dict()\n",
      "    for data in datasets:\n",
      "        Xtr = np.loadtxt(path+'U04_'+data+'-xtrain.dat')\n",
      "        Ytr = np.loadtxt(path+'U04_'+data+'-ytrain.dat')\n",
      "        Xte = np.loadtxt(path+'U04_'+data+'-xtest.dat')\n",
      "        d,n = Xtr.shape\n",
      "        print data, ' was loaded with %d dimensions'%d\n",
      "        krr = imp.krr()\n",
      "        kernels = ['gaussian','polynomial','linear']\n",
      "        kernel_params = [np.logspace(-2,2,10),np.arange(1, 11),np.arange(10)]\n",
      "        tmp_results = dict()\n",
      "        for i in range(len(kernels)):\n",
      "            params = [ 'kernel',[kernels[i]], 'kernelparam', kernel_params[i],\n",
      "                      'regularization', [0]]\n",
      "            cvkrr = imp.cv(Xtr, Ytr.reshape(1,-1), krr, params, loss_function=squared_error_loss,\n",
      "                        nrepetitions=2)\n",
      "            cvkrr.predict(Xte)\n",
      "            result = dict()\n",
      "            result['cvloss'] = cvkrr.cvloss\n",
      "            result['kernel'] = kernels[i]\n",
      "            result['kernelparameter'] = cvkrr.kernelparameter\n",
      "            result['regularization'] = cvkrr.regularization\n",
      "            result['ypred'] = cvkrr.ypred\n",
      "            tmp_results[i] = result\n",
      "            print 'finished %s kernel on %s'%(kernels[i],data)\n",
      "            \n",
      "                \n",
      "            CVloss = np.zeros(len(kernels))\n",
      "            for i in range(len(kernels)):\n",
      "                CVloss[i] = tmp_results[i]['cvloss']\n",
      "            print 'CVloss for dataset %s'%data,CVloss\n",
      "            results[data] = tmp_results[np.argmin(CVloss)]\n",
      "    #return results # for computing the results via console"
     ],
     "language": "python",
     "metadata": {},
     "outputs": [],
     "prompt_number": 6
    },
    {
     "cell_type": "code",
     "collapsed": false,
     "input": [
      "def krr_app(dataset, reg=False):\n",
      "    kernels = ['gaussian','polynomial','linear']\n",
      "    kernelparameters = [np.logspace(-2,2,10),np.arange(10),[0]]\n",
      "    \n",
      "    if reg:\n",
      "        reg = np.logspace(-2, 2, 10) # regularization parameters\n",
      "    else:\n",
      "        reg = [0] # regularization parameters with efficient LOOCV\n",
      "    \n",
      "    path = 'ps3_datasets/'\n",
      "    Xtr = np.loadtxt(path+'U04_'+dataset+'-xtrain.dat')\n",
      "    Ytr = np.loadtxt(path+'U04_'+dataset+'-ytrain.dat')\n",
      "    Xte = np.loadtxt(path+'U04_'+dataset+'-xtest.dat')\n",
      "    \n",
      "    results = dict()\n",
      "    cvloss_list = []\n",
      "    dict_list = []\n",
      "    for idx_kernel, kernel in enumerate(kernels):\n",
      "        params = [ 'kernel',[kernel], 'kernelparam', kernelparameters[idx_kernel], 'regularization', reg]\n",
      "        krr = imp.krr()\n",
      "        cvkrr = imp.cv(Xtr, Ytr[np.newaxis, :], krr, params, nrepetitions=2) # use default nfolds=10 and nrepetitions=5\n",
      "        cvkrr.predict(Xte)\n",
      "        cvloss_list.append(cvkrr.cvloss)\n",
      "        dict_list.append({'kernel':kernel, 'kernelparameter':cvkrr.kernelparameter, 'regularization':cvkrr.regularization, \\\n",
      "                            'cvloss':cvkrr.cvloss, 'ypred':cvkrr.ypred, 'time': cvkrr.time})\n",
      "     \n",
      "    idx_min = np.argmin(cvloss_list)\n",
      "    results[dataset] = dict_list[idx_min]\n",
      "    \n",
      "    return results"
     ],
     "language": "python",
     "metadata": {},
     "outputs": [],
     "prompt_number": 71
    },
    {
     "cell_type": "code",
     "collapsed": false,
     "input": [
      "start_banana = time.time()\n",
      "results_banana = krr_app('banana', False)\n",
      "end_banana = time.time()"
     ],
     "language": "python",
     "metadata": {},
     "outputs": [
      {
       "output_type": "stream",
       "stream": "stdout",
       "text": [
        " 1 / 10 parameter combinations completed. Estimated remaining time: 245.577\n",
        " 2 / 10 parameter combinations completed. Estimated remaining time: 168.148"
       ]
      },
      {
       "output_type": "stream",
       "stream": "stdout",
       "text": [
        "\n",
        " 3 / 10 parameter combinations completed. Estimated remaining time: 125.438"
       ]
      },
      {
       "output_type": "stream",
       "stream": "stdout",
       "text": [
        "\n",
        " 4 / 10 parameter combinations completed. Estimated remaining time: 98.275"
       ]
      },
      {
       "output_type": "stream",
       "stream": "stdout",
       "text": [
        "\n",
        " 5 / 10 parameter combinations completed. Estimated remaining time: 77.924"
       ]
      },
      {
       "output_type": "stream",
       "stream": "stdout",
       "text": [
        "\n",
        " 6 / 10 parameter combinations completed. Estimated remaining time: 61.403"
       ]
      },
      {
       "output_type": "stream",
       "stream": "stdout",
       "text": [
        "\n",
        " 7 / 10 parameter combinations completed. Estimated remaining time: 47.098"
       ]
      },
      {
       "output_type": "stream",
       "stream": "stdout",
       "text": [
        "\n",
        " 8 / 10 parameter combinations completed. Estimated remaining time: 34.184"
       ]
      },
      {
       "output_type": "stream",
       "stream": "stdout",
       "text": [
        "\n",
        " 9 / 10 parameter combinations completed. Estimated remaining time: 22.201"
       ]
      },
      {
       "output_type": "stream",
       "stream": "stdout",
       "text": [
        "\n",
        "10 / 10 parameter combinations completed. Estimated remaining time: 10.857"
       ]
      },
      {
       "output_type": "stream",
       "stream": "stdout",
       "text": [
        "\n",
        " 1 / 10 parameter combinations completed. Estimated remaining time: 83.977"
       ]
      },
      {
       "output_type": "stream",
       "stream": "stdout",
       "text": [
        "\n",
        " 2 / 10 parameter combinations completed. Estimated remaining time: 75.975"
       ]
      },
      {
       "output_type": "stream",
       "stream": "stdout",
       "text": [
        "\n",
        " 3 / 10 parameter combinations completed. Estimated remaining time: 67.488"
       ]
      },
      {
       "output_type": "stream",
       "stream": "stdout",
       "text": [
        "\n",
        " 4 / 10 parameter combinations completed. Estimated remaining time: 59.395"
       ]
      },
      {
       "output_type": "stream",
       "stream": "stdout",
       "text": [
        "\n",
        " 5 / 10 parameter combinations completed. Estimated remaining time: 51.094"
       ]
      },
      {
       "output_type": "stream",
       "stream": "stdout",
       "text": [
        "\n",
        " 6 / 10 parameter combinations completed. Estimated remaining time: 42.706"
       ]
      },
      {
       "output_type": "stream",
       "stream": "stdout",
       "text": [
        "\n",
        " 7 / 10 parameter combinations completed. Estimated remaining time: 34.197"
       ]
      },
      {
       "output_type": "stream",
       "stream": "stdout",
       "text": [
        "\n",
        " 8 / 10 parameter combinations completed. Estimated remaining time: 25.660"
       ]
      },
      {
       "output_type": "stream",
       "stream": "stdout",
       "text": [
        "\n",
        " 9 / 10 parameter combinations completed. Estimated remaining time: 17.127"
       ]
      },
      {
       "output_type": "stream",
       "stream": "stdout",
       "text": [
        "\n",
        "10 / 10 parameter combinations completed. Estimated remaining time: 8.593"
       ]
      },
      {
       "output_type": "stream",
       "stream": "stdout",
       "text": [
        "\n",
        " 1 / 1 parameter combinations completed. Estimated remaining time: 9.149"
       ]
      },
      {
       "output_type": "stream",
       "stream": "stdout",
       "text": [
        "\n"
       ]
      }
     ],
     "prompt_number": 39
    },
    {
     "cell_type": "code",
     "collapsed": false,
     "input": [
      "start_diabetis = time.time()\n",
      "results_diabetis = krr_app('diabetis', False)\n",
      "end_diabetis = time.time()"
     ],
     "language": "python",
     "metadata": {},
     "outputs": [
      {
       "output_type": "stream",
       "stream": "stdout",
       "text": [
        " 1 / 10 parameter combinations completed. Estimated remaining time: 197.128\n",
        " 2 / 10 parameter combinations completed. Estimated remaining time: 327.064"
       ]
      },
      {
       "output_type": "stream",
       "stream": "stdout",
       "text": [
        "\n",
        " 3 / 10 parameter combinations completed. Estimated remaining time: 314.866"
       ]
      },
      {
       "output_type": "stream",
       "stream": "stdout",
       "text": [
        "\n",
        " 4 / 10 parameter combinations completed. Estimated remaining time: 236.368"
       ]
      },
      {
       "output_type": "stream",
       "stream": "stdout",
       "text": [
        "\n",
        " 5 / 10 parameter combinations completed. Estimated remaining time: 185.557"
       ]
      },
      {
       "output_type": "stream",
       "stream": "stdout",
       "text": [
        "\n",
        " 6 / 10 parameter combinations completed. Estimated remaining time: 143.472"
       ]
      },
      {
       "output_type": "stream",
       "stream": "stdout",
       "text": [
        "\n",
        " 7 / 10 parameter combinations completed. Estimated remaining time: 108.695"
       ]
      },
      {
       "output_type": "stream",
       "stream": "stdout",
       "text": [
        "\n",
        " 8 / 10 parameter combinations completed. Estimated remaining time: 77.606"
       ]
      },
      {
       "output_type": "stream",
       "stream": "stdout",
       "text": [
        "\n",
        " 9 / 10 parameter combinations completed. Estimated remaining time: 49.249"
       ]
      },
      {
       "output_type": "stream",
       "stream": "stdout",
       "text": [
        "\n",
        "10 / 10 parameter combinations completed. Estimated remaining time: 23.610"
       ]
      },
      {
       "output_type": "stream",
       "stream": "stdout",
       "text": [
        "\n",
        " 1 / 10 parameter combinations completed. Estimated remaining time: 157.919"
       ]
      },
      {
       "output_type": "stream",
       "stream": "stdout",
       "text": [
        "\n",
        " 2 / 10 parameter combinations completed. Estimated remaining time: 136.210"
       ]
      },
      {
       "output_type": "stream",
       "stream": "stdout",
       "text": [
        "\n",
        " 3 / 10 parameter combinations completed. Estimated remaining time: 123.010"
       ]
      },
      {
       "output_type": "stream",
       "stream": "stdout",
       "text": [
        "\n",
        " 4 / 10 parameter combinations completed. Estimated remaining time: 109.414"
       ]
      },
      {
       "output_type": "stream",
       "stream": "stdout",
       "text": [
        "\n",
        " 5 / 10 parameter combinations completed. Estimated remaining time: 96.329"
       ]
      },
      {
       "output_type": "stream",
       "stream": "stdout",
       "text": [
        "\n",
        " 6 / 10 parameter combinations completed. Estimated remaining time: 79.207"
       ]
      },
      {
       "output_type": "stream",
       "stream": "stdout",
       "text": [
        "\n",
        " 7 / 10 parameter combinations completed. Estimated remaining time: 63.861"
       ]
      },
      {
       "output_type": "stream",
       "stream": "stdout",
       "text": [
        "\n",
        " 8 / 10 parameter combinations completed. Estimated remaining time: 48.916"
       ]
      },
      {
       "output_type": "stream",
       "stream": "stdout",
       "text": [
        "\n",
        " 9 / 10 parameter combinations completed. Estimated remaining time: 32.644"
       ]
      },
      {
       "output_type": "stream",
       "stream": "stdout",
       "text": [
        "\n",
        "10 / 10 parameter combinations completed. Estimated remaining time: 16.494"
       ]
      },
      {
       "output_type": "stream",
       "stream": "stdout",
       "text": [
        "\n",
        " 1 / 1 parameter combinations completed. Estimated remaining time: 14.842"
       ]
      },
      {
       "output_type": "stream",
       "stream": "stdout",
       "text": [
        "\n"
       ]
      }
     ],
     "prompt_number": 42
    },
    {
     "cell_type": "code",
     "collapsed": false,
     "input": [
      "results = dict()\n",
      "results['banana'] = results_banana['banana']\n",
      "results['diabetis'] = results_diabetis['diabetis']\n",
      "results['flare-solar'] = results_flare_solar['flare-solar']\n",
      "results['image'] = results_image['image']\n",
      "results['ringnorm'] = results_ringnorm['ringnorm']\n",
      "f = open('results.p','wb')\n",
      "pickle.dump(results, f)"
     ],
     "language": "python",
     "metadata": {},
     "outputs": [],
     "prompt_number": 65
    },
    {
     "cell_type": "code",
     "collapsed": false,
     "input": [
      "start_flare_solar = time.time()\n",
      "results_flare_solar = krr_app('flare-solar', False)\n",
      "end_flare_solar = time.time()"
     ],
     "language": "python",
     "metadata": {},
     "outputs": [
      {
       "output_type": "stream",
       "stream": "stdout",
       "text": [
        " 1 / 10 parameter combinations completed. Estimated remaining time: 477.510\n",
        " 2 / 10 parameter combinations completed. Estimated remaining time: 502.044"
       ]
      },
      {
       "output_type": "stream",
       "stream": "stdout",
       "text": [
        "\n",
        " 3 / 10 parameter combinations completed. Estimated remaining time: 428.102"
       ]
      },
      {
       "output_type": "stream",
       "stream": "stdout",
       "text": [
        "\n",
        " 4 / 10 parameter combinations completed. Estimated remaining time: 358.865"
       ]
      },
      {
       "output_type": "stream",
       "stream": "stdout",
       "text": [
        "\n",
        " 5 / 10 parameter combinations completed. Estimated remaining time: 295.036"
       ]
      },
      {
       "output_type": "stream",
       "stream": "stdout",
       "text": [
        "\n",
        " 6 / 10 parameter combinations completed. Estimated remaining time: 242.861"
       ]
      },
      {
       "output_type": "stream",
       "stream": "stdout",
       "text": [
        "\n",
        " 7 / 10 parameter combinations completed. Estimated remaining time: 189.411"
       ]
      },
      {
       "output_type": "stream",
       "stream": "stdout",
       "text": [
        "\n",
        " 8 / 10 parameter combinations completed. Estimated remaining time: 139.330"
       ]
      },
      {
       "output_type": "stream",
       "stream": "stdout",
       "text": [
        "\n",
        " 9 / 10 parameter combinations completed. Estimated remaining time: 91.406"
       ]
      },
      {
       "output_type": "stream",
       "stream": "stdout",
       "text": [
        "\n",
        "10 / 10 parameter combinations completed. Estimated remaining time: 45.240"
       ]
      },
      {
       "output_type": "stream",
       "stream": "stdout",
       "text": [
        "\n",
        " 1 / 10 parameter combinations completed. Estimated remaining time: 425.749"
       ]
      },
      {
       "output_type": "stream",
       "stream": "stdout",
       "text": [
        "\n",
        " 2 / 10 parameter combinations completed. Estimated remaining time: 411.378"
       ]
      },
      {
       "output_type": "stream",
       "stream": "stdout",
       "text": [
        "\n",
        " 3 / 10 parameter combinations completed. Estimated remaining time: 373.640"
       ]
      },
      {
       "output_type": "stream",
       "stream": "stdout",
       "text": [
        "\n",
        " 4 / 10 parameter combinations completed. Estimated remaining time: 327.601"
       ]
      },
      {
       "output_type": "stream",
       "stream": "stdout",
       "text": [
        "\n",
        " 5 / 10 parameter combinations completed. Estimated remaining time: 279.755"
       ]
      },
      {
       "output_type": "stream",
       "stream": "stdout",
       "text": [
        "\n",
        " 6 / 10 parameter combinations completed. Estimated remaining time: 235.537"
       ]
      },
      {
       "output_type": "stream",
       "stream": "stdout",
       "text": [
        "\n",
        " 7 / 10 parameter combinations completed. Estimated remaining time: 189.334"
       ]
      },
      {
       "output_type": "stream",
       "stream": "stdout",
       "text": [
        "\n",
        " 8 / 10 parameter combinations completed. Estimated remaining time: 141.049"
       ]
      },
      {
       "output_type": "stream",
       "stream": "stdout",
       "text": [
        "\n",
        " 9 / 10 parameter combinations completed. Estimated remaining time: 92.594"
       ]
      },
      {
       "output_type": "stream",
       "stream": "stdout",
       "text": [
        "\n",
        "10 / 10 parameter combinations completed. Estimated remaining time: 46.087"
       ]
      },
      {
       "output_type": "stream",
       "stream": "stdout",
       "text": [
        "\n",
        " 1 / 1 parameter combinations completed. Estimated remaining time: 44.839"
       ]
      },
      {
       "output_type": "stream",
       "stream": "stdout",
       "text": [
        "\n"
       ]
      }
     ],
     "prompt_number": 44
    },
    {
     "cell_type": "code",
     "collapsed": false,
     "input": [
      "start_ringnorm = time.time()\n",
      "results_ringnorm = krr_app('ringnorm', False)\n",
      "end_ringnorm = time.time()"
     ],
     "language": "python",
     "metadata": {},
     "outputs": [
      {
       "output_type": "stream",
       "stream": "stdout",
       "text": [
        " 1 / 10 parameter combinations completed. Estimated remaining time: 109.474\n",
        " 2 / 10 parameter combinations completed. Estimated remaining time: 94.986"
       ]
      },
      {
       "output_type": "stream",
       "stream": "stdout",
       "text": [
        "\n",
        " 3 / 10 parameter combinations completed. Estimated remaining time: 118.730"
       ]
      },
      {
       "output_type": "stream",
       "stream": "stdout",
       "text": [
        "\n",
        " 4 / 10 parameter combinations completed. Estimated remaining time: 113.285"
       ]
      },
      {
       "output_type": "stream",
       "stream": "stdout",
       "text": [
        "\n",
        " 5 / 10 parameter combinations completed. Estimated remaining time: 89.038"
       ]
      },
      {
       "output_type": "stream",
       "stream": "stdout",
       "text": [
        "\n",
        " 6 / 10 parameter combinations completed. Estimated remaining time: 70.080"
       ]
      },
      {
       "output_type": "stream",
       "stream": "stdout",
       "text": [
        "\n",
        " 7 / 10 parameter combinations completed. Estimated remaining time: 53.677"
       ]
      },
      {
       "output_type": "stream",
       "stream": "stdout",
       "text": [
        "\n",
        " 8 / 10 parameter combinations completed. Estimated remaining time: 39.693"
       ]
      },
      {
       "output_type": "stream",
       "stream": "stdout",
       "text": [
        "\n",
        " 9 / 10 parameter combinations completed. Estimated remaining time: 25.729"
       ]
      },
      {
       "output_type": "stream",
       "stream": "stdout",
       "text": [
        "\n",
        "10 / 10 parameter combinations completed. Estimated remaining time: 12.558"
       ]
      },
      {
       "output_type": "stream",
       "stream": "stdout",
       "text": [
        "\n",
        " 1 / 10 parameter combinations completed. Estimated remaining time: 95.388"
       ]
      },
      {
       "output_type": "stream",
       "stream": "stdout",
       "text": [
        "\n",
        " 2 / 10 parameter combinations completed. Estimated remaining time: 85.865"
       ]
      },
      {
       "output_type": "stream",
       "stream": "stdout",
       "text": [
        "\n",
        " 3 / 10 parameter combinations completed. Estimated remaining time: 77.457"
       ]
      },
      {
       "output_type": "stream",
       "stream": "stdout",
       "text": [
        "\n",
        " 4 / 10 parameter combinations completed. Estimated remaining time: 69.538"
       ]
      },
      {
       "output_type": "stream",
       "stream": "stdout",
       "text": [
        "\n",
        " 5 / 10 parameter combinations completed. Estimated remaining time: 62.373"
       ]
      },
      {
       "output_type": "stream",
       "stream": "stdout",
       "text": [
        "\n",
        " 6 / 10 parameter combinations completed. Estimated remaining time: 51.984"
       ]
      },
      {
       "output_type": "stream",
       "stream": "stdout",
       "text": [
        "\n",
        " 7 / 10 parameter combinations completed. Estimated remaining time: 41.587"
       ]
      },
      {
       "output_type": "stream",
       "stream": "stdout",
       "text": [
        "\n",
        " 8 / 10 parameter combinations completed. Estimated remaining time: 31.186"
       ]
      },
      {
       "output_type": "stream",
       "stream": "stdout",
       "text": [
        "\n",
        " 9 / 10 parameter combinations completed. Estimated remaining time: 20.727"
       ]
      },
      {
       "output_type": "stream",
       "stream": "stdout",
       "text": [
        "\n",
        "10 / 10 parameter combinations completed. Estimated remaining time: 10.429"
       ]
      },
      {
       "output_type": "stream",
       "stream": "stdout",
       "text": [
        "\n",
        " 1 / 1 parameter combinations completed. Estimated remaining time: 10.254"
       ]
      },
      {
       "output_type": "stream",
       "stream": "stdout",
       "text": [
        "\n"
       ]
      }
     ],
     "prompt_number": 47
    },
    {
     "cell_type": "code",
     "collapsed": false,
     "input": [
      "start_image = time.time()\n",
      "results_image = krr_app('image', False)\n",
      "end_image = time.time()"
     ],
     "language": "python",
     "metadata": {},
     "outputs": [
      {
       "output_type": "stream",
       "stream": "stdout",
       "text": [
        " 1 / 10 parameter combinations completed. Estimated remaining time: 5388.333\n",
        " 2 / 10 parameter combinations completed. Estimated remaining time: 8316.609"
       ]
      },
      {
       "output_type": "stream",
       "stream": "stdout",
       "text": [
        "\n",
        " 3 / 10 parameter combinations completed. Estimated remaining time: 6415.482"
       ]
      },
      {
       "output_type": "stream",
       "stream": "stdout",
       "text": [
        "\n",
        " 4 / 10 parameter combinations completed. Estimated remaining time: 4863.814"
       ]
      },
      {
       "output_type": "stream",
       "stream": "stdout",
       "text": [
        "\n",
        " 5 / 10 parameter combinations completed. Estimated remaining time: 3706.508"
       ]
      },
      {
       "output_type": "stream",
       "stream": "stdout",
       "text": [
        "\n",
        " 6 / 10 parameter combinations completed. Estimated remaining time: 2810.501"
       ]
      },
      {
       "output_type": "stream",
       "stream": "stdout",
       "text": [
        "\n",
        " 7 / 10 parameter combinations completed. Estimated remaining time: 2101.664"
       ]
      },
      {
       "output_type": "stream",
       "stream": "stdout",
       "text": [
        "\n",
        " 8 / 10 parameter combinations completed. Estimated remaining time: 1496.961"
       ]
      },
      {
       "output_type": "stream",
       "stream": "stdout",
       "text": [
        "\n",
        " 9 / 10 parameter combinations completed. Estimated remaining time: 951.512"
       ]
      },
      {
       "output_type": "stream",
       "stream": "stdout",
       "text": [
        "\n",
        "10 / 10 parameter combinations completed. Estimated remaining time: 457.178"
       ]
      },
      {
       "output_type": "stream",
       "stream": "stdout",
       "text": [
        "\n",
        " 1 / 10 parameter combinations completed. Estimated remaining time: 2918.056"
       ]
      },
      {
       "output_type": "stream",
       "stream": "stdout",
       "text": [
        "\n",
        " 2 / 10 parameter combinations completed. Estimated remaining time: 2656.928"
       ]
      },
      {
       "output_type": "stream",
       "stream": "stdout",
       "text": [
        "\n",
        " 3 / 10 parameter combinations completed. Estimated remaining time: 2368.559"
       ]
      },
      {
       "output_type": "stream",
       "stream": "stdout",
       "text": [
        "\n",
        " 4 / 10 parameter combinations completed. Estimated remaining time: 2095.014"
       ]
      },
      {
       "output_type": "stream",
       "stream": "stdout",
       "text": [
        "\n",
        " 5 / 10 parameter combinations completed. Estimated remaining time: 1789.660"
       ]
      },
      {
       "output_type": "stream",
       "stream": "stdout",
       "text": [
        "\n",
        " 6 / 10 parameter combinations completed. Estimated remaining time: 1490.891"
       ]
      },
      {
       "output_type": "stream",
       "stream": "stdout",
       "text": [
        "\n",
        " 7 / 10 parameter combinations completed. Estimated remaining time: 1205.427"
       ]
      },
      {
       "output_type": "stream",
       "stream": "stdout",
       "text": [
        "\n",
        " 8 / 10 parameter combinations completed. Estimated remaining time: 914.333"
       ]
      },
      {
       "output_type": "stream",
       "stream": "stdout",
       "text": [
        "\n",
        " 9 / 10 parameter combinations completed. Estimated remaining time: 611.673"
       ]
      },
      {
       "output_type": "stream",
       "stream": "stdout",
       "text": [
        "\n",
        "10 / 10 parameter combinations completed. Estimated remaining time: 305.800"
       ]
      },
      {
       "output_type": "stream",
       "stream": "stdout",
       "text": [
        "\n",
        " 1 / 1 parameter combinations completed. Estimated remaining time: 292.504"
       ]
      },
      {
       "output_type": "stream",
       "stream": "stdout",
       "text": [
        "\n"
       ]
      }
     ],
     "prompt_number": 63
    },
    {
     "cell_type": "code",
     "collapsed": false,
     "input": [
      "start_banana_cv = time.time()\n",
      "results_banana_cv = krr_app('banana', True)\n",
      "end_banana_cv = time.time()"
     ],
     "language": "python",
     "metadata": {},
     "outputs": [
      {
       "output_type": "stream",
       "stream": "stdout",
       "text": [
        " 1 / 100 parameter combinations completed. Estimated remaining time: 76.649\n",
        "11 / 100 parameter combinations completed. Estimated remaining time: 101.308"
       ]
      },
      {
       "output_type": "stream",
       "stream": "stdout",
       "text": [
        "\n",
        "21 / 100 parameter combinations completed. Estimated remaining time: 197.875"
       ]
      },
      {
       "output_type": "stream",
       "stream": "stdout",
       "text": [
        "\n",
        "31 / 100 parameter combinations completed. Estimated remaining time: 128.158"
       ]
      },
      {
       "output_type": "stream",
       "stream": "stdout",
       "text": [
        "\n",
        "41 / 100 parameter combinations completed. Estimated remaining time: 87.368"
       ]
      },
      {
       "output_type": "stream",
       "stream": "stdout",
       "text": [
        "\n",
        "51 / 100 parameter combinations completed. Estimated remaining time: 61.881"
       ]
      },
      {
       "output_type": "stream",
       "stream": "stdout",
       "text": [
        "\n",
        "61 / 100 parameter combinations completed. Estimated remaining time: 43.329"
       ]
      },
      {
       "output_type": "stream",
       "stream": "stdout",
       "text": [
        "\n",
        "71 / 100 parameter combinations completed. Estimated remaining time: 29.130"
       ]
      },
      {
       "output_type": "stream",
       "stream": "stdout",
       "text": [
        "\n",
        "81 / 100 parameter combinations completed. Estimated remaining time: 17.734"
       ]
      },
      {
       "output_type": "stream",
       "stream": "stdout",
       "text": [
        "\n",
        "91 / 100 parameter combinations completed. Estimated remaining time: 8.220"
       ]
      },
      {
       "output_type": "stream",
       "stream": "stdout",
       "text": [
        "\n",
        " 1 / 100 parameter combinations completed. Estimated remaining time: 23.576"
       ]
      },
      {
       "output_type": "stream",
       "stream": "stdout",
       "text": [
        "\n",
        "11 / 100 parameter combinations completed. Estimated remaining time: 18.286"
       ]
      },
      {
       "output_type": "stream",
       "stream": "stdout",
       "text": [
        "\n",
        "21 / 100 parameter combinations completed. Estimated remaining time: 16.938"
       ]
      },
      {
       "output_type": "stream",
       "stream": "stdout",
       "text": [
        "\n",
        "31 / 100 parameter combinations completed. Estimated remaining time: 14.664"
       ]
      },
      {
       "output_type": "stream",
       "stream": "stdout",
       "text": [
        "\n",
        "41 / 100 parameter combinations completed. Estimated remaining time: 14.890"
       ]
      },
      {
       "output_type": "stream",
       "stream": "stdout",
       "text": [
        "\n",
        "51 / 100 parameter combinations completed. Estimated remaining time: 13.602"
       ]
      },
      {
       "output_type": "stream",
       "stream": "stdout",
       "text": [
        "\n",
        "61 / 100 parameter combinations completed. Estimated remaining time: 11.524"
       ]
      },
      {
       "output_type": "stream",
       "stream": "stdout",
       "text": [
        "\n",
        "71 / 100 parameter combinations completed. Estimated remaining time: 9.000"
       ]
      },
      {
       "output_type": "stream",
       "stream": "stdout",
       "text": [
        "\n",
        "81 / 100 parameter combinations completed. Estimated remaining time: 6.172"
       ]
      },
      {
       "output_type": "stream",
       "stream": "stdout",
       "text": [
        "\n",
        "91 / 100 parameter combinations completed. Estimated remaining time: 3.212"
       ]
      },
      {
       "output_type": "stream",
       "stream": "stdout",
       "text": [
        "\n",
        " 1 / 10 parameter combinations completed. Estimated remaining time: 1.685"
       ]
      },
      {
       "output_type": "stream",
       "stream": "stdout",
       "text": [
        "\n",
        " 2 / 10 parameter combinations completed. Estimated remaining time: 1.646"
       ]
      },
      {
       "output_type": "stream",
       "stream": "stdout",
       "text": [
        "\n",
        " 3 / 10 parameter combinations completed. Estimated remaining time: 1.472"
       ]
      },
      {
       "output_type": "stream",
       "stream": "stdout",
       "text": [
        "\n",
        " 4 / 10 parameter combinations completed. Estimated remaining time: 1.288"
       ]
      },
      {
       "output_type": "stream",
       "stream": "stdout",
       "text": [
        "\n",
        " 5 / 10 parameter combinations completed. Estimated remaining time: 1.105"
       ]
      },
      {
       "output_type": "stream",
       "stream": "stdout",
       "text": [
        "\n",
        " 6 / 10 parameter combinations completed. Estimated remaining time: 0.916"
       ]
      },
      {
       "output_type": "stream",
       "stream": "stdout",
       "text": [
        "\n",
        " 7 / 10 parameter combinations completed. Estimated remaining time: 0.730"
       ]
      },
      {
       "output_type": "stream",
       "stream": "stdout",
       "text": [
        "\n",
        " 8 / 10 parameter combinations completed. Estimated remaining time: 0.547"
       ]
      },
      {
       "output_type": "stream",
       "stream": "stdout",
       "text": [
        "\n",
        " 9 / 10 parameter combinations completed. Estimated remaining time: 0.364"
       ]
      },
      {
       "output_type": "stream",
       "stream": "stdout",
       "text": [
        "\n",
        "10 / 10 parameter combinations completed. Estimated remaining time: 0.182"
       ]
      },
      {
       "output_type": "stream",
       "stream": "stdout",
       "text": [
        "\n"
       ]
      }
     ],
     "prompt_number": 51
    },
    {
     "cell_type": "code",
     "collapsed": false,
     "input": [
      "start_diabetis_cv = time.time()\n",
      "results_diabetis_cv = krr_app('diabetis', True)\n",
      "end_diabetis_cv = time.time()"
     ],
     "language": "python",
     "metadata": {},
     "outputs": [
      {
       "output_type": "stream",
       "stream": "stdout",
       "text": [
        " 1 / 100 parameter combinations completed. Estimated remaining time: 83.665\n",
        "11 / 100 parameter combinations completed. Estimated remaining time: 78.736"
       ]
      },
      {
       "output_type": "stream",
       "stream": "stdout",
       "text": [
        "\n",
        "21 / 100 parameter combinations completed. Estimated remaining time: 85.467"
       ]
      },
      {
       "output_type": "stream",
       "stream": "stdout",
       "text": [
        "\n",
        "31 / 100 parameter combinations completed. Estimated remaining time: 171.351"
       ]
      },
      {
       "output_type": "stream",
       "stream": "stdout",
       "text": [
        "\n",
        "41 / 100 parameter combinations completed. Estimated remaining time: 121.359"
       ]
      },
      {
       "output_type": "stream",
       "stream": "stdout",
       "text": [
        "\n",
        "51 / 100 parameter combinations completed. Estimated remaining time: 86.332"
       ]
      },
      {
       "output_type": "stream",
       "stream": "stdout",
       "text": [
        "\n",
        "61 / 100 parameter combinations completed. Estimated remaining time: 61.144"
       ]
      },
      {
       "output_type": "stream",
       "stream": "stdout",
       "text": [
        "\n",
        "71 / 100 parameter combinations completed. Estimated remaining time: 41.592"
       ]
      },
      {
       "output_type": "stream",
       "stream": "stdout",
       "text": [
        "\n",
        "81 / 100 parameter combinations completed. Estimated remaining time: 25.569"
       ]
      },
      {
       "output_type": "stream",
       "stream": "stdout",
       "text": [
        "\n",
        "91 / 100 parameter combinations completed. Estimated remaining time: 11.953"
       ]
      },
      {
       "output_type": "stream",
       "stream": "stdout",
       "text": [
        "\n",
        " 1 / 100 parameter combinations completed. Estimated remaining time: 36.053"
       ]
      },
      {
       "output_type": "stream",
       "stream": "stdout",
       "text": [
        "\n",
        "11 / 100 parameter combinations completed. Estimated remaining time: 32.971"
       ]
      },
      {
       "output_type": "stream",
       "stream": "stdout",
       "text": [
        "\n",
        "21 / 100 parameter combinations completed. Estimated remaining time: 29.574"
       ]
      },
      {
       "output_type": "stream",
       "stream": "stdout",
       "text": [
        "\n",
        "31 / 100 parameter combinations completed. Estimated remaining time: 26.533"
       ]
      },
      {
       "output_type": "stream",
       "stream": "stdout",
       "text": [
        "\n",
        "41 / 100 parameter combinations completed. Estimated remaining time: 26.577"
       ]
      },
      {
       "output_type": "stream",
       "stream": "stdout",
       "text": [
        "\n",
        "51 / 100 parameter combinations completed. Estimated remaining time: 23.920"
       ]
      },
      {
       "output_type": "stream",
       "stream": "stdout",
       "text": [
        "\n",
        "61 / 100 parameter combinations completed. Estimated remaining time: 20.122"
       ]
      },
      {
       "output_type": "stream",
       "stream": "stdout",
       "text": [
        "\n",
        "71 / 100 parameter combinations completed. Estimated remaining time: 15.618"
       ]
      },
      {
       "output_type": "stream",
       "stream": "stdout",
       "text": [
        "\n",
        "81 / 100 parameter combinations completed. Estimated remaining time: 10.656"
       ]
      },
      {
       "output_type": "stream",
       "stream": "stdout",
       "text": [
        "\n",
        "91 / 100 parameter combinations completed. Estimated remaining time: 5.430"
       ]
      },
      {
       "output_type": "stream",
       "stream": "stdout",
       "text": [
        "\n",
        " 1 / 10 parameter combinations completed. Estimated remaining time: 3.349"
       ]
      },
      {
       "output_type": "stream",
       "stream": "stdout",
       "text": [
        "\n",
        " 2 / 10 parameter combinations completed. Estimated remaining time: 3.141"
       ]
      },
      {
       "output_type": "stream",
       "stream": "stdout",
       "text": [
        "\n",
        " 3 / 10 parameter combinations completed. Estimated remaining time: 2.792"
       ]
      },
      {
       "output_type": "stream",
       "stream": "stdout",
       "text": [
        "\n",
        " 4 / 10 parameter combinations completed. Estimated remaining time: 2.452"
       ]
      },
      {
       "output_type": "stream",
       "stream": "stdout",
       "text": [
        "\n",
        " 5 / 10 parameter combinations completed. Estimated remaining time: 2.108"
       ]
      },
      {
       "output_type": "stream",
       "stream": "stdout",
       "text": [
        "\n",
        " 6 / 10 parameter combinations completed. Estimated remaining time: 1.745"
       ]
      },
      {
       "output_type": "stream",
       "stream": "stdout",
       "text": [
        "\n",
        " 7 / 10 parameter combinations completed. Estimated remaining time: 1.397"
       ]
      },
      {
       "output_type": "stream",
       "stream": "stdout",
       "text": [
        "\n",
        " 8 / 10 parameter combinations completed. Estimated remaining time: 1.048"
       ]
      },
      {
       "output_type": "stream",
       "stream": "stdout",
       "text": [
        "\n",
        " 9 / 10 parameter combinations completed. Estimated remaining time: 0.697"
       ]
      },
      {
       "output_type": "stream",
       "stream": "stdout",
       "text": [
        "\n",
        "10 / 10 parameter combinations completed. Estimated remaining time: 0.349"
       ]
      },
      {
       "output_type": "stream",
       "stream": "stdout",
       "text": [
        "\n"
       ]
      }
     ],
     "prompt_number": 52
    },
    {
     "cell_type": "code",
     "collapsed": false,
     "input": [
      "start_flare_solar_cv = time.time()\n",
      "results_flare_solar_cv = krr_app('flare-solar', True)\n",
      "end_flare_solar_cv = time.time()"
     ],
     "language": "python",
     "metadata": {},
     "outputs": [
      {
       "output_type": "stream",
       "stream": "stdout",
       "text": [
        " 1 / 100 parameter combinations completed. Estimated remaining time: 192.687\n",
        "11 / 100 parameter combinations completed. Estimated remaining time: 185.604"
       ]
      },
      {
       "output_type": "stream",
       "stream": "stdout",
       "text": [
        "\n",
        "21 / 100 parameter combinations completed. Estimated remaining time: 293.493"
       ]
      },
      {
       "output_type": "stream",
       "stream": "stdout",
       "text": [
        "\n",
        "31 / 100 parameter combinations completed. Estimated remaining time: 283.076"
       ]
      },
      {
       "output_type": "stream",
       "stream": "stdout",
       "text": [
        "\n",
        "41 / 100 parameter combinations completed. Estimated remaining time: 202.634"
       ]
      },
      {
       "output_type": "stream",
       "stream": "stdout",
       "text": [
        "\n",
        "51 / 100 parameter combinations completed. Estimated remaining time: 148.154"
       ]
      },
      {
       "output_type": "stream",
       "stream": "stdout",
       "text": [
        "\n",
        "61 / 100 parameter combinations completed. Estimated remaining time: 108.771"
       ]
      },
      {
       "output_type": "stream",
       "stream": "stdout",
       "text": [
        "\n",
        "71 / 100 parameter combinations completed. Estimated remaining time: 75.905"
       ]
      },
      {
       "output_type": "stream",
       "stream": "stdout",
       "text": [
        "\n",
        "81 / 100 parameter combinations completed. Estimated remaining time: 47.697"
       ]
      },
      {
       "output_type": "stream",
       "stream": "stdout",
       "text": [
        "\n",
        "91 / 100 parameter combinations completed. Estimated remaining time: 22.639"
       ]
      },
      {
       "output_type": "stream",
       "stream": "stdout",
       "text": [
        "\n",
        " 1 / 100 parameter combinations completed. Estimated remaining time: 91.905"
       ]
      },
      {
       "output_type": "stream",
       "stream": "stdout",
       "text": [
        "\n",
        "11 / 100 parameter combinations completed. Estimated remaining time: 82.876"
       ]
      },
      {
       "output_type": "stream",
       "stream": "stdout",
       "text": [
        "\n",
        "21 / 100 parameter combinations completed. Estimated remaining time: 73.715"
       ]
      },
      {
       "output_type": "stream",
       "stream": "stdout",
       "text": [
        "\n",
        "31 / 100 parameter combinations completed. Estimated remaining time: 65.585"
       ]
      },
      {
       "output_type": "stream",
       "stream": "stdout",
       "text": [
        "\n",
        "41 / 100 parameter combinations completed. Estimated remaining time: 62.040"
       ]
      },
      {
       "output_type": "stream",
       "stream": "stdout",
       "text": [
        "\n",
        "51 / 100 parameter combinations completed. Estimated remaining time: 54.766"
       ]
      },
      {
       "output_type": "stream",
       "stream": "stdout",
       "text": [
        "\n",
        "61 / 100 parameter combinations completed. Estimated remaining time: 45.786"
       ]
      },
      {
       "output_type": "stream",
       "stream": "stdout",
       "text": [
        "\n",
        "71 / 100 parameter combinations completed. Estimated remaining time: 35.227"
       ]
      },
      {
       "output_type": "stream",
       "stream": "stdout",
       "text": [
        "\n",
        "81 / 100 parameter combinations completed. Estimated remaining time: 23.918"
       ]
      },
      {
       "output_type": "stream",
       "stream": "stdout",
       "text": [
        "\n",
        "91 / 100 parameter combinations completed. Estimated remaining time: 12.194"
       ]
      },
      {
       "output_type": "stream",
       "stream": "stdout",
       "text": [
        "\n",
        " 1 / 10 parameter combinations completed. Estimated remaining time: 8.204"
       ]
      },
      {
       "output_type": "stream",
       "stream": "stdout",
       "text": [
        "\n",
        " 2 / 10 parameter combinations completed. Estimated remaining time: 7.555"
       ]
      },
      {
       "output_type": "stream",
       "stream": "stdout",
       "text": [
        "\n",
        " 3 / 10 parameter combinations completed. Estimated remaining time: 6.730"
       ]
      },
      {
       "output_type": "stream",
       "stream": "stdout",
       "text": [
        "\n",
        " 4 / 10 parameter combinations completed. Estimated remaining time: 5.909"
       ]
      },
      {
       "output_type": "stream",
       "stream": "stdout",
       "text": [
        "\n",
        " 5 / 10 parameter combinations completed. Estimated remaining time: 5.067"
       ]
      },
      {
       "output_type": "stream",
       "stream": "stdout",
       "text": [
        "\n",
        " 6 / 10 parameter combinations completed. Estimated remaining time: 4.226"
       ]
      },
      {
       "output_type": "stream",
       "stream": "stdout",
       "text": [
        "\n",
        " 7 / 10 parameter combinations completed. Estimated remaining time: 3.378"
       ]
      },
      {
       "output_type": "stream",
       "stream": "stdout",
       "text": [
        "\n",
        " 8 / 10 parameter combinations completed. Estimated remaining time: 2.524"
       ]
      },
      {
       "output_type": "stream",
       "stream": "stdout",
       "text": [
        "\n",
        " 9 / 10 parameter combinations completed. Estimated remaining time: 1.682"
       ]
      },
      {
       "output_type": "stream",
       "stream": "stdout",
       "text": [
        "\n",
        "10 / 10 parameter combinations completed. Estimated remaining time: 0.839"
       ]
      },
      {
       "output_type": "stream",
       "stream": "stdout",
       "text": [
        "\n"
       ]
      }
     ],
     "prompt_number": 57
    },
    {
     "cell_type": "code",
     "collapsed": false,
     "input": [
      "start_ringnorm_cv = time.time()\n",
      "results_ringnorm_cv = krr_app('ringnorm', True)\n",
      "end_ringnorm_cv = time.time()"
     ],
     "language": "python",
     "metadata": {},
     "outputs": [
      {
       "output_type": "stream",
       "stream": "stdout",
       "text": [
        " 1 / 100 parameter combinations completed. Estimated remaining time: 58.463\n",
        "11 / 100 parameter combinations completed. Estimated remaining time: 56.347"
       ]
      },
      {
       "output_type": "stream",
       "stream": "stdout",
       "text": [
        "\n",
        "21 / 100 parameter combinations completed. Estimated remaining time: 49.690"
       ]
      },
      {
       "output_type": "stream",
       "stream": "stdout",
       "text": [
        "\n",
        "31 / 100 parameter combinations completed. Estimated remaining time: 56.558"
       ]
      },
      {
       "output_type": "stream",
       "stream": "stdout",
       "text": [
        "\n",
        "41 / 100 parameter combinations completed. Estimated remaining time: 108.988"
       ]
      },
      {
       "output_type": "stream",
       "stream": "stdout",
       "text": [
        "\n",
        "51 / 100 parameter combinations completed. Estimated remaining time: 76.396"
       ]
      },
      {
       "output_type": "stream",
       "stream": "stdout",
       "text": [
        "\n",
        "61 / 100 parameter combinations completed. Estimated remaining time: 53.512"
       ]
      },
      {
       "output_type": "stream",
       "stream": "stdout",
       "text": [
        "\n",
        "71 / 100 parameter combinations completed. Estimated remaining time: 36.071"
       ]
      },
      {
       "output_type": "stream",
       "stream": "stdout",
       "text": [
        "\n",
        "81 / 100 parameter combinations completed. Estimated remaining time: 21.956"
       ]
      },
      {
       "output_type": "stream",
       "stream": "stdout",
       "text": [
        "\n",
        "91 / 100 parameter combinations completed. Estimated remaining time: 10.195"
       ]
      },
      {
       "output_type": "stream",
       "stream": "stdout",
       "text": [
        "\n",
        " 1 / 100 parameter combinations completed. Estimated remaining time: 21.680"
       ]
      },
      {
       "output_type": "stream",
       "stream": "stdout",
       "text": [
        "\n",
        "11 / 100 parameter combinations completed. Estimated remaining time: 25.267"
       ]
      },
      {
       "output_type": "stream",
       "stream": "stdout",
       "text": [
        "\n",
        "21 / 100 parameter combinations completed. Estimated remaining time: 19.520"
       ]
      },
      {
       "output_type": "stream",
       "stream": "stdout",
       "text": [
        "\n",
        "31 / 100 parameter combinations completed. Estimated remaining time: 17.043"
       ]
      },
      {
       "output_type": "stream",
       "stream": "stdout",
       "text": [
        "\n",
        "41 / 100 parameter combinations completed. Estimated remaining time: 17.156"
       ]
      },
      {
       "output_type": "stream",
       "stream": "stdout",
       "text": [
        "\n",
        "51 / 100 parameter combinations completed. Estimated remaining time: 15.554"
       ]
      },
      {
       "output_type": "stream",
       "stream": "stdout",
       "text": [
        "\n",
        "61 / 100 parameter combinations completed. Estimated remaining time: 13.144"
       ]
      },
      {
       "output_type": "stream",
       "stream": "stdout",
       "text": [
        "\n",
        "71 / 100 parameter combinations completed. Estimated remaining time: 10.228"
       ]
      },
      {
       "output_type": "stream",
       "stream": "stdout",
       "text": [
        "\n",
        "81 / 100 parameter combinations completed. Estimated remaining time: 7.038"
       ]
      },
      {
       "output_type": "stream",
       "stream": "stdout",
       "text": [
        "\n",
        "91 / 100 parameter combinations completed. Estimated remaining time: 3.781"
       ]
      },
      {
       "output_type": "stream",
       "stream": "stdout",
       "text": [
        "\n",
        " 1 / 10 parameter combinations completed. Estimated remaining time: 1.950"
       ]
      },
      {
       "output_type": "stream",
       "stream": "stdout",
       "text": [
        "\n",
        " 2 / 10 parameter combinations completed. Estimated remaining time: 1.708"
       ]
      },
      {
       "output_type": "stream",
       "stream": "stdout",
       "text": [
        "\n",
        " 3 / 10 parameter combinations completed. Estimated remaining time: 1.540"
       ]
      },
      {
       "output_type": "stream",
       "stream": "stdout",
       "text": [
        "\n",
        " 4 / 10 parameter combinations completed. Estimated remaining time: 1.458"
       ]
      },
      {
       "output_type": "stream",
       "stream": "stdout",
       "text": [
        "\n",
        " 5 / 10 parameter combinations completed. Estimated remaining time: 1.221"
       ]
      },
      {
       "output_type": "stream",
       "stream": "stdout",
       "text": [
        "\n",
        " 6 / 10 parameter combinations completed. Estimated remaining time: 1.019"
       ]
      },
      {
       "output_type": "stream",
       "stream": "stdout",
       "text": [
        "\n",
        " 7 / 10 parameter combinations completed. Estimated remaining time: 0.802"
       ]
      },
      {
       "output_type": "stream",
       "stream": "stdout",
       "text": [
        "\n",
        " 8 / 10 parameter combinations completed. Estimated remaining time: 0.597"
       ]
      },
      {
       "output_type": "stream",
       "stream": "stdout",
       "text": [
        "\n",
        " 9 / 10 parameter combinations completed. Estimated remaining time: 0.395"
       ]
      },
      {
       "output_type": "stream",
       "stream": "stdout",
       "text": [
        "\n",
        "10 / 10 parameter combinations completed. Estimated remaining time: 0.195"
       ]
      },
      {
       "output_type": "stream",
       "stream": "stdout",
       "text": [
        "\n"
       ]
      }
     ],
     "prompt_number": 56
    },
    {
     "cell_type": "code",
     "collapsed": false,
     "input": [
      "start_image_cv = time.time()\n",
      "results_image_cv = krr_app('image', True)\n",
      "end_image_cv = time.time()"
     ],
     "language": "python",
     "metadata": {},
     "outputs": [
      {
       "output_type": "stream",
       "stream": "stdout",
       "text": [
        " 1 / 100 parameter combinations completed. Estimated remaining time: 1003.189\n",
        "11 / 100 parameter combinations completed. Estimated remaining time: 805.909"
       ]
      },
      {
       "output_type": "stream",
       "stream": "stdout",
       "text": [
        "\n",
        "21 / 100 parameter combinations completed. Estimated remaining time: 910.159"
       ]
      },
      {
       "output_type": "stream",
       "stream": "stdout",
       "text": [
        "\n",
        "31 / 100 parameter combinations completed. Estimated remaining time: 1740.280"
       ]
      },
      {
       "output_type": "stream",
       "stream": "stdout",
       "text": [
        "\n",
        "41 / 100 parameter combinations completed. Estimated remaining time: 1562.085"
       ]
      },
      {
       "output_type": "stream",
       "stream": "stdout",
       "text": [
        "\n",
        "51 / 100 parameter combinations completed. Estimated remaining time: 1113.375"
       ]
      },
      {
       "output_type": "stream",
       "stream": "stdout",
       "text": [
        "\n",
        "61 / 100 parameter combinations completed. Estimated remaining time: 782.523"
       ]
      },
      {
       "output_type": "stream",
       "stream": "stdout",
       "text": [
        "\n",
        "71 / 100 parameter combinations completed. Estimated remaining time: 528.915"
       ]
      },
      {
       "output_type": "stream",
       "stream": "stdout",
       "text": [
        "\n",
        "81 / 100 parameter combinations completed. Estimated remaining time: 323.314"
       ]
      },
      {
       "output_type": "stream",
       "stream": "stdout",
       "text": [
        "\n",
        "91 / 100 parameter combinations completed. Estimated remaining time: 150.288"
       ]
      },
      {
       "output_type": "stream",
       "stream": "stdout",
       "text": [
        "\n",
        " 1 / 100 parameter combinations completed. Estimated remaining time: 450.304"
       ]
      },
      {
       "output_type": "stream",
       "stream": "stdout",
       "text": [
        "\n",
        "11 / 100 parameter combinations completed. Estimated remaining time: 404.981"
       ]
      },
      {
       "output_type": "stream",
       "stream": "stdout",
       "text": [
        "\n",
        "21 / 100 parameter combinations completed. Estimated remaining time: 360.801"
       ]
      },
      {
       "output_type": "stream",
       "stream": "stdout",
       "text": [
        "\n",
        "31 / 100 parameter combinations completed. Estimated remaining time: 322.962"
       ]
      },
      {
       "output_type": "stream",
       "stream": "stdout",
       "text": [
        "\n",
        "41 / 100 parameter combinations completed. Estimated remaining time: 304.020"
       ]
      },
      {
       "output_type": "stream",
       "stream": "stdout",
       "text": [
        "\n",
        "51 / 100 parameter combinations completed. Estimated remaining time: 267.406"
       ]
      },
      {
       "output_type": "stream",
       "stream": "stdout",
       "text": [
        "\n",
        "61 / 100 parameter combinations completed. Estimated remaining time: 221.538"
       ]
      },
      {
       "output_type": "stream",
       "stream": "stdout",
       "text": [
        "\n",
        "71 / 100 parameter combinations completed. Estimated remaining time: 171.121"
       ]
      },
      {
       "output_type": "stream",
       "stream": "stdout",
       "text": [
        "\n",
        "81 / 100 parameter combinations completed. Estimated remaining time: 116.299"
       ]
      },
      {
       "output_type": "stream",
       "stream": "stdout",
       "text": [
        "\n",
        "Exception"
       ]
      },
      {
       "output_type": "stream",
       "stream": "stdout",
       "text": [
        "\n",
        "91 / 100 parameter combinations completed. Estimated remaining time: 59.183"
       ]
      },
      {
       "output_type": "stream",
       "stream": "stdout",
       "text": [
        "\n",
        " 1 / 10 parameter combinations completed. Estimated remaining time: 51.316"
       ]
      },
      {
       "output_type": "stream",
       "stream": "stdout",
       "text": [
        "\n",
        " 2 / 10 parameter combinations completed. Estimated remaining time: 46.262"
       ]
      },
      {
       "output_type": "stream",
       "stream": "stdout",
       "text": [
        "\n",
        " 3 / 10 parameter combinations completed. Estimated remaining time: 39.256"
       ]
      },
      {
       "output_type": "stream",
       "stream": "stdout",
       "text": [
        "\n",
        " 4 / 10 parameter combinations completed. Estimated remaining time: 33.164"
       ]
      },
      {
       "output_type": "stream",
       "stream": "stdout",
       "text": [
        "\n",
        " 5 / 10 parameter combinations completed. Estimated remaining time: 27.791"
       ]
      },
      {
       "output_type": "stream",
       "stream": "stdout",
       "text": [
        "\n",
        " 6 / 10 parameter combinations completed. Estimated remaining time: 22.780"
       ]
      },
      {
       "output_type": "stream",
       "stream": "stdout",
       "text": [
        "\n",
        " 7 / 10 parameter combinations completed. Estimated remaining time: 18.421"
       ]
      },
      {
       "output_type": "stream",
       "stream": "stdout",
       "text": [
        "\n",
        " 8 / 10 parameter combinations completed. Estimated remaining time: 13.672"
       ]
      },
      {
       "output_type": "stream",
       "stream": "stdout",
       "text": [
        "\n",
        " 9 / 10 parameter combinations completed. Estimated remaining time: 9.015"
       ]
      },
      {
       "output_type": "stream",
       "stream": "stdout",
       "text": [
        "\n",
        "10 / 10 parameter combinations completed. Estimated remaining time: 4.537"
       ]
      },
      {
       "output_type": "stream",
       "stream": "stdout",
       "text": [
        "\n"
       ]
      }
     ],
     "prompt_number": 72
    },
    {
     "cell_type": "code",
     "collapsed": false,
     "input": [
      "results_cv = dict()\n",
      "results_cv['banana'] = results_banana_cv['banana']\n",
      "results_cv['diabetis'] = results_diabetis_cv['diabetis']\n",
      "results_cv['flare-solar'] = results_flare_solar_cv['flare-solar']\n",
      "results_cv['image'] = results_image_cv['image']\n",
      "results_cv['ringnorm'] = results_ringnorm_cv['ringnorm']\n",
      "f = open('results_cv.p','wb')\n",
      "pickle.dump(results_cv, f)"
     ],
     "language": "python",
     "metadata": {},
     "outputs": [],
     "prompt_number": 75
    }
   ],
   "metadata": {}
  }
 ]
}